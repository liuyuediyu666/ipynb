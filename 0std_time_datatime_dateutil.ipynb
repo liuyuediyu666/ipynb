{
 "cells": [
  {
   "cell_type": "markdown",
   "metadata": {},
   "source": [
    "##### dateutil三方库"
   ]
  },
  {
   "cell_type": "code",
   "execution_count": 129,
   "metadata": {},
   "outputs": [
    {
     "name": "stdout",
     "output_type": "stream",
     "text": [
      "2020-07-28 21:00:07.618000 \n",
      " 1595941207.618\n"
     ]
    }
   ],
   "source": [
    "\"\"\"dateutil强大的时间格式解析库，解析为datetime格式,与datetime内置库格式一致\"\"\"\n",
    "from dateutil.parser import parse\n",
    "tp1 = parse('2020-07-28 21:00:07.618')\n",
    "tp2 = tp1.timestamp()\n",
    "print(tp1,'\\n',tp2)"
   ]
  },
  {
   "cell_type": "markdown",
   "metadata": {},
   "source": [
    "##### datetime内置库"
   ]
  },
  {
   "cell_type": "code",
   "execution_count": 162,
   "metadata": {},
   "outputs": [
    {
     "data": {
      "text/plain": [
       "datetime.timedelta(days=12, seconds=34, microseconds=560000)"
      ]
     },
     "execution_count": 162,
     "metadata": {},
     "output_type": "execute_result"
    }
   ],
   "source": [
    "\"\"\"datetime是对time的封装，高级功能\"\"\"\n",
    "from datetime import datetime\n",
    "from datetime import timedelta\n",
    "timedelta(12,34.56)"
   ]
  },
  {
   "cell_type": "code",
   "execution_count": 155,
   "metadata": {},
   "outputs": [
    {
     "name": "stdout",
     "output_type": "stream",
     "text": [
      "2021-02-25 17:25:54.943360 \n",
      " 2017-04-05 23:59:59.999999\n",
      "1421 days, 17:25:54.943361\n",
      "2017-04-05 23:59:59.999999\n"
     ]
    },
    {
     "data": {
      "text/plain": [
       "'2017-04-05 23:59:59.999999'"
      ]
     },
     "execution_count": 155,
     "metadata": {},
     "output_type": "execute_result"
    }
   ],
   "source": [
    "td1 = datetime.now()\n",
    "td2 = datetime(2017,4,5,23,59,59,999999)\n",
    "print(td1,'\\n',td2)\n",
    "print(td1-td2)\n",
    "print(str(td2))\n",
    "str(td2)"
   ]
  },
  {
   "cell_type": "code",
   "execution_count": 151,
   "metadata": {},
   "outputs": [
    {
     "name": "stdout",
     "output_type": "stream",
     "text": [
      "2021 \n",
      " 2 \n",
      " 25 \n",
      " 17 \n",
      " 23 \n",
      " 27\n"
     ]
    }
   ],
   "source": [
    "print(td1.year,'\\n',td1.month,'\\n',td1.day,'\\n',td1.hour,'\\n',td1.minute,'\\n',td1.second)"
   ]
  },
  {
   "cell_type": "code",
   "execution_count": 163,
   "metadata": {},
   "outputs": [
    {
     "data": {
      "text/plain": [
       "'2021-02-25'"
      ]
     },
     "execution_count": 163,
     "metadata": {},
     "output_type": "execute_result"
    }
   ],
   "source": [
    "td1.strftime(\"%Y-%m-%d\")"
   ]
  },
  {
   "cell_type": "code",
   "execution_count": 164,
   "metadata": {},
   "outputs": [
    {
     "data": {
      "text/plain": [
       "datetime.datetime(2021, 2, 25, 0, 0)"
      ]
     },
     "execution_count": 164,
     "metadata": {},
     "output_type": "execute_result"
    }
   ],
   "source": [
    "datetime.strptime('2021-02-25',\"%Y-%m-%d\")"
   ]
  },
  {
   "cell_type": "markdown",
   "metadata": {},
   "source": [
    "##### time内置库"
   ]
  },
  {
   "cell_type": "code",
   "execution_count": 121,
   "metadata": {},
   "outputs": [
    {
     "name": "stdout",
     "output_type": "stream",
     "text": [
      "1614242187.3863282\n",
      "time.struct_time(tm_year=2021, tm_mon=2, tm_mday=25, tm_hour=16, tm_min=36, tm_sec=27, tm_wday=3, tm_yday=56, tm_isdst=0)\n",
      "time.struct_time(tm_year=2021, tm_mon=2, tm_mday=25, tm_hour=8, tm_min=36, tm_sec=27, tm_wday=3, tm_yday=56, tm_isdst=0)\n",
      "2021-02-25 16:36:27\n",
      "Thu Feb 25 16:36:27 2021 \n",
      " Thu Feb 25 16:36:27 2021\n"
     ]
    }
   ],
   "source": [
    "\"\"\"time基础(范围1970-2038),datetime对time封装，高级功能。\n",
    "time的三种格式struc_time,format_string,timestamp。\n",
    "struct_time时间元组：是时间戳和格式化时间转换的桥梁，共9个元素，可按元组操作。\n",
    "timestamp时间戳：从1970年1月1日00:00:00开始按秒计算的偏移量，float类型。\n",
    "format string格式化时间：更具可读性，可自定义。\n",
    "\"\"\"\n",
    "import time\n",
    "\"\"\"等待n秒\"\"\"\n",
    "time.sleep(0.1)\n",
    "\"\"\"生成timestamp\"\"\"\n",
    "t1 = time.time()\n",
    "print(t1)\n",
    "\"\"\"生成struct_time当前时区\"\"\"\n",
    "t2 = time.localtime()\n",
    "print(t2)\n",
    "\"\"\"生成struct_time是UTC时区的0时区\"\"\"\n",
    "t3 = time.gmtime()\n",
    "print(t3)\n",
    "\"\"\"生成format string\"\"\"\n",
    "t4 = time.strftime(\"%Y-%m-%d %X\")\n",
    "print(t4)\n",
    "\"\"\"生成%a %b %d %H:%M:%S %Y,一种固定格式format string\"\"\"\n",
    "t5 = time.asctime()\n",
    "t6 = time.ctime()\n",
    "print(t5,'\\n',t6)"
   ]
  },
  {
   "cell_type": "code",
   "execution_count": 113,
   "metadata": {},
   "outputs": [
    {
     "name": "stdout",
     "output_type": "stream",
     "text": [
      "1614241782.9706333 \n",
      " time.struct_time(tm_year=2021, tm_mon=2, tm_mday=25, tm_hour=16, tm_min=29, tm_sec=38, tm_wday=3, tm_yday=56, tm_isdst=0) \n",
      " time.struct_time(tm_year=2021, tm_mon=2, tm_mday=25, tm_hour=8, tm_min=29, tm_sec=38, tm_wday=3, tm_yday=56, tm_isdst=0) \n",
      " 1614241778.0 \n",
      " 1614212978.0\n"
     ]
    }
   ],
   "source": [
    "\"\"\"timestamp转struct_time\"\"\"\n",
    "ta1 = time.time()\n",
    "ta2 = time.localtime(t1)  # 转换到当前时区\n",
    "ta3 = time.gmtime(t1)  # 转换到UTC时区的0时区\n",
    "\"\"\"struct_time转timestamp\"\"\"\n",
    "ta4 = time.mktime(ta2)\n",
    "ta5 = time.mktime(ta3)\n",
    "print(ta1,'\\n',ta2,'\\n',ta3,'\\n',ta4,'\\n',ta5)"
   ]
  },
  {
   "cell_type": "code",
   "execution_count": 117,
   "metadata": {},
   "outputs": [
    {
     "name": "stdout",
     "output_type": "stream",
     "text": [
      "2021-02-25 16:32:35 \n",
      " time.struct_time(tm_year=2021, tm_mon=2, tm_mday=25, tm_hour=16, tm_min=32, tm_sec=35, tm_wday=3, tm_yday=56, tm_isdst=-1) \n",
      " Thu Feb 25 16:32:35 2021\n"
     ]
    }
   ],
   "source": [
    "\"\"\"format string转struct_time\"\"\"\n",
    "tb1 = time.strftime(\"%Y-%m-%d %X\")\n",
    "tb2 = time.strptime(tb1,\"%Y-%m-%d %X\")  # 默认接受%a %b %d %H:%M:%S %Y格式，也就是time.asctime和time.ctime生成的格式\n",
    "\"\"\"struct_time转format string\"\"\"\n",
    "tb3 = time.strftime('%a %b %d %H:%M:%S %Y', tb2)\n",
    "print(tb1,'\\n',tb2,'\\n',tb3)"
   ]
  },
  {
   "cell_type": "code",
   "execution_count": 123,
   "metadata": {},
   "outputs": [
    {
     "name": "stdout",
     "output_type": "stream",
     "text": [
      "1614242788.372597 \n",
      " Thu Feb 25 16:46:28 2021 \n",
      " time.struct_time(tm_year=2021, tm_mon=2, tm_mday=25, tm_hour=16, tm_min=46, tm_sec=28, tm_wday=3, tm_yday=56, tm_isdst=0) \n",
      " Thu Feb 25 16:46:28 2021\n"
     ]
    }
   ],
   "source": [
    "\"\"\"timestamp转%a %b %d %H:%M:%S %Y固定格式\"\"\"\n",
    "tc1 = time.time()\n",
    "tc2 = time.ctime(tc1)\n",
    "\"\"\"struct_time转%a %b %d %H:%M:%S %Y固定格式\"\"\"\n",
    "tc3 = time.localtime()\n",
    "tc4 = time.asctime(tc3)\n",
    "print(tc1,'\\n',tc2,'\\n',tc3,'\\n',tc4)"
   ]
  },
  {
   "cell_type": "code",
   "execution_count": null,
   "metadata": {},
   "outputs": [],
   "source": [
    "\"\"\"struct_time的9个元素\n",
    "tm_year:年\n",
    "tm_mon:月\n",
    "tm_mday:日\n",
    "tm_hour:时0-23\n",
    "tm_min:分0-59\n",
    "tm_sec:秒0-61\n",
    "tm_wday:weekday0-6（0表示周日）\n",
    "tm_yday:一年中的第几天1-366\n",
    "tm_isdst:是否是夏令时,默认为-1\n",
    "\"\"\""
   ]
  },
  {
   "cell_type": "code",
   "execution_count": null,
   "metadata": {},
   "outputs": [],
   "source": [
    "\"\"\"format string格式\n",
    "%a:本地（locale）简化星期名称\n",
    "%A:本地完整星期名称\n",
    "%b:本地简化月份名称\n",
    "%B:本地完整月份名称\n",
    "%c:本地相应的日期和时间表示\n",
    "%d:一个月中的第几天（01 - 31）\n",
    "%H:一天中的第几个小时（24小时制，00 - 23）\n",
    "%I:第几个小时（12小时制，01 - 12）\n",
    "%j:一年中的第几天（001 - 366）\n",
    "%m:月份（01 - 12）\n",
    "%M:分钟数（00 - 59）\n",
    "%p:本地am或者pm的相应符(“%p”只有与“%I”配合使用才有效果。)\n",
    "%S:秒（01 - 61）(是61而不是59，闰年秒占两秒,汗一个）\n",
    "%U:当年星期数。（00 - 53星期天是一个星期的开始。）第一个星期天之前的所有天数都放在第0周。\n",
    "%w:一个星期中的第几天（0 - 6，0是星期天）\n",
    "%W:和%U基本相同，不同的是%W以星期一为一个星期的开始。\n",
    "%x:本地相应日期\n",
    "%X:本地相应时间\n",
    "%y:去掉世纪的年份（00 - 99）\n",
    "%Y:完整的年份\n",
    "%Z:时区的名字（如果不存在为空字符）\n",
    "%%:‘%'字符\n",
    "对于%U和%W需注意:当使用strptime()函数时，只有当在这年中的周数和天数被确定的时候%U和%W才会被计算。\n",
    "\"\"\""
   ]
  },
  {
   "cell_type": "code",
   "execution_count": null,
   "metadata": {},
   "outputs": [],
   "source": []
  },
  {
   "cell_type": "code",
   "execution_count": null,
   "metadata": {},
   "outputs": [],
   "source": []
  },
  {
   "cell_type": "code",
   "execution_count": null,
   "metadata": {},
   "outputs": [],
   "source": []
  },
  {
   "cell_type": "code",
   "execution_count": null,
   "metadata": {},
   "outputs": [],
   "source": []
  },
  {
   "cell_type": "code",
   "execution_count": null,
   "metadata": {},
   "outputs": [],
   "source": []
  },
  {
   "cell_type": "code",
   "execution_count": null,
   "metadata": {},
   "outputs": [],
   "source": []
  }
 ],
 "metadata": {
  "kernelspec": {
   "display_name": "Python 3",
   "language": "python",
   "name": "python3"
  },
  "language_info": {
   "codemirror_mode": {
    "name": "ipython",
    "version": 3
   },
   "file_extension": ".py",
   "mimetype": "text/x-python",
   "name": "python",
   "nbconvert_exporter": "python",
   "pygments_lexer": "ipython3",
   "version": "3.7.3"
  }
 },
 "nbformat": 4,
 "nbformat_minor": 4
}
