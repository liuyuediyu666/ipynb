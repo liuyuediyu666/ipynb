{
 "cells": [
  {
   "cell_type": "markdown",
   "metadata": {},
   "source": [
    "# with上下文管理器，场景1：文件操作，场景2：进程线程之间互斥对象，如互斥锁，场景3：自定义的支持上下文的其它操作"
   ]
  },
  {
   "cell_type": "code",
   "execution_count": null,
   "metadata": {},
   "outputs": [],
   "source": [
    "\"\"\"with语句：可以代替try...except...finally语句，使代码更加简洁；\n",
    "context：通常是表达式，返回一个对象；\n",
    "var变量：用来保存context返回的对象，可以是单个值或元组；\n",
    "with_suite：使用变量var对context返回对象进行各种操作的代码段\n",
    "\"\"\"\n",
    "with context as var:\n",
    "    with_suite"
   ]
  },
  {
   "cell_type": "code",
   "execution_count": null,
   "metadata": {},
   "outputs": [],
   "source": [
    "with open() as f:\n",
    "    pass"
   ]
  },
  {
   "cell_type": "code",
   "execution_count": null,
   "metadata": {},
   "outputs": [],
   "source": [
    "with torch.no_grad() as t:\n",
    "    pass"
   ]
  },
  {
   "cell_type": "code",
   "execution_count": null,
   "metadata": {},
   "outputs": [],
   "source": []
  },
  {
   "cell_type": "code",
   "execution_count": null,
   "metadata": {},
   "outputs": [],
   "source": []
  },
  {
   "cell_type": "markdown",
   "metadata": {},
   "source": [
    "# 其他"
   ]
  },
  {
   "cell_type": "code",
   "execution_count": 2,
   "metadata": {},
   "outputs": [
    {
     "data": {
      "text/plain": [
       "2"
      ]
     },
     "execution_count": 2,
     "metadata": {},
     "output_type": "execute_result"
    }
   ],
   "source": [
    "\"\"\"三目运算\"\"\"\n",
    "3 if 1==2 else 2"
   ]
  },
  {
   "cell_type": "code",
   "execution_count": 27,
   "metadata": {},
   "outputs": [
    {
     "data": {
      "text/plain": [
       "[True, True, False]"
      ]
     },
     "execution_count": 27,
     "metadata": {},
     "output_type": "execute_result"
    }
   ],
   "source": [
    "\"\"\"列表推导式\"\"\"\n",
    "[i for i in range(4)]\n",
    "[(m,n) for m in range(1,4) for n in range(5,8)]\n",
    "[k for k,v in dict(a='a',b='b').items() if v=='b']\n",
    "[x*10 if x>1 else x*100 for x in range(4)]\n",
    "\"\"\"应用案例\"\"\"\n",
    "[any(x in i for x in list('ad')) for i in ['ab','cde','fg']]"
   ]
  },
  {
   "cell_type": "code",
   "execution_count": 21,
   "metadata": {},
   "outputs": [],
   "source": [
    "\"\"\"反向迭代\"\"\"\n",
    "for i in reversed(range(4)):\n",
    "    print(i)"
   ]
  },
  {
   "cell_type": "code",
   "execution_count": null,
   "metadata": {},
   "outputs": [],
   "source": [
    "\"\"\"调试技巧\"\"\"\n",
    "for i in range(5):\n",
    "    pass\n",
    "for j in range(5):\n",
    "    break\n",
    "print(i,j)"
   ]
  },
  {
   "cell_type": "code",
   "execution_count": 1,
   "metadata": {},
   "outputs": [],
   "source": [
    "\"\"\"迭代对象为空时，不会进入循环\"\"\"\n",
    "for i in []:\n",
    "    print(3)\n",
    "for i,j in dict().items():\n",
    "    print(1)"
   ]
  },
  {
   "cell_type": "code",
   "execution_count": 9,
   "metadata": {},
   "outputs": [
    {
     "name": "stdout",
     "output_type": "stream",
     "text": [
      "('a', 'c', 'e')\n",
      "('b', 'd', 'f')\n"
     ]
    }
   ],
   "source": [
    "\"\"\"同时迭代多个对像，并排，k也可以分开写\"\"\"\n",
    "for k in zip(list('ab'), list('cd'), list('ef')):\n",
    "    print(k)"
   ]
  },
  {
   "cell_type": "code",
   "execution_count": null,
   "metadata": {},
   "outputs": [],
   "source": []
  }
 ],
 "metadata": {
  "kernelspec": {
   "display_name": "Python 3",
   "language": "python",
   "name": "python3"
  },
  "language_info": {
   "codemirror_mode": {
    "name": "ipython",
    "version": 3
   },
   "file_extension": ".py",
   "mimetype": "text/x-python",
   "name": "python",
   "nbconvert_exporter": "python",
   "pygments_lexer": "ipython3",
   "version": "3.7.3"
  }
 },
 "nbformat": 4,
 "nbformat_minor": 2
}
