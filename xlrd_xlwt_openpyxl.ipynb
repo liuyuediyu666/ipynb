{
 "cells": [
  {
   "cell_type": "code",
   "execution_count": 188,
   "metadata": {},
   "outputs": [],
   "source": [
    "import pandas as pd\n",
    "import xlwt\n",
    "import xlrd\n",
    "import openpyxl"
   ]
  },
  {
   "cell_type": "markdown",
   "metadata": {},
   "source": [
    "### xlrd"
   ]
  },
  {
   "cell_type": "code",
   "execution_count": 5,
   "metadata": {},
   "outputs": [
    {
     "data": {
      "text/html": [
       "<div>\n",
       "<style scoped>\n",
       "    .dataframe tbody tr th:only-of-type {\n",
       "        vertical-align: middle;\n",
       "    }\n",
       "\n",
       "    .dataframe tbody tr th {\n",
       "        vertical-align: top;\n",
       "    }\n",
       "\n",
       "    .dataframe thead th {\n",
       "        text-align: right;\n",
       "    }\n",
       "</style>\n",
       "<table border=\"1\" class=\"dataframe\">\n",
       "  <thead>\n",
       "    <tr style=\"text-align: right;\">\n",
       "      <th></th>\n",
       "      <th>A</th>\n",
       "      <th>B</th>\n",
       "      <th>C</th>\n",
       "      <th>D</th>\n",
       "      <th>E</th>\n",
       "    </tr>\n",
       "  </thead>\n",
       "  <tbody>\n",
       "    <tr>\n",
       "      <th>1</th>\n",
       "      <td>wanghl</td>\n",
       "      <td>12</td>\n",
       "      <td>True</td>\n",
       "      <td></td>\n",
       "      <td>2020/1/2</td>\n",
       "    </tr>\n",
       "    <tr>\n",
       "      <th>2</th>\n",
       "      <td>0</td>\n",
       "      <td>1</td>\n",
       "      <td>2</td>\n",
       "      <td>None</td>\n",
       "      <td>None</td>\n",
       "    </tr>\n",
       "    <tr>\n",
       "      <th>3</th>\n",
       "      <td>a</td>\n",
       "      <td>b</td>\n",
       "      <td>c</td>\n",
       "      <td>d</td>\n",
       "      <td>None</td>\n",
       "    </tr>\n",
       "  </tbody>\n",
       "</table>\n",
       "</div>"
      ],
      "text/plain": [
       "        A   B     C     D         E\n",
       "1  wanghl  12  True        2020/1/2\n",
       "2       0   1     2  None      None\n",
       "3       a   b     c     d      None"
      ]
     },
     "execution_count": 5,
     "metadata": {},
     "output_type": "execute_result"
    }
   ],
   "source": [
    "\"\"\"xlsx文件内容如下,s1,s2两个sheet，s2内容随机\"\"\"\n",
    "s1 = pd.DataFrame([['wanghl',12,True,'','2020/1/2'],range(3),list('abcd')],columns=list('ABCDE'),index=range(1,4))\n",
    "s1"
   ]
  },
  {
   "cell_type": "code",
   "execution_count": 6,
   "metadata": {},
   "outputs": [],
   "source": [
    "\"\"\"打开xlsx\"\"\"\n",
    "book = xlrd.open_workbook('test.xlsx')"
   ]
  },
  {
   "cell_type": "code",
   "execution_count": 175,
   "metadata": {},
   "outputs": [
    {
     "name": "stdout",
     "output_type": "stream",
     "text": [
      "['s1', 's2']\n"
     ]
    },
    {
     "data": {
      "text/plain": [
       "(True, True)"
      ]
     },
     "execution_count": 175,
     "metadata": {},
     "output_type": "execute_result"
    }
   ],
   "source": [
    "\"\"\"获取sheet names列表\"\"\"\n",
    "print(book.sheet_names())\n",
    "\"\"\"判断sheet是否导入成功，也就是sheet_names中的不一定导入成功，按sheet位置或名称判断都可以\"\"\"\n",
    "book.sheet_loaded(0),book.sheet_loaded('s1')"
   ]
  },
  {
   "cell_type": "code",
   "execution_count": 176,
   "metadata": {},
   "outputs": [
    {
     "name": "stdout",
     "output_type": "stream",
     "text": [
      "[<xlrd.sheet.Sheet object at 0x000001CFDD861B70>, <xlrd.sheet.Sheet object at 0x000001CFDD861E80>]\n",
      "<xlrd.sheet.Sheet object at 0x000001CFDD861B70>\n",
      "<xlrd.sheet.Sheet object at 0x000001CFDD861B70>\n"
     ]
    },
    {
     "data": {
      "text/plain": [
       "True"
      ]
     },
     "execution_count": 176,
     "metadata": {},
     "output_type": "execute_result"
    }
   ],
   "source": [
    "\"\"\"会以最右下角数据为边界加载整个表格。例：如果仅有1个数据但是在整个sheet的右下角，也会加载最大的sheet表格\"\"\"\n",
    "\"\"\"加载所有sheet\"\"\"\n",
    "shee = book.sheets()\n",
    "print(shee)\n",
    "\"\"\"加载个别sheet\"\"\"\n",
    "she1 = book.sheet_by_index(0)\n",
    "she2 = book.sheet_by_name('s1')\n",
    "print(she1)\n",
    "print(she2)\n",
    "she1 == she2"
   ]
  },
  {
   "cell_type": "code",
   "execution_count": 193,
   "metadata": {},
   "outputs": [
    {
     "name": "stdout",
     "output_type": "stream",
     "text": [
      "3\n",
      "5\n",
      "[text:'wanghl', number:12.0, bool:1, empty:'', xldate:43832.0]\n",
      "<class 'xlrd.sheet.Cell'>\n",
      "12.0\n",
      "array('B', [1, 2, 4, 0, 3])\n",
      "[number:12.0, bool:1, empty:'']\n",
      "[12.0, 1, '']\n"
     ]
    }
   ],
   "source": [
    "\"\"\"加载sheet，行操作\"\"\"\n",
    "she = book.sheet_by_index(0)\n",
    "\"\"\"统计sheet总行数\"\"\"\n",
    "print(she.nrows)  # 获取总行数\n",
    "print(she.row_len(1))  # 获取某一行长度\n",
    "print(she.row(0))  # 获取一行数据,返回列表\n",
    "\"\"\"以下三个函数(rowx[, start_colx=0, end_colx=None])\"\"\"\n",
    "print(she.row_types(0))  # 获取cell类型：empty为0，string为1，number为2，date为3，boolean为4， error为5\n",
    "print(she.row_slice(0,1,4))  # 获取某行数据，可切片\n",
    "print(she.row_values(0,1,4))  # 只获取值返回列表，可切片"
   ]
  },
  {
   "cell_type": "code",
   "execution_count": 197,
   "metadata": {},
   "outputs": [
    {
     "name": "stdout",
     "output_type": "stream",
     "text": [
      "[text:'wanghl', number:12.0, bool:1, empty:'', xldate:43832.0]\n",
      "[number:1.0, number:2.0, number:3.0, empty:'', empty:'']\n",
      "[text:'a', text:'b', text:'c', text:'d', empty:'']\n"
     ]
    }
   ],
   "source": [
    "\"\"\"返回行的生成器\"\"\"\n",
    "ite = she.get_rows()\n",
    "for i in range(3):\n",
    "    print(next(ite))"
   ]
  },
  {
   "cell_type": "code",
   "execution_count": 10,
   "metadata": {},
   "outputs": [
    {
     "name": "stdout",
     "output_type": "stream",
     "text": [
      "5\n",
      "[1, 2, 1]\n",
      "[text:'wanghl', number:1.0, text:'a']\n",
      "['wanghl', 1.0, 'a']\n"
     ]
    }
   ],
   "source": [
    "\"\"\"加载sheet，列操作\"\"\"\n",
    "she = book.sheet_by_index(0)\n",
    "\"\"\"统计sheet总列数\"\"\"\n",
    "print(she.ncols)  # 总列数\n",
    "\"\"\"以下三个函数(colx[, start_rowx=0, end_rowx=None])\"\"\"\n",
    "print(she.col_types(0))  # 获取cell类型：empty为0，string为1，number为2，date为3，boolean为4， error为5\n",
    "print(she.col_slice(0,0,3))  # 获取某列数据，可切片\n",
    "print(she.col_values(0,0,3))  # 只或取值返回列表，可切片"
   ]
  },
  {
   "cell_type": "code",
   "execution_count": 32,
   "metadata": {},
   "outputs": [
    {
     "name": "stdout",
     "output_type": "stream",
     "text": [
      "xldate:43832.0\n",
      "43832.0\n",
      "3\n",
      "43832.0\n",
      "(2020, 1, 2, 0, 0, 0)\n"
     ]
    }
   ],
   "source": [
    "\"\"\"加载sheet，单元格操作\"\"\"\n",
    "she = book.sheet_by_index(0)\n",
    "\"\"\"获取某单元格\"\"\"\n",
    "print(she.cell(0,4))\n",
    "print(she.cell_value(0,4))\n",
    "print(she.cell_type(0,4))\n",
    "print(she.cell(0,4).value)  # 获取cell中的值\n",
    "\n",
    "\"\"\"xldata单元格转换为日期，book.datamode中的book是book = xlrd.open_workbook('test.xlsx')\"\"\"\n",
    "print(xlrd.xldate_as_tuple(she.cell_value(0,4), book.datemode))"
   ]
  },
  {
   "cell_type": "code",
   "execution_count": 187,
   "metadata": {},
   "outputs": [
    {
     "name": "stdout",
     "output_type": "stream",
     "text": [
      "[(1215, 1216, 17, 19), (1218, 1220, 0, 1), (1213, 1215, 0, 1)]\n",
      "text:'脱碳' (XF:161)\n"
     ]
    }
   ],
   "source": [
    "\"\"\"若获取合并单元格信息，需设置formatting_info参数，xls格式设置为True，xlsx格式设置为默认值False\"\"\"\n",
    "bk = xlrd.open_workbook('t.xls',formatting_info=True)\n",
    "she = bk.sheet_by_index(0)\n",
    "\"\"\"获取sheet中合并单元格的信息，返回值为列表。若sheet对象中无合并单元格，则返回值为空列表。\n",
    "格式为(row_start, row_end, col_start, col_end)，范围不包括row_end,col_end。\n",
    "\"\"\"\n",
    "mgcell = she.merged_cells\n",
    "print(mgcell[:3])\n",
    "\"\"\"使用row_start和col_start就可以获取cell值\"\"\"\n",
    "print(she.cell(1218,0))"
   ]
  },
  {
   "cell_type": "markdown",
   "metadata": {},
   "source": [
    "### xlwt"
   ]
  },
  {
   "cell_type": "code",
   "execution_count": 202,
   "metadata": {},
   "outputs": [],
   "source": [
    "import time"
   ]
  },
  {
   "cell_type": "code",
   "execution_count": 209,
   "metadata": {},
   "outputs": [],
   "source": [
    "\"\"\"创建excel\"\"\"\n",
    "wb = xlwt.Workbook(encoding='utf8')"
   ]
  },
  {
   "cell_type": "code",
   "execution_count": 210,
   "metadata": {},
   "outputs": [],
   "source": [
    "\"\"\"创建sheet名称为s1，cell_overwrite_ok=True表示可重复写入同一个单元格\"\"\"\n",
    "ws = wb.add_sheet(u's1',  cell_overwrite_ok=True)"
   ]
  },
  {
   "cell_type": "code",
   "execution_count": 211,
   "metadata": {},
   "outputs": [],
   "source": [
    "\"\"\"写入cell，格式write(r_num,c_num,value,style)\"\"\"\n",
    "ws.write(0, 0, time.ctime(),xlwt.easyxf(num_format_str='D-MMM-YY'))"
   ]
  },
  {
   "cell_type": "code",
   "execution_count": null,
   "metadata": {},
   "outputs": [],
   "source": [
    "\"\"\"公式\"\"\"\n",
    "ws.write(1, 0, xlwt.Formula('A3+B3'))\n",
    "\"\"\"超链接\"\"\"\n",
    "ws.write(2, 0, xlwt.Formula('HYPERLINK(\"https://www.baidu.com/\";\"bdu\")'))\n",
    "\"\"\"合并单元格(row_start, row_end, col_start, col_end)\"\"\"\n",
    "ws.write_merge(22, 29, 5, 8, 'wanghl',style_x)\n",
    "\"\"\"列宽调节,每256是一个字符\"\"\"\n",
    "ws.col(0).width = 25600\n",
    "\"\"\"可以通过自动换行通过输入文字的多少来确定行高\"\"\"\n",
    "stytall_style = xlwt.easyxf('font:height 720;') # 36pt,类型小初的字号\n",
    "ws.row(0).set_style(tall_style)\n",
    "\"\"\"插入图片,只能插入bmp格式的。scale_x调节图片缩放比例。Row,col指定图片左上角位置。\"\"\"\n",
    "ws.insert_bitmap(filename, row, col, x = 0, y = 0, scale_x = 1, scale_y = 1):  "
   ]
  },
  {
   "cell_type": "code",
   "execution_count": 213,
   "metadata": {},
   "outputs": [],
   "source": [
    "\"\"\"保存\"\"\"\n",
    "wb.save('tt.xls')"
   ]
  },
  {
   "cell_type": "code",
   "execution_count": null,
   "metadata": {},
   "outputs": [],
   "source": [
    "\"\"\"style示例\"\"\"\n",
    "style_0 = xlwt.easyxf('font: name Times New Roman, color-index red, bold on', num_format_str='#,##0.00')"
   ]
  },
  {
   "cell_type": "code",
   "execution_count": null,
   "metadata": {},
   "outputs": [],
   "source": [
    "\"\"\"字体\"\"\"\n",
    "style_1 = xlwt.XFStyle() # 初始化样式\n",
    "font = xlwt.Font() # 为样式创建字体\n",
    "font.name = 'Times New Roman' \n",
    "font.bold = True # 黑体\n",
    "font.colour_index = 7\n",
    "font.underline = True # 下划线\n",
    "font.italic = True # 斜体字\n",
    "style_1.font = font # 设定样式\n",
    "## font其他属性\n",
    "font.struck_out = True\n",
    "font.family = xlwt.Font.FAMILY_ROMAN\n",
    "font.charset = xlwt.Font.CHARSET_ANSI_LATIN\n",
    "font.get_biff_record = \n",
    "font.height = 0x00c8\n",
    "font.outline =\n",
    "font.shadow ="
   ]
  },
  {
   "cell_type": "code",
   "execution_count": null,
   "metadata": {},
   "outputs": [],
   "source": [
    "\"\"\"日期\"\"\"\n",
    "style_3 = xlwt.XFStyle()\n",
    "style_3.num_format_str = 'M/D/YY'"
   ]
  },
  {
   "cell_type": "code",
   "execution_count": null,
   "metadata": {},
   "outputs": [],
   "source": [
    "\"\"\"对齐\n",
    "HORZ_GENERAL, HORZ_LEFT, HORZ_CENTER, HORZ_RIGHT, HORZ_FILLED, HORZ_JUSTIFIED, HORZ_CENTER_ACROSS_SEL, \n",
    "HORZ_DISTRIBUTED, VERT_TOP, VERT_CENTER, VERT_BOTTOM, VERT_JUSTIFIED, VERT_DISTRIBUTED\"\"\"\n",
    "style_4 = xlwt.XFStyle() # Create Style\n",
    "alignment = xlwt.Alignment() # Create Alignment\n",
    "alignment.horz = xlwt.Alignment.HORZ_CENTER \n",
    "alignment.vert = xlwt.Alignment.VERT_CENTER\n",
    "style_4.alignment = alignment # Add Alignment to Style"
   ]
  },
  {
   "cell_type": "code",
   "execution_count": null,
   "metadata": {},
   "outputs": [],
   "source": [
    "\"\"\"边框\n",
    "DASHED虚线，NO_LINE没有，THIN实线，\n",
    "NO_LINE, THIN, MEDIUM, DASHED, DOTTED, THICK, DOUBLE, HAIR, MEDIUM_DASHED, THIN_DASH_DOTTED, \n",
    "MEDIUM_DASH_DOTTED, THIN_DASH_DOT_DOTTED, MEDIUM_DASH_DOT_DOTTED, SLANTED_MEDIUM_DASH_DOTTED, \n",
    "0x00 through 0x0D\"\"\"\n",
    "style_5 = xlwt.XFStyle() # Create Style\n",
    "borders = xlwt.Borders() # Create Borders\n",
    "borders.left = xlwt.Borders.DASHED \n",
    "borders.right = xlwt.Borders.DASHED\n",
    "borders.top = xlwt.Borders.DASHED\n",
    "borders.bottom = xlwt.Borders.DASHED\n",
    "borders.left_colour = 0x40\n",
    "borders.right_colour = 0x40\n",
    "borders.top_colour = 0x40\n",
    "borders.bottom_colour = 0x40\n",
    "style_5.borders = borders # Add Borders to Style"
   ]
  },
  {
   "cell_type": "code",
   "execution_count": null,
   "metadata": {},
   "outputs": [],
   "source": [
    "\"\"\"背景色\"\"\"\n",
    "\"\"\"NO_PATTERN, SOLID_PATTERN, or 0x00 through 0x12,\n",
    "8 through 63. 0 = Black, 1 = White, 2 = Red, 3 = Green, 4 = Blue, 5 = Yellow, 6 = Magenta, \n",
    "7 = Cyan, 16 = Maroon, 17 = Dark Green, 18 = Dark Blue, 19 = Dark Yellow , almost brown, \n",
    "20 = Dark Magenta, 21 = Teal, 22 = Light Gray, 23 = Dark Gray, the list goes on...\"\"\"\n",
    "\"\"\"pattern.pattern_fore_colour = 0x00黑色,0x01白,0x02红,0x03浅绿,0x04蓝,0x05黄,0x06粉,0x07青,0x18深蓝\"\"\"\n",
    "style_6 = xlwt.XFStyle() # Create Style\n",
    "pattern = xlwt.Pattern() # Create the Pattern\n",
    "pattern.pattern = xlwt.Pattern.SOLID_PATTERN \n",
    "pattern.pattern_fore_colour = 5 \n",
    "pattern.pattern_back_colour = 5 \n",
    "style_6.pattern = pattern # Add Pattern to Style"
   ]
  },
  {
   "cell_type": "markdown",
   "metadata": {},
   "source": [
    "### openpyxl"
   ]
  },
  {
   "cell_type": "code",
   "execution_count": null,
   "metadata": {},
   "outputs": [],
   "source": []
  }
 ],
 "metadata": {
  "kernelspec": {
   "display_name": "Python 3",
   "language": "python",
   "name": "python3"
  },
  "language_info": {
   "codemirror_mode": {
    "name": "ipython",
    "version": 3
   },
   "file_extension": ".py",
   "mimetype": "text/x-python",
   "name": "python",
   "nbconvert_exporter": "python",
   "pygments_lexer": "ipython3",
   "version": "3.7.3"
  }
 },
 "nbformat": 4,
 "nbformat_minor": 2
}
