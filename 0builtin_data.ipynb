{
 "cells": [
  {
   "cell_type": "markdown",
   "metadata": {},
   "source": [
    "# 字符串和编码"
   ]
  },
  {
   "cell_type": "code",
   "execution_count": 1,
   "metadata": {},
   "outputs": [
    {
     "data": {
      "text/plain": [
       "'latin-1 这个字符集的牛逼之处:\\nlatin-1字符集是在ascii码上的一个扩展,它把ascii码没有用到过的字节码都给编上了对应的字符,所以它能表示的字符就更多了\\n针对单个字节来说就没有它不能解码的,这个就是它的牛逼之处所在\\n也就是说当我们不在乎内容中多字节码的正确性下使用latin-1字符集是不会出现解码异常的\\n'"
      ]
     },
     "execution_count": 1,
     "metadata": {},
     "output_type": "execute_result"
    }
   ],
   "source": [
    "\"\"\"latin-1 这个字符集的牛逼之处:\n",
    "latin-1字符集是在ascii码上的一个扩展,它把ascii码没有用到过的字节码都给编上了对应的字符,所以它能表示的字符就更多了\n",
    "针对单个字节来说就没有它不能解码的,这个就是它的牛逼之处所在\n",
    "也就是说当我们不在乎内容中多字节码的正确性下使用latin-1字符集是不会出现解码异常的\n",
    "\"\"\""
   ]
  },
  {
   "cell_type": "code",
   "execution_count": 21,
   "metadata": {},
   "outputs": [
    {
     "name": "stdout",
     "output_type": "stream",
     "text": [
      "Age: 25. Gender: True\n",
      "my name is 王 and age is 36\n",
      "Hello, 小明, 成绩提升了 17.1,列表[1, 2]，字典{'a': 666}\n",
      "hello world\n",
      "hello world world\n",
      "666_888_999\n",
      "The area of a circle with radius [1, 'a', [2, 22]] is 3.12\n"
     ]
    }
   ],
   "source": [
    "\"\"\"三种格式化字符串的方法\"\"\"\n",
    "\"\"\"%方法\"\"\"\n",
    "print('Age: %s. Gender: %s' % (25, True))  # 这种方法不能传入list,dict等复杂数据格式\n",
    "\"\"\"format方法\"\"\"\n",
    "print('my name is {name} and age is {age}'.format(name = '王', age = '36'))\n",
    "print('Hello, {0}, 成绩提升了 {1:.1f},列表{2}，字典{3}'.format('小明', 17.125,[1,2],{'a':666}))\n",
    "print(\"{} {}\".format(\"hello\", \"world\"))    # 不指定位置，按默认顺序\n",
    "print(\"{0} {1} {1}\".format(\"hello\", \"world\"))  # 指定位置可重复使用内容\n",
    "site = {'na': 666, 'nb': 888,  'nc': 999, 'dash': '_'}\n",
    "print(\"{na}{dash}{nb}{dash}{nc}\".format(**site))  # 通过两个星号传入字典\n",
    "\"\"\"f''方法\"\"\"\n",
    "r = [1,'a',[2,22]]\n",
    "s = 3.12345\n",
    "print(f'The area of a circle with radius {r} is {s:.2f}')"
   ]
  },
  {
   "cell_type": "code",
   "execution_count": 3,
   "metadata": {},
   "outputs": [
    {
     "data": {
      "text/plain": [
       "True"
      ]
     },
     "execution_count": 3,
     "metadata": {},
     "output_type": "execute_result"
    }
   ],
   "source": [
    "\"\"\"判断字符串包含关系\"\"\"\n",
    "'a' in 'asd'"
   ]
  },
  {
   "cell_type": "code",
   "execution_count": 77,
   "metadata": {},
   "outputs": [
    {
     "data": {
      "text/plain": [
       "'a_b_c_d'"
      ]
     },
     "execution_count": 77,
     "metadata": {},
     "output_type": "execute_result"
    }
   ],
   "source": [
    "'_'.join(list('abcd'))"
   ]
  },
  {
   "cell_type": "code",
   "execution_count": 108,
   "metadata": {},
   "outputs": [
    {
     "data": {
      "text/plain": [
       "'xbxc'"
      ]
     },
     "execution_count": 108,
     "metadata": {},
     "output_type": "execute_result"
    }
   ],
   "source": [
    "\"\"\"字符串的replace方法\"\"\"\n",
    "'abac'.replace('a','x')"
   ]
  },
  {
   "cell_type": "code",
   "execution_count": null,
   "metadata": {},
   "outputs": [],
   "source": []
  },
  {
   "cell_type": "code",
   "execution_count": null,
   "metadata": {},
   "outputs": [],
   "source": []
  },
  {
   "cell_type": "code",
   "execution_count": null,
   "metadata": {},
   "outputs": [],
   "source": []
  },
  {
   "cell_type": "code",
   "execution_count": null,
   "metadata": {},
   "outputs": [],
   "source": []
  },
  {
   "cell_type": "markdown",
   "metadata": {},
   "source": [
    "# 列表"
   ]
  },
  {
   "cell_type": "code",
   "execution_count": null,
   "metadata": {},
   "outputs": [],
   "source": [
    "list.append(obj)\n",
    "list.count(obj)\n",
    "list.extend(seq)\n",
    "list.index(obj)\n",
    "list.insert(index, obj)\n",
    "list.pop([index=-1])\n",
    "list.remove(obj)\n",
    "list.reverse()\n",
    "list.sort(cmp=None, key=None, reverse=False)\n",
    "list.sort(key= lambda x:int(x[:-4]))  "
   ]
  },
  {
   "cell_type": "code",
   "execution_count": null,
   "metadata": {},
   "outputs": [],
   "source": []
  },
  {
   "cell_type": "code",
   "execution_count": null,
   "metadata": {},
   "outputs": [],
   "source": []
  },
  {
   "cell_type": "code",
   "execution_count": null,
   "metadata": {},
   "outputs": [],
   "source": []
  },
  {
   "cell_type": "markdown",
   "metadata": {},
   "source": [
    "# 字典"
   ]
  },
  {
   "cell_type": "code",
   "execution_count": 57,
   "metadata": {},
   "outputs": [
    {
     "name": "stdout",
     "output_type": "stream",
     "text": [
      "1 \n",
      " 11 \n",
      "\n",
      "6 \n",
      " 66 \n",
      "\n"
     ]
    }
   ],
   "source": [
    "\"\"\"迭代key和value\"\"\"\n",
    "for k,v in {1:11,6:66}.items():\n",
    "    print(k,'\\n',v,'\\n')"
   ]
  },
  {
   "cell_type": "code",
   "execution_count": 58,
   "metadata": {},
   "outputs": [
    {
     "name": "stdout",
     "output_type": "stream",
     "text": [
      "1\n",
      "6\n"
     ]
    }
   ],
   "source": [
    "\"\"\"只迭代key\"\"\"\n",
    "for k in {1:11,6:66}:\n",
    "    print(k)"
   ]
  },
  {
   "cell_type": "code",
   "execution_count": 59,
   "metadata": {},
   "outputs": [
    {
     "data": {
      "text/plain": [
       "{3: 33, 6: 66, 7: 77}"
      ]
     },
     "execution_count": 59,
     "metadata": {},
     "output_type": "execute_result"
    }
   ],
   "source": [
    "\"\"\"批量更新字典value\"\"\"\n",
    "da = {3:11,6:66}\n",
    "da.update({3:33,7:77})\n",
    "da"
   ]
  },
  {
   "cell_type": "code",
   "execution_count": 60,
   "metadata": {},
   "outputs": [
    {
     "data": {
      "text/plain": [
       "{3: 333, 6: 66, 4: 444}"
      ]
     },
     "execution_count": 60,
     "metadata": {},
     "output_type": "execute_result"
    }
   ],
   "source": [
    "\"\"\"个别更新字典value\"\"\"\n",
    "db = {3:11,6:66}\n",
    "db[3] = 333\n",
    "db[4] = 444\n",
    "db"
   ]
  },
  {
   "cell_type": "code",
   "execution_count": 61,
   "metadata": {},
   "outputs": [
    {
     "data": {
      "text/plain": [
       "{'name': 'Allen', 'age': 21, 1: 2}"
      ]
     },
     "execution_count": 61,
     "metadata": {},
     "output_type": "execute_result"
    }
   ],
   "source": [
    "\"\"\"创建字典的一种方式，key可以是字符串或数字\"\"\"\n",
    "dict1={'name':'Allen','age':21,1:2}\n",
    "dict1"
   ]
  },
  {
   "cell_type": "code",
   "execution_count": 64,
   "metadata": {},
   "outputs": [
    {
     "data": {
      "text/plain": [
       "{'name': 'Allen', 'age': 14, 'gender': 'male'}"
      ]
     },
     "execution_count": 64,
     "metadata": {},
     "output_type": "execute_result"
    }
   ],
   "source": [
    "\"\"\"创建字典的一种方式，key必须是字符串，且不加引号\"\"\"\n",
    "dict2 = dict(name='Allen', age=14, gender='male')\n",
    "dict2"
   ]
  },
  {
   "cell_type": "code",
   "execution_count": 67,
   "metadata": {},
   "outputs": [
    {
     "data": {
      "text/plain": [
       "{'name': 'Allen', 'age': 21, 3: 333}"
      ]
     },
     "execution_count": 67,
     "metadata": {},
     "output_type": "execute_result"
    }
   ],
   "source": [
    "\"\"\"创建字典的一种方式，元组列表\"\"\"\n",
    "dict3 = dict([('name','Allen'),('age',21),(3,333)])\n",
    "dict3"
   ]
  },
  {
   "cell_type": "code",
   "execution_count": 71,
   "metadata": {},
   "outputs": [
    {
     "data": {
      "text/plain": [
       "{'a': 'normal', 8: 'normal', 'b': 'normal', 22: 'normal'}"
      ]
     },
     "execution_count": 71,
     "metadata": {},
     "output_type": "execute_result"
    }
   ],
   "source": [
    "\"\"\"创建字典的一种方式，所有的key都赋一个初始value\"\"\"\n",
    "dict4 = dict.fromkeys(['a',8,'b',22],'normal')\n",
    "dict4"
   ]
  },
  {
   "cell_type": "code",
   "execution_count": 79,
   "metadata": {},
   "outputs": [
    {
     "data": {
      "text/plain": [
       "{'b': 0, 'a': 1, 'd': 2}"
      ]
     },
     "execution_count": 79,
     "metadata": {},
     "output_type": "execute_result"
    }
   ],
   "source": [
    "\"\"\"花式创建字典\"\"\"\n",
    "d1 = {label:idx for idx,label in enumerate(set(['a','b','d','a','b','a']))}\n",
    "d1"
   ]
  },
  {
   "cell_type": "code",
   "execution_count": 80,
   "metadata": {},
   "outputs": [
    {
     "data": {
      "text/plain": [
       "{1: 2, 2: 3, 3: 4, 4: 5}"
      ]
     },
     "execution_count": 80,
     "metadata": {},
     "output_type": "execute_result"
    }
   ],
   "source": [
    "\"\"\"花式创建字典\"\"\"\n",
    "d2 = dict(list(zip(range(1,5),range(2,6))))\n",
    "d2"
   ]
  },
  {
   "cell_type": "code",
   "execution_count": null,
   "metadata": {},
   "outputs": [],
   "source": [
    "\"\"\"使用字典进行计数,dict_counter是计数器,item是原始数据.\"\"\"\n",
    "dict_counter['key'] = dict_counter.get('key',0) + item['key']"
   ]
  },
  {
   "cell_type": "code",
   "execution_count": null,
   "metadata": {},
   "outputs": [],
   "source": []
  },
  {
   "cell_type": "code",
   "execution_count": null,
   "metadata": {},
   "outputs": [],
   "source": []
  },
  {
   "cell_type": "code",
   "execution_count": null,
   "metadata": {},
   "outputs": [],
   "source": []
  },
  {
   "cell_type": "markdown",
   "metadata": {},
   "source": [
    "# 综合"
   ]
  },
  {
   "cell_type": "code",
   "execution_count": 6,
   "metadata": {},
   "outputs": [
    {
     "data": {
      "text/plain": [
       "{'a', 'b', 'c'}"
      ]
     },
     "execution_count": 6,
     "metadata": {},
     "output_type": "execute_result"
    }
   ],
   "source": [
    "\"\"\"list和tuple和set之间转换很方便\"\"\"\n",
    "list(('a','b','c'))\n",
    "tuple(['a','b','c'])\n",
    "set(['a','b','c'])"
   ]
  },
  {
   "cell_type": "code",
   "execution_count": null,
   "metadata": {},
   "outputs": [],
   "source": []
  },
  {
   "cell_type": "code",
   "execution_count": null,
   "metadata": {},
   "outputs": [],
   "source": []
  },
  {
   "cell_type": "code",
   "execution_count": null,
   "metadata": {},
   "outputs": [],
   "source": []
  },
  {
   "cell_type": "code",
   "execution_count": null,
   "metadata": {},
   "outputs": [],
   "source": []
  }
 ],
 "metadata": {
  "kernelspec": {
   "display_name": "Python 3",
   "language": "python",
   "name": "python3"
  },
  "language_info": {
   "codemirror_mode": {
    "name": "ipython",
    "version": 3
   },
   "file_extension": ".py",
   "mimetype": "text/x-python",
   "name": "python",
   "nbconvert_exporter": "python",
   "pygments_lexer": "ipython3",
   "version": "3.7.3"
  }
 },
 "nbformat": 4,
 "nbformat_minor": 2
}
