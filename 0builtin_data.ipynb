{
 "cells": [
  {
   "cell_type": "markdown",
   "metadata": {},
   "source": [
    "# 编码"
   ]
  },
  {
   "cell_type": "code",
   "execution_count": 3,
   "metadata": {},
   "outputs": [
    {
     "data": {
      "text/plain": [
       "7"
      ]
     },
     "execution_count": 3,
     "metadata": {},
     "output_type": "execute_result"
    }
   ],
   "source": [
    "\"\"\"latin-1 这个字符集非常好用:\n",
    "latin-1字符集是在ascii码上的一个扩展,它把ascii码没有用到过的字节码都给编上了对应的字符,所以它能表示的字符就更多了\n",
    "针对单个字节来说就没有它不能解码的,这个就是它的牛逼之处所在\n",
    "也就是说当我们不在乎内容中多字节码的正确性下使用latin-1字符集是不会出现解码异常的\n",
    "\"\"\"\n",
    "3 & 4  # 这种只返回0或1\n",
    "3 | 4  # 这种返回两者的和"
   ]
  },
  {
   "cell_type": "markdown",
   "metadata": {},
   "source": [
    "# 字符串"
   ]
  },
  {
   "cell_type": "code",
   "execution_count": 21,
   "metadata": {},
   "outputs": [
    {
     "name": "stdout",
     "output_type": "stream",
     "text": [
      "Age: 25. Gender: True\n",
      "my name is 王 and age is 36\n",
      "Hello, 小明, 成绩提升了 17.1,列表[1, 2]，字典{'a': 666}\n",
      "hello world\n",
      "hello world world\n",
      "666_888_999\n",
      "The area of a circle with radius [1, 'a', [2, 22]] is 3.12\n"
     ]
    }
   ],
   "source": [
    "\"\"\"三种格式化字符串的方法\"\"\"\n",
    "\"\"\"%方法\"\"\"\n",
    "print('Age: %s. Gender: %s' % (25, True))  # 这种方法不能传入list,dict等复杂数据格式\n",
    "\"\"\"format方法\"\"\"\n",
    "print('my name is {name} and age is {age}'.format(name = '王', age = '36'))\n",
    "print('Hello, {0}, 成绩提升了 {1:.1f},列表{2}，字典{3}'.format('小明', 17.125,[1,2],{'a':666}))\n",
    "print(\"{} {}\".format(\"hello\", \"world\"))    # 不指定位置，按默认顺序\n",
    "print(\"{0} {1} {1}\".format(\"hello\", \"world\"))  # 指定位置可重复使用内容\n",
    "site = {'na': 666, 'nb': 888,  'nc': 999, 'dash': '_'}\n",
    "print(\"{na}{dash}{nb}{dash}{nc}\".format(**site))  # 通过两个星号传入字典\n",
    "\"\"\"f''方法\"\"\"\n",
    "r = [1,'a',[2,22]]\n",
    "s = 3.12345\n",
    "print(f'The area of a circle with radius {r} is {s:.2f}')"
   ]
  },
  {
   "cell_type": "code",
   "execution_count": 3,
   "metadata": {},
   "outputs": [
    {
     "data": {
      "text/plain": [
       "True"
      ]
     },
     "execution_count": 3,
     "metadata": {},
     "output_type": "execute_result"
    }
   ],
   "source": [
    "\"\"\"判断字符串包含关系\"\"\"\n",
    "'a' in 'asd'"
   ]
  },
  {
   "cell_type": "code",
   "execution_count": 77,
   "metadata": {},
   "outputs": [
    {
     "data": {
      "text/plain": [
       "'a_b_c_d'"
      ]
     },
     "execution_count": 77,
     "metadata": {},
     "output_type": "execute_result"
    }
   ],
   "source": [
    "'_'.join(list('abcd'))"
   ]
  },
  {
   "cell_type": "code",
   "execution_count": null,
   "metadata": {},
   "outputs": [],
   "source": [
    "\"\"\"字符串的replace方法\"\"\"\n",
    "'abac'.replace('a','x')"
   ]
  },
  {
   "cell_type": "code",
   "execution_count": null,
   "metadata": {},
   "outputs": [],
   "source": []
  },
  {
   "cell_type": "markdown",
   "metadata": {},
   "source": [
    "# list"
   ]
  },
  {
   "cell_type": "code",
   "execution_count": null,
   "metadata": {},
   "outputs": [],
   "source": [
    "list.append(obj)\n",
    "list.count(obj)\n",
    "list.extend(seq)\n",
    "list.index(obj)\n",
    "list.insert(index, obj)\n",
    "list.pop([index=-1])\n",
    "list.remove(obj)\n",
    "list.reverse()\n",
    "list.sort(cmp=None, key=None, reverse=False)\n",
    "list.sort(key= lambda x:int(x[:-4]))  "
   ]
  },
  {
   "cell_type": "code",
   "execution_count": 5,
   "metadata": {},
   "outputs": [
    {
     "data": {
      "text/plain": [
       "['a', 'b', 'x']"
      ]
     },
     "execution_count": 5,
     "metadata": {},
     "output_type": "execute_result"
    }
   ],
   "source": [
    "\"\"\"list.extend对象还可以是dict or set，当对象是dict时加入的是key\"\"\"\n",
    "v1 = list('ab');v2=dict(x='c')\n",
    "v1.extend(v2);v1"
   ]
  },
  {
   "cell_type": "code",
   "execution_count": 1,
   "metadata": {},
   "outputs": [
    {
     "data": {
      "text/plain": [
       "[4, 3, 2, 1, 0]"
      ]
     },
     "execution_count": 1,
     "metadata": {},
     "output_type": "execute_result"
    }
   ],
   "source": [
    "\"\"\"倒序排列\"\"\"\n",
    "import numpy as np\n",
    "np.arange(5)[::-1]\n",
    "[0, 1, 2, 3, 4][::-1]"
   ]
  },
  {
   "cell_type": "markdown",
   "metadata": {},
   "source": [
    "# dict"
   ]
  },
  {
   "cell_type": "code",
   "execution_count": 61,
   "metadata": {},
   "outputs": [],
   "source": [
    "\"\"\"创建字典的一种方式，key可以是字符串或数字\"\"\"\n",
    "dict1={'name':'Allen','age':21,1:2}\n",
    "\"\"\"创建字典的一种方式，key必须是字符串，且不加引号\"\"\"\n",
    "dict2 = dict(name='Allen', age=14, gender='male')\n",
    "\"\"\"创建字典的一种方式，元组列表\"\"\"\n",
    "dict3 = dict([('name','Allen'),('age',21),(3,333)])\n",
    "\"\"\"创建字典的一种方式，所有的key都赋一个初始value\"\"\"\n",
    "dict4 = dict.fromkeys(['a',8,'b',22],'normal')\n",
    "\"\"\"花式创建字典\"\"\"\n",
    "d1 = {label:idx for idx,label in enumerate(set(['a','b','d','a','b','a']))}\n",
    "\"\"\"花式创建字典\"\"\"\n",
    "d2 = dict(list(zip(range(1,5),range(2,6))))"
   ]
  },
  {
   "cell_type": "code",
   "execution_count": 22,
   "metadata": {},
   "outputs": [],
   "source": [
    "\"\"\"同时迭代key和value\"\"\"\n",
    "for k,v in {1:11,6:66}.items():\n",
    "    pass\n",
    "\"\"\"只迭代key\"\"\"\n",
    "for k in {1:11,6:66}:\n",
    "    pass\n",
    "\"\"\"批量更新\"\"\"\n",
    "da = {3:11,6:66}\n",
    "da.update({3:33,7:77})\n",
    "\"\"\"个别更新\"\"\"\n",
    "db = {3:11,6:66}\n",
    "db[3] = 333"
   ]
  },
  {
   "cell_type": "code",
   "execution_count": null,
   "metadata": {},
   "outputs": [],
   "source": [
    "\"\"\"使用字典进行计数,dict_counter是计数用的字典, item是源数据字典\"\"\"\n",
    "dict_counter['key'] = dict_counter.get('key',0) + item['key']"
   ]
  },
  {
   "cell_type": "code",
   "execution_count": null,
   "metadata": {},
   "outputs": [],
   "source": []
  },
  {
   "cell_type": "code",
   "execution_count": null,
   "metadata": {},
   "outputs": [],
   "source": []
  },
  {
   "cell_type": "markdown",
   "metadata": {},
   "source": [
    "# transfer"
   ]
  },
  {
   "cell_type": "code",
   "execution_count": 6,
   "metadata": {},
   "outputs": [
    {
     "data": {
      "text/plain": [
       "{'a', 'b', 'c'}"
      ]
     },
     "execution_count": 6,
     "metadata": {},
     "output_type": "execute_result"
    }
   ],
   "source": [
    "\"\"\"list和tuple和set之间可随意转换\"\"\"\n",
    "tuple(list(set(list('abc'))))"
   ]
  },
  {
   "cell_type": "markdown",
   "metadata": {},
   "source": [
    "# NAN, None, True, False, 0, 1, ''"
   ]
  },
  {
   "cell_type": "code",
   "execution_count": null,
   "metadata": {},
   "outputs": [],
   "source": [
    "\"\"\"\n",
    "统计np.nan, None, True, False, 0, 1, ''时的一些坑\n",
    "在series,list中会有不同表现。\n",
    "pd.series().value_counts()统计不到nan和None,对于true or false分别与1，0合并\n",
    "Counter可统计到nan,None,对于true or false分别与1，0合并\n",
    "\n",
    "使用set或Counter等对包含np.nan的数据进行计算时，会因np.nan的存在而导致计算慢几个数量级。\n",
    "因此，建议用str对所有数据进行转换再计算。对于series可直接用value_counts()\n",
    "\n",
    "np.array()也是个深坑，np.array()这个操作与pd.Series()有很多不同，比如True和False不能导致np.nan合并。\n",
    "https://blog.csdn.net/daliangliangliangge/article/details/103683129\n",
    "https://blog.csdn.net/FengYuxin0706/article/details/106602262\n",
    "https://zhuanlan.zhihu.com/p/63148067\n",
    "\"\"\""
   ]
  },
  {
   "cell_type": "code",
   "execution_count": 3,
   "metadata": {},
   "outputs": [
    {
     "data": {
      "text/plain": [
       "Counter({0: 1, 2: 1, nan: 1, nan: 1, nan: 1, nan: 1})"
      ]
     },
     "execution_count": 3,
     "metadata": {},
     "output_type": "execute_result"
    }
   ],
   "source": [
    "import numpy as np\n",
    "import pandas as pd\n",
    "from collections import Counter\n",
    "\"\"\"\n",
    "在pandas外，使用bool函数能区分None和np.nan\n",
    "np.isnan(None)会报错\n",
    "None+0，None与数字运算会报错\n",
    "np.nan+0，np.nan与任何数字做四则运算均返回np.nan\n",
    "\"\"\"\n",
    "np.nan==np.nan  # false\n",
    "type(np.nan)  # float\n",
    "bool(np.nan)  # True\n",
    "np.isnan(np.nan)  # True\n",
    "str(np.nan)  # 'nan'\n",
    "None==None  # True\n",
    "type(None)  # NoneType\n",
    "bool(None)  # False\n",
    "str(None)  # 'None'\n",
    "\"\"\"总体的合并逻辑\"\"\"\n",
    "\"\"\"Counter和set完全一致,应该不仅是这两个函数。\"\"\"\n",
    "Counter(['',False,0, 1, 2, True,None,None,np.nan,np.nan])  # Counter({'': 1, False: 2, 1: 2, 2: 1, None: 2, nan: 2})\n",
    "\"\"\"在从头创建的list中，None和np.nan是区分开的，而np.nan自己可合并，None自己也可合并，无论list包含数字，字符串，True, False\"\"\"\n",
    "Counter([None,None,])  # Counter({None: 2})\n",
    "Counter([np.nan,np.nan,])  # Counter({nan: 2})\n",
    "Counter([np.nan,np.nan,None,None])  # Counter({nan: 2, None: 2})\n",
    "Counter([np.nan,np.nan,None,None,0])  # Counter({nan: 2, None: 2, 0: 1})\n",
    "Counter([np.nan,np.nan,None,None,''])  # Counter({nan: 2, None: 2, '': 1})\n",
    "\"\"\"\n",
    "在pd.Series()时，若list是纯数字组成(np.nan是float类型)，则不合并统计np.nan，且None会转为np.nan。\n",
    "第一优先，字符串，True, False有一种，None,np.nan均会各自合并\n",
    "第二优先，排除前面类型后，只要有数字，无论None和np.nan，都会变为不合并的np.nan\n",
    "第三优先，排除前面类型后，只要有np.nan，无论None和np.nan，都会变为不合并的np.nan\n",
    "最后，只有None时，会合并None\n",
    "\"\"\"\n",
    "Counter(pd.Series([None,None]))  # Counter({None: 2})\n",
    "Counter(pd.Series([None,None,3]))  # Counter({nan: 1, nan: 1, 3.0: 1})\n",
    "Counter(pd.Series([None,None,True]))  # Counter({None: 2, True: 1})\n",
    "Counter(pd.Series([None,None,'']))  # Counter({None: 2, '': 1})\n",
    "Counter(pd.Series([np.nan,np.nan]))  # Counter({nan: 1, nan: 1})\n",
    "Counter(pd.Series([np.nan,np.nan,3]))  # Counter({nan: 1, nan: 1, 3.0: 1})\n",
    "Counter(pd.Series([np.nan,np.nan,True]))  # Counter({nan: 2, True: 1})\n",
    "Counter(pd.Series([np.nan,np.nan,'']))  # Counter({nan: 2, '': 1})\n",
    "Counter(pd.Series([np.nan,np.nan,None,None,]))  # Counter({nan: 1, nan: 1, nan: 1, nan: 1})\n",
    "Counter(pd.Series([np.nan,np.nan,None,None,3]))  # Counter({nan: 1, nan: 1, nan: 1, nan: 1, 3.0: 1})\n",
    "Counter(pd.Series([np.nan,np.nan,None,None,False]))  # Counter({nan: 2, None: 2, False: 1})\n",
    "Counter(pd.Series([np.nan,np.nan,None,None,'']))  # Counter({nan: 2, None: 2, '': 1})\n",
    "\"\"\"\n",
    "在进行pd.Series()操作时，np.nan和None的特性就确定了，后面无论进行任何操作，都不会改变了。\n",
    "若np.nan在进入pd.Series()这一刻不可合并(纯np.nan，或加入数字，None等)，则未来无论在哪里，与谁都不可合并。\n",
    "若np.nan在进入pd.Series()这一刻可合并，则无论什么来源的可合并np.nan，都可合并到一起。\n",
    "复杂一些的例子\n",
    "\"\"\"\n",
    "v01 = [np.nan,np.nan,]\n",
    "v02 = list(pd.Series([np.nan,np.nan,]))\n",
    "Counter(v01+v02)  # Counter({nan: 2, nan: 1, nan: 1})\n",
    "Counter(v01+v02+['a'])  # Counter({nan: 2, nan: 1, nan: 1, 'a': 1})\n",
    "\"\"\"使用isnull判断None和np.nan永远返回True。无论None是否转化为np.nan，均无法区分两个\"\"\"\n",
    "pd.Series([None,np.nan,0,1,True,False,'']).isnull()\n",
    "\"\"\"使用bool判断series中的None,就要判断None被转为np.nan的情况了，转换前后bool判断结果不一样\"\"\"\n",
    "\"\"\"以下组合不会将None转为np.nan，所以都将None判断为False\"\"\"\n",
    "pd.Series([None,None,]).map(bool)\n",
    "pd.Series([None,np.nan,'']).map(bool)\n",
    "pd.Series([None,np.nan,True]).map(bool)\n",
    "\"\"\"以下组合会将None转为np.nan，所以都将None判断为True\"\"\"\n",
    "pd.Series([None,0]).map(bool)\n",
    "pd.Series([None,np.nan]).map(bool)\n",
    "\"\"\"\n",
    "拼接后各自保持各自的属性\n",
    "\"\"\"\n",
    "s1 = pd.Series([np.nan,np.nan,None,None,None,True])\n",
    "s2 = pd.Series([np.nan,np.nan,None,None,])\n",
    "s3 = s1.append(s2)\n",
    "Counter(s3)  # Counter({nan: 2, None: 2, True: 1, nan: 1, nan: 1, nan: 1, nan: 1})\n",
    "\"\"\"\n",
    "这种重新生成series，会重新做一次判断\n",
    "\"\"\"\n",
    "s4 = s3+6\n",
    "Counter(s4)  # Counter({nan: 9, 7: 1})\n",
    "\"\"\"\n",
    "复杂一些，对单个元素计算或赋值np.nan，只会修改这1个元素(基于当前序列元素做判断)。注意None不可与数字相加。\n",
    "\"\"\"\n",
    "s1 = pd.Series([np.nan,np.nan,np.nan,None,None,None,True])  # 还是None\n",
    "s2 = pd.Series([np.nan,np.nan,None,None,])  # 变为np.nan,1\n",
    "s3 = s1.append(s2)\n",
    "s3.iloc[2] = s3.iloc[2]+6\n",
    "Counter(s3)  # Counter({nan: 2, nan: 1, None: 3, True: 1, nan: 1, nan: 1, nan: 1, nan: 1})\n",
    "\"\"\"直接赋值np.nan好像规律不对\"\"\"\n",
    "s3.iloc[3] = np.nan\n",
    "\"\"\"\n",
    "切片后对原序列的影响。拼接不用考虑，本身就是产生新的序列，不会共用value，也就不会产生影响。\n",
    "s2[0]+0或s3[0]+0都会报不能相加，也就是无法将None转为np.nan，这说明都受到原序列的影响。\n",
    "s3+0可以计算，因为这种相加是产生了全新序列，可以将None转化为np.nan。\n",
    "\"\"\"\n",
    "s1 = pd.Series([None,np.nan,'a'])  # 还是None\n",
    "s2 = s1[:2]\n",
    "s3 = s1[:2].copy()\n",
    "\"\"\"通过索引增加np.nan时，要分情况，比较复杂\"\"\"\n",
    "s1 = pd.Series([np.nan,np.nan,np.nan,None,None,None,True])  # 还是None\n",
    "s2 = pd.Series([np.nan,np.nan,None,None,])  # 变为np.nan,1\n",
    "s3 = s1.append(s2)\n",
    "Counter(s3)  # Counter({nan: 3, None: 3, True: 1, nan: 1, nan: 1, nan: 1, nan: 1})\n",
    "s3.iloc[0] = s3.iloc[0] +1\n",
    "s3.iloc[7] = np.nan\n",
    "s3.iloc[7] = np.nan+1\n",
    "s3[11] = np.nan\n",
    "\"\"\"两序列相加时，还不确定\"\"\"\n",
    "s1 = pd.Series([False,1,np.nan,np.nan,''], index=range(5))\n",
    "s2 = pd.Series([False,1,np.nan,np.nan,np.nan,np.nan], index=range(6))\n",
    "s3 = s1+s2  # 0,2,nan,nan,nan,nan\n",
    "Counter(s3)  # Counter({0: 1, 2: 1, nan: 4})\n",
    "s1 = pd.Series([False,1,np.nan,np.nan,], index=range(4))\n",
    "s2 = pd.Series([False,1,np.nan,np.nan,np.nan,np.nan], index=range(6))\n",
    "s3 = s1+s2  # 0,2,nan,nan,nan,nan\n",
    "Counter(s3)  # Counter({0: 1, 2: 1, nan: 1, nan: 1, nan: 1, nan: 1})"
   ]
  },
  {
   "cell_type": "code",
   "execution_count": 4,
   "metadata": {},
   "outputs": [
    {
     "name": "stdout",
     "output_type": "stream",
     "text": [
      "5\n",
      "4\n",
      "('a', 0)\n",
      "('a', True)\n",
      "('a', 2)\n",
      "('a', '')\n"
     ]
    }
   ],
   "source": [
    "\"\"\"\n",
    "关于pandas中groupby的一个坑：当分组列中有0,False,True,1,None,np.nan时需注意。\n",
    "0,False会分为一组，哪个先出现就以哪个为分组名。\n",
    "1,True会分为一组，哪个先出现就以哪个为分组名。\n",
    "None,np.nan会分为一组，但永远观察不到这个组。除了用len(grp1)从长度上能看到这个组的存在。其他一切方法都无法观查到这个组的存在，比如list(grp1),grp1.size(),以及for循环迭代。\n",
    "这与groupby的懒计算机制有关，在仅groupby没有进行后续计算时，groupby会得到一个总长度，这时会把包含None和np.nan的组算进去。\n",
    "但进行后续计算，包含None和np.nan的组就会被剔除，所以无论用哪种方法对groupby结果进行计算都会导致这部分组被剔除，你永远计算不到。\n",
    "\"\"\"\n",
    "df1 = pd.DataFrame(zip(list('aaaaaaaa'),[0,False,True,1,None,np.nan,'',2,]), columns=list('xy'))\n",
    "grp1 = df1.groupby(list('xy'))\n",
    "print(len(grp1))\n",
    "print(len(list(grp1)))\n",
    "grp1.size()\n",
    "for i in grp1:\n",
    "    print(i[0])"
   ]
  },
  {
   "cell_type": "code",
   "execution_count": null,
   "metadata": {},
   "outputs": [],
   "source": [
    "\"\"\"观察max(m)min(m)max(n)min(n)会很神奇\"\"\"\n",
    "m = np.array([np.nan, 1., 0., -np.inf])\n",
    "n = np.array([-np.inf, 1., 0., np.nan])\n",
    "\"\"\"max,min结果与列表排序有关\"\"\"\n",
    "max([1,2,3,np.nan])\n",
    "max([np.nan,1,2,3,])\n",
    "min([1,2,3,np.nan])\n",
    "min([np.nan,1,2,3,])\n",
    "\"\"\"其实max不可同时对数字和字符串排序\n",
    "但是df.max()可以，返回的值还不确定。好像是不返回值。只有字符串和只有数字没问题。混合的不确定。目前看返回的是空值，不返回东西。\"\"\""
   ]
  },
  {
   "cell_type": "code",
   "execution_count": null,
   "metadata": {},
   "outputs": [],
   "source": [
    "\"\"\"\n",
    "array中数字排序的问题：\n",
    "None、字符串无法与数字排序\n",
    "np.nan与数字排序时，会被所在位置影响\n",
    "True,False排序时等同于0和1\n",
    "\"\"\""
   ]
  },
  {
   "cell_type": "code",
   "execution_count": null,
   "metadata": {},
   "outputs": [],
   "source": []
  },
  {
   "cell_type": "code",
   "execution_count": null,
   "metadata": {},
   "outputs": [],
   "source": []
  }
 ],
 "metadata": {
  "kernelspec": {
   "display_name": "Python 3",
   "language": "python",
   "name": "python3"
  },
  "language_info": {
   "codemirror_mode": {
    "name": "ipython",
    "version": 3
   },
   "file_extension": ".py",
   "mimetype": "text/x-python",
   "name": "python",
   "nbconvert_exporter": "python",
   "pygments_lexer": "ipython3",
   "version": "3.7.3"
  }
 },
 "nbformat": 4,
 "nbformat_minor": 2
}
