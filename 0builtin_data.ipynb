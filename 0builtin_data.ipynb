{
 "cells": [
  {
   "cell_type": "markdown",
   "metadata": {},
   "source": [
    "# 编码"
   ]
  },
  {
   "cell_type": "code",
   "execution_count": 1,
   "metadata": {},
   "outputs": [
    {
     "data": {
      "text/plain": [
       "'latin-1 这个字符集非常好用:\\nlatin-1字符集是在ascii码上的一个扩展,它把ascii码没有用到过的字节码都给编上了对应的字符,所以它能表示的字符就更多了\\n针对单个字节来说就没有它不能解码的,这个就是它的牛逼之处所在\\n也就是说当我们不在乎内容中多字节码的正确性下使用latin-1字符集是不会出现解码异常的\\n'"
      ]
     },
     "execution_count": 1,
     "metadata": {},
     "output_type": "execute_result"
    }
   ],
   "source": [
    "\"\"\"latin-1 这个字符集非常好用:\n",
    "latin-1字符集是在ascii码上的一个扩展,它把ascii码没有用到过的字节码都给编上了对应的字符,所以它能表示的字符就更多了\n",
    "针对单个字节来说就没有它不能解码的,这个就是它的牛逼之处所在\n",
    "也就是说当我们不在乎内容中多字节码的正确性下使用latin-1字符集是不会出现解码异常的\n",
    "\"\"\""
   ]
  },
  {
   "cell_type": "markdown",
   "metadata": {},
   "source": [
    "# 字符串"
   ]
  },
  {
   "cell_type": "code",
   "execution_count": 21,
   "metadata": {},
   "outputs": [
    {
     "name": "stdout",
     "output_type": "stream",
     "text": [
      "Age: 25. Gender: True\n",
      "my name is 王 and age is 36\n",
      "Hello, 小明, 成绩提升了 17.1,列表[1, 2]，字典{'a': 666}\n",
      "hello world\n",
      "hello world world\n",
      "666_888_999\n",
      "The area of a circle with radius [1, 'a', [2, 22]] is 3.12\n"
     ]
    }
   ],
   "source": [
    "\"\"\"三种格式化字符串的方法\"\"\"\n",
    "\"\"\"%方法\"\"\"\n",
    "print('Age: %s. Gender: %s' % (25, True))  # 这种方法不能传入list,dict等复杂数据格式\n",
    "\"\"\"format方法\"\"\"\n",
    "print('my name is {name} and age is {age}'.format(name = '王', age = '36'))\n",
    "print('Hello, {0}, 成绩提升了 {1:.1f},列表{2}，字典{3}'.format('小明', 17.125,[1,2],{'a':666}))\n",
    "print(\"{} {}\".format(\"hello\", \"world\"))    # 不指定位置，按默认顺序\n",
    "print(\"{0} {1} {1}\".format(\"hello\", \"world\"))  # 指定位置可重复使用内容\n",
    "site = {'na': 666, 'nb': 888,  'nc': 999, 'dash': '_'}\n",
    "print(\"{na}{dash}{nb}{dash}{nc}\".format(**site))  # 通过两个星号传入字典\n",
    "\"\"\"f''方法\"\"\"\n",
    "r = [1,'a',[2,22]]\n",
    "s = 3.12345\n",
    "print(f'The area of a circle with radius {r} is {s:.2f}')"
   ]
  },
  {
   "cell_type": "code",
   "execution_count": 3,
   "metadata": {},
   "outputs": [
    {
     "data": {
      "text/plain": [
       "True"
      ]
     },
     "execution_count": 3,
     "metadata": {},
     "output_type": "execute_result"
    }
   ],
   "source": [
    "\"\"\"判断字符串包含关系\"\"\"\n",
    "'a' in 'asd'"
   ]
  },
  {
   "cell_type": "code",
   "execution_count": 77,
   "metadata": {},
   "outputs": [
    {
     "data": {
      "text/plain": [
       "'a_b_c_d'"
      ]
     },
     "execution_count": 77,
     "metadata": {},
     "output_type": "execute_result"
    }
   ],
   "source": [
    "'_'.join(list('abcd'))"
   ]
  },
  {
   "cell_type": "code",
   "execution_count": 108,
   "metadata": {},
   "outputs": [
    {
     "data": {
      "text/plain": [
       "'xbxc'"
      ]
     },
     "execution_count": 108,
     "metadata": {},
     "output_type": "execute_result"
    }
   ],
   "source": [
    "\"\"\"字符串的replace方法\"\"\"\n",
    "'abac'.replace('a','x')"
   ]
  },
  {
   "cell_type": "markdown",
   "metadata": {},
   "source": [
    "# list"
   ]
  },
  {
   "cell_type": "code",
   "execution_count": null,
   "metadata": {},
   "outputs": [],
   "source": [
    "list.append(obj)\n",
    "list.count(obj)\n",
    "list.extend(seq)\n",
    "list.index(obj)\n",
    "list.insert(index, obj)\n",
    "list.pop([index=-1])\n",
    "list.remove(obj)\n",
    "list.reverse()\n",
    "list.sort(cmp=None, key=None, reverse=False)\n",
    "list.sort(key= lambda x:int(x[:-4]))  "
   ]
  },
  {
   "cell_type": "markdown",
   "metadata": {},
   "source": [
    "# dict"
   ]
  },
  {
   "cell_type": "code",
   "execution_count": 61,
   "metadata": {},
   "outputs": [],
   "source": [
    "\"\"\"创建字典的一种方式，key可以是字符串或数字\"\"\"\n",
    "dict1={'name':'Allen','age':21,1:2}\n",
    "\"\"\"创建字典的一种方式，key必须是字符串，且不加引号\"\"\"\n",
    "dict2 = dict(name='Allen', age=14, gender='male')\n",
    "\"\"\"创建字典的一种方式，元组列表\"\"\"\n",
    "dict3 = dict([('name','Allen'),('age',21),(3,333)])\n",
    "\"\"\"创建字典的一种方式，所有的key都赋一个初始value\"\"\"\n",
    "dict4 = dict.fromkeys(['a',8,'b',22],'normal')\n",
    "\"\"\"花式创建字典\"\"\"\n",
    "d1 = {label:idx for idx,label in enumerate(set(['a','b','d','a','b','a']))}\n",
    "\"\"\"花式创建字典\"\"\"\n",
    "d2 = dict(list(zip(range(1,5),range(2,6))))"
   ]
  },
  {
   "cell_type": "code",
   "execution_count": 22,
   "metadata": {},
   "outputs": [],
   "source": [
    "\"\"\"同时迭代key和value\"\"\"\n",
    "for k,v in {1:11,6:66}.items():\n",
    "    pass\n",
    "\"\"\"只迭代key\"\"\"\n",
    "for k in {1:11,6:66}:\n",
    "    pass\n",
    "\"\"\"批量更新\"\"\"\n",
    "da = {3:11,6:66}\n",
    "da.update({3:33,7:77})\n",
    "\"\"\"个别更新\"\"\"\n",
    "db = {3:11,6:66}\n",
    "db[3] = 333"
   ]
  },
  {
   "cell_type": "code",
   "execution_count": null,
   "metadata": {},
   "outputs": [],
   "source": [
    "\"\"\"使用字典进行计数,dict_counter是计数用的字典, item是源数据字典\"\"\"\n",
    "dict_counter['key'] = dict_counter.get('key',0) + item['key']"
   ]
  },
  {
   "cell_type": "code",
   "execution_count": null,
   "metadata": {},
   "outputs": [],
   "source": []
  },
  {
   "cell_type": "code",
   "execution_count": null,
   "metadata": {},
   "outputs": [],
   "source": []
  },
  {
   "cell_type": "markdown",
   "metadata": {},
   "source": [
    "# transfer"
   ]
  },
  {
   "cell_type": "code",
   "execution_count": 6,
   "metadata": {},
   "outputs": [
    {
     "data": {
      "text/plain": [
       "{'a', 'b', 'c'}"
      ]
     },
     "execution_count": 6,
     "metadata": {},
     "output_type": "execute_result"
    }
   ],
   "source": [
    "\"\"\"list和tuple和set之间转换很方便\"\"\"\n",
    "list(('a','b','c'))\n",
    "tuple(['a','b','c'])\n",
    "set(['a','b','c'])"
   ]
  },
  {
   "cell_type": "markdown",
   "metadata": {},
   "source": [
    "# NAN, None, True, False, 0, 1, ''"
   ]
  },
  {
   "cell_type": "code",
   "execution_count": null,
   "metadata": {},
   "outputs": [],
   "source": [
    "None和np.nan的区别\n",
    "https://blog.csdn.net/daliangliangliangge/article/details/103683129\n",
    "https://blog.csdn.net/FengYuxin0706/article/details/106602262\n",
    "https://zhuanlan.zhihu.com/p/63148067"
   ]
  },
  {
   "cell_type": "code",
   "execution_count": 20,
   "metadata": {},
   "outputs": [
    {
     "data": {
      "text/plain": [
       "True"
      ]
     },
     "execution_count": 20,
     "metadata": {},
     "output_type": "execute_result"
    }
   ],
   "source": [
    "import numpy as np\n",
    "np.nan==np.nan  # false\n",
    "None==None  # True\n",
    "type(np.nan)  # float\n",
    "type(None)  # NoneType\n",
    "int(True)  # 1\n",
    "float(True)  # 1.0\n",
    "bool(1)  # True"
   ]
  },
  {
   "cell_type": "code",
   "execution_count": 35,
   "metadata": {},
   "outputs": [
    {
     "name": "stdout",
     "output_type": "stream",
     "text": [
      "Counter({0: 2, True: 2, None: 2, '': 1})\n",
      "v1 : Counter({nan: 2})\n",
      "v2 : Counter({nan: 1, nan: 1})\n",
      "v3 : Counter({nan: 1, nan: 1})\n",
      "v4 : Counter({nan: 1, nan: 1, '': 1, True: 1, False: 1})\n",
      "v5 : Counter({nan: 1, nan: 1, '': 1, True: 1, False: 1})\n",
      "v11 : Counter({nan: 2, 0: 1})\n",
      "v12 : Counter({nan: 1, nan: 1, 0.0: 1})\n",
      "v13 : Counter({nan: 1, nan: 1, 0.0: 1})\n",
      "v21 : Counter({nan: 2, None: 1})\n",
      "v22 : Counter({nan: 1, nan: 1, nan: 1})\n",
      "v23 : Counter({nan: 1, nan: 1, nan: 1})\n",
      "v31 : Counter({nan: 2, '': 1, True: 1, False: 1})\n",
      "v32 : Counter({nan: 2, '': 1, True: 1, False: 1})\n",
      "v33 : Counter({nan: 2, '': 1, True: 1, False: 1})\n"
     ]
    }
   ],
   "source": [
    "\"\"\"在什么情况下Counter可以对nan合并计数，以及True,False,0,1,None的记数逻辑\"\"\"\n",
    "import numpy as np\n",
    "import pandas as pd\n",
    "from collections import Counter\n",
    "print(Counter([0,False,True,1,None,None,'',]))\n",
    "v1 = [np.nan,np.nan]\n",
    "v2 = pd.Series(v1)\n",
    "v3 = v2.tolist()\n",
    "v4 = v3.copy()\n",
    "v4.extend(['',True,False])\n",
    "v5 = list(v4)\n",
    "v11 = [np.nan,np.nan,0]\n",
    "v12 = pd.Series(v11)\n",
    "v13 = v12.tolist()\n",
    "v21 = [np.nan,np.nan,None]\n",
    "v22 = pd.Series(v21)\n",
    "v23 = v22.tolist()\n",
    "v31 = [np.nan,np.nan,'',True,False]\n",
    "v32 = pd.Series(v31)\n",
    "v33 = v32.tolist()\n",
    "for i in [f'v{i}' for i in [1,2,3,4,5,11,12,13,21,22,23,31,32,33]]:\n",
    "    print(i,':',Counter(eval(i)))"
   ]
  },
  {
   "cell_type": "code",
   "execution_count": 38,
   "metadata": {},
   "outputs": [
    {
     "name": "stdout",
     "output_type": "stream",
     "text": [
      "5\n",
      "4\n",
      "('a', 0)\n",
      "('a', True)\n",
      "('a', 2)\n",
      "('a', '')\n"
     ]
    }
   ],
   "source": [
    "\"\"\"\n",
    "关于pandas中groupby的一个坑：当分组列中有0,False,True,1,None,np.nan时需注意。\n",
    "0,False会分为一组，哪个先出现就以哪个为分组名。\n",
    "1,True会分为一组，哪个先出现就以哪个为分组名。\n",
    "None,np.nan会分为一组，但永远观察不到这个组。除了用len(grp1)从长度上能看到这个组的存在。其他一切方法都无法观查到这个组的存在，比如list(grp1),grp1.size(),以及for循环迭代。\n",
    "这与groupby的懒计算机制有关，在仅groupby没有进行后续计算时，groupby会得到一个总长度，这时会把包含None和np.nan的组算进去。\n",
    "但进行后续计算，包含None和np.nan的组就会被剔除，所以无论用哪种方法对groupby结果进行计算都会导致这部分组被剔除，你永远计算不到。\n",
    "\"\"\"\n",
    "df1 = pd.DataFrame(zip(list('aaaaaaaa'),[0,False,True,1,None,np.nan,'',2,]), columns=list('xy'))\n",
    "grp1 = df1.groupby(list('xy'))\n",
    "print(len(grp1))\n",
    "print(len(list(grp1)))\n",
    "grp1.size()\n",
    "for i in grp1:\n",
    "    print(i[0])"
   ]
  },
  {
   "cell_type": "code",
   "execution_count": null,
   "metadata": {},
   "outputs": [],
   "source": []
  },
  {
   "cell_type": "code",
   "execution_count": null,
   "metadata": {},
   "outputs": [],
   "source": []
  },
  {
   "cell_type": "code",
   "execution_count": null,
   "metadata": {},
   "outputs": [],
   "source": []
  },
  {
   "cell_type": "code",
   "execution_count": null,
   "metadata": {},
   "outputs": [],
   "source": []
  },
  {
   "cell_type": "code",
   "execution_count": null,
   "metadata": {},
   "outputs": [],
   "source": []
  },
  {
   "cell_type": "code",
   "execution_count": null,
   "metadata": {},
   "outputs": [],
   "source": []
  }
 ],
 "metadata": {
  "kernelspec": {
   "display_name": "Python 3",
   "language": "python",
   "name": "python3"
  },
  "language_info": {
   "codemirror_mode": {
    "name": "ipython",
    "version": 3
   },
   "file_extension": ".py",
   "mimetype": "text/x-python",
   "name": "python",
   "nbconvert_exporter": "python",
   "pygments_lexer": "ipython3",
   "version": "3.7.3"
  }
 },
 "nbformat": 4,
 "nbformat_minor": 2
}
