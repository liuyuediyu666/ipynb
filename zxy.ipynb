{
 "cells": [
  {
   "cell_type": "markdown",
   "metadata": {},
   "source": [
    "# 标准库"
   ]
  },
  {
   "cell_type": "code",
   "execution_count": null,
   "metadata": {},
   "outputs": [],
   "source": [
    "\"\"\"pprint按行打印\"\"\"\n",
    "from pprint import pprint"
   ]
  },
  {
   "cell_type": "code",
   "execution_count": null,
   "metadata": {},
   "outputs": [],
   "source": [
    "\"\"\"importlib重新加载\"\"\"\n",
    "import importlib\n",
    "importlib.reload()"
   ]
  },
  {
   "cell_type": "code",
   "execution_count": null,
   "metadata": {},
   "outputs": [],
   "source": [
    "\"\"\"copy深拷贝\"\"\"\n",
    "import copy\n",
    "class Cc():\n",
    "    def init():\n",
    "        self.a = 1\n",
    "x = 1\n",
    "xc = copy.copy(x)\n",
    "xdc = copy.deepcopy(x)"
   ]
  },
  {
   "cell_type": "code",
   "execution_count": null,
   "metadata": {},
   "outputs": [],
   "source": [
    "\"\"\"gc内存回收\"\"\"\n",
    "import gc\n",
    "gc.collect()\n",
    "gc.get_threshold()  # 查看自动回收的阀值"
   ]
  },
  {
   "cell_type": "code",
   "execution_count": null,
   "metadata": {},
   "outputs": [],
   "source": [
    "\"\"\"warnings设置警告机制\"\"\"\n",
    "import warnings\n",
    "warnings.filterwarnings(\"ignore\")  # 设置警告等级，可过滤不显示\n",
    "\"\"\"\n",
    "error:将匹配警告转换为异常\n",
    "ignore:不会打印匹配的警告\n",
    "always:总是打印匹配的警告\n",
    "default:打印发出警告的每个位置的首次出现的匹配警告\n",
    "module:将为发出警告的每个模块打印首次发生的匹配警告\n",
    "once:仅打印第一次匹配的警告,不管位置如何\n",
    "\"\"\""
   ]
  },
  {
   "cell_type": "code",
   "execution_count": 14,
   "metadata": {},
   "outputs": [
    {
     "data": {
      "text/plain": [
       "<bound method Random.shuffle of <random.Random object at 0x000001D24D37E958>>"
      ]
     },
     "execution_count": 14,
     "metadata": {},
     "output_type": "execute_result"
    }
   ],
   "source": [
    "\"\"\"random生成随机数\"\"\"\n",
    "import random\n",
    "random.shuffle"
   ]
  },
  {
   "cell_type": "code",
   "execution_count": 16,
   "metadata": {},
   "outputs": [
    {
     "name": "stdout",
     "output_type": "stream",
     "text": [
      "Counter({'b': 3, 'c': 2, 'a': 1})\n",
      "11 22\n",
      "11 22\n"
     ]
    }
   ],
   "source": [
    "\"\"\"collections模块包含了除list、dict、和tuple之外的容器数据类型，如counter、defaultdict、deque、namedtuple、orderdict\"\"\"\n",
    "import collections\n",
    "print(collections.Counter(list('abbbcc')))\n",
    "Point = collections.namedtuple('Point', ['x', 'y'])\n",
    "p = Point(11, y=22)\n",
    "print(p[0],p[1])\n",
    "print(p.x,p.y)"
   ]
  },
  {
   "cell_type": "code",
   "execution_count": null,
   "metadata": {},
   "outputs": [],
   "source": []
  },
  {
   "cell_type": "code",
   "execution_count": null,
   "metadata": {},
   "outputs": [],
   "source": []
  },
  {
   "cell_type": "code",
   "execution_count": null,
   "metadata": {},
   "outputs": [],
   "source": []
  },
  {
   "cell_type": "code",
   "execution_count": null,
   "metadata": {},
   "outputs": [],
   "source": []
  },
  {
   "cell_type": "code",
   "execution_count": null,
   "metadata": {},
   "outputs": [],
   "source": [
    "\"\"\"pathlib\n",
    "知乎评价有争议。https://zhuanlan.zhihu.com/p/87940289\n",
    "API不好用啊，跟os.path完全没区别，只是抽象了一层，尤其是os.path.join对应的写法，看着我蛋疼。\n",
    "抽象是很有必要，但是它基本是os.path api的对应拷贝，甚至很多设计还不如之前直观，所以我觉得不先进，不好用。requests替换urllib我觉得就是先进好用的。\n",
    "\"\"\"\n",
    "pathlib"
   ]
  },
  {
   "cell_type": "code",
   "execution_count": null,
   "metadata": {},
   "outputs": [],
   "source": [
    "\"\"\"html语言支持\"\"\"\n",
    "html"
   ]
  },
  {
   "cell_type": "code",
   "execution_count": null,
   "metadata": {},
   "outputs": [],
   "source": [
    "\"\"\"glob\n",
    "Unix风格路径名模式扩展\n",
    "glob模块主要用来查找目录和文件，支持通配符\n",
    "\"\"\"\n",
    "glob"
   ]
  },
  {
   "cell_type": "code",
   "execution_count": null,
   "metadata": {},
   "outputs": [],
   "source": [
    "\"\"\"subprocess是调用shell命令的神器\n",
    "如果你还被某些书籍引导使用os.system或者os.popen等模块，现在是放弃它们的时候了\n",
    "这个模块会满足你绝大多数的系统命令执行、执行结果获取和解析等需求\n",
    "其中最有用的是call（执行系统命令）、check_call（执行结果不为0则抛出异常）、check_output（最方便的获取执行的输出的函数）、Popen+PIPE（支持管道的多命令执行）\n",
    "\"\"\"\n",
    "subprocess"
   ]
  },
  {
   "cell_type": "code",
   "execution_count": null,
   "metadata": {},
   "outputs": [],
   "source": [
    "\"\"\"functools工具函数库，很丰富\"\"\"\n",
    "functools"
   ]
  },
  {
   "cell_type": "code",
   "execution_count": null,
   "metadata": {},
   "outputs": [],
   "source": [
    "\"\"\"string高级的字符串处理库\"\"\"\n",
    "string"
   ]
  },
  {
   "cell_type": "code",
   "execution_count": null,
   "metadata": {},
   "outputs": [],
   "source": [
    "\"\"\"timeit用来测量一小段代码的执行时间\"\"\"\n",
    "timeit"
   ]
  },
  {
   "cell_type": "code",
   "execution_count": null,
   "metadata": {},
   "outputs": [],
   "source": [
    "\"\"\"shutil高级的文件,文件夹,压缩包处理模块\"\"\"\n",
    "shutil"
   ]
  },
  {
   "cell_type": "code",
   "execution_count": 4,
   "metadata": {},
   "outputs": [
    {
     "name": "stdout",
     "output_type": "stream",
     "text": [
      "2\n",
      "1\n"
     ]
    }
   ],
   "source": [
    "\"\"\"math数学公式计算\"\"\"\n",
    "import math\n",
    "print(math.ceil(1.1))\n",
    "print(math.floor(1.9))"
   ]
  },
  {
   "cell_type": "code",
   "execution_count": null,
   "metadata": {},
   "outputs": [],
   "source": [
    "\"\"\"urllib是HTTP处理库，但更推荐第三方的库requests\"\"\"\n",
    "urllib"
   ]
  },
  {
   "cell_type": "code",
   "execution_count": null,
   "metadata": {},
   "outputs": [],
   "source": [
    "\"\"\"logging日志处理\"\"\"\n",
    "logging"
   ]
  },
  {
   "cell_type": "code",
   "execution_count": null,
   "metadata": {},
   "outputs": [],
   "source": [
    "\"\"\"queue一个同步的队列类\"\"\"\n",
    "queue"
   ]
  },
  {
   "cell_type": "code",
   "execution_count": null,
   "metadata": {},
   "outputs": [],
   "source": [
    "\"\"\"multiprocessing多进程库\"\"\"\n",
    "multiprocessing"
   ]
  },
  {
   "cell_type": "code",
   "execution_count": null,
   "metadata": {},
   "outputs": [],
   "source": [
    "\"\"\"io处理流的核心工具\n",
    "流是一种抽象概念，它代表了数据的无结构化传递。\n",
    "按照流的方式进行输入输出，数据被当成无结构的字节序或字符序列。\n",
    "从流中取得数据的操作称为提取操作，而向流中添加数据的操作称为插入操作。\n",
    "用来进行输入输出操作的流就称为IO流。换句话说，IO流就是以流的方式进行输入输出。\n",
    "\"\"\"\n",
    "io"
   ]
  },
  {
   "cell_type": "code",
   "execution_count": null,
   "metadata": {},
   "outputs": [],
   "source": []
  },
  {
   "cell_type": "code",
   "execution_count": null,
   "metadata": {},
   "outputs": [],
   "source": []
  },
  {
   "cell_type": "markdown",
   "metadata": {},
   "source": [
    "# 三方库"
   ]
  },
  {
   "cell_type": "code",
   "execution_count": null,
   "metadata": {},
   "outputs": [],
   "source": [
    "\"\"\"requests是HTTP库\"\"\"\n",
    "import requests\n",
    "rq = requests.get('https://arbitrary.pdf', stream=True)\n",
    "with open('my.pdf', 'wb') as f:\n",
    "    for chunk in rq.iter_content(chunk_size=512):\n",
    "        if chunk:\n",
    "            f.write(chunk)"
   ]
  },
  {
   "cell_type": "code",
   "execution_count": null,
   "metadata": {},
   "outputs": [],
   "source": [
    "\"\"\"pdfplumber是PDF解析\"\"\"\n",
    "import pdfplumber\n",
    "with pdfplumber.open('path') as pdf:\n",
    "    one_text = ''\n",
    "    for i in pdf.pages:\n",
    "        text = i.extract_text()\n",
    "        one_text += '\\n'+text"
   ]
  },
  {
   "cell_type": "code",
   "execution_count": 11,
   "metadata": {},
   "outputs": [
    {
     "data": {
      "text/plain": [
       "<matplotlib.axes._subplots.AxesSubplot at 0x1d257834470>"
      ]
     },
     "execution_count": 11,
     "metadata": {},
     "output_type": "execute_result"
    },
    {
     "data": {
      "image/png": "[encoded data removed]",
      "text/plain": [
       "<Figure size 1800x720 with 2 Axes>"
      ]
     },
     "metadata": {
      "needs_background": "light"
     },
     "output_type": "display_data"
    }
   ],
   "source": [
    "\"\"\"missingno缺失值可视化\"\"\"\n",
    "import missingno as msno\n",
    "import numpy as np\n",
    "import pandas as pd\n",
    "import matplotlib.pyplot as plt\n",
    "df = pd.DataFrame(np.random.randn(10000,100))\n",
    "for i in range(100):\n",
    "    df[i][df[i]<0] = None\n",
    "msno.matrix(df)"
   ]
  },
  {
   "cell_type": "code",
   "execution_count": null,
   "metadata": {},
   "outputs": [],
   "source": [
    "\"\"\"HTML解析器\n",
    "https://www.cnblogs.com/zlc364624/p/12264070.html\n",
    "\"\"\"\n",
    "from bs4 import BeautifulSoup"
   ]
  },
  {
   "cell_type": "code",
   "execution_count": null,
   "metadata": {},
   "outputs": [],
   "source": [
    "\"\"\"文件名称的匹配\"\"\"\n",
    "import fnmatch\n",
    "for filename in ['a.txt','b.csv','c.txt']:\n",
    "    if fnmatch.fnmatch(filename,'*.txt'):\n",
    "        print(filename)"
   ]
  },
  {
   "cell_type": "code",
   "execution_count": null,
   "metadata": {},
   "outputs": [],
   "source": []
  },
  {
   "cell_type": "code",
   "execution_count": null,
   "metadata": {},
   "outputs": [],
   "source": []
  },
  {
   "cell_type": "code",
   "execution_count": null,
   "metadata": {},
   "outputs": [],
   "source": []
  },
  {
   "cell_type": "code",
   "execution_count": null,
   "metadata": {},
   "outputs": [],
   "source": [
    "\"\"\"scrapy爬虫必学库\"\"\"\n",
    "scrapy"
   ]
  },
  {
   "cell_type": "code",
   "execution_count": null,
   "metadata": {},
   "outputs": [],
   "source": [
    "\"\"\"seaborn是对matplotlit的封装，更便捷\"\"\"\n",
    "\"\"\"seaborn中的parigrid和facegrid和pairsplot，优先学习一下\"\"\"\n",
    "seaborn"
   ]
  },
  {
   "cell_type": "code",
   "execution_count": null,
   "metadata": {},
   "outputs": [],
   "source": [
    "\"\"\"setuptools发布包\"\"\"\n",
    "setuptools"
   ]
  },
  {
   "cell_type": "code",
   "execution_count": null,
   "metadata": {},
   "outputs": [],
   "source": [
    "\"\"\"falsk后端框架\n",
    "初学简单，傻瓜式使用还行，高级功能不好用\"\"\"\n",
    "falsk"
   ]
  },
  {
   "cell_type": "code",
   "execution_count": null,
   "metadata": {},
   "outputs": [],
   "source": [
    "\"\"\"django后端框架\n",
    "初学比较难，但是更底层，更灵活，高级功能实现较容易\"\"\"\n",
    "django"
   ]
  },
  {
   "cell_type": "code",
   "execution_count": null,
   "metadata": {},
   "outputs": [],
   "source": [
    "\"\"\"nmslib大规模高维向量的查找计算\n",
    "源码及官方文档  \n",
    "https://github.com/nmslib/nmslib  \n",
    "https://benfred.github.io/nmslib/index.html  \n",
    "\"\"\"\n",
    "nmslib"
   ]
  },
  {
   "cell_type": "code",
   "execution_count": null,
   "metadata": {},
   "outputs": [],
   "source": [
    "\"\"\"gensim是NLP库\"\"\"\n",
    "gensim"
   ]
  },
  {
   "cell_type": "code",
   "execution_count": null,
   "metadata": {},
   "outputs": [],
   "source": [
    "\"\"\"imblearn解决样本不均衡，有smote方法\n",
    "项目地址\n",
    "https://github.com/scikit-learn-contrib/imbalanced-learn\n",
    "文档\n",
    "https://imbalanced-learn.org/stable/\n",
    "\"\"\"\n",
    "imblearn\n",
    "\"\"\"类别不均衡处理的相关文章\n",
    "https://blog.csdn.net/ODIMAYA/article/details/103126193\n",
    "https://www.cnblogs.com/massquantity/p/8550875.html\n",
    "https://www.cnblogs.com/massquantity/p/8592091.html\n",
    "https://www.cnblogs.com/massquantity/p/9382710.html\n",
    "https://www.jianshu.com/p/dfa37335ea8a\n",
    "\"\"\""
   ]
  },
  {
   "cell_type": "code",
   "execution_count": null,
   "metadata": {},
   "outputs": [],
   "source": [
    "\"\"\"basemap地图绘图基础库\n",
    "about basemap install method under linux  \n",
    "https://lumingdong.cn/install-basemap-under-linux.html  \n",
    "https://www.cnblogs.com/luochunxi/p/12891574.html\n",
    "\"\"\"\n",
    "basemap"
   ]
  },
  {
   "cell_type": "code",
   "execution_count": null,
   "metadata": {},
   "outputs": [],
   "source": [
    "\"\"\"typing模块的作用：\n",
    "类型检查，防止运行时出现参数和返回值类型不符合。\n",
    "作为开发文档附加说明，方便使用者调用时传入和返回参数类型。\n",
    "该模块加入后并不会影响程序的运行，不会报正式的错误，只有提醒。\n",
    "注意：typing模块只有在python3.5以上的版本中才可以使用,pycharm目前支持typing检查\n",
    "\"\"\"\n",
    "typing"
   ]
  },
  {
   "cell_type": "code",
   "execution_count": null,
   "metadata": {},
   "outputs": [],
   "source": [
    "\"\"\"xlwt操作excel模块\"\"\"\n",
    "xlwt"
   ]
  },
  {
   "cell_type": "code",
   "execution_count": null,
   "metadata": {},
   "outputs": [],
   "source": [
    "\"\"\"unittest用于Python的单元测试\"\"\"\n",
    "unittest"
   ]
  },
  {
   "cell_type": "code",
   "execution_count": null,
   "metadata": {},
   "outputs": [],
   "source": [
    "\"\"\"statsmodels包含更多的“经典”频率学派统计方法，而贝叶斯方法和机器学习模型可在其他库中找到。\n",
    "包含在statsmodels中的一些模型：\n",
    "· 线性模型，广义线性模型和鲁棒线性模型\n",
    "· 线性混合效应模型\n",
    "· 方差分析（ANOVA）方法\n",
    "· 时间序列过程和状态空间模型\n",
    "· 广义的矩量法\n",
    "\"\"\"\n",
    "statsmodels"
   ]
  },
  {
   "cell_type": "code",
   "execution_count": null,
   "metadata": {},
   "outputs": [],
   "source": [
    "\"\"\"sh模块 与Linux交互利器\n",
    " 一个完备的 subprocess 替代库。\n",
    " \"\"\"\n",
    "sh"
   ]
  },
  {
   "cell_type": "code",
   "execution_count": null,
   "metadata": {},
   "outputs": [],
   "source": [
    "\"\"\"pysnooper调试神器\"\"\"\n",
    "pysnooper"
   ]
  },
  {
   "cell_type": "code",
   "execution_count": null,
   "metadata": {},
   "outputs": [],
   "source": [
    "\"\"\"pytest测试模块\n",
    "官网：https://docs.pytest.org/en/stable/\n",
    "\"\"\"\n",
    "pytest"
   ]
  },
  {
   "cell_type": "code",
   "execution_count": null,
   "metadata": {},
   "outputs": [],
   "source": [
    "\"\"\"Pillow。PIL的fork版本，操作图像库。\"\"\"\n",
    "pillow"
   ]
  },
  {
   "cell_type": "code",
   "execution_count": null,
   "metadata": {},
   "outputs": [],
   "source": [
    "\"\"\"Pelican搭建静态博客\n",
    "\n",
    "https://www.jianshu.com/p/d80a5cefc128\n",
    "\n",
    "Pelican是一个用Python语言编写的静态网站生成器，支持使用restructuredText和Markdown写文章，\n",
    "\"\"\"\n",
    "pelican"
   ]
  },
  {
   "cell_type": "code",
   "execution_count": null,
   "metadata": {},
   "outputs": [],
   "source": [
    "\"\"\"pywin32模块，控制win窗口。\"\"\"\n",
    "pywin32"
   ]
  },
  {
   "cell_type": "code",
   "execution_count": null,
   "metadata": {},
   "outputs": [],
   "source": [
    "\"\"\"ndscheduler一些日常事务，需要每天执行的任务，除了每天自己去手动执行以外，还可以用些工具来帮忙完成。\n",
    "吐血推荐：Ndscheduler\n",
    "https://blog.csdn.net/qcyfred/article/details/78879443\n",
    "\"\"\"\n",
    "ndscheduler"
   ]
  },
  {
   "cell_type": "code",
   "execution_count": null,
   "metadata": {},
   "outputs": [],
   "source": [
    "\"\"\"neo4j知识图谱常用\"\"\"\n",
    "neo4j"
   ]
  },
  {
   "cell_type": "code",
   "execution_count": null,
   "metadata": {},
   "outputs": [],
   "source": [
    "\"\"\"yacs参数配置工具\"\"\"\n",
    "yacs"
   ]
  },
  {
   "cell_type": "code",
   "execution_count": null,
   "metadata": {},
   "outputs": [],
   "source": []
  },
  {
   "cell_type": "code",
   "execution_count": null,
   "metadata": {},
   "outputs": [],
   "source": []
  },
  {
   "cell_type": "code",
   "execution_count": null,
   "metadata": {},
   "outputs": [],
   "source": []
  }
 ],
 "metadata": {
  "kernelspec": {
   "display_name": "Python 3",
   "language": "python",
   "name": "python3"
  },
  "language_info": {
   "codemirror_mode": {
    "name": "ipython",
    "version": 3
   },
   "file_extension": ".py",
   "mimetype": "text/x-python",
   "name": "python",
   "nbconvert_exporter": "python",
   "pygments_lexer": "ipython3",
   "version": "3.7.3"
  }
 },
 "nbformat": 4,
 "nbformat_minor": 2
}
