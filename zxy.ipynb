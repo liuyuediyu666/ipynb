{
 "cells": [
  {
   "cell_type": "markdown",
   "metadata": {},
   "source": [
    "# 标准库"
   ]
  },
  {
   "cell_type": "code",
   "execution_count": null,
   "metadata": {},
   "outputs": [],
   "source": [
    "\"\"\"几个有必要系统学的库\n",
    "廖雪峰有教程\n",
    "collections的一个教程http://www.pythoner.com/205.html\n",
    "\"\"\"\n",
    "collections\n",
    "itertools\n",
    "functools(functools.reduce())"
   ]
  },
  {
   "cell_type": "code",
   "execution_count": null,
   "metadata": {},
   "outputs": [],
   "source": [
    "\"\"\"pprint按行打印\"\"\"\n",
    "from pprint import pprint"
   ]
  },
  {
   "cell_type": "code",
   "execution_count": null,
   "metadata": {},
   "outputs": [],
   "source": [
    "\"\"\"importlib重新加载\"\"\"\n",
    "import importlib\n",
    "importlib.reload()"
   ]
  },
  {
   "cell_type": "code",
   "execution_count": null,
   "metadata": {},
   "outputs": [],
   "source": [
    "\"\"\"copy深拷贝\"\"\"\n",
    "import copy\n",
    "class Cc():\n",
    "    def init():\n",
    "        self.a = 1\n",
    "x = 1\n",
    "xc = copy.copy(x)\n",
    "xdc = copy.deepcopy(x)"
   ]
  },
  {
   "cell_type": "code",
   "execution_count": null,
   "metadata": {},
   "outputs": [],
   "source": [
    "\"\"\"gc内存回收\"\"\"\n",
    "import gc\n",
    "gc.collect()\n",
    "gc.get_threshold()  # 查看自动回收的阀值\n",
    "\"\"\"删除某变量并释放内存\"\"\"\n",
    "del var_train\n",
    "gc.collect()\n",
    "\"\"\"查看内存中变量占用空间\"\"\"\n",
    "from sys import getsizeof\n",
    "getsizeof(var_train)\n",
    "def show_memory(unit='MB', threshold=10):\n",
    "    '''查看变量占用内存情况\n",
    "    :param unit: 显示的单位，可为`B`,`KB`,`MB`,`GB`\n",
    "    :param threshold: 仅显示内存数值大于等于threshold的变量\n",
    "    '''\n",
    "    from sys import getsizeof\n",
    "    scale = {'B': 1, 'KB': 1024, 'MB': 1048576, 'GB': 1073741824}[unit]\n",
    "    for i in list(globals().keys()):\n",
    "        memory = eval(\"getsizeof({})\".format(i)) // scale\n",
    "        if memory >= threshold:\n",
    "            print(i, memory)"
   ]
  },
  {
   "cell_type": "code",
   "execution_count": null,
   "metadata": {},
   "outputs": [],
   "source": [
    "\"\"\"warnings设置警告机制\"\"\"\n",
    "import warnings\n",
    "warnings.filterwarnings(\"ignore\")  # 设置警告等级，可过滤不显示\n",
    "\"\"\"\n",
    "error:将匹配警告转换为异常\n",
    "ignore:不会打印匹配的警告\n",
    "always:总是打印匹配的警告\n",
    "default:打印发出警告的每个位置的首次出现的匹配警告\n",
    "module:将为发出警告的每个模块打印首次发生的匹配警告\n",
    "once:仅打印第一次匹配的警告,不管位置如何\n",
    "\"\"\""
   ]
  },
  {
   "cell_type": "code",
   "execution_count": 14,
   "metadata": {},
   "outputs": [
    {
     "data": {
      "text/plain": [
       "<bound method Random.shuffle of <random.Random object at 0x000001D24D37E958>>"
      ]
     },
     "execution_count": 14,
     "metadata": {},
     "output_type": "execute_result"
    }
   ],
   "source": [
    "\"\"\"random生成随机数\"\"\"\n",
    "import random\n",
    "random.shuffle"
   ]
  },
  {
   "cell_type": "code",
   "execution_count": 16,
   "metadata": {},
   "outputs": [
    {
     "name": "stdout",
     "output_type": "stream",
     "text": [
      "Counter({'b': 3, 'c': 2, 'a': 1})\n",
      "11 22\n",
      "11 22\n"
     ]
    }
   ],
   "source": [
    "\"\"\"collections模块包含了除list、dict、和tuple之外的容器数据类型，如counter、defaultdict、deque、namedtuple、orderdict\"\"\"\n",
    "import collections\n",
    "print(collections.Counter(list('abbbcc')))\n",
    "Point = collections.namedtuple('Point', ['x', 'y'])\n",
    "p = Point(11, y=22)\n",
    "print(p[0],p[1])\n",
    "print(p.x,p.y)"
   ]
  },
  {
   "cell_type": "code",
   "execution_count": 7,
   "metadata": {},
   "outputs": [
    {
     "data": {
      "text/plain": [
       "[('a', 'b', 'c'), ('a', 'b', 'x'), ('a', 'c', 'x'), ('b', 'c', 'x')]"
      ]
     },
     "execution_count": 7,
     "metadata": {},
     "output_type": "execute_result"
    }
   ],
   "source": [
    "\"\"\"itertools\"\"\"\n",
    "import itertools\n",
    "list(itertools.combinations(['a','b','c','x'], 3))"
   ]
  },
  {
   "cell_type": "code",
   "execution_count": 8,
   "metadata": {},
   "outputs": [],
   "source": [
    "\"\"\"scipy\"\"\"\n",
    "from scipy.stats.stats import pearsonr"
   ]
  },
  {
   "cell_type": "code",
   "execution_count": null,
   "metadata": {},
   "outputs": [],
   "source": [
    "\"\"\"pathlib\n",
    "知乎评价有争议。https://zhuanlan.zhihu.com/p/87940289\n",
    "API不好用啊，跟os.path完全没区别，只是抽象了一层，尤其是os.path.join对应的写法，看着我蛋疼。\n",
    "抽象是很有必要，但是它基本是os.path api的对应拷贝，甚至很多设计还不如之前直观，所以我觉得不先进，不好用。requests替换urllib我觉得就是先进好用的。\n",
    "\"\"\"\n",
    "pathlib"
   ]
  },
  {
   "cell_type": "code",
   "execution_count": null,
   "metadata": {},
   "outputs": [],
   "source": [
    "\"\"\"html语言支持\"\"\"\n",
    "html"
   ]
  },
  {
   "cell_type": "code",
   "execution_count": null,
   "metadata": {},
   "outputs": [],
   "source": [
    "\"\"\"glob\n",
    "Unix风格路径名模式扩展\n",
    "glob模块主要用来查找目录和文件，支持通配符\n",
    "\"\"\"\n",
    "glob"
   ]
  },
  {
   "cell_type": "code",
   "execution_count": null,
   "metadata": {},
   "outputs": [],
   "source": [
    "\"\"\"subprocess是调用shell命令的神器\n",
    "如果你还被某些书籍引导使用os.system或者os.popen等模块，现在是放弃它们的时候了\n",
    "这个模块会满足你绝大多数的系统命令执行、执行结果获取和解析等需求\n",
    "其中最有用的是call（执行系统命令）、check_call（执行结果不为0则抛出异常）、check_output（最方便的获取执行的输出的函数）、Popen+PIPE（支持管道的多命令执行）\n",
    "\"\"\"\n",
    "subprocess"
   ]
  },
  {
   "cell_type": "code",
   "execution_count": null,
   "metadata": {},
   "outputs": [],
   "source": [
    "\"\"\"functools工具函数库，很丰富\"\"\"\n",
    "functools"
   ]
  },
  {
   "cell_type": "code",
   "execution_count": null,
   "metadata": {},
   "outputs": [],
   "source": [
    "\"\"\"string高级的字符串处理库\"\"\"\n",
    "string"
   ]
  },
  {
   "cell_type": "code",
   "execution_count": null,
   "metadata": {},
   "outputs": [],
   "source": [
    "\"\"\"timeit用来测量一小段代码的执行时间\"\"\"\n",
    "timeit"
   ]
  },
  {
   "cell_type": "code",
   "execution_count": null,
   "metadata": {},
   "outputs": [],
   "source": [
    "\"\"\"shutil高级的文件,文件夹,压缩包处理模块\"\"\"\n",
    "shutil"
   ]
  },
  {
   "cell_type": "code",
   "execution_count": 4,
   "metadata": {},
   "outputs": [
    {
     "name": "stdout",
     "output_type": "stream",
     "text": [
      "2\n",
      "1\n"
     ]
    }
   ],
   "source": [
    "\"\"\"math数学公式计算\"\"\"\n",
    "import math\n",
    "print(math.ceil(1.1))\n",
    "print(math.floor(1.9))"
   ]
  },
  {
   "cell_type": "code",
   "execution_count": null,
   "metadata": {},
   "outputs": [],
   "source": [
    "\"\"\"urllib是HTTP处理库，但更推荐第三方的库requests\"\"\"\n",
    "urllib"
   ]
  },
  {
   "cell_type": "code",
   "execution_count": null,
   "metadata": {},
   "outputs": [],
   "source": [
    "\"\"\"logging日志处理\"\"\"\n",
    "logging"
   ]
  },
  {
   "cell_type": "code",
   "execution_count": null,
   "metadata": {},
   "outputs": [],
   "source": [
    "\"\"\"queue一个同步的队列类\"\"\"\n",
    "queue"
   ]
  },
  {
   "cell_type": "code",
   "execution_count": null,
   "metadata": {},
   "outputs": [],
   "source": [
    "\"\"\"multiprocessing多进程库\"\"\"\n",
    "multiprocessing"
   ]
  },
  {
   "cell_type": "code",
   "execution_count": null,
   "metadata": {},
   "outputs": [],
   "source": [
    "\"\"\"io处理流的核心工具\n",
    "流是一种抽象概念，它代表了数据的无结构化传递。\n",
    "按照流的方式进行输入输出，数据被当成无结构的字节序或字符序列。\n",
    "从流中取得数据的操作称为提取操作，而向流中添加数据的操作称为插入操作。\n",
    "用来进行输入输出操作的流就称为IO流。换句话说，IO流就是以流的方式进行输入输出。\n",
    "\"\"\"\n",
    "io"
   ]
  },
  {
   "cell_type": "code",
   "execution_count": null,
   "metadata": {},
   "outputs": [],
   "source": [
    "\"\"\"解压tar，gz等\"\"\"\n",
    "gzip"
   ]
  },
  {
   "cell_type": "code",
   "execution_count": null,
   "metadata": {},
   "outputs": [],
   "source": []
  },
  {
   "cell_type": "code",
   "execution_count": null,
   "metadata": {},
   "outputs": [],
   "source": []
  },
  {
   "cell_type": "code",
   "execution_count": null,
   "metadata": {},
   "outputs": [],
   "source": []
  },
  {
   "cell_type": "code",
   "execution_count": null,
   "metadata": {},
   "outputs": [],
   "source": []
  },
  {
   "cell_type": "markdown",
   "metadata": {},
   "source": [
    "# 三方库"
   ]
  },
  {
   "cell_type": "markdown",
   "metadata": {},
   "source": [
    "###### 深度学习"
   ]
  },
  {
   "cell_type": "code",
   "execution_count": null,
   "metadata": {},
   "outputs": [],
   "source": [
    "\"\"\"torch\n",
    "\n",
    "- window下的pytorch安装，最高只能安装以下版本  \n",
    "pip install torch==1.5.0+cu101 torchvision==0.7.0+cu101 -f https://download.pytorch.org/whl/torch_stable.html  \n",
    "安装包地址：https://download.pytorch.org/whl/torch_stable.html\n",
    "\n",
    "pytorch官网  \n",
    "https://pytorch.org/tutorials/  \n",
    "pytorch高级封装，适合入门（Making neural nets uncool again）  \n",
    "https://www.fast.ai/  \n",
    "torchvision官方文档中的加载和文件目录的一些坑。  \n",
    "https://blog.csdn.net/IT_BOY__/article/details/106376437\n",
    "\"\"\""
   ]
  },
  {
   "cell_type": "code",
   "execution_count": null,
   "metadata": {},
   "outputs": [],
   "source": [
    "\"\"\"tensorflow\"\"\""
   ]
  },
  {
   "cell_type": "code",
   "execution_count": null,
   "metadata": {},
   "outputs": [],
   "source": [
    "\"\"\"tensorboard\"\"\""
   ]
  },
  {
   "cell_type": "code",
   "execution_count": null,
   "metadata": {},
   "outputs": [],
   "source": [
    "\"\"\"visdom\n",
    "Facebook专门为PyTorch开发的一款可视化工具\n",
    "numpy也能可视化。\n",
    "https://github.com/fossasia/visdom\n",
    "https://zhuanlan.zhihu.com/p/96551613\"\"\""
   ]
  },
  {
   "cell_type": "code",
   "execution_count": null,
   "metadata": {},
   "outputs": [],
   "source": [
    "\"\"\"mmcv和mmdet\n",
    "目标检测\"\"\""
   ]
  },
  {
   "cell_type": "code",
   "execution_count": null,
   "metadata": {},
   "outputs": [],
   "source": [
    "\"\"\"gensim\n",
    "NLP库\"\"\""
   ]
  },
  {
   "cell_type": "code",
   "execution_count": null,
   "metadata": {},
   "outputs": [],
   "source": [
    "\"\"\"nmslib\n",
    "大规模高维向量的查找计算\n",
    "源码及官方文档  \n",
    "https://github.com/nmslib/nmslib  \n",
    "https://benfred.github.io/nmslib/index.html  \n",
    "\"\"\""
   ]
  },
  {
   "cell_type": "code",
   "execution_count": null,
   "metadata": {},
   "outputs": [],
   "source": [
    "\"\"\"neo4j\n",
    "知识图谱常用\"\"\""
   ]
  },
  {
   "cell_type": "code",
   "execution_count": null,
   "metadata": {},
   "outputs": [],
   "source": []
  },
  {
   "cell_type": "markdown",
   "metadata": {},
   "source": [
    "###### 图像处理"
   ]
  },
  {
   "cell_type": "code",
   "execution_count": null,
   "metadata": {},
   "outputs": [],
   "source": [
    "\"\"\"Pillow\n",
    "PIL的fork版本，操作图像库。\"\"\""
   ]
  },
  {
   "cell_type": "code",
   "execution_count": null,
   "metadata": {},
   "outputs": [],
   "source": [
    "\"\"\"opencv\n",
    "实际上是一个c++库，只是提供了python接口\"\"\""
   ]
  },
  {
   "cell_type": "code",
   "execution_count": null,
   "metadata": {},
   "outputs": [],
   "source": [
    "\"\"\"scikit-image\n",
    "基于scipy的一款图像处理包，它将图片作为numpy数组进行处理，正好与matlab一样，\n",
    "比较来说，PIL和Pillow只提供最基础的数字图像处理，功能有限。\n",
    "https://blog.csdn.net/u012300744/article/details/80083282\n",
    "\"\"\""
   ]
  },
  {
   "cell_type": "code",
   "execution_count": null,
   "metadata": {},
   "outputs": [],
   "source": []
  },
  {
   "cell_type": "markdown",
   "metadata": {},
   "source": [
    "###### 工程化"
   ]
  },
  {
   "cell_type": "code",
   "execution_count": null,
   "metadata": {},
   "outputs": [],
   "source": [
    "\"\"\"fire\n",
    "是python生成命令行界面的工具\n",
    "https://www.cnblogs.com/my_captain/p/9574560.html\n",
    "\"\"\""
   ]
  },
  {
   "cell_type": "code",
   "execution_count": null,
   "metadata": {},
   "outputs": [],
   "source": [
    "\"\"\"ConfigSpace\n",
    "用于算法的参数空间配置\"\"\""
   ]
  },
  {
   "cell_type": "code",
   "execution_count": null,
   "metadata": {},
   "outputs": [],
   "source": [
    "\"\"\"yacs\n",
    "轻量级库，用于定义和管理系统配置。\n",
    "包括用于训练机器学习模型的超参数或可配置模型超参数(如卷积神经网络的深度)等概念。\n",
    "https://yunyaniu.blog.csdn.net/article/details/103881451\"\"\""
   ]
  },
  {
   "cell_type": "code",
   "execution_count": null,
   "metadata": {},
   "outputs": [],
   "source": [
    "\"\"\"ndscheduler\n",
    "一些日常事务，需要每天执行的任务，除了每天自己去手动执行以外，还可以用些工具来帮忙完成。\n",
    "吐血推荐：Ndscheduler\n",
    "https://blog.csdn.net/qcyfred/article/details/78879443\n",
    "\"\"\""
   ]
  },
  {
   "cell_type": "code",
   "execution_count": null,
   "metadata": {},
   "outputs": [],
   "source": [
    "\"\"\"sh\n",
    "模块 与Linux交互利器\n",
    " 一个完备的 subprocess 替代库。\n",
    "\"\"\""
   ]
  },
  {
   "cell_type": "code",
   "execution_count": null,
   "metadata": {},
   "outputs": [],
   "source": [
    "\"\"\"typing\n",
    "模块的作用：\n",
    "类型检查，防止运行时出现参数和返回值类型不符合。\n",
    "作为开发文档附加说明，方便使用者调用时传入和返回参数类型。\n",
    "该模块加入后并不会影响程序的运行，不会报正式的错误，只有提醒。\n",
    "注意：typing模块只有在python3.5以上的版本中才可以使用,pycharm目前支持typing检查\n",
    "\"\"\""
   ]
  },
  {
   "cell_type": "code",
   "execution_count": null,
   "metadata": {},
   "outputs": [],
   "source": [
    "\"\"\"torchnet\n",
    "是用于torch的代码复用和模块化编程的框架，主要包含四个类\n",
    "https://blog.csdn.net/jainszhang/article/details/82898019\n",
    "https://blog.csdn.net/jainszhang/article/details/82898072\n",
    "\"\"\""
   ]
  },
  {
   "cell_type": "code",
   "execution_count": null,
   "metadata": {},
   "outputs": [],
   "source": [
    "\"\"\"cupy\n",
    "CuPy: NumPy-like API accelerated with CUDA\n",
    "https://blog.csdn.net/qq_41185868/article/details/103479683\n",
    "\"\"\""
   ]
  },
  {
   "cell_type": "code",
   "execution_count": null,
   "metadata": {},
   "outputs": [],
   "source": []
  },
  {
   "cell_type": "markdown",
   "metadata": {},
   "source": [
    "###### 开发相关"
   ]
  },
  {
   "cell_type": "code",
   "execution_count": null,
   "metadata": {},
   "outputs": [],
   "source": [
    "\"\"\"setuptools\n",
    "发布包的工具\"\"\""
   ]
  },
  {
   "cell_type": "code",
   "execution_count": null,
   "metadata": {},
   "outputs": [],
   "source": [
    "\"\"\"falsk\n",
    "后端框架\n",
    "初学简单，傻瓜式使用还行，高级功能不好用，越向后越麻烦，还得学django\"\"\""
   ]
  },
  {
   "cell_type": "code",
   "execution_count": null,
   "metadata": {},
   "outputs": [],
   "source": [
    "\"\"\"django\n",
    "后端框架\n",
    "初学比较难，但是更底层，更灵活，高级功能实现较容易，后期舒服\"\"\""
   ]
  },
  {
   "cell_type": "code",
   "execution_count": null,
   "metadata": {},
   "outputs": [],
   "source": [
    "\"\"\"pytest:\n",
    "测试模块\n",
    "官网：https://docs.pytest.org/en/stable/\n",
    "\"\"\""
   ]
  },
  {
   "cell_type": "code",
   "execution_count": null,
   "metadata": {},
   "outputs": [],
   "source": [
    "\"\"\"unittest\n",
    "用于Python的单元测试\"\"\""
   ]
  },
  {
   "cell_type": "code",
   "execution_count": null,
   "metadata": {},
   "outputs": [],
   "source": [
    "\"\"\"pysnooper\n",
    "调试神器\"\"\""
   ]
  },
  {
   "cell_type": "code",
   "execution_count": null,
   "metadata": {},
   "outputs": [],
   "source": [
    "\"\"\"ipdb\n",
    "是pdb的增强版,是python开发的调试工具。\"\"\""
   ]
  },
  {
   "cell_type": "code",
   "execution_count": null,
   "metadata": {},
   "outputs": [],
   "source": []
  },
  {
   "cell_type": "markdown",
   "metadata": {},
   "source": [
    "###### 小工具"
   ]
  },
  {
   "cell_type": "code",
   "execution_count": null,
   "metadata": {},
   "outputs": [],
   "source": [
    "\"\"\"fnmatch\n",
    "文件名称的匹配\"\"\"\n",
    "import fnmatch\n",
    "for filename in ['a.txt','b.csv','c.txt']:\n",
    "    if fnmatch.fnmatch(filename,'*.txt'):\n",
    "        print(filename)"
   ]
  },
  {
   "cell_type": "code",
   "execution_count": null,
   "metadata": {},
   "outputs": [],
   "source": [
    "\"\"\"requests\n",
    "是HTTP库\"\"\"\n",
    "import requests\n",
    "rq = requests.get('https://arbitrary.pdf', stream=True)\n",
    "with open('my.pdf', 'wb') as f:\n",
    "    for chunk in rq.iter_content(chunk_size=512):\n",
    "        if chunk:\n",
    "            f.write(chunk)"
   ]
  },
  {
   "cell_type": "code",
   "execution_count": null,
   "metadata": {},
   "outputs": [],
   "source": [
    "\"\"\"pdfplumber\n",
    "是PDF解析\"\"\"\n",
    "import pdfplumber\n",
    "with pdfplumber.open('path') as pdf:\n",
    "    one_text = ''\n",
    "    for i in pdf.pages:\n",
    "        text = i.extract_text()\n",
    "        one_text += '\\n'+text"
   ]
  },
  {
   "cell_type": "code",
   "execution_count": null,
   "metadata": {},
   "outputs": [],
   "source": []
  },
  {
   "cell_type": "code",
   "execution_count": null,
   "metadata": {},
   "outputs": [],
   "source": []
  },
  {
   "cell_type": "code",
   "execution_count": null,
   "metadata": {},
   "outputs": [],
   "source": []
  },
  {
   "cell_type": "code",
   "execution_count": null,
   "metadata": {},
   "outputs": [],
   "source": []
  },
  {
   "cell_type": "code",
   "execution_count": null,
   "metadata": {},
   "outputs": [],
   "source": []
  },
  {
   "cell_type": "markdown",
   "metadata": {},
   "source": [
    "###### 数据分析"
   ]
  },
  {
   "cell_type": "code",
   "execution_count": null,
   "metadata": {},
   "outputs": [],
   "source": [
    "\"\"\"missingno\n",
    "缺失值可视化\"\"\"\n",
    "import numpy as np\n",
    "import pandas as pd\n",
    "import matplotlib.pyplot as plt\n",
    "import missingno as msno\n",
    "# help(msno.matrix)\n",
    "df = pd.DataFrame([[True,False,''],[np.nan,None,0]],columns=list('abc'))\n",
    "msno.matrix(df, figsize=(5,0.3),labels=True,fontsize=12,sparkline=True,width_ratios=(2,1),color=(0.1,0.2,1))"
   ]
  },
  {
   "cell_type": "code",
   "execution_count": null,
   "metadata": {},
   "outputs": [],
   "source": []
  },
  {
   "cell_type": "markdown",
   "metadata": {},
   "source": [
    "###### 机器学习"
   ]
  },
  {
   "cell_type": "code",
   "execution_count": null,
   "metadata": {},
   "outputs": [],
   "source": [
    "\"\"\"lightGBM\n",
    "调优经验\n",
    "https://blog.csdn.net/dzysunshine/article/details/92124011\n",
    "https://zhuanlan.zhihu.com/p/25308051\n",
    "https://www.jianshu.com/p/3f114699c6ed\n",
    "\"\"\"\n",
    "\"\"\"\n",
    "在jupyter页面训练时，下面的verbose参数一定要用False，否则会一直打印直到卡死页面。\n",
    "lgbm.fit(xtr, ytr, eval_set=[(xte, yte)], eval_metric='auc', verbose=False)\n",
    "\"\"\""
   ]
  },
  {
   "cell_type": "code",
   "execution_count": null,
   "metadata": {},
   "outputs": [],
   "source": [
    "\"\"\"imblearn\n",
    "解决样本不均衡，有smote方法\n",
    "项目地址\n",
    "https://github.com/scikit-learn-contrib/imbalanced-learn\n",
    "文档\n",
    "https://imbalanced-learn.org/stable/\n",
    "\"\"\"\n",
    "\"\"\"类别不均衡处理的相关文章\n",
    "https://blog.csdn.net/ODIMAYA/article/details/103126193\n",
    "https://www.cnblogs.com/massquantity/p/8550875.html\n",
    "https://www.cnblogs.com/massquantity/p/8592091.html\n",
    "https://www.cnblogs.com/massquantity/p/9382710.html\n",
    "https://www.jianshu.com/p/dfa37335ea8a\n",
    "\"\"\""
   ]
  },
  {
   "cell_type": "code",
   "execution_count": null,
   "metadata": {},
   "outputs": [],
   "source": [
    "\"\"\"mlflow\n",
    "机器学习部署\"\"\""
   ]
  },
  {
   "cell_type": "code",
   "execution_count": null,
   "metadata": {},
   "outputs": [],
   "source": [
    "\"\"\"statsmodels\n",
    "包含更多的“经典”频率学派统计方法，而贝叶斯方法和机器学习模型可在其他库中找到。\n",
    "包含在statsmodels中的一些模型：\n",
    "· 线性模型，广义线性模型和鲁棒线性模型\n",
    "· 线性混合效应模型\n",
    "· 方差分析（ANOVA）方法\n",
    "· 时间序列过程和状态空间模型\n",
    "· 广义的矩量法\n",
    "\"\"\""
   ]
  },
  {
   "cell_type": "code",
   "execution_count": null,
   "metadata": {},
   "outputs": [],
   "source": [
    "\"\"\"Boruta\n",
    "新的特征选择模块。比递归剔除更靠谱\n",
    "\"\"\""
   ]
  },
  {
   "cell_type": "code",
   "execution_count": null,
   "metadata": {},
   "outputs": [],
   "source": []
  },
  {
   "cell_type": "code",
   "execution_count": null,
   "metadata": {},
   "outputs": [],
   "source": []
  },
  {
   "cell_type": "code",
   "execution_count": null,
   "metadata": {},
   "outputs": [],
   "source": []
  },
  {
   "cell_type": "markdown",
   "metadata": {},
   "source": [
    "###### 其他"
   ]
  },
  {
   "cell_type": "code",
   "execution_count": null,
   "metadata": {},
   "outputs": [],
   "source": [
    "\"\"\"Pelican\n",
    "搭建静态博客\n",
    "https://www.jianshu.com/p/d80a5cefc128\n",
    "Pelican是一个用Python语言编写的静态网站生成器，支持使用restructuredText和Markdown写文章，\n",
    "\"\"\""
   ]
  },
  {
   "cell_type": "code",
   "execution_count": null,
   "metadata": {},
   "outputs": [],
   "source": [
    "\"\"\"pywin32\n",
    "控制win窗口。\"\"\""
   ]
  },
  {
   "cell_type": "markdown",
   "metadata": {},
   "source": [
    "###### 爬虫"
   ]
  },
  {
   "cell_type": "code",
   "execution_count": null,
   "metadata": {},
   "outputs": [],
   "source": [
    "\"\"\"scrapy\n",
    "爬虫必学库\"\"\""
   ]
  },
  {
   "cell_type": "code",
   "execution_count": null,
   "metadata": {},
   "outputs": [],
   "source": [
    "\"\"\"bs4\n",
    "HTML解析器\n",
    "https://www.cnblogs.com/zlc364624/p/12264070.html\n",
    "\"\"\"\n",
    "from bs4 import BeautifulSoup"
   ]
  },
  {
   "cell_type": "markdown",
   "metadata": {},
   "source": [
    "###### 绘图"
   ]
  },
  {
   "cell_type": "code",
   "execution_count": null,
   "metadata": {},
   "outputs": [],
   "source": [
    "\"\"\"basemap\n",
    "地图绘图基础库\n",
    "about basemap install method under linux  \n",
    "https://lumingdong.cn/install-basemap-under-linux.html  \n",
    "https://www.cnblogs.com/luochunxi/p/12891574.html\n",
    "\"\"\""
   ]
  }
 ],
 "metadata": {
  "kernelspec": {
   "display_name": "Python 3",
   "language": "python",
   "name": "python3"
  },
  "language_info": {
   "codemirror_mode": {
    "name": "ipython",
    "version": 3
   },
   "file_extension": ".py",
   "mimetype": "text/x-python",
   "name": "python",
   "nbconvert_exporter": "python",
   "pygments_lexer": "ipython3",
   "version": "3.7.3"
  }
 },
 "nbformat": 4,
 "nbformat_minor": 2
}
