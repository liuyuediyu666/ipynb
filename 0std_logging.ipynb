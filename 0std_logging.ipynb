{
 "cells": [
  {
   "cell_type": "code",
   "execution_count": null,
   "metadata": {},
   "outputs": [],
   "source": [
    "DEBUG：调试信息，通常在诊断问题的时候用得着；\n",
    "INFO：普通信息，确认程序安装预期运行；\n",
    "WARNING：警告信息，表示发生了意想不到的事情，或者指示接下来可能会出现一些问题，但是程序还是继续运行；\n",
    "ERROR：错误信息，程序运行中出现了一些问题，一些功能没有执行；\n",
    "CRITICAL：危险信息，一个严重的错误，导致程序无法继续运行。"
   ]
  },
  {
   "cell_type": "code",
   "execution_count": null,
   "metadata": {},
   "outputs": [],
   "source": [
    "%(asctime)s：日志创建时的普通时间；\n",
    "%(created)f：日志创建时的时间（由time.time()返回）；\n",
    "%(filename)s：文件名；\n",
    "%(funcName)s：调用日志记录的函数；\n",
    "%(levelname)s：日志消息的文本级别；\n",
    "%(levelno)s：日志消息的数字级别；\n",
    "%(lineno)d：调用日志消息的行号；\n",
    "%(msecs)d：创建时间的毫秒部分；\n",
    "%(message)s：日志消息；\n",
    "%(name)s：日志器的名称；\n",
    "%(module)s：表示当前模块名称\n",
    "%(pathname)s：记录日志的源文件的路径名；\n",
    "%(process)d：进程ID；\n",
    "%(processName)s：进程名；\n",
    "%(thread)d：线程ID；\n",
    "%(threadName)s：线程名；\n",
    "%(relativeCreated)d：创建日志记录的时间（以毫秒为单位）\n",
    "\n",
    "时间格式设定\n",
    "datefmt='%a, %d %b %Y %H:%M:%S +0000'\n",
    "datefmt='%d-%b-%y %H:%M:%S'\n",
    "datefmt的格式参：https://docs.python.org/3.6/library/time.html#time.strftime"
   ]
  },
  {
   "cell_type": "code",
   "execution_count": 3,
   "metadata": {},
   "outputs": [],
   "source": [
    "import logging"
   ]
  },
  {
   "cell_type": "code",
   "execution_count": 3,
   "metadata": {},
   "outputs": [
    {
     "name": "stderr",
     "output_type": "stream",
     "text": [
      "c:\\users\\dell\\anaconda3\\lib\\site-packages\\ipykernel\\__main__.py:10: DeprecationWarning: The 'warn' function is deprecated, use 'warning' instead\n"
     ]
    }
   ],
   "source": [
    "# 通过下面的方式进行简单配置输出方式与日志级别\n",
    "logging.basicConfig(filename='test.log',\n",
    "                    level=logging.DEBUG,\n",
    "                    filemode='w',\n",
    "                    format=\"%(asctime)s - %(levelname)s:%(message)s\",\n",
    "                    datefmt='%d-%b-%y %H:%M:%S')\n",
    "\n",
    "logging.debug('debug message')\n",
    "logging.info('info message')\n",
    "logging.warn('warn message')\n",
    "logging.error('error message')\n",
    "logging.critical('critical message')"
   ]
  },
  {
   "cell_type": "code",
   "execution_count": null,
   "metadata": {},
   "outputs": [],
   "source": [
    "\"\"\"通过getLogger指定logger的名称，名称可以在format中用%(name)s格式化输出。\n",
    "指定logger名称有一个好处是，在同一个程序的不同文件中引用相同名称的logger对应的是同一个实例，这有利于logging的跨文件调用。\n",
    "这里需要注意一点，基础level要设置比较低一些，后面handler设置的level只有比基础高才有效。\n",
    "\"\"\"\n",
    "logging.basicConfig(level=logging.INFO,\n",
    "                   format='%(name)s  %(asctime)s  %(message)s',\n",
    "                   datefmt='%a, %d %b %Y %H:%M:%S +0000')\n",
    "logger = logging.getLogger('mylogger')\n",
    "logger.setLevel(level=logging.INFO)\n",
    "handler = logging.FileHandler('my.log')\n",
    "formatter = logging.Formatter('%(asctime)s  %(message)s')\n",
    "handler.setFormatter(formatter)\n",
    "logger.addHandler(handler)\n",
    "\n",
    "logger.info('this is a info')\n",
    "\"\"\"在写一个项目时，需要编写多个文件，每个文件内都要设置相同格式的日志输出，\n",
    "如果每个文件都重新配置一遍就太麻烦了，logging模块为我们提供了一个简单的方法。\"\"\"\n",
    "# a.py文件设置如下\n",
    "import logging\n",
    "logging.basicConfig(level=logging.INFO,\n",
    "                   format='%(asctime)s  %(message)s',\n",
    "                   datefmt='%a, %d %b %Y %H:%M:%S +0000')\n",
    "logger = logging.getLogger('mainlogger')\n",
    "logger.info('main file log')\n",
    "#b.py文件中只要将logger名称设置为与a.py文件中logger名一致，就可以继承a.py文件中的配置了\n",
    "import logging\n",
    "logger = logging.getLogger('mainlogger.a')"
   ]
  },
  {
   "cell_type": "code",
   "execution_count": null,
   "metadata": {},
   "outputs": [],
   "source": [
    "\"\"\"捕获异常\n",
    "我们希望将程序的报错信息记录到log文件中\n",
    "其中exc_info的作用就是在日志中包含具体的报错信息，默认是False不包含。\n",
    "\"\"\"\n",
    "import logging\n",
    "logging.basicConfig(level=logging.INFO,\n",
    "                   format='%(asctime)s  %(message)s',\n",
    "                   datefmt='%a, %d %b %Y %H:%M:%S +0000')\n",
    "\n",
    "logging.info('this is a info')\n",
    "try:\n",
    "    do\n",
    "except Exception as e:\n",
    "    # bad\n",
    "    logging.error('There are something wrong: %s', e)\n",
    "    # good\n",
    "    logging.error('There are something wrong', exc_info=True)\n",
    "    # good\n",
    "    logging.exception('There are something wrong')\n",
    "\n",
    "logging.info('continue')\n",
    "\"\"\"第一种输出异常结果会是\n",
    "Sun, 01 Jul 2018 21:58:52 +0000  There are something wrong: name 'do' is not defined\n",
    "后两种输出异常结果会是\n",
    "Sun, 01 Jul 2018 21:58:52 +0000  There are something wrong\n",
    "Traceback (most recent call last):\n",
    "  File \"learn.py\", line 8, in <module>\n",
    "    do\n",
    "NameError: name 'do' is not defined\n",
    "\"\"\""
   ]
  },
  {
   "cell_type": "markdown",
   "metadata": {},
   "source": [
    "参考知乎大神\n",
    "https://zhuanlan.zhihu.com/p/38781838\n",
    "https://zhuanlan.zhihu.com/p/38782314\n",
    "https://zhuanlan.zhihu.com/p/23682543\n",
    "logging官方文档\n",
    "https://docs.python.org/3.5/library/logging.html"
   ]
  },
  {
   "cell_type": "code",
   "execution_count": null,
   "metadata": {},
   "outputs": [],
   "source": []
  },
  {
   "cell_type": "code",
   "execution_count": null,
   "metadata": {},
   "outputs": [],
   "source": []
  },
  {
   "cell_type": "code",
   "execution_count": null,
   "metadata": {},
   "outputs": [],
   "source": []
  }
 ],
 "metadata": {
  "kernelspec": {
   "display_name": "Python 3",
   "language": "python",
   "name": "python3"
  },
  "language_info": {
   "codemirror_mode": {
    "name": "ipython",
    "version": 3
   },
   "file_extension": ".py",
   "mimetype": "text/x-python",
   "name": "python",
   "nbconvert_exporter": "python",
   "pygments_lexer": "ipython3",
   "version": "3.6.0"
  }
 },
 "nbformat": 4,
 "nbformat_minor": 4
}
