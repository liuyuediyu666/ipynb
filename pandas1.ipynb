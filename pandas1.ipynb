{
 "cells": [
  {
   "cell_type": "code",
   "execution_count": 2,
   "metadata": {},
   "outputs": [],
   "source": [
    "import numpy as np\n",
    "import pandas as pd\n",
    "import datetime\n",
    "# help(pd.DataFrame([1]).duplicated)\n",
    "# help(pd.DataFrame([1]).index)"
   ]
  },
  {
   "cell_type": "code",
   "execution_count": 3,
   "metadata": {},
   "outputs": [],
   "source": [
    "\"\"\"pandas硬背。\n",
    "dataframe.to_csv存储时默认的encoding是utf8，如果有汉字且在excel打开时请指定GB2312。\n",
    "dataframe存储时默认加一列index，一般需指定index=False。\n",
    "dataframe存储时默认header=True，当header=False第一行变为header。注意header=n有歧义，当n=0时等价于header=False，当n!=0时等价于header=True，注意这个n不是指的第几行。\n",
    "pd.read_csv读取数据默认encoding是utf8。\n",
    "pd.read_csv读取数据时默认在原始数据前加一列索引，0开始递增。\n",
    "pd.read_csv读取数据时默认header=0，也就是原始数据第一行（通常是列名）。如果指写header=3则以第4行作为列名，且跳过前三行数据不读取（包括列名）。注意header不能赋值True或False。\n",
    "\"\"\""
   ]
  },
  {
   "cell_type": "code",
   "execution_count": null,
   "metadata": {},
   "outputs": [],
   "source": [
    "\"\"\"载入csv文件无法处理中文路径时，可令enging=‘python’，默认是C引擎\"\"\"\n",
    "pd.read_csv('path', enging='python', encoding='utf-8')"
   ]
  },
  {
   "cell_type": "code",
   "execution_count": null,
   "metadata": {},
   "outputs": [],
   "source": [
    "\"\"\"只读取部分列\"\"\"\n",
    "pd.read_csv(path, usecols=['cola','colb'])  # usecols也接受位置索引\n",
    "pd.read_parquet(path, columns=['cola','colb'])"
   ]
  },
  {
   "cell_type": "code",
   "execution_count": 13,
   "metadata": {},
   "outputs": [
    {
     "data": {
      "text/plain": [
       "DatetimeIndex(['2018-01-22', '2018-01-22', '2018-01-22'], dtype='datetime64[ns]', freq=None)"
      ]
     },
     "execution_count": 13,
     "metadata": {},
     "output_type": "execute_result"
    }
   ],
   "source": [
    "\"\"\"时间解析函数\"\"\"\n",
    "pd.to_datetime(['1/22/2018', np.datetime64('2018-01-22'),datetime.datetime(2018, 1, 22)])"
   ]
  },
  {
   "cell_type": "markdown",
   "metadata": {},
   "source": [
    "# dataframe"
   ]
  },
  {
   "cell_type": "markdown",
   "metadata": {},
   "source": [
    "### dataframe创建"
   ]
  },
  {
   "cell_type": "code",
   "execution_count": null,
   "metadata": {},
   "outputs": [],
   "source": [
    "\"\"\"用array创建, dtype参数只能是单值，然后赋值给所有列\"\"\"\n",
    "df = pd.DataFrame(np.arange(6).reshape(2, 3), columns=list('abc'), index=range(11,13), dtype='int')\n",
    "\"\"\"用列表或元组创建，里面可以是series, list, tuple, 单个值\"\"\"\n",
    "sr1 = pd.Series(list('xyz'),index=range(3))\n",
    "df = pd.DataFrame([[1,2,3],(11,12,13),sr1],columns=list('abc'),index=range(11,14), dtype='int')\n",
    "\"\"\"用字典创建，里面可以是series, list, tuple, 单个值\n",
    "通过字典创建时，若指定columns，冲突时以columns为准，仅columns有的设置为空列，仅字典有的不加入dataframe\n",
    "\"\"\"\n",
    "sr1 = pd.Series(list('abc'),index=range(3))\n",
    "sr2 = pd.Series(list('bcd'),index=range(1,4))\n",
    "df = pd.DataFrame({'xa':sr1,'xb':sr2,'xc':[11,22,33,44],'xd':(6,7,8,9)})\n",
    "\"\"\"df和dict多种转换方法，orient参数有‘dict’, ‘list’, ‘series’, ‘split’, ‘records’, ‘index’\"\"\"\n",
    "df.to_dict(orient=dict)\n",
    "pd.DataFrame.from_dict(dic, orient='index',columns=[])"
   ]
  },
  {
   "cell_type": "markdown",
   "metadata": {},
   "source": [
    "### dataframe 索引"
   ]
  },
  {
   "cell_type": "code",
   "execution_count": 19,
   "metadata": {},
   "outputs": [
    {
     "data": {
      "text/html": [
       "<div>\n",
       "<style scoped>\n",
       "    .dataframe tbody tr th:only-of-type {\n",
       "        vertical-align: middle;\n",
       "    }\n",
       "\n",
       "    .dataframe tbody tr th {\n",
       "        vertical-align: top;\n",
       "    }\n",
       "\n",
       "    .dataframe thead th {\n",
       "        text-align: right;\n",
       "    }\n",
       "</style>\n",
       "<table border=\"1\" class=\"dataframe\">\n",
       "  <thead>\n",
       "    <tr style=\"text-align: right;\">\n",
       "      <th>colname</th>\n",
       "      <th>0</th>\n",
       "    </tr>\n",
       "    <tr>\n",
       "      <th>indname</th>\n",
       "      <th></th>\n",
       "    </tr>\n",
       "  </thead>\n",
       "  <tbody>\n",
       "    <tr>\n",
       "      <th>0</th>\n",
       "      <td>1</td>\n",
       "    </tr>\n",
       "  </tbody>\n",
       "</table>\n",
       "</div>"
      ],
      "text/plain": [
       "colname  0\n",
       "indname   \n",
       "0        1"
      ]
     },
     "execution_count": 19,
     "metadata": {},
     "output_type": "execute_result"
    }
   ],
   "source": [
    "df1 = pd.DataFrame([1])\n",
    "\"\"\"init defult None, can assignment a string\"\"\"\n",
    "df1.columns.name\n",
    "df1.columns.name = 'colname'\n",
    "\"\"\"init defult None, can assignment a string\"\"\"\n",
    "df1.index.name\n",
    "df1.index.name = 'indname'\n",
    "\"\"\"return index object\"\"\"\n",
    "df1.columns\n",
    "\"\"\"return index object\"\"\"\n",
    "df1.index\n",
    "df1"
   ]
  },
  {
   "cell_type": "code",
   "execution_count": 20,
   "metadata": {},
   "outputs": [
    {
     "data": {
      "text/html": [
       "<div>\n",
       "<style scoped>\n",
       "    .dataframe tbody tr th:only-of-type {\n",
       "        vertical-align: middle;\n",
       "    }\n",
       "\n",
       "    .dataframe tbody tr th {\n",
       "        vertical-align: top;\n",
       "    }\n",
       "\n",
       "    .dataframe thead th {\n",
       "        text-align: right;\n",
       "    }\n",
       "</style>\n",
       "<table border=\"1\" class=\"dataframe\">\n",
       "  <thead>\n",
       "    <tr style=\"text-align: right;\">\n",
       "      <th></th>\n",
       "      <th>x</th>\n",
       "    </tr>\n",
       "  </thead>\n",
       "  <tbody>\n",
       "    <tr>\n",
       "      <th>a</th>\n",
       "      <td>1</td>\n",
       "    </tr>\n",
       "  </tbody>\n",
       "</table>\n",
       "</div>"
      ],
      "text/plain": [
       "   x\n",
       "a  1"
      ]
     },
     "execution_count": 20,
     "metadata": {},
     "output_type": "execute_result"
    }
   ],
   "source": [
    "\"\"\"modify in place, and delete columns.name\"\"\"\n",
    "df1.columns = list('x')\n",
    "\"\"\"modify in place, and delete index.name\"\"\"\n",
    "df1.index = list('a')\n",
    "df1"
   ]
  },
  {
   "cell_type": "code",
   "execution_count": 21,
   "metadata": {},
   "outputs": [
    {
     "data": {
      "text/html": [
       "<div>\n",
       "<style scoped>\n",
       "    .dataframe tbody tr th:only-of-type {\n",
       "        vertical-align: middle;\n",
       "    }\n",
       "\n",
       "    .dataframe tbody tr th {\n",
       "        vertical-align: top;\n",
       "    }\n",
       "\n",
       "    .dataframe thead th {\n",
       "        text-align: right;\n",
       "    }\n",
       "</style>\n",
       "<table border=\"1\" class=\"dataframe\">\n",
       "  <thead>\n",
       "    <tr style=\"text-align: right;\">\n",
       "      <th></th>\n",
       "      <th>w_x</th>\n",
       "    </tr>\n",
       "  </thead>\n",
       "  <tbody>\n",
       "    <tr>\n",
       "      <th>a</th>\n",
       "      <td>1</td>\n",
       "    </tr>\n",
       "  </tbody>\n",
       "</table>\n",
       "</div>"
      ],
      "text/plain": [
       "   w_x\n",
       "a    1"
      ]
     },
     "execution_count": 21,
     "metadata": {},
     "output_type": "execute_result"
    }
   ],
   "source": [
    "\"\"\"return list\"\"\"\n",
    "list(df1)  # return list of columns\n",
    "\"\"\"create new\"\"\"\n",
    "df2 = df1.add_prefix('w_')\n",
    "df2"
   ]
  },
  {
   "cell_type": "code",
   "execution_count": 22,
   "metadata": {},
   "outputs": [
    {
     "data": {
      "text/plain": [
       "'zabc'"
      ]
     },
     "execution_count": 22,
     "metadata": {},
     "output_type": "execute_result"
    }
   ],
   "source": [
    "\"\"\"columns mast be pure numbers or pure strings\"\"\"\n",
    "df1 = pd.DataFrame([[1,2,3]],columns=['abc','zabc','zaaa'])\n",
    "max(df1)"
   ]
  },
  {
   "cell_type": "markdown",
   "metadata": {},
   "source": [
    "### copy操作"
   ]
  },
  {
   "cell_type": "code",
   "execution_count": 26,
   "metadata": {},
   "outputs": [
    {
     "data": {
      "text/html": [
       "<div>\n",
       "<style scoped>\n",
       "    .dataframe tbody tr th:only-of-type {\n",
       "        vertical-align: middle;\n",
       "    }\n",
       "\n",
       "    .dataframe tbody tr th {\n",
       "        vertical-align: top;\n",
       "    }\n",
       "\n",
       "    .dataframe thead th {\n",
       "        text-align: right;\n",
       "    }\n",
       "</style>\n",
       "<table border=\"1\" class=\"dataframe\">\n",
       "  <thead>\n",
       "    <tr style=\"text-align: right;\">\n",
       "      <th></th>\n",
       "      <th>0</th>\n",
       "      <th>a</th>\n",
       "    </tr>\n",
       "  </thead>\n",
       "  <tbody>\n",
       "    <tr>\n",
       "      <th>0</th>\n",
       "      <td>1</td>\n",
       "      <td>66</td>\n",
       "    </tr>\n",
       "    <tr>\n",
       "      <th>1</th>\n",
       "      <td>11</td>\n",
       "      <td>66</td>\n",
       "    </tr>\n",
       "  </tbody>\n",
       "</table>\n",
       "</div>"
      ],
      "text/plain": [
       "    0   a\n",
       "0   1  66\n",
       "1  11  66"
      ]
     },
     "execution_count": 26,
     "metadata": {},
     "output_type": "execute_result"
    }
   ],
   "source": [
    "df1 = pd.DataFrame([1,11])\n",
    "\"\"\"df1 and df2 point to the same location\"\"\"\n",
    "df2 = df1; df2['a'] = 66; df1"
   ]
  },
  {
   "cell_type": "code",
   "execution_count": 25,
   "metadata": {},
   "outputs": [],
   "source": [
    "\"\"\"df2 and df1 point to different location\"\"\"\n",
    "df2 = df1.copy()"
   ]
  },
  {
   "cell_type": "markdown",
   "metadata": {},
   "source": [
    "### slice操作"
   ]
  },
  {
   "cell_type": "code",
   "execution_count": 5,
   "metadata": {},
   "outputs": [
    {
     "data": {
      "text/plain": [
       "1    4\n",
       "2    5\n",
       "c    6\n",
       "Name: 1, dtype: int32"
      ]
     },
     "execution_count": 5,
     "metadata": {},
     "output_type": "execute_result"
    }
   ],
   "source": [
    "df1 = pd.DataFrame([[4,5,6],[44,55,66]],columns=[1, 2, 'c'], index=range(1,3), dtype='int')\n",
    "\"\"\"df1.loc[:, 'c']\n",
    "by columns, label based(only string), return series\n",
    "\"\"\"\n",
    "df1.c\n",
    "\"\"\"df1.loc[:, 1]\n",
    "by columns, label based, return series\n",
    "\"\"\"\n",
    "df1[1]\n",
    "\"\"\"df1.loc[:, [1]]\n",
    "by columns, label based, return dataframe\n",
    "\"\"\"\n",
    "df1[[1]]\n",
    "\"\"\"df1.iloc[:1]\n",
    "by rows, positional based, return dataframe\n",
    "\"\"\"\n",
    "df1[:1]\n",
    "\"\"\"df1.iloc[[1]]\n",
    "by rows, positional based(can't use \":\"), return dataframe\n",
    "\"\"\"\n",
    "df1.take([1])\n",
    "\"\"\"df1.loc[1]\n",
    "by row(one row each time), label based, return series\n",
    "\"\"\"\n",
    "df1.xs(1)"
   ]
  },
  {
   "cell_type": "code",
   "execution_count": 7,
   "metadata": {},
   "outputs": [],
   "source": [
    "\"\"\"filter可对行、列索引筛选，支持正则表达示切片。修改切片后数据对原dataframe无影响。\"\"\"\n",
    "df1 = pd.DataFrame(np.arange(9).reshape(3, 3), columns=['ca','cb','x'], index=['ia','ib','y'], dtype='int')\n",
    "\"\"\"筛选列表中的columns\"\"\"\n",
    "df1.filter(items=['a','x'], axis=1)\n",
    "\"\"\"筛选column包含某字符串的列\"\"\"\n",
    "df1.filter(like='c', axis=1)\n",
    "\"\"\"正则匹配对行索引筛选\"\"\"\n",
    "df1.filter(regex='i+', axis=0)\n",
    "\"\"\"利用difference来排除不需要的行或列。修改切片后数据对原dataframe无影响。这里index.difference未举例，同理\"\"\"\n",
    "df1 = pd.DataFrame(np.arange(9).reshape(3, 3), columns=['ca','cb','x'], index=['ia','ib','y'], dtype='int')\n",
    "_ = df1[df1.columns.difference(['ca','x'], sort=False)]  # 通过sort=False可以避免打乱原始的列的顺序"
   ]
  },
  {
   "cell_type": "markdown",
   "metadata": {},
   "source": [
    "### loc和iloc操作"
   ]
  },
  {
   "cell_type": "code",
   "execution_count": 48,
   "metadata": {},
   "outputs": [
    {
     "data": {
      "text/html": [
       "<div>\n",
       "<style scoped>\n",
       "    .dataframe tbody tr th:only-of-type {\n",
       "        vertical-align: middle;\n",
       "    }\n",
       "\n",
       "    .dataframe tbody tr th {\n",
       "        vertical-align: top;\n",
       "    }\n",
       "\n",
       "    .dataframe thead th {\n",
       "        text-align: right;\n",
       "    }\n",
       "</style>\n",
       "<table border=\"1\" class=\"dataframe\">\n",
       "  <thead>\n",
       "    <tr style=\"text-align: right;\">\n",
       "      <th></th>\n",
       "      <th>x</th>\n",
       "      <th>x</th>\n",
       "    </tr>\n",
       "  </thead>\n",
       "  <tbody>\n",
       "    <tr>\n",
       "      <th>a</th>\n",
       "      <td>22</td>\n",
       "      <td>22</td>\n",
       "    </tr>\n",
       "    <tr>\n",
       "      <th>a</th>\n",
       "      <td>22</td>\n",
       "      <td>22</td>\n",
       "    </tr>\n",
       "  </tbody>\n",
       "</table>\n",
       "</div>"
      ],
      "text/plain": [
       "    x   x\n",
       "a  22  22\n",
       "a  22  22"
      ]
     },
     "execution_count": 48,
     "metadata": {},
     "output_type": "execute_result"
    }
   ],
   "source": [
    "dfloc = pd.DataFrame([[1,2,3],[11,22,33],[111,222,333]], columns=list('zxy'), index=list('cab'))  # the dtype parameter assignment all columns\n",
    "dfloc.loc['a']\n",
    "dfloc.loc[:'a']\n",
    "dfloc.loc[['a']]\n",
    "dfloc.loc[:, 'x']\n",
    "dfloc.loc[:, :'x']\n",
    "dfloc.loc[:, ['x']]\n",
    "dfloc.loc['a', 'x']\n",
    "dfloc.loc['a', :'x']\n",
    "dfloc.loc['a', ['x', 'x']]\n",
    "dfloc.loc[:'a', :'x']\n",
    "dfloc.loc[:'a', ['x', 'x']]\n",
    "dfloc.loc[['a', 'a'], ['x', 'x']]"
   ]
  },
  {
   "cell_type": "code",
   "execution_count": 50,
   "metadata": {},
   "outputs": [
    {
     "data": {
      "text/html": [
       "<div>\n",
       "<style scoped>\n",
       "    .dataframe tbody tr th:only-of-type {\n",
       "        vertical-align: middle;\n",
       "    }\n",
       "\n",
       "    .dataframe tbody tr th {\n",
       "        vertical-align: top;\n",
       "    }\n",
       "\n",
       "    .dataframe thead th {\n",
       "        text-align: right;\n",
       "    }\n",
       "</style>\n",
       "<table border=\"1\" class=\"dataframe\">\n",
       "  <thead>\n",
       "    <tr style=\"text-align: right;\">\n",
       "      <th></th>\n",
       "      <th>y</th>\n",
       "      <th>y</th>\n",
       "    </tr>\n",
       "  </thead>\n",
       "  <tbody>\n",
       "    <tr>\n",
       "      <th>b</th>\n",
       "      <td>55</td>\n",
       "      <td>55</td>\n",
       "    </tr>\n",
       "    <tr>\n",
       "      <th>b</th>\n",
       "      <td>55</td>\n",
       "      <td>55</td>\n",
       "    </tr>\n",
       "  </tbody>\n",
       "</table>\n",
       "</div>"
      ],
      "text/plain": [
       "    y   y\n",
       "b  55  55\n",
       "b  55  55"
      ]
     },
     "execution_count": 50,
     "metadata": {},
     "output_type": "execute_result"
    }
   ],
   "source": [
    "dfiloc = pd.DataFrame([[4,5,6],[44,55,66]], columns=list('xyz'), index=list('ab')); dfiloc\n",
    "dfiloc.iloc[1]\n",
    "dfiloc.iloc[:1]\n",
    "dfiloc.iloc[[1]]\n",
    "dfiloc.iloc[:, 1]\n",
    "dfiloc.iloc[:, :1]\n",
    "dfiloc.iloc[:, [1]]\n",
    "dfiloc.iloc[1, 1]\n",
    "dfiloc.iloc[1, :1]\n",
    "dfiloc.iloc[1, [1, 1]]\n",
    "dfiloc.iloc[:1, :1]\n",
    "dfiloc.iloc[:1, [1,1]]\n",
    "dfiloc.iloc[[1, 1], [1, 1]]"
   ]
  },
  {
   "cell_type": "code",
   "execution_count": 47,
   "metadata": {},
   "outputs": [],
   "source": [
    "\"\"\"关于使用loc索引数值时的两个坑\"\"\"\n",
    "\"\"\"即使str(9)作为索引，dataframe也会按照number来处理，与9无区别\"\"\"\n",
    "dfloc_ = pd.DataFrame([[1,2,3],[11,22,33],[111,222,333]], columns=[6, 'a', str(9)], index=[11, 11, 22])  # mixed index of number and string "
   ]
  },
  {
   "cell_type": "code",
   "execution_count": 48,
   "metadata": {},
   "outputs": [
    {
     "data": {
      "text/html": [
       "<div>\n",
       "<style scoped>\n",
       "    .dataframe tbody tr th:only-of-type {\n",
       "        vertical-align: middle;\n",
       "    }\n",
       "\n",
       "    .dataframe tbody tr th {\n",
       "        vertical-align: top;\n",
       "    }\n",
       "\n",
       "    .dataframe thead th {\n",
       "        text-align: right;\n",
       "    }\n",
       "</style>\n",
       "<table border=\"1\" class=\"dataframe\">\n",
       "  <thead>\n",
       "    <tr style=\"text-align: right;\">\n",
       "      <th></th>\n",
       "      <th>6</th>\n",
       "      <th>a</th>\n",
       "      <th>9</th>\n",
       "    </tr>\n",
       "  </thead>\n",
       "  <tbody>\n",
       "    <tr>\n",
       "      <th>11</th>\n",
       "      <td>1</td>\n",
       "      <td>2</td>\n",
       "      <td>3</td>\n",
       "    </tr>\n",
       "    <tr>\n",
       "      <th>11</th>\n",
       "      <td>11</td>\n",
       "      <td>22</td>\n",
       "      <td>33</td>\n",
       "    </tr>\n",
       "  </tbody>\n",
       "</table>\n",
       "</div>"
      ],
      "text/plain": [
       "     6   a   9\n",
       "11   1   2   3\n",
       "11  11  22  33"
      ]
     },
     "execution_count": 48,
     "metadata": {},
     "output_type": "execute_result"
    }
   ],
   "source": [
    "\"\"\"坑1：当行列索引为纯number组成时，并且按位置排序时索引的number不减少（递增或不减）时，则帽号前后的数字可不在现有索引中，dataframe会按数值来比较大小进行切片。\n",
    "如果纯number组成的索引出现递减的情况，帽号前后使用索引之外的数字会报错KeyError\"\"\"\n",
    "dfloc_.loc[1:12]"
   ]
  },
  {
   "cell_type": "code",
   "execution_count": 49,
   "metadata": {},
   "outputs": [
    {
     "data": {
      "text/html": [
       "<div>\n",
       "<style scoped>\n",
       "    .dataframe tbody tr th:only-of-type {\n",
       "        vertical-align: middle;\n",
       "    }\n",
       "\n",
       "    .dataframe tbody tr th {\n",
       "        vertical-align: top;\n",
       "    }\n",
       "\n",
       "    .dataframe thead th {\n",
       "        text-align: right;\n",
       "    }\n",
       "</style>\n",
       "<table border=\"1\" class=\"dataframe\">\n",
       "  <thead>\n",
       "    <tr style=\"text-align: right;\">\n",
       "      <th></th>\n",
       "      <th>6</th>\n",
       "      <th>a</th>\n",
       "    </tr>\n",
       "  </thead>\n",
       "  <tbody>\n",
       "    <tr>\n",
       "      <th>11</th>\n",
       "      <td>1</td>\n",
       "      <td>2</td>\n",
       "    </tr>\n",
       "    <tr>\n",
       "      <th>11</th>\n",
       "      <td>11</td>\n",
       "      <td>22</td>\n",
       "    </tr>\n",
       "  </tbody>\n",
       "</table>\n",
       "</div>"
      ],
      "text/plain": [
       "     6   a\n",
       "11   1   2\n",
       "11  11  22"
      ]
     },
     "execution_count": 49,
     "metadata": {},
     "output_type": "execute_result"
    }
   ],
   "source": [
    "\"\"\"坑2：当两种条件同时满足会报错：数字和字母混合索引，帽号前后是数字。比如df2.loc[:,:9], 会报错TypeError\"\"\"\n",
    "dfloc_.loc[:11,:'a']"
   ]
  },
  {
   "cell_type": "markdown",
   "metadata": {},
   "source": [
    "### at和iat操作"
   ]
  },
  {
   "cell_type": "code",
   "execution_count": 11,
   "metadata": {},
   "outputs": [
    {
     "name": "stdout",
     "output_type": "stream",
     "text": [
      "       1     2     c\n",
      "1  111.0   5.0   6.0\n",
      "2   44.0  55.0  66.0\n",
      "       1      2     c\n",
      "1  111.0    5.0   6.0\n",
      "2   44.0  222.0  66.0\n"
     ]
    }
   ],
   "source": [
    "df1 = pd.DataFrame([[4,5,6],[44,55,66]], columns=[1, 2, 'c'], index=range(1,3), dtype='float')  # the dtype parameter assignment all columns\n",
    "df1.at[1,1]  #  by cell, label based, return value\n",
    "df1.iat[1,1]  #  by cell, positional based, return value\n",
    "df1.at[1,1] = 111  # modify in place, label based\n",
    "print(df1)\n",
    "df1.iat[1,1] = 222  # modify in place, positional based\n",
    "print(df1)"
   ]
  },
  {
   "cell_type": "markdown",
   "metadata": {},
   "source": [
    "### 赋值或新增"
   ]
  },
  {
   "cell_type": "code",
   "execution_count": 12,
   "metadata": {},
   "outputs": [
    {
     "data": {
      "text/plain": [
       "1    111\n",
       "2      x\n",
       "c      x\n",
       "Name: 1, dtype: object"
      ]
     },
     "execution_count": 12,
     "metadata": {},
     "output_type": "execute_result"
    }
   ],
   "source": [
    "df1 = pd.DataFrame([[4,5,6],[44,55,66]],columns=[1, 2, 'c'], index=range(1,3), dtype='int')  # the dtype parameter assignment all columns\n",
    "\"\"\"以下赋值均为in place, broadcast\"\"\"\n",
    "df1.c = 'x'\n",
    "df1[1] = 'x'\n",
    "df1[[1]] = 'x'\n",
    "df1[:1] = 'x'\n",
    "df1.loc[1] = 'x'\n",
    "df1.loc[[1]] = 'x'\n",
    "df1.iloc[1] = 'x'\n",
    "df1.iloc[[1]] = 'x'\n",
    "\"\"\"注意at只改变1个值，这个新值的数据类型不能与原来列的数据类型冲突\"\"\"\n",
    "df1.at[1,1] = 111\n",
    "df1.iat[1,1] = 222\n",
    "\"\"\"不可以赋值，因为是function call\"\"\"\n",
    "df1.take([1])  # 对新得到的dataframe赋值，不会改变原来的df1\n",
    "df1.xs(1)  # 对新得到的series赋值，会改变原来的df1"
   ]
  },
  {
   "cell_type": "code",
   "execution_count": 13,
   "metadata": {},
   "outputs": [
    {
     "data": {
      "text/html": [
       "<div>\n",
       "<style scoped>\n",
       "    .dataframe tbody tr th:only-of-type {\n",
       "        vertical-align: middle;\n",
       "    }\n",
       "\n",
       "    .dataframe tbody tr th {\n",
       "        vertical-align: top;\n",
       "    }\n",
       "\n",
       "    .dataframe thead th {\n",
       "        text-align: right;\n",
       "    }\n",
       "</style>\n",
       "<table border=\"1\" class=\"dataframe\">\n",
       "  <thead>\n",
       "    <tr style=\"text-align: right;\">\n",
       "      <th></th>\n",
       "      <th>1</th>\n",
       "      <th>2</th>\n",
       "      <th>c</th>\n",
       "      <th>d</th>\n",
       "      <th>e</th>\n",
       "    </tr>\n",
       "  </thead>\n",
       "  <tbody>\n",
       "    <tr>\n",
       "      <th>1</th>\n",
       "      <td>list</td>\n",
       "      <td>list</td>\n",
       "      <td>list</td>\n",
       "      <td>list</td>\n",
       "      <td>np</td>\n",
       "    </tr>\n",
       "    <tr>\n",
       "      <th>2</th>\n",
       "      <td>tuple</td>\n",
       "      <td>tuple</td>\n",
       "      <td>tuple</td>\n",
       "      <td>tuple</td>\n",
       "      <td>np</td>\n",
       "    </tr>\n",
       "    <tr>\n",
       "      <th>0</th>\n",
       "      <td>np</td>\n",
       "      <td>np</td>\n",
       "      <td>np</td>\n",
       "      <td>np</td>\n",
       "      <td>np</td>\n",
       "    </tr>\n",
       "  </tbody>\n",
       "</table>\n",
       "</div>"
      ],
      "text/plain": [
       "       1      2      c      d   e\n",
       "1   list   list   list   list  np\n",
       "2  tuple  tuple  tuple  tuple  np\n",
       "0     np     np     np     np  np"
      ]
     },
     "execution_count": 13,
     "metadata": {},
     "output_type": "execute_result"
    }
   ],
   "source": [
    "df1 = pd.DataFrame([[4,5,6,7],[44,55,66,77]],columns=[1, 2, 'c', 'd'], index=range(1,3), dtype='int')  # the dtype parameter assignment all columns\n",
    "\"\"\"ndarray,list,tuple均不能广播，但是tuple一个元素的时候可以广播\"\"\"\n",
    "df1.loc[1] = ['list','list','list','list']; df1\n",
    "df1.loc[2] = ('tuple','tuple','tuple','tuple'); df1\n",
    "df1.loc[0] = np.array(['np', 'np', 'np', 'np']); df1\n",
    "df1.loc[:,'e'] = np.array(['np', 'np', 'np']); df1"
   ]
  },
  {
   "cell_type": "code",
   "execution_count": 72,
   "metadata": {},
   "outputs": [
    {
     "data": {
      "text/html": [
       "<div>\n",
       "<style scoped>\n",
       "    .dataframe tbody tr th:only-of-type {\n",
       "        vertical-align: middle;\n",
       "    }\n",
       "\n",
       "    .dataframe tbody tr th {\n",
       "        vertical-align: top;\n",
       "    }\n",
       "\n",
       "    .dataframe thead th {\n",
       "        text-align: right;\n",
       "    }\n",
       "</style>\n",
       "<table border=\"1\" class=\"dataframe\">\n",
       "  <thead>\n",
       "    <tr style=\"text-align: right;\">\n",
       "      <th></th>\n",
       "      <th>1</th>\n",
       "      <th>2</th>\n",
       "      <th>c</th>\n",
       "      <th>d</th>\n",
       "      <th>e</th>\n",
       "    </tr>\n",
       "  </thead>\n",
       "  <tbody>\n",
       "    <tr>\n",
       "      <th>1</th>\n",
       "      <td>lst</td>\n",
       "      <td>lst</td>\n",
       "      <td>list</td>\n",
       "      <td>nmpy</td>\n",
       "      <td>nmpy</td>\n",
       "    </tr>\n",
       "    <tr>\n",
       "      <th>2</th>\n",
       "      <td>lst</td>\n",
       "      <td>lst</td>\n",
       "      <td>tuple</td>\n",
       "      <td>nmpy</td>\n",
       "      <td>nmpy</td>\n",
       "    </tr>\n",
       "    <tr>\n",
       "      <th>0</th>\n",
       "      <td>np</td>\n",
       "      <td>np</td>\n",
       "      <td>np</td>\n",
       "      <td>np</td>\n",
       "      <td>np</td>\n",
       "    </tr>\n",
       "  </tbody>\n",
       "</table>\n",
       "</div>"
      ],
      "text/plain": [
       "     1    2      c     d     e\n",
       "1  lst  lst   list  nmpy  nmpy\n",
       "2  lst  lst  tuple  nmpy  nmpy\n",
       "0   np   np     np    np    np"
      ]
     },
     "execution_count": 72,
     "metadata": {},
     "output_type": "execute_result"
    }
   ],
   "source": [
    "\"\"\"ndarray,list,tuple也可以按区块赋值\"\"\"\n",
    "df1.loc[[1,2],['d','e']] = np.array([['nmpy','nmpy'],['nmpy','nmpy']])\n",
    "df1.loc[[1,2],[1,2]] = [['lst','lst'],['lst','lst']]; df1"
   ]
  },
  {
   "cell_type": "code",
   "execution_count": 73,
   "metadata": {},
   "outputs": [
    {
     "data": {
      "text/html": [
       "<div>\n",
       "<style scoped>\n",
       "    .dataframe tbody tr th:only-of-type {\n",
       "        vertical-align: middle;\n",
       "    }\n",
       "\n",
       "    .dataframe tbody tr th {\n",
       "        vertical-align: top;\n",
       "    }\n",
       "\n",
       "    .dataframe thead th {\n",
       "        text-align: right;\n",
       "    }\n",
       "</style>\n",
       "<table border=\"1\" class=\"dataframe\">\n",
       "  <thead>\n",
       "    <tr style=\"text-align: right;\">\n",
       "      <th></th>\n",
       "      <th>1</th>\n",
       "      <th>2</th>\n",
       "      <th>c</th>\n",
       "      <th>d</th>\n",
       "      <th>e</th>\n",
       "    </tr>\n",
       "  </thead>\n",
       "  <tbody>\n",
       "    <tr>\n",
       "      <th>1</th>\n",
       "      <td>dict</td>\n",
       "      <td>dict</td>\n",
       "      <td>NaN</td>\n",
       "      <td>NaN</td>\n",
       "      <td>NaN</td>\n",
       "    </tr>\n",
       "    <tr>\n",
       "      <th>2</th>\n",
       "      <td>series</td>\n",
       "      <td>NaN</td>\n",
       "      <td>series</td>\n",
       "      <td>NaN</td>\n",
       "      <td>series</td>\n",
       "    </tr>\n",
       "    <tr>\n",
       "      <th>0</th>\n",
       "      <td>np</td>\n",
       "      <td>np</td>\n",
       "      <td>np</td>\n",
       "      <td>np</td>\n",
       "      <td>np</td>\n",
       "    </tr>\n",
       "  </tbody>\n",
       "</table>\n",
       "</div>"
      ],
      "text/plain": [
       "        1     2       c    d       e\n",
       "1    dict  dict     NaN  NaN     NaN\n",
       "2  series   NaN  series  NaN  series\n",
       "0      np    np      np   np      np"
      ]
     },
     "execution_count": 73,
     "metadata": {},
     "output_type": "execute_result"
    }
   ],
   "source": [
    "\"\"\"dict, series按索引精确匹配，多出来的丢弃，缺失的填NaN\"\"\"\n",
    "df1.loc[1] = {1:'dict',2:'dict',3:'dict'}\n",
    "df1.loc[2] = pd.Series(['series','series','series'], index=[1,'c','e'])\n",
    "df1"
   ]
  },
  {
   "cell_type": "code",
   "execution_count": 74,
   "metadata": {},
   "outputs": [
    {
     "data": {
      "text/html": [
       "<div>\n",
       "<style scoped>\n",
       "    .dataframe tbody tr th:only-of-type {\n",
       "        vertical-align: middle;\n",
       "    }\n",
       "\n",
       "    .dataframe tbody tr th {\n",
       "        vertical-align: top;\n",
       "    }\n",
       "\n",
       "    .dataframe thead th {\n",
       "        text-align: right;\n",
       "    }\n",
       "</style>\n",
       "<table border=\"1\" class=\"dataframe\">\n",
       "  <thead>\n",
       "    <tr style=\"text-align: right;\">\n",
       "      <th></th>\n",
       "      <th>1</th>\n",
       "      <th>2</th>\n",
       "      <th>c</th>\n",
       "      <th>d</th>\n",
       "      <th>e</th>\n",
       "    </tr>\n",
       "  </thead>\n",
       "  <tbody>\n",
       "    <tr>\n",
       "      <th>1</th>\n",
       "      <td>NaN</td>\n",
       "      <td>NaN</td>\n",
       "      <td>NaN</td>\n",
       "      <td>NaN</td>\n",
       "      <td>NaN</td>\n",
       "    </tr>\n",
       "    <tr>\n",
       "      <th>2</th>\n",
       "      <td>pandas</td>\n",
       "      <td>NaN</td>\n",
       "      <td>pandas</td>\n",
       "      <td>NaN</td>\n",
       "      <td>series</td>\n",
       "    </tr>\n",
       "    <tr>\n",
       "      <th>0</th>\n",
       "      <td>NaN</td>\n",
       "      <td>NaN</td>\n",
       "      <td>NaN</td>\n",
       "      <td>np</td>\n",
       "      <td>np</td>\n",
       "    </tr>\n",
       "  </tbody>\n",
       "</table>\n",
       "</div>"
      ],
      "text/plain": [
       "        1    2       c    d       e\n",
       "1     NaN  NaN     NaN  NaN     NaN\n",
       "2  pandas  NaN  pandas  NaN  series\n",
       "0     NaN  NaN     NaN   np      np"
      ]
     },
     "execution_count": 74,
     "metadata": {},
     "output_type": "execute_result"
    }
   ],
   "source": [
    "\"\"\"Pandas赋值是精确匹配行列索引的，只测试了下面的例子\"\"\"\n",
    "pd2 = pd.DataFrame({1:['pandas', 'pandas'], 'c':['pandas', 'pandas']}, index=[2,3])\n",
    "df1.loc[:,[1,2,'c']] = pd2\n",
    "df1"
   ]
  },
  {
   "cell_type": "code",
   "execution_count": 14,
   "metadata": {},
   "outputs": [
    {
     "data": {
      "text/html": [
       "<div>\n",
       "<style scoped>\n",
       "    .dataframe tbody tr th:only-of-type {\n",
       "        vertical-align: middle;\n",
       "    }\n",
       "\n",
       "    .dataframe tbody tr th {\n",
       "        vertical-align: top;\n",
       "    }\n",
       "\n",
       "    .dataframe thead th {\n",
       "        text-align: right;\n",
       "    }\n",
       "</style>\n",
       "<table border=\"1\" class=\"dataframe\">\n",
       "  <thead>\n",
       "    <tr style=\"text-align: right;\">\n",
       "      <th></th>\n",
       "      <th>1</th>\n",
       "      <th>2</th>\n",
       "      <th>3</th>\n",
       "      <th>a</th>\n",
       "      <th>b</th>\n",
       "    </tr>\n",
       "  </thead>\n",
       "  <tbody>\n",
       "    <tr>\n",
       "      <th>1</th>\n",
       "      <td>4</td>\n",
       "      <td>5</td>\n",
       "      <td>6</td>\n",
       "      <td>1</td>\n",
       "      <td>1</td>\n",
       "    </tr>\n",
       "    <tr>\n",
       "      <th>2</th>\n",
       "      <td>44</td>\n",
       "      <td>55</td>\n",
       "      <td>66</td>\n",
       "      <td>1</td>\n",
       "      <td>1</td>\n",
       "    </tr>\n",
       "    <tr>\n",
       "      <th>66</th>\n",
       "      <td>1</td>\n",
       "      <td>2</td>\n",
       "      <td>3</td>\n",
       "      <td>4</td>\n",
       "      <td>5</td>\n",
       "    </tr>\n",
       "  </tbody>\n",
       "</table>\n",
       "</div>"
      ],
      "text/plain": [
       "     1   2   3  a  b\n",
       "1    4   5   6  1  1\n",
       "2   44  55  66  1  1\n",
       "66   1   2   3  4  5"
      ]
     },
     "execution_count": 14,
     "metadata": {},
     "output_type": "execute_result"
    }
   ],
   "source": [
    "\"\"\"新增行或列，只有df['a']和df.loc['a'],df.loc[:,'a']这两种方法\"\"\"\n",
    "df1 = pd.DataFrame([[4,5,6],[44,55,66]],columns=[1, 2, 3], index=[1, 2], dtype='int')  # the dtype parameter assignment all columns\n",
    "\"\"\"list,tuple,ndarray要长度完全匹配\"\"\"\n",
    "df1['a']  = [1,1]\n",
    "df1.loc[:,'b'] = np.array([1,1])\n",
    "df1.loc[66] = (1,2,3,4,5)\n",
    "df1"
   ]
  },
  {
   "cell_type": "code",
   "execution_count": 78,
   "metadata": {},
   "outputs": [
    {
     "data": {
      "text/html": [
       "<div>\n",
       "<style scoped>\n",
       "    .dataframe tbody tr th:only-of-type {\n",
       "        vertical-align: middle;\n",
       "    }\n",
       "\n",
       "    .dataframe tbody tr th {\n",
       "        vertical-align: top;\n",
       "    }\n",
       "\n",
       "    .dataframe thead th {\n",
       "        text-align: right;\n",
       "    }\n",
       "</style>\n",
       "<table border=\"1\" class=\"dataframe\">\n",
       "  <thead>\n",
       "    <tr style=\"text-align: right;\">\n",
       "      <th></th>\n",
       "      <th>1</th>\n",
       "      <th>2</th>\n",
       "      <th>3</th>\n",
       "      <th>a</th>\n",
       "      <th>b</th>\n",
       "      <th>ab</th>\n",
       "    </tr>\n",
       "  </thead>\n",
       "  <tbody>\n",
       "    <tr>\n",
       "      <th>1</th>\n",
       "      <td>4</td>\n",
       "      <td>5.0</td>\n",
       "      <td>6.0</td>\n",
       "      <td>1.0</td>\n",
       "      <td>1.0</td>\n",
       "      <td>sr</td>\n",
       "    </tr>\n",
       "    <tr>\n",
       "      <th>2</th>\n",
       "      <td>44</td>\n",
       "      <td>55.0</td>\n",
       "      <td>66.0</td>\n",
       "      <td>1.0</td>\n",
       "      <td>1.0</td>\n",
       "      <td>NaN</td>\n",
       "    </tr>\n",
       "    <tr>\n",
       "      <th>66</th>\n",
       "      <td>1</td>\n",
       "      <td>2.0</td>\n",
       "      <td>3.0</td>\n",
       "      <td>4.0</td>\n",
       "      <td>5.0</td>\n",
       "      <td>NaN</td>\n",
       "    </tr>\n",
       "    <tr>\n",
       "      <th>xb</th>\n",
       "      <td>sr</td>\n",
       "      <td>NaN</td>\n",
       "      <td>NaN</td>\n",
       "      <td>NaN</td>\n",
       "      <td>NaN</td>\n",
       "      <td>NaN</td>\n",
       "    </tr>\n",
       "  </tbody>\n",
       "</table>\n",
       "</div>"
      ],
      "text/plain": [
       "     1     2     3    a    b   ab\n",
       "1    4   5.0   6.0  1.0  1.0   sr\n",
       "2   44  55.0  66.0  1.0  1.0  NaN\n",
       "66   1   2.0   3.0  4.0  5.0  NaN\n",
       "xb  sr   NaN   NaN  NaN  NaN  NaN"
      ]
     },
     "execution_count": 78,
     "metadata": {},
     "output_type": "execute_result"
    }
   ],
   "source": [
    "\"\"\"series可以按索引匹配，dict无法用于新增行或列\"\"\"\n",
    "df1.loc[:,'ab'] = pd.Series({1:'sr',8:'sr'})\n",
    "df1.loc['xb'] = pd.Series({1:'sr',8:'sr'})\n",
    "df1"
   ]
  },
  {
   "cell_type": "markdown",
   "metadata": {},
   "source": [
    "### 删除操作"
   ]
  },
  {
   "cell_type": "code",
   "execution_count": 59,
   "metadata": {},
   "outputs": [],
   "source": [
    "df1 = pd.DataFrame([[4,5,6],[44,55,66]],columns=[1, 2, 'c'], index=range(1,3), dtype='int')  # the dtype parameter assignment all columns\n",
    "\"\"\"可分别对行或列删除，按值索引\"\"\"\n",
    "_ = df1.drop([1,'c'], axis=1)  # delete by label, create new, can multi column each time\n",
    "\"\"\"del方法只能删除列\"\"\"\n",
    "del df1[1]  # delete by label, in place, one column each time"
   ]
  },
  {
   "cell_type": "markdown",
   "metadata": {},
   "source": [
    "### filter操作"
   ]
  },
  {
   "cell_type": "code",
   "execution_count": 15,
   "metadata": {},
   "outputs": [
    {
     "data": {
      "text/html": [
       "<div>\n",
       "<style scoped>\n",
       "    .dataframe tbody tr th:only-of-type {\n",
       "        vertical-align: middle;\n",
       "    }\n",
       "\n",
       "    .dataframe tbody tr th {\n",
       "        vertical-align: top;\n",
       "    }\n",
       "\n",
       "    .dataframe thead th {\n",
       "        text-align: right;\n",
       "    }\n",
       "</style>\n",
       "<table border=\"1\" class=\"dataframe\">\n",
       "  <thead>\n",
       "    <tr style=\"text-align: right;\">\n",
       "      <th></th>\n",
       "      <th>1</th>\n",
       "      <th>2</th>\n",
       "      <th>c</th>\n",
       "    </tr>\n",
       "  </thead>\n",
       "  <tbody>\n",
       "  </tbody>\n",
       "</table>\n",
       "</div>"
      ],
      "text/plain": [
       "Empty DataFrame\n",
       "Columns: [1, 2, c]\n",
       "Index: []"
      ]
     },
     "execution_count": 15,
     "metadata": {},
     "output_type": "execute_result"
    }
   ],
   "source": [
    "df1 = pd.DataFrame([[4,5,6],[44,55,66]],columns=[1, 2, 'c'], index=range(1,3), dtype='int')  # the dtype parameter assignment all columns\n",
    "\"\"\"\n",
    "df1[df1['column'].isin([1,2,3,4])]\n",
    "df1[df1['column'] >= 66]\n",
    "\"\"\"\n",
    "df1[[True, False]][[False]]  #  by rows, bool based, return dataframe"
   ]
  },
  {
   "cell_type": "code",
   "execution_count": 85,
   "metadata": {},
   "outputs": [
    {
     "data": {
      "text/html": [
       "<div>\n",
       "<style scoped>\n",
       "    .dataframe tbody tr th:only-of-type {\n",
       "        vertical-align: middle;\n",
       "    }\n",
       "\n",
       "    .dataframe tbody tr th {\n",
       "        vertical-align: top;\n",
       "    }\n",
       "\n",
       "    .dataframe thead th {\n",
       "        text-align: right;\n",
       "    }\n",
       "</style>\n",
       "<table border=\"1\" class=\"dataframe\">\n",
       "  <thead>\n",
       "    <tr style=\"text-align: right;\">\n",
       "      <th></th>\n",
       "      <th>1</th>\n",
       "      <th>2</th>\n",
       "      <th>c</th>\n",
       "    </tr>\n",
       "  </thead>\n",
       "  <tbody>\n",
       "    <tr>\n",
       "      <th>1</th>\n",
       "      <td>NaN</td>\n",
       "      <td>NaN</td>\n",
       "      <td>NaN</td>\n",
       "    </tr>\n",
       "    <tr>\n",
       "      <th>2</th>\n",
       "      <td>44.0</td>\n",
       "      <td>55.0</td>\n",
       "      <td>66.0</td>\n",
       "    </tr>\n",
       "  </tbody>\n",
       "</table>\n",
       "</div>"
      ],
      "text/plain": [
       "      1     2     c\n",
       "1   NaN   NaN   NaN\n",
       "2  44.0  55.0  66.0"
      ]
     },
     "execution_count": 85,
     "metadata": {},
     "output_type": "execute_result"
    }
   ],
   "source": [
    "df1[df1>10]  # filter by cell"
   ]
  },
  {
   "cell_type": "markdown",
   "metadata": {},
   "source": [
    "### value操作"
   ]
  },
  {
   "cell_type": "code",
   "execution_count": 3,
   "metadata": {},
   "outputs": [
    {
     "data": {
      "text/plain": [
       "True"
      ]
     },
     "execution_count": 3,
     "metadata": {},
     "output_type": "execute_result"
    }
   ],
   "source": [
    "df1 = pd.DataFrame([[4,5,6],[44,55,66]],columns=[1, 2, 'c'], index=range(1,3), dtype='int')  # the dtype parameter assignment all columns\n",
    "\"\"\"return numpy\"\"\"\n",
    "df1.values\n",
    "\"\"\"tolist is a method of numpy\"\"\"\n",
    "df1.values.tolist()\n",
    "\"\"\"transposition\"\"\"\n",
    "df1.T.values.tolist() == df1.values.T.tolist()"
   ]
  },
  {
   "cell_type": "markdown",
   "metadata": {},
   "source": [
    "### dtype操作"
   ]
  },
  {
   "cell_type": "code",
   "execution_count": 93,
   "metadata": {},
   "outputs": [],
   "source": [
    "\"\"\"the dtype parameter assignment all columns\"\"\"\n",
    "df1 = pd.DataFrame([[4,5,6],[44,55,66]],columns=[1, 2, 'c'], index=range(1,3), dtype='float')"
   ]
  },
  {
   "cell_type": "code",
   "execution_count": 94,
   "metadata": {},
   "outputs": [
    {
     "data": {
      "text/plain": [
       "1    float64\n",
       "2    float64\n",
       "c    float64\n",
       "dtype: object"
      ]
     },
     "execution_count": 94,
     "metadata": {},
     "output_type": "execute_result"
    }
   ],
   "source": [
    "df1.dtypes  # return series"
   ]
  },
  {
   "cell_type": "code",
   "execution_count": 95,
   "metadata": {},
   "outputs": [
    {
     "data": {
      "text/plain": [
       "1     4\n",
       "2    44\n",
       "Name: 1, dtype: int32"
      ]
     },
     "execution_count": 95,
     "metadata": {},
     "output_type": "execute_result"
    }
   ],
   "source": [
    "sr1 = df1[1].astype(int); sr1  # create new series, don't modify original dataframe"
   ]
  },
  {
   "cell_type": "code",
   "execution_count": 96,
   "metadata": {},
   "outputs": [
    {
     "data": {
      "text/html": [
       "<div>\n",
       "<style scoped>\n",
       "    .dataframe tbody tr th:only-of-type {\n",
       "        vertical-align: middle;\n",
       "    }\n",
       "\n",
       "    .dataframe tbody tr th {\n",
       "        vertical-align: top;\n",
       "    }\n",
       "\n",
       "    .dataframe thead th {\n",
       "        text-align: right;\n",
       "    }\n",
       "</style>\n",
       "<table border=\"1\" class=\"dataframe\">\n",
       "  <thead>\n",
       "    <tr style=\"text-align: right;\">\n",
       "      <th></th>\n",
       "      <th>1</th>\n",
       "      <th>2</th>\n",
       "      <th>c</th>\n",
       "    </tr>\n",
       "  </thead>\n",
       "  <tbody>\n",
       "    <tr>\n",
       "      <th>1</th>\n",
       "      <td>4.0</td>\n",
       "      <td>5.0</td>\n",
       "      <td>6.0</td>\n",
       "    </tr>\n",
       "    <tr>\n",
       "      <th>2</th>\n",
       "      <td>44.0</td>\n",
       "      <td>55.0</td>\n",
       "      <td>66.0</td>\n",
       "    </tr>\n",
       "  </tbody>\n",
       "</table>\n",
       "</div>"
      ],
      "text/plain": [
       "      1     2     c\n",
       "1   4.0   5.0   6.0\n",
       "2  44.0  55.0  66.0"
      ]
     },
     "execution_count": 96,
     "metadata": {},
     "output_type": "execute_result"
    }
   ],
   "source": [
    "df2 = df1.astype(int); df1  # create new dataframe, don't modify original dataframe"
   ]
  },
  {
   "cell_type": "markdown",
   "metadata": {},
   "source": [
    "### 其他待整理"
   ]
  },
  {
   "cell_type": "code",
   "execution_count": null,
   "metadata": {},
   "outputs": [],
   "source": [
    "\"\"\"\n",
    "注意：如果该col类型为dtype='category'，则df会记录该列的所有种类，\n",
    "在valuecounts时，虽然某种数据全部删除了，count结果仍会保留该类，且记数值为0。\n",
    "pd.qcut产生的就是category类型。\n",
    "\"\"\"\n",
    "df['col'].value_counts()\n"
   ]
  }
 ],
 "metadata": {
  "kernelspec": {
   "display_name": "Python 3",
   "language": "python",
   "name": "python3"
  },
  "language_info": {
   "codemirror_mode": {
    "name": "ipython",
    "version": 3
   },
   "file_extension": ".py",
   "mimetype": "text/x-python",
   "name": "python",
   "nbconvert_exporter": "python",
   "pygments_lexer": "ipython3",
   "version": "3.7.3"
  }
 },
 "nbformat": 4,
 "nbformat_minor": 4
}
