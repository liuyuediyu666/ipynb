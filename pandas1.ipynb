{
 "cells": [
  {
   "cell_type": "code",
   "execution_count": 2,
   "metadata": {},
   "outputs": [],
   "source": [
    "import numpy as np\n",
    "import pandas as pd\n",
    "import datetime\n",
    "# help(pd.DataFrame([1]).duplicated)\n",
    "# help(pd.DataFrame([1]).index)"
   ]
  },
  {
   "cell_type": "code",
   "execution_count": null,
   "metadata": {},
   "outputs": [],
   "source": [
    "\"\"\"pandas记牢\n",
    "dataframe.to_csv存储时默认的encoding是utf8，如果有汉字且在excel打开时请指定GB2312。\n",
    "dataframe存储时默认加一列index，一般需指定index=False。\n",
    "dataframe存储时默认header=True，当header=False第一行变为header。注意header=n有歧义，当n=0时等价于header=False，当n!=0时等价于header=True，注意这个n不是指的第几行。\n",
    "pd.read_csv读取数据默认encoding是utf8。\n",
    "pd.read_csv读取数据时默认在原始数据前加一列索引，0开始递增。\n",
    "pd.read_csv读取数据时默认header=0，也就是原始数据第一行（通常是列名）。如果指写header=3则以第4行作为列名，且跳过前三行数据不读取（包括列名）。注意header不能赋值True或False。\n",
    "\"\"\""
   ]
  },
  {
   "cell_type": "code",
   "execution_count": null,
   "metadata": {},
   "outputs": [],
   "source": [
    "\"\"\"载入csv文件无法处理中文路径时，可令enging=‘python’，默认是C引擎\"\"\"\n",
    "pd.read_csv('path', enging='python', encoding='utf-8')"
   ]
  },
  {
   "cell_type": "code",
   "execution_count": null,
   "metadata": {},
   "outputs": [],
   "source": [
    "\"\"\"只读取部分列\"\"\"\n",
    "pd.read_csv(path, usecols=['cola','colb'])  # usecols也接受位置索引\n",
    "pd.read_parquet(path, columns=['cola','colb'])"
   ]
  },
  {
   "cell_type": "code",
   "execution_count": 9,
   "metadata": {},
   "outputs": [
    {
     "data": {
      "text/plain": [
       "Timestamp('1970-01-01 00:00:00.016780101')"
      ]
     },
     "execution_count": 9,
     "metadata": {},
     "output_type": "execute_result"
    }
   ],
   "source": [
    "\"\"\"时间解析函数\"\"\"\n",
    "pd.to_datetime(['1/22/2018', np.datetime64('2018-01-22'),datetime.datetime(2018, 1, 22)])\n",
    "pd.to_datetime('')  # return NaT\n",
    "\"\"\"字符串和数字的区别，后者会被视为纳秒单位\"\"\"\n",
    "pd.to_datetime('16780101')  # need biger than Timestamp('1678-01-01 00:00:00')\n",
    "pd.to_datetime(16780101)  # Timestamp('1970-01-01 00:00:00.016780101'"
   ]
  },
  {
   "cell_type": "markdown",
   "metadata": {},
   "source": [
    "### dtype操作"
   ]
  },
  {
   "cell_type": "code",
   "execution_count": 10,
   "metadata": {},
   "outputs": [],
   "source": [
    "\"\"\"dtype Parameter can only specify all columns at the same time\"\"\"\n",
    "df = pd.DataFrame([666], dtype='float')"
   ]
  },
  {
   "cell_type": "code",
   "execution_count": 16,
   "metadata": {},
   "outputs": [],
   "source": [
    "\"\"\"create new one, won't modify original one\"\"\"\n",
    "df = pd.DataFrame(np.arange(6).reshape(2, 3),dtype='float')\n",
    "sr1 = df[1].astype(int)\n",
    "df1 = df.astype(int)"
   ]
  },
  {
   "cell_type": "markdown",
   "metadata": {},
   "source": [
    "### create"
   ]
  },
  {
   "cell_type": "code",
   "execution_count": null,
   "metadata": {},
   "outputs": [],
   "source": [
    "\"\"\"series\"\"\"\n",
    "pd.Series(list('ab'))\n",
    "pd.Series({11:1,22:2,})\n",
    "pd.Series({11:1,22:2,},index=[11,22,33])\n",
    "\"\"\"用array创建\"\"\"\n",
    "df = pd.DataFrame(np.arange(6).reshape(2, 3), columns=list('abc'), index=range(11,13), )\n",
    "\"\"\"用列表或元组创建，里面可以是series, list, tuple, 单个值\"\"\"\n",
    "sr1 = pd.Series(list('xyz'),index=range(3))\n",
    "df = pd.DataFrame([[1,2,3],(11,12,13),sr1],columns=list('abc'),index=range(11,14), )\n",
    "\"\"\"用字典创建，里面可以是series, list, tuple, 单个值\n",
    "通过字典创建时，若指定columns，冲突时以columns为准，仅columns有的设置为空列，仅字典有的不加入dataframe\n",
    "\"\"\"\n",
    "sr1 = pd.Series(list('abc'),index=range(3))\n",
    "sr2 = pd.Series(list('bcd'),index=range(1,4))\n",
    "df = pd.DataFrame({'xa':sr1,'xb':sr2,'xc':[11,22,33,44],'xd':(6,7,8,9)})\n",
    "\"\"\"series也可转换为df\"\"\"\n",
    "pd.Series(list('asdfg')).reset_index()\n",
    "\"\"\"df和dict多种转换方法，orient参数有‘dict’, ‘list’, ‘series’, ‘split’, ‘records’, ‘index’\"\"\"\n",
    "df.to_dict(orient=dict)\n",
    "pd.DataFrame.from_dict(dict(a='a'), orient='index',columns=[])"
   ]
  },
  {
   "cell_type": "markdown",
   "metadata": {},
   "source": [
    "### index"
   ]
  },
  {
   "cell_type": "code",
   "execution_count": 8,
   "metadata": {},
   "outputs": [],
   "source": [
    "sr1 = pd.Series(1)\n",
    "df1 = pd.DataFrame([1])\n",
    "\"\"\"original is None, need assign name manually\"\"\"\n",
    "sr1.name = 'ww'\n",
    "sr1.index.name = 'x'\n",
    "df1.index.name = 'x'\n",
    "df1.columns.name = 'x'\n",
    "\"\"\"routine operation\"\"\"\n",
    "sr1.values\n",
    "sr1.values.tolist()\n",
    "sr1.index\n",
    "sr1.index.tolist()\n",
    "sr1.index = ['x']\n",
    "\"\"\"both return index object\"\"\"\n",
    "df1.columns\n",
    "df1.index\n",
    "\"\"\"modify in place, and delete columns.name or index.name\"\"\"\n",
    "df1.columns = ['x']\n",
    "df1.index = ['a']\n",
    "\"\"\"diff operation\"\"\"\n",
    "df1.index.difference([0])\n",
    "df1.columns.difference(['x'])\n",
    "\"\"\"create new one\"\"\"\n",
    "df2 = df1.add_prefix('w_')"
   ]
  },
  {
   "cell_type": "markdown",
   "metadata": {},
   "source": [
    "### series copy"
   ]
  },
  {
   "cell_type": "code",
   "execution_count": 27,
   "metadata": {},
   "outputs": [],
   "source": [
    "sr1 = pd.Series(list('abc'),index=[1,3,5])\n",
    "\"\"\"直接复制，sr1_a和sr1指向同一个物理地址，index和value均共享\"\"\"\n",
    "sr1_a = sr1\n",
    "sr1_a.index = [11,13,15]\n",
    "\"\"\"使用copy()复制后，index和value完全独立\"\"\"\n",
    "sr1_b = sr1.copy()"
   ]
  },
  {
   "cell_type": "code",
   "execution_count": 28,
   "metadata": {},
   "outputs": [],
   "source": [
    "\"\"\"切片得到的series，index不共享，value共享\"\"\"\n",
    "sr1 = pd.Series(list('abc'),index=[1,3,5])\n",
    "ssr1 = sr1[0:2]\n",
    "\"\"\"修改ssr1的index，sr1的index不变\"\"\"\n",
    "ssr1.index = [11,13]\n",
    "\"\"\"修改ssr1的value（即使按ssr1的新index修改），sr1的value也被同步修改\"\"\"\n",
    "ssr1[11] = 'aa'\n",
    "\"\"\"当给ssr1新增索引，则会导致二者的index和value完全独立，不会再导致sr1被同步修改\"\"\"\n",
    "ssr1[66] = 'xxx'\n",
    "ssr1[11] = 'aaa'\n",
    "\"\"\"显然下面的修改是给ssr1重新赋值，不存在相互影响\"\"\"\n",
    "ssr1=['x','xx','xxx']"
   ]
  },
  {
   "cell_type": "markdown",
   "metadata": {},
   "source": [
    "### dataframe copy"
   ]
  },
  {
   "cell_type": "code",
   "execution_count": 23,
   "metadata": {},
   "outputs": [],
   "source": [
    "df1 = pd.DataFrame([1,11])\n",
    "\"\"\"df1 and df2 point to the same location\"\"\"\n",
    "df2 = df1\n",
    "df2['a'] = 66\n",
    "\"\"\"df2 and df1 point to different location\"\"\"\n",
    "df2 = df1.copy()"
   ]
  },
  {
   "cell_type": "markdown",
   "metadata": {},
   "source": [
    "### series slice"
   ]
  },
  {
   "cell_type": "code",
   "execution_count": null,
   "metadata": {},
   "outputs": [],
   "source": [
    "sr1 = pd.Series(list('abcd'),index=[11,12,13,14])\n",
    "sr2 = pd.Series(range(4),index=list('xymn'))\n",
    "\"\"\"当series索引为int或float时，无帽号切片中的数字是按值索引，而非位置。帽号切片则是位置\"\"\"\n",
    "\"\"\"切片返回单个元素\"\"\"\n",
    "sr1[13]\n",
    "sr2['m']\n",
    "\"\"\"切片返回series\"\"\"\n",
    "sr1[[13,]]\n",
    "sr2[['m',]]\n",
    "sr1[1:1]\n",
    "\"\"\"字符串帽号切片，按字母位置而非字母表顺序，且包含最后一个字母。\"\"\"\n",
    "sr2['y':'n']"
   ]
  },
  {
   "cell_type": "code",
   "execution_count": null,
   "metadata": {},
   "outputs": [],
   "source": [
    "\"\"\"bool切片必返回series，这点类似帽号切片\"\"\"\n",
    "sr3 = pd.Series(list('abcd'))\n",
    "sr4 = pd.Series(list('abcd'),index=[11,12,13,14])\n",
    "bool_series = sr3=='b'\n",
    "bool_list = bool_series.tolist()\n",
    "\"\"\"bool用bool_series切片，则要求bool_series和原series的index必须一模一样\"\"\"\n",
    "sr3[bool_list]\n",
    "sr3[bool_series]\n",
    "sr4[bool_list]\n",
    "# sr4[bseries] 会报错，因为sr4和bseries的index不完全匹配\n",
    "\"\"\"series对于纯数字序列无法按位置索引时，可用iloc命令进行位置索引。\"\"\""
   ]
  },
  {
   "cell_type": "markdown",
   "metadata": {},
   "source": [
    "### dataframe slice"
   ]
  },
  {
   "cell_type": "code",
   "execution_count": 70,
   "metadata": {},
   "outputs": [
    {
     "data": {
      "text/plain": [
       "b    18\n",
       "d    14\n",
       "dtype: int64"
      ]
     },
     "execution_count": 70,
     "metadata": {},
     "output_type": "execute_result"
    }
   ],
   "source": [
    "df1 = pd.DataFrame([[4,5,6],[44,55,66]],columns=[1, 2, 'c'], index=range(1,3), dtype='int')\n",
    "\"\"\"df1.loc[:, 'c']\n",
    "by columns, label based(only string), return series\n",
    "\"\"\"\n",
    "df1.c\n",
    "\"\"\"df1.loc[:, 1]\n",
    "by columns, label based, return series\n",
    "\"\"\"\n",
    "df1[1]\n",
    "\"\"\"df1.loc[:, [1]]\n",
    "by columns, label based, return dataframe\n",
    "\"\"\"\n",
    "df1[[1]]\n",
    "\"\"\"df1.iloc[:1]\n",
    "by rows, positional based, return dataframe\n",
    "\"\"\"\n",
    "df1[:1]\n",
    "\"\"\"df1.iloc[[1]]\n",
    "by rows, positional based(can't use \":\"), return dataframe\n",
    "\"\"\"\n",
    "df1.take([1])\n",
    "\"\"\"df1.loc[1]\n",
    "by row(one row each time), label based, return series\n",
    "\"\"\"\n",
    "df1.xs(1)\n",
    "\"\"\"series的take方法，按位置索引取对应的值，生成新的series\"\"\"\n",
    "s1 = pd.Series([11,18,13,14], index=list('abcd'))\n",
    "s1.take([1,3])"
   ]
  },
  {
   "cell_type": "code",
   "execution_count": 7,
   "metadata": {},
   "outputs": [],
   "source": [
    "\"\"\"filter可对行、列索引筛选，支持正则表达示切片。修改切片后数据对原dataframe无影响。\"\"\"\n",
    "df1 = pd.DataFrame(np.arange(9).reshape(3, 3), columns=['ca','cb','x'], index=['ia','ib','y'], dtype='int')\n",
    "\"\"\"筛选列表中的columns\"\"\"\n",
    "df1.filter(items=['a','x'], axis=1)\n",
    "\"\"\"筛选column包含某字符串的列\"\"\"\n",
    "df1.filter(like='c', axis=1)\n",
    "\"\"\"正则匹配对行索引筛选\"\"\"\n",
    "df1.filter(regex='i+', axis=0)\n",
    "\"\"\"利用difference来排除不需要的行或列。修改切片后数据对原dataframe无影响。这里index.difference未举例，同理\"\"\"\n",
    "df1 = pd.DataFrame(np.arange(9).reshape(3, 3), columns=['ca','cb','x'], index=['ia','ib','y'], dtype='int')\n",
    "_ = df1[df1.columns.difference(['ca','x'], sort=False)]  # 通过sort=False可以避免打乱原始的列的顺序"
   ]
  },
  {
   "cell_type": "code",
   "execution_count": null,
   "metadata": {},
   "outputs": [],
   "source": [
    "\"\"\"using T and F to slice\"\"\"\n",
    "df1.columns[[True,False,False]]  # by columns, must be same length\n",
    "df1[[True, False]][[False]]  #  by rows, must be same length\n",
    "df1.iloc[:,[True,False,True,]]  # needn't match the length"
   ]
  },
  {
   "cell_type": "code",
   "execution_count": 67,
   "metadata": {},
   "outputs": [],
   "source": [
    "\"\"\"using index object to slice\"\"\"\n",
    "idx = pd.Index(list('ac'))\n",
    "df1 = pd.DataFrame(np.arange(9).reshape(3, 3), columns=list('abc'), index=list('abc'))\n",
    "df1[idx]  # only by columns\n",
    "df1.loc[idx]  # by row\n",
    "df1.loc[:, idx]  # by columns\n",
    "x = df1.loc[idx, idx]  # both columns and row"
   ]
  },
  {
   "cell_type": "markdown",
   "metadata": {},
   "source": [
    "### loc和iloc操作"
   ]
  },
  {
   "cell_type": "code",
   "execution_count": 50,
   "metadata": {},
   "outputs": [],
   "source": [
    "\"\"\"\n",
    "df.at和df.loc如果碰到index或column重复的情况，会把重复的全取出来。\n",
    "当其中一个维度重复时返回series，当其中两个维度重复时返回dataframe\n",
    "\"\"\"\n",
    "dfloc = pd.DataFrame([[1,2,3],[11,22,33],[111,222,333]], columns=list('zxy'), index=list('cab'))  # the dtype parameter assignment all columns\n",
    "dfloc.loc['a']\n",
    "dfloc.loc[:'a']\n",
    "dfloc.loc[['a']]\n",
    "dfloc.loc[:, 'x']\n",
    "dfloc.loc[:, :'x']\n",
    "dfloc.loc[:, ['x']]\n",
    "dfloc.loc['a', 'x']\n",
    "dfloc.loc['a', :'x']\n",
    "dfloc.loc['a', ['x', 'x']]\n",
    "dfloc.loc[:'a', :'x']\n",
    "dfloc.loc[:'a', ['x', 'x']]\n",
    "x = dfloc.loc[['a', 'a'], ['x', 'x']]"
   ]
  },
  {
   "cell_type": "code",
   "execution_count": 51,
   "metadata": {},
   "outputs": [],
   "source": [
    "dfiloc = pd.DataFrame([[4,5,6],[44,55,66]], columns=list('xyz'), index=list('ab')); dfiloc\n",
    "dfiloc.iloc[1]\n",
    "dfiloc.iloc[:1]\n",
    "dfiloc.iloc[[1]]\n",
    "dfiloc.iloc[:, 1]\n",
    "dfiloc.iloc[:, :1]\n",
    "dfiloc.iloc[:, [1]]\n",
    "dfiloc.iloc[1, 1]\n",
    "dfiloc.iloc[1, :1]\n",
    "dfiloc.iloc[1, [1, 1]]\n",
    "dfiloc.iloc[:1, :1]\n",
    "dfiloc.iloc[:1, [1,1]]\n",
    "x = dfiloc.iloc[[1, 1], [1, 1]]"
   ]
  },
  {
   "cell_type": "code",
   "execution_count": 47,
   "metadata": {},
   "outputs": [],
   "source": [
    "\"\"\"关于使用loc索引数值时的两个坑\"\"\"\n",
    "\"\"\"即使str(9)作为索引，dataframe也会按照number来处理，与9无区别\"\"\"\n",
    "dfloc_ = pd.DataFrame([[1,2,3],[11,22,33],[111,222,333]], columns=[6, 'a', str(9)], index=[11, 11, 22])  # mixed index of number and string "
   ]
  },
  {
   "cell_type": "code",
   "execution_count": 48,
   "metadata": {},
   "outputs": [
    {
     "data": {
      "text/html": [
       "<div>\n",
       "<style scoped>\n",
       "    .dataframe tbody tr th:only-of-type {\n",
       "        vertical-align: middle;\n",
       "    }\n",
       "\n",
       "    .dataframe tbody tr th {\n",
       "        vertical-align: top;\n",
       "    }\n",
       "\n",
       "    .dataframe thead th {\n",
       "        text-align: right;\n",
       "    }\n",
       "</style>\n",
       "<table border=\"1\" class=\"dataframe\">\n",
       "  <thead>\n",
       "    <tr style=\"text-align: right;\">\n",
       "      <th></th>\n",
       "      <th>6</th>\n",
       "      <th>a</th>\n",
       "      <th>9</th>\n",
       "    </tr>\n",
       "  </thead>\n",
       "  <tbody>\n",
       "    <tr>\n",
       "      <th>11</th>\n",
       "      <td>1</td>\n",
       "      <td>2</td>\n",
       "      <td>3</td>\n",
       "    </tr>\n",
       "    <tr>\n",
       "      <th>11</th>\n",
       "      <td>11</td>\n",
       "      <td>22</td>\n",
       "      <td>33</td>\n",
       "    </tr>\n",
       "  </tbody>\n",
       "</table>\n",
       "</div>"
      ],
      "text/plain": [
       "     6   a   9\n",
       "11   1   2   3\n",
       "11  11  22  33"
      ]
     },
     "execution_count": 48,
     "metadata": {},
     "output_type": "execute_result"
    }
   ],
   "source": [
    "\"\"\"坑1：当行列索引为纯number组成时，并且按位置排序时索引的number不减少（递增或不减）时，则帽号前后的数字可不在现有索引中，dataframe会按数值来比较大小进行切片。\n",
    "如果纯number组成的索引出现递减的情况，帽号前后使用索引之外的数字会报错KeyError\"\"\"\n",
    "dfloc_.loc[1:12]"
   ]
  },
  {
   "cell_type": "code",
   "execution_count": 49,
   "metadata": {},
   "outputs": [
    {
     "data": {
      "text/html": [
       "<div>\n",
       "<style scoped>\n",
       "    .dataframe tbody tr th:only-of-type {\n",
       "        vertical-align: middle;\n",
       "    }\n",
       "\n",
       "    .dataframe tbody tr th {\n",
       "        vertical-align: top;\n",
       "    }\n",
       "\n",
       "    .dataframe thead th {\n",
       "        text-align: right;\n",
       "    }\n",
       "</style>\n",
       "<table border=\"1\" class=\"dataframe\">\n",
       "  <thead>\n",
       "    <tr style=\"text-align: right;\">\n",
       "      <th></th>\n",
       "      <th>6</th>\n",
       "      <th>a</th>\n",
       "    </tr>\n",
       "  </thead>\n",
       "  <tbody>\n",
       "    <tr>\n",
       "      <th>11</th>\n",
       "      <td>1</td>\n",
       "      <td>2</td>\n",
       "    </tr>\n",
       "    <tr>\n",
       "      <th>11</th>\n",
       "      <td>11</td>\n",
       "      <td>22</td>\n",
       "    </tr>\n",
       "  </tbody>\n",
       "</table>\n",
       "</div>"
      ],
      "text/plain": [
       "     6   a\n",
       "11   1   2\n",
       "11  11  22"
      ]
     },
     "execution_count": 49,
     "metadata": {},
     "output_type": "execute_result"
    }
   ],
   "source": [
    "\"\"\"坑2：当两种条件同时满足会报错：数字和字母混合索引，帽号前后是数字。比如df2.loc[:,:9], 会报错TypeError\"\"\"\n",
    "dfloc_.loc[:11,:'a']"
   ]
  },
  {
   "cell_type": "markdown",
   "metadata": {},
   "source": [
    "### at和iat操作"
   ]
  },
  {
   "cell_type": "code",
   "execution_count": 26,
   "metadata": {},
   "outputs": [],
   "source": [
    "df1 = pd.DataFrame([[4,5,6],[44,55,66]], columns=[1, 2, 'c'], index=range(1,3), dtype='float')  # the dtype parameter assignment all columns\n",
    "df1.at[1,1]  #  by cell, label based, return value\n",
    "df1.iat[1,1]  #  by cell, positional based, return value\n",
    "df1.at[1,1] = 111  # modify in place, label based\n",
    "df1.iat[1,1] = 222  # modify in place, positional based"
   ]
  },
  {
   "cell_type": "markdown",
   "metadata": {},
   "source": [
    "### series增删改"
   ]
  },
  {
   "cell_type": "code",
   "execution_count": null,
   "metadata": {},
   "outputs": [],
   "source": [
    "sr1 = pd.Series(list('abcd'),index=[11,12,13,14])\n",
    "\"\"\"与切片同理，当索引为int或float时，按值来索引删除\"\"\"\n",
    "\"\"\"create new\"\"\"\n",
    "sr1.drop(11)\n",
    "sr1.drop([13,14])"
   ]
  },
  {
   "cell_type": "markdown",
   "metadata": {},
   "source": [
    "### 赋值或新增"
   ]
  },
  {
   "cell_type": "code",
   "execution_count": 12,
   "metadata": {},
   "outputs": [
    {
     "data": {
      "text/plain": [
       "1    111\n",
       "2      x\n",
       "c      x\n",
       "Name: 1, dtype: object"
      ]
     },
     "execution_count": 12,
     "metadata": {},
     "output_type": "execute_result"
    }
   ],
   "source": [
    "df1 = pd.DataFrame([[4,5,6],[44,55,66]],columns=[1, 2, 'c'], index=range(1,3), dtype='int')  # the dtype parameter assignment all columns\n",
    "\"\"\"以下赋值均为in place, broadcast\"\"\"\n",
    "df1.c = 'x'\n",
    "df1[1] = 'x'\n",
    "df1[[1]] = 'x'\n",
    "df1[:1] = 'x'\n",
    "df1.loc[1] = 'x'\n",
    "df1.loc[[1]] = 'x'\n",
    "df1.iloc[1] = 'x'\n",
    "df1.iloc[[1]] = 'x'\n",
    "\"\"\"注意at只改变1个值，这个新值的数据类型不能与原来列的数据类型冲突\"\"\"\n",
    "df1.at[1,1] = 111\n",
    "df1.iat[1,1] = 222\n",
    "\"\"\"不可以赋值，因为是function call\"\"\"\n",
    "df1.take([1])  # 对新得到的dataframe赋值，不会改变原来的df1\n",
    "df1.xs(1)  # 对新得到的series赋值，会改变原来的df1"
   ]
  },
  {
   "cell_type": "code",
   "execution_count": 13,
   "metadata": {},
   "outputs": [
    {
     "data": {
      "text/html": [
       "<div>\n",
       "<style scoped>\n",
       "    .dataframe tbody tr th:only-of-type {\n",
       "        vertical-align: middle;\n",
       "    }\n",
       "\n",
       "    .dataframe tbody tr th {\n",
       "        vertical-align: top;\n",
       "    }\n",
       "\n",
       "    .dataframe thead th {\n",
       "        text-align: right;\n",
       "    }\n",
       "</style>\n",
       "<table border=\"1\" class=\"dataframe\">\n",
       "  <thead>\n",
       "    <tr style=\"text-align: right;\">\n",
       "      <th></th>\n",
       "      <th>1</th>\n",
       "      <th>2</th>\n",
       "      <th>c</th>\n",
       "      <th>d</th>\n",
       "      <th>e</th>\n",
       "    </tr>\n",
       "  </thead>\n",
       "  <tbody>\n",
       "    <tr>\n",
       "      <th>1</th>\n",
       "      <td>list</td>\n",
       "      <td>list</td>\n",
       "      <td>list</td>\n",
       "      <td>list</td>\n",
       "      <td>np</td>\n",
       "    </tr>\n",
       "    <tr>\n",
       "      <th>2</th>\n",
       "      <td>tuple</td>\n",
       "      <td>tuple</td>\n",
       "      <td>tuple</td>\n",
       "      <td>tuple</td>\n",
       "      <td>np</td>\n",
       "    </tr>\n",
       "    <tr>\n",
       "      <th>0</th>\n",
       "      <td>np</td>\n",
       "      <td>np</td>\n",
       "      <td>np</td>\n",
       "      <td>np</td>\n",
       "      <td>np</td>\n",
       "    </tr>\n",
       "  </tbody>\n",
       "</table>\n",
       "</div>"
      ],
      "text/plain": [
       "       1      2      c      d   e\n",
       "1   list   list   list   list  np\n",
       "2  tuple  tuple  tuple  tuple  np\n",
       "0     np     np     np     np  np"
      ]
     },
     "execution_count": 13,
     "metadata": {},
     "output_type": "execute_result"
    }
   ],
   "source": [
    "df1 = pd.DataFrame([[4,5,6,7],[44,55,66,77]],columns=[1, 2, 'c', 'd'], index=range(1,3), dtype='int')  # the dtype parameter assignment all columns\n",
    "\"\"\"ndarray,list,tuple均不能广播，但是tuple一个元素的时候可以广播\"\"\"\n",
    "df1.loc[1] = ['list','list','list','list']; df1\n",
    "df1.loc[2] = ('tuple','tuple','tuple','tuple'); df1\n",
    "df1.loc[0] = np.array(['np', 'np', 'np', 'np']); df1\n",
    "df1.loc[:,'e'] = np.array(['np', 'np', 'np']); df1"
   ]
  },
  {
   "cell_type": "code",
   "execution_count": 72,
   "metadata": {},
   "outputs": [
    {
     "data": {
      "text/html": [
       "<div>\n",
       "<style scoped>\n",
       "    .dataframe tbody tr th:only-of-type {\n",
       "        vertical-align: middle;\n",
       "    }\n",
       "\n",
       "    .dataframe tbody tr th {\n",
       "        vertical-align: top;\n",
       "    }\n",
       "\n",
       "    .dataframe thead th {\n",
       "        text-align: right;\n",
       "    }\n",
       "</style>\n",
       "<table border=\"1\" class=\"dataframe\">\n",
       "  <thead>\n",
       "    <tr style=\"text-align: right;\">\n",
       "      <th></th>\n",
       "      <th>1</th>\n",
       "      <th>2</th>\n",
       "      <th>c</th>\n",
       "      <th>d</th>\n",
       "      <th>e</th>\n",
       "    </tr>\n",
       "  </thead>\n",
       "  <tbody>\n",
       "    <tr>\n",
       "      <th>1</th>\n",
       "      <td>lst</td>\n",
       "      <td>lst</td>\n",
       "      <td>list</td>\n",
       "      <td>nmpy</td>\n",
       "      <td>nmpy</td>\n",
       "    </tr>\n",
       "    <tr>\n",
       "      <th>2</th>\n",
       "      <td>lst</td>\n",
       "      <td>lst</td>\n",
       "      <td>tuple</td>\n",
       "      <td>nmpy</td>\n",
       "      <td>nmpy</td>\n",
       "    </tr>\n",
       "    <tr>\n",
       "      <th>0</th>\n",
       "      <td>np</td>\n",
       "      <td>np</td>\n",
       "      <td>np</td>\n",
       "      <td>np</td>\n",
       "      <td>np</td>\n",
       "    </tr>\n",
       "  </tbody>\n",
       "</table>\n",
       "</div>"
      ],
      "text/plain": [
       "     1    2      c     d     e\n",
       "1  lst  lst   list  nmpy  nmpy\n",
       "2  lst  lst  tuple  nmpy  nmpy\n",
       "0   np   np     np    np    np"
      ]
     },
     "execution_count": 72,
     "metadata": {},
     "output_type": "execute_result"
    }
   ],
   "source": [
    "\"\"\"ndarray,list,tuple也可以按区块赋值\"\"\"\n",
    "df1.loc[[1,2],['d','e']] = np.array([['nmpy','nmpy'],['nmpy','nmpy']])\n",
    "df1.loc[[1,2],[1,2]] = [['lst','lst'],['lst','lst']]; df1"
   ]
  },
  {
   "cell_type": "code",
   "execution_count": 73,
   "metadata": {},
   "outputs": [
    {
     "data": {
      "text/html": [
       "<div>\n",
       "<style scoped>\n",
       "    .dataframe tbody tr th:only-of-type {\n",
       "        vertical-align: middle;\n",
       "    }\n",
       "\n",
       "    .dataframe tbody tr th {\n",
       "        vertical-align: top;\n",
       "    }\n",
       "\n",
       "    .dataframe thead th {\n",
       "        text-align: right;\n",
       "    }\n",
       "</style>\n",
       "<table border=\"1\" class=\"dataframe\">\n",
       "  <thead>\n",
       "    <tr style=\"text-align: right;\">\n",
       "      <th></th>\n",
       "      <th>1</th>\n",
       "      <th>2</th>\n",
       "      <th>c</th>\n",
       "      <th>d</th>\n",
       "      <th>e</th>\n",
       "    </tr>\n",
       "  </thead>\n",
       "  <tbody>\n",
       "    <tr>\n",
       "      <th>1</th>\n",
       "      <td>dict</td>\n",
       "      <td>dict</td>\n",
       "      <td>NaN</td>\n",
       "      <td>NaN</td>\n",
       "      <td>NaN</td>\n",
       "    </tr>\n",
       "    <tr>\n",
       "      <th>2</th>\n",
       "      <td>series</td>\n",
       "      <td>NaN</td>\n",
       "      <td>series</td>\n",
       "      <td>NaN</td>\n",
       "      <td>series</td>\n",
       "    </tr>\n",
       "    <tr>\n",
       "      <th>0</th>\n",
       "      <td>np</td>\n",
       "      <td>np</td>\n",
       "      <td>np</td>\n",
       "      <td>np</td>\n",
       "      <td>np</td>\n",
       "    </tr>\n",
       "  </tbody>\n",
       "</table>\n",
       "</div>"
      ],
      "text/plain": [
       "        1     2       c    d       e\n",
       "1    dict  dict     NaN  NaN     NaN\n",
       "2  series   NaN  series  NaN  series\n",
       "0      np    np      np   np      np"
      ]
     },
     "execution_count": 73,
     "metadata": {},
     "output_type": "execute_result"
    }
   ],
   "source": [
    "\"\"\"dict, series按索引精确匹配，多出来的丢弃，缺失的填NaN\"\"\"\n",
    "df1.loc[1] = {1:'dict',2:'dict',3:'dict'}\n",
    "df1.loc[2] = pd.Series(['series','series','series'], index=[1,'c','e'])\n",
    "df1"
   ]
  },
  {
   "cell_type": "code",
   "execution_count": 74,
   "metadata": {},
   "outputs": [
    {
     "data": {
      "text/html": [
       "<div>\n",
       "<style scoped>\n",
       "    .dataframe tbody tr th:only-of-type {\n",
       "        vertical-align: middle;\n",
       "    }\n",
       "\n",
       "    .dataframe tbody tr th {\n",
       "        vertical-align: top;\n",
       "    }\n",
       "\n",
       "    .dataframe thead th {\n",
       "        text-align: right;\n",
       "    }\n",
       "</style>\n",
       "<table border=\"1\" class=\"dataframe\">\n",
       "  <thead>\n",
       "    <tr style=\"text-align: right;\">\n",
       "      <th></th>\n",
       "      <th>1</th>\n",
       "      <th>2</th>\n",
       "      <th>c</th>\n",
       "      <th>d</th>\n",
       "      <th>e</th>\n",
       "    </tr>\n",
       "  </thead>\n",
       "  <tbody>\n",
       "    <tr>\n",
       "      <th>1</th>\n",
       "      <td>NaN</td>\n",
       "      <td>NaN</td>\n",
       "      <td>NaN</td>\n",
       "      <td>NaN</td>\n",
       "      <td>NaN</td>\n",
       "    </tr>\n",
       "    <tr>\n",
       "      <th>2</th>\n",
       "      <td>pandas</td>\n",
       "      <td>NaN</td>\n",
       "      <td>pandas</td>\n",
       "      <td>NaN</td>\n",
       "      <td>series</td>\n",
       "    </tr>\n",
       "    <tr>\n",
       "      <th>0</th>\n",
       "      <td>NaN</td>\n",
       "      <td>NaN</td>\n",
       "      <td>NaN</td>\n",
       "      <td>np</td>\n",
       "      <td>np</td>\n",
       "    </tr>\n",
       "  </tbody>\n",
       "</table>\n",
       "</div>"
      ],
      "text/plain": [
       "        1    2       c    d       e\n",
       "1     NaN  NaN     NaN  NaN     NaN\n",
       "2  pandas  NaN  pandas  NaN  series\n",
       "0     NaN  NaN     NaN   np      np"
      ]
     },
     "execution_count": 74,
     "metadata": {},
     "output_type": "execute_result"
    }
   ],
   "source": [
    "\"\"\"Pandas赋值是精确匹配行列索引的，只测试了下面的例子\"\"\"\n",
    "pd2 = pd.DataFrame({1:['pandas', 'pandas'], 'c':['pandas', 'pandas']}, index=[2,3])\n",
    "df1.loc[:,[1,2,'c']] = pd2\n",
    "df1"
   ]
  },
  {
   "cell_type": "code",
   "execution_count": 14,
   "metadata": {},
   "outputs": [
    {
     "data": {
      "text/html": [
       "<div>\n",
       "<style scoped>\n",
       "    .dataframe tbody tr th:only-of-type {\n",
       "        vertical-align: middle;\n",
       "    }\n",
       "\n",
       "    .dataframe tbody tr th {\n",
       "        vertical-align: top;\n",
       "    }\n",
       "\n",
       "    .dataframe thead th {\n",
       "        text-align: right;\n",
       "    }\n",
       "</style>\n",
       "<table border=\"1\" class=\"dataframe\">\n",
       "  <thead>\n",
       "    <tr style=\"text-align: right;\">\n",
       "      <th></th>\n",
       "      <th>1</th>\n",
       "      <th>2</th>\n",
       "      <th>3</th>\n",
       "      <th>a</th>\n",
       "      <th>b</th>\n",
       "    </tr>\n",
       "  </thead>\n",
       "  <tbody>\n",
       "    <tr>\n",
       "      <th>1</th>\n",
       "      <td>4</td>\n",
       "      <td>5</td>\n",
       "      <td>6</td>\n",
       "      <td>1</td>\n",
       "      <td>1</td>\n",
       "    </tr>\n",
       "    <tr>\n",
       "      <th>2</th>\n",
       "      <td>44</td>\n",
       "      <td>55</td>\n",
       "      <td>66</td>\n",
       "      <td>1</td>\n",
       "      <td>1</td>\n",
       "    </tr>\n",
       "    <tr>\n",
       "      <th>66</th>\n",
       "      <td>1</td>\n",
       "      <td>2</td>\n",
       "      <td>3</td>\n",
       "      <td>4</td>\n",
       "      <td>5</td>\n",
       "    </tr>\n",
       "  </tbody>\n",
       "</table>\n",
       "</div>"
      ],
      "text/plain": [
       "     1   2   3  a  b\n",
       "1    4   5   6  1  1\n",
       "2   44  55  66  1  1\n",
       "66   1   2   3  4  5"
      ]
     },
     "execution_count": 14,
     "metadata": {},
     "output_type": "execute_result"
    }
   ],
   "source": [
    "\"\"\"新增行或列，只有df['a']和df.loc['a'],df.loc[:,'a']这两种方法\"\"\"\n",
    "df1 = pd.DataFrame([[4,5,6],[44,55,66]],columns=[1, 2, 3], index=[1, 2], dtype='int')  # the dtype parameter assignment all columns\n",
    "\"\"\"list,tuple,ndarray要长度完全匹配\"\"\"\n",
    "df1['a']  = [1,1]\n",
    "df1.loc[:,'b'] = np.array([1,1])\n",
    "df1.loc[66] = (1,2,3,4,5)\n",
    "df1"
   ]
  },
  {
   "cell_type": "code",
   "execution_count": 78,
   "metadata": {},
   "outputs": [
    {
     "data": {
      "text/html": [
       "<div>\n",
       "<style scoped>\n",
       "    .dataframe tbody tr th:only-of-type {\n",
       "        vertical-align: middle;\n",
       "    }\n",
       "\n",
       "    .dataframe tbody tr th {\n",
       "        vertical-align: top;\n",
       "    }\n",
       "\n",
       "    .dataframe thead th {\n",
       "        text-align: right;\n",
       "    }\n",
       "</style>\n",
       "<table border=\"1\" class=\"dataframe\">\n",
       "  <thead>\n",
       "    <tr style=\"text-align: right;\">\n",
       "      <th></th>\n",
       "      <th>1</th>\n",
       "      <th>2</th>\n",
       "      <th>3</th>\n",
       "      <th>a</th>\n",
       "      <th>b</th>\n",
       "      <th>ab</th>\n",
       "    </tr>\n",
       "  </thead>\n",
       "  <tbody>\n",
       "    <tr>\n",
       "      <th>1</th>\n",
       "      <td>4</td>\n",
       "      <td>5.0</td>\n",
       "      <td>6.0</td>\n",
       "      <td>1.0</td>\n",
       "      <td>1.0</td>\n",
       "      <td>sr</td>\n",
       "    </tr>\n",
       "    <tr>\n",
       "      <th>2</th>\n",
       "      <td>44</td>\n",
       "      <td>55.0</td>\n",
       "      <td>66.0</td>\n",
       "      <td>1.0</td>\n",
       "      <td>1.0</td>\n",
       "      <td>NaN</td>\n",
       "    </tr>\n",
       "    <tr>\n",
       "      <th>66</th>\n",
       "      <td>1</td>\n",
       "      <td>2.0</td>\n",
       "      <td>3.0</td>\n",
       "      <td>4.0</td>\n",
       "      <td>5.0</td>\n",
       "      <td>NaN</td>\n",
       "    </tr>\n",
       "    <tr>\n",
       "      <th>xb</th>\n",
       "      <td>sr</td>\n",
       "      <td>NaN</td>\n",
       "      <td>NaN</td>\n",
       "      <td>NaN</td>\n",
       "      <td>NaN</td>\n",
       "      <td>NaN</td>\n",
       "    </tr>\n",
       "  </tbody>\n",
       "</table>\n",
       "</div>"
      ],
      "text/plain": [
       "     1     2     3    a    b   ab\n",
       "1    4   5.0   6.0  1.0  1.0   sr\n",
       "2   44  55.0  66.0  1.0  1.0  NaN\n",
       "66   1   2.0   3.0  4.0  5.0  NaN\n",
       "xb  sr   NaN   NaN  NaN  NaN  NaN"
      ]
     },
     "execution_count": 78,
     "metadata": {},
     "output_type": "execute_result"
    }
   ],
   "source": [
    "\"\"\"series可以按索引匹配，dict无法用于新增行或列\"\"\"\n",
    "df1.loc[:,'ab'] = pd.Series({1:'sr',8:'sr'})\n",
    "df1.loc['xb'] = pd.Series({1:'sr',8:'sr'})\n",
    "df1"
   ]
  },
  {
   "cell_type": "markdown",
   "metadata": {},
   "source": [
    "### 删除操作"
   ]
  },
  {
   "cell_type": "code",
   "execution_count": 59,
   "metadata": {},
   "outputs": [],
   "source": [
    "df1 = pd.DataFrame([[4,5,6],[44,55,66]],columns=[1, 2, 'c'], index=range(1,3), dtype='int')  # the dtype parameter assignment all columns\n",
    "\"\"\"可分别对行或列删除，按值索引\"\"\"\n",
    "_ = df1.drop([1,'c'], axis=1)  # delete by label, create new, can multi column each time\n",
    "\"\"\"del方法只能删除列\"\"\"\n",
    "del df1[1]  # delete by label, in place, one column each time"
   ]
  },
  {
   "cell_type": "markdown",
   "metadata": {},
   "source": [
    "### filter操作"
   ]
  },
  {
   "cell_type": "code",
   "execution_count": 49,
   "metadata": {},
   "outputs": [
    {
     "data": {
      "text/html": [
       "<div>\n",
       "<style scoped>\n",
       "    .dataframe tbody tr th:only-of-type {\n",
       "        vertical-align: middle;\n",
       "    }\n",
       "\n",
       "    .dataframe tbody tr th {\n",
       "        vertical-align: top;\n",
       "    }\n",
       "\n",
       "    .dataframe thead th {\n",
       "        text-align: right;\n",
       "    }\n",
       "</style>\n",
       "<table border=\"1\" class=\"dataframe\">\n",
       "  <thead>\n",
       "    <tr style=\"text-align: right;\">\n",
       "      <th></th>\n",
       "      <th>1</th>\n",
       "      <th>2</th>\n",
       "      <th>c</th>\n",
       "    </tr>\n",
       "  </thead>\n",
       "  <tbody>\n",
       "    <tr>\n",
       "      <th>1</th>\n",
       "      <td>NaN</td>\n",
       "      <td>NaN</td>\n",
       "      <td>NaN</td>\n",
       "    </tr>\n",
       "    <tr>\n",
       "      <th>2</th>\n",
       "      <td>44.0</td>\n",
       "      <td>55.0</td>\n",
       "      <td>66.0</td>\n",
       "    </tr>\n",
       "  </tbody>\n",
       "</table>\n",
       "</div>"
      ],
      "text/plain": [
       "      1     2     c\n",
       "1   NaN   NaN   NaN\n",
       "2  44.0  55.0  66.0"
      ]
     },
     "execution_count": 49,
     "metadata": {},
     "output_type": "execute_result"
    }
   ],
   "source": [
    "df1 = pd.DataFrame([[4,5,6],[44,55,66]],columns=[1, 2, 'c'], index=range(1,3), dtype='int')  # the dtype parameter assignment all columns\n",
    "\"\"\"\n",
    "df1[df1['column'].isin([1,2,3,4])]\n",
    "df1[df1['column'] >= 66]\n",
    "df1[df1['column'].map(lambda x: 'str' in x)]\n",
    "\"\"\"\n",
    "\"\"\"逻辑判断技巧，每个判断要加个括号，再用*或+连起来，*替代and，+替代or\"\"\"\n",
    "(df['col1']==1) * (df['col2']==6)\n",
    "(df['col1']==1) + (df['col2']==6)\n",
    "\"\"\"filter at cell, NaN or value\"\"\"\n",
    "df1[df1>10]"
   ]
  },
  {
   "cell_type": "markdown",
   "metadata": {},
   "source": [
    "### value操作"
   ]
  },
  {
   "cell_type": "code",
   "execution_count": 17,
   "metadata": {},
   "outputs": [
    {
     "data": {
      "text/plain": [
       "True"
      ]
     },
     "execution_count": 17,
     "metadata": {},
     "output_type": "execute_result"
    }
   ],
   "source": [
    "df1 = pd.DataFrame([[4,5,6],[44,55,66]],columns=[1, 2, 'c'], index=range(1,3), dtype='int')  # the dtype parameter assignment all columns\n",
    "\"\"\"return numpy\"\"\"\n",
    "df1.values\n",
    "\"\"\"tolist is a method of numpy\"\"\"\n",
    "df1.values.tolist()\n",
    "\"\"\"tolist is a method of series\"\"\"\n",
    "df1['c'].tolist() == df1['c'].values.tolist()\n",
    "\"\"\"transposition\"\"\"\n",
    "df1.T.values.tolist() == df1.values.T.tolist()"
   ]
  },
  {
   "cell_type": "markdown",
   "metadata": {},
   "source": [
    "### series运算"
   ]
  },
  {
   "cell_type": "code",
   "execution_count": 9,
   "metadata": {},
   "outputs": [
    {
     "data": {
      "text/plain": [
       "0    1.000000\n",
       "1    2.718282\n",
       "2    7.389056\n",
       "dtype: float64"
      ]
     },
     "execution_count": 9,
     "metadata": {},
     "output_type": "execute_result"
    }
   ],
   "source": [
    "sr1 = pd.Series(range(3))\n",
    "sr2 = pd.Series(range(3),index=range(1,4))\n",
    "\"\"\"series相加是按index对齐的\"\"\"\n",
    "sr1+sr2\n",
    "\"\"\"每个元素*2\"\"\"\n",
    "sr1*2\n",
    "\"\"\"每个元素进行e的幂运算\"\"\"\n",
    "np.exp(sr1)"
   ]
  },
  {
   "cell_type": "markdown",
   "metadata": {},
   "source": [
    "### 运算"
   ]
  },
  {
   "cell_type": "code",
   "execution_count": 36,
   "metadata": {},
   "outputs": [],
   "source": [
    "df1.info()  # 显示每一列的缺失值数，以及列的数据类型\n",
    "df1.describe()"
   ]
  },
  {
   "cell_type": "code",
   "execution_count": 35,
   "metadata": {},
   "outputs": [],
   "source": [
    "\"\"\"运算\"\"\"\n",
    "df1 = pd.DataFrame(np.arange(6).reshape(2,3), columns=list('xyz'), index=list('ab'))\n",
    "df2 = pd.DataFrame(np.ones([2,2]), columns=list('xy'), index=list('ac'))\n",
    "sr1 = pd.Series([-6,-6], index=list('ax'))"
   ]
  },
  {
   "cell_type": "code",
   "execution_count": 42,
   "metadata": {},
   "outputs": [
    {
     "data": {
      "text/html": [
       "<div>\n",
       "<style scoped>\n",
       "    .dataframe tbody tr th:only-of-type {\n",
       "        vertical-align: middle;\n",
       "    }\n",
       "\n",
       "    .dataframe tbody tr th {\n",
       "        vertical-align: top;\n",
       "    }\n",
       "\n",
       "    .dataframe thead th {\n",
       "        text-align: right;\n",
       "    }\n",
       "</style>\n",
       "<table border=\"1\" class=\"dataframe\">\n",
       "  <thead>\n",
       "    <tr style=\"text-align: right;\">\n",
       "      <th></th>\n",
       "      <th>x</th>\n",
       "      <th>y</th>\n",
       "      <th>z</th>\n",
       "    </tr>\n",
       "  </thead>\n",
       "  <tbody>\n",
       "    <tr>\n",
       "      <th>a</th>\n",
       "      <td>1.0</td>\n",
       "      <td>2.0</td>\n",
       "      <td>68.0</td>\n",
       "    </tr>\n",
       "    <tr>\n",
       "      <th>b</th>\n",
       "      <td>69.0</td>\n",
       "      <td>70.0</td>\n",
       "      <td>71.0</td>\n",
       "    </tr>\n",
       "    <tr>\n",
       "      <th>c</th>\n",
       "      <td>67.0</td>\n",
       "      <td>67.0</td>\n",
       "      <td>NaN</td>\n",
       "    </tr>\n",
       "  </tbody>\n",
       "</table>\n",
       "</div>"
      ],
      "text/plain": [
       "      x     y     z\n",
       "a   1.0   2.0  68.0\n",
       "b  69.0  70.0  71.0\n",
       "c  67.0  67.0   NaN"
      ]
     },
     "execution_count": 42,
     "metadata": {},
     "output_type": "execute_result"
    }
   ],
   "source": [
    "abs(df1)\n",
    "-df1\n",
    "(-df1).abs()\n",
    "df1 - sr1  # 按索引对齐，未能匹配的返回NaN, 默认沿axis=0广播\n",
    "df1 + df2  # 按索引对齐，未能匹配的返回NaN\n",
    "\"\"\"df与series的add, sub, div, mul 操作, 只举了mul的例子，其他一样\"\"\"\n",
    "df1.mul(sr1, axis=0)  # 按索引对齐，未能匹配的返回NaN, 默认沿axis=0广播\n",
    "\"\"\"两个df之间的add, sub, div, mul 操作, 只举了add的例子，其他一样\"\"\"\n",
    "df1.add(df2, fill_value=66)  # 二者仅1个有缺失值，则使用fill_value，如果2个frame都是NaN，则fill_value无效，单元格返回NaN。"
   ]
  },
  {
   "cell_type": "code",
   "execution_count": 20,
   "metadata": {},
   "outputs": [
    {
     "data": {
      "text/plain": [
       "666"
      ]
     },
     "execution_count": 20,
     "metadata": {},
     "output_type": "execute_result"
    }
   ],
   "source": [
    "\"\"\"apply to columns\"\"\"\n",
    "df = pd.DataFrame(np.ones([2,2]),columns=[11,12])\n",
    "list(df)\n",
    "set(df)\n",
    "sum(df)\n",
    "df = pd.DataFrame([[1,2,3]],columns=['abc','zabc','zaaa'])\n",
    "max(df)  # columns must be pure numbers or pure strings\n",
    "min(df)  # columns must be pure numbers or pure strings\n",
    "sorted(df)  # columns must be pure numbers or pure strings\n",
    "\"\"\"apply to rows\"\"\"\n",
    "len(df)  \n",
    "\"\"\"apply to cell\"\"\"\n",
    "df = pd.DataFrame(-np.ones([2,2]),columns=[11,12])\n",
    "abs(df)\n",
    "\"\"\"convert series by columns\"\"\"\n",
    "df = pd.DataFrame([[1,2,3]],columns=['abc','zabc','zaaa'])\n",
    "dict(df)\n",
    "666"
   ]
  },
  {
   "cell_type": "code",
   "execution_count": 44,
   "metadata": {},
   "outputs": [
    {
     "data": {
      "text/plain": [
       "0"
      ]
     },
     "execution_count": 44,
     "metadata": {},
     "output_type": "execute_result"
    }
   ],
   "source": [
    "\"\"\"dataframe支持的运算（series未测试）count, min, max, quantile(0.5), sum, mean, median, mad, var, std, \n",
    "skew, skurt, cumsum, cumprod, cummin, cummax\"\"\"\n",
    "df1.count(axis=0, numeric_only=True)  # 默认axis=0, count是统计非空值的（非空定义未测试）, numeric_only是指的列类型为数值\n",
    "\"\"\"仅series支持的idxmin, idxmax, values.argmin, values.argmax\"\"\"\n",
    "df1['x'].idxmin()  # 返回对应的索引\n",
    "df1['x'].values.argmin()  # 返回对应的位置，这里本质使用的numpy的方法。"
   ]
  },
  {
   "cell_type": "code",
   "execution_count": 45,
   "metadata": {},
   "outputs": [
    {
     "data": {
      "text/plain": [
       "x    1.0\n",
       "y    1.0\n",
       "z    1.0\n",
       "dtype: float64"
      ]
     },
     "execution_count": 45,
     "metadata": {},
     "output_type": "execute_result"
    }
   ],
   "source": [
    "\"\"\"行与行之间的计算\"\"\"\n",
    "df1.diff(axis=0)  # 下一行减前一行的差值，可用于series\n",
    "df1.pct_change(axis=0)  # 下一行除以上一行，再减去1\n",
    "df1.corr()  # 相关系数，只有列之间的计算，且是所有列，不能筛选列\n",
    "df1.cov()  # 协方差，用法同上\n",
    "sr2 = df1.loc[:,'x']\n",
    "sr2.corr(sr2)  # series之间计算相关系数\n",
    "df1.corrwith(sr2, axis=0)  # df与series之间计算相关系数，要求索引对应上，且可以按行或列计算。"
   ]
  },
  {
   "cell_type": "code",
   "execution_count": 16,
   "metadata": {},
   "outputs": [
    {
     "data": {
      "text/plain": [
       "array([0, 3], dtype=int64)"
      ]
     },
     "execution_count": 16,
     "metadata": {},
     "output_type": "execute_result"
    }
   ],
   "source": [
    "\"\"\"unique只适用series，不适用df，如df1[['x']]\"\"\"\n",
    "df1['x'].unique()  # return ndarray"
   ]
  },
  {
   "cell_type": "code",
   "execution_count": 23,
   "metadata": {},
   "outputs": [
    {
     "data": {
      "text/html": [
       "<div>\n",
       "<style scoped>\n",
       "    .dataframe tbody tr th:only-of-type {\n",
       "        vertical-align: middle;\n",
       "    }\n",
       "\n",
       "    .dataframe tbody tr th {\n",
       "        vertical-align: top;\n",
       "    }\n",
       "\n",
       "    .dataframe thead th {\n",
       "        text-align: right;\n",
       "    }\n",
       "</style>\n",
       "<table border=\"1\" class=\"dataframe\">\n",
       "  <thead>\n",
       "    <tr style=\"text-align: right;\">\n",
       "      <th></th>\n",
       "      <th>x</th>\n",
       "      <th>y</th>\n",
       "      <th>z</th>\n",
       "    </tr>\n",
       "  </thead>\n",
       "  <tbody>\n",
       "    <tr>\n",
       "      <th>a</th>\n",
       "      <td>True</td>\n",
       "      <td>True</td>\n",
       "      <td>False</td>\n",
       "    </tr>\n",
       "    <tr>\n",
       "      <th>b</th>\n",
       "      <td>False</td>\n",
       "      <td>False</td>\n",
       "      <td>False</td>\n",
       "    </tr>\n",
       "  </tbody>\n",
       "</table>\n",
       "</div>"
      ],
      "text/plain": [
       "       x      y      z\n",
       "a   True   True  False\n",
       "b  False  False  False"
      ]
     },
     "execution_count": 23,
     "metadata": {},
     "output_type": "execute_result"
    }
   ],
   "source": [
    "\"\"\"isin同时适用df和series，分别返回df或series\"\"\"\n",
    "df1['x'].isin([0,1])\n",
    "df1.isin([0,1])"
   ]
  },
  {
   "cell_type": "code",
   "execution_count": 34,
   "metadata": {},
   "outputs": [
    {
     "data": {
      "text/html": [
       "<div>\n",
       "<style scoped>\n",
       "    .dataframe tbody tr th:only-of-type {\n",
       "        vertical-align: middle;\n",
       "    }\n",
       "\n",
       "    .dataframe tbody tr th {\n",
       "        vertical-align: top;\n",
       "    }\n",
       "\n",
       "    .dataframe thead th {\n",
       "        text-align: right;\n",
       "    }\n",
       "</style>\n",
       "<table border=\"1\" class=\"dataframe\">\n",
       "  <thead>\n",
       "    <tr style=\"text-align: right;\">\n",
       "      <th></th>\n",
       "      <th>0</th>\n",
       "      <th>1</th>\n",
       "      <th>2</th>\n",
       "      <th>3</th>\n",
       "      <th>4</th>\n",
       "      <th>5</th>\n",
       "    </tr>\n",
       "  </thead>\n",
       "  <tbody>\n",
       "    <tr>\n",
       "      <th>a</th>\n",
       "      <td>1.0</td>\n",
       "      <td>1.0</td>\n",
       "      <td>1.0</td>\n",
       "      <td>NaN</td>\n",
       "      <td>NaN</td>\n",
       "      <td>NaN</td>\n",
       "    </tr>\n",
       "    <tr>\n",
       "      <th>b</th>\n",
       "      <td>NaN</td>\n",
       "      <td>NaN</td>\n",
       "      <td>NaN</td>\n",
       "      <td>1.0</td>\n",
       "      <td>1.0</td>\n",
       "      <td>1.0</td>\n",
       "    </tr>\n",
       "  </tbody>\n",
       "</table>\n",
       "</div>"
      ],
      "text/plain": [
       "     0    1    2    3    4    5\n",
       "a  1.0  1.0  1.0  NaN  NaN  NaN\n",
       "b  NaN  NaN  NaN  1.0  1.0  1.0"
      ]
     },
     "execution_count": 34,
     "metadata": {},
     "output_type": "execute_result"
    }
   ],
   "source": [
    "\"\"\"value_counts只适用于series，可通过apply用于df\"\"\"\n",
    "df1['x'].value_counts()  # 统计各值的频次，数值也可以统计\n",
    "pd.value_counts(df1['x'],sort=True)  # 顶级函数可排序\n",
    "df1.apply(pd.value_counts,axis=1) # 计算各行或各列的计数，返回df"
   ]
  },
  {
   "cell_type": "markdown",
   "metadata": {},
   "source": [
    "### 其他待整理"
   ]
  },
  {
   "cell_type": "code",
   "execution_count": null,
   "metadata": {},
   "outputs": [],
   "source": [
    "\"\"\"\n",
    "注意：如果该col类型为dtype='category'，则df会记录该列的所有种类，\n",
    "在valuecounts时，虽然某种数据全部删除了，count结果仍会保留该类，且记数值为0。\n",
    "pd.qcut产生的就是category类型。\n",
    "\"\"\"\n",
    "df['col'].value_counts()\n"
   ]
  },
  {
   "cell_type": "markdown",
   "metadata": {},
   "source": [
    "### 其他"
   ]
  },
  {
   "cell_type": "code",
   "execution_count": null,
   "metadata": {},
   "outputs": [],
   "source": [
    "\"\"\"查看某索引值是否在obj中，返回bool\"\"\"\n",
    "2 in sr1\n",
    "\"\"\"为啥这两句都返回Ture，因为in是对索引判断的，而True被看作1，False被看作0\"\"\"\n",
    "True in pd.Series([False, False])  # True\n",
    "False in pd.Series([True, True])  # True\n",
    "True in pd.Series([False, False],index=[2,3])  # False"
   ]
  },
  {
   "cell_type": "code",
   "execution_count": 13,
   "metadata": {},
   "outputs": [
    {
     "data": {
      "text/plain": [
       "0    True\n",
       "1    True\n",
       "2    True\n",
       "dtype: bool"
      ]
     },
     "execution_count": 13,
     "metadata": {},
     "output_type": "execute_result"
    }
   ],
   "source": [
    "\"\"\"多个series逻辑判断无法用and和or时，可用（+*|&）代替\n",
    "建议用(|&)，因为numexpr库不支持(+*)\n",
    "\"\"\"\n",
    "s01 = pd.Series([True,True,False])\n",
    "s02 = pd.Series([True,True,False])\n",
    "s03 = pd.Series([True,False,False])\n",
    "s01 + s02 + s03 == s01 | s02 | s03\n",
    "s01 * s02 * s03 == s01 & s02 & s03"
   ]
  }
 ],
 "metadata": {
  "kernelspec": {
   "display_name": "Python 3",
   "language": "python",
   "name": "python3"
  },
  "language_info": {
   "codemirror_mode": {
    "name": "ipython",
    "version": 3
   },
   "file_extension": ".py",
   "mimetype": "text/x-python",
   "name": "python",
   "nbconvert_exporter": "python",
   "pygments_lexer": "ipython3",
   "version": "3.7.3"
  }
 },
 "nbformat": 4,
 "nbformat_minor": 4
}
