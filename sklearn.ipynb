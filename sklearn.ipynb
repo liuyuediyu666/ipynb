{
 "cells": [
  {
   "cell_type": "markdown",
   "metadata": {},
   "source": [
    "# sklearn"
   ]
  },
  {
   "cell_type": "code",
   "execution_count": 1,
   "metadata": {},
   "outputs": [
    {
     "name": "stdout",
     "output_type": "stream",
     "text": [
      "1.0\n"
     ]
    },
    {
     "data": {
      "text/plain": [
       "dict_keys(['fit_intercept', 'normalize', 'copy_X', 'n_jobs', 'coef_', '_residues', 'rank_', 'singular_', 'intercept_'])"
      ]
     },
     "execution_count": 1,
     "metadata": {},
     "output_type": "execute_result"
    }
   ],
   "source": [
    "#mod.__dict__用法\n",
    "from sklearn.linear_model import LinearRegression\n",
    "import numpy as np\n",
    "x = [[1],[2],[3]];y = [1,2,3]\n",
    "line_mod = LinearRegression()\n",
    "line_mod.fit(x,y)\n",
    "print(line_mod.score(x,y))  #R2 coefficient of detemination\n",
    "line_mod.__dict__.keys()"
   ]
  },
  {
   "cell_type": "code",
   "execution_count": 103,
   "metadata": {},
   "outputs": [
    {
     "data": {
      "text/plain": [
       "dict_keys(['explained_variance', 'r2', 'max_error', 'neg_median_absolute_error', 'neg_mean_absolute_error', 'neg_mean_squared_error', 'neg_mean_squared_log_error', 'neg_root_mean_squared_error', 'neg_mean_poisson_deviance', 'neg_mean_gamma_deviance', 'accuracy', 'roc_auc', 'roc_auc_ovr', 'roc_auc_ovo', 'roc_auc_ovr_weighted', 'roc_auc_ovo_weighted', 'balanced_accuracy', 'average_precision', 'neg_log_loss', 'neg_brier_score', 'adjusted_rand_score', 'homogeneity_score', 'completeness_score', 'v_measure_score', 'mutual_info_score', 'adjusted_mutual_info_score', 'normalized_mutual_info_score', 'fowlkes_mallows_score', 'precision', 'precision_macro', 'precision_micro', 'precision_samples', 'precision_weighted', 'recall', 'recall_macro', 'recall_micro', 'recall_samples', 'recall_weighted', 'f1', 'f1_macro', 'f1_micro', 'f1_samples', 'f1_weighted', 'jaccard', 'jaccard_macro', 'jaccard_micro', 'jaccard_samples', 'jaccard_weighted'])"
      ]
     },
     "execution_count": 103,
     "metadata": {},
     "output_type": "execute_result"
    }
   ],
   "source": [
    "#打印所有模型评估方法\n",
    "import sklearn\n",
    "sklearn.metrics.SCORERS.keys()"
   ]
  },
  {
   "cell_type": "code",
   "execution_count": 104,
   "metadata": {},
   "outputs": [],
   "source": [
    "#toydata导出csv\n",
    "import os\n",
    "import numpy as np\n",
    "import pandas as pd\n",
    "from sklearn.datasets import load_boston\n",
    "data_name = 'load_boston'\n",
    "save_path = '.\\\\toy_datas'\n",
    "def toy2csv(data_name, save_path):\n",
    "    raw_toy = eval(data_name)()\n",
    "    toy_df = pd.DataFrame(np.hstack([raw_toy.data, raw_toy.target.reshape(raw_toy.target.shape[0],1)]),\n",
    "    columns=np.concatenate([raw_toy.feature_names,np.array(['label'])]))\n",
    "    toy_df.to_csv(os.path.join(save_path,data_name.split('.')[-1] + '.csv'),index=False)\n",
    "toy2csv(data_name, save_path)"
   ]
  },
  {
   "cell_type": "code",
   "execution_count": 105,
   "metadata": {},
   "outputs": [],
   "source": [
    "#造数据\n",
    "from sklearn.datasets import make_regression,make_classification\n",
    "x,y = make_regression(n_samples=100,n_features=2,n_targets=1,noise=10)\n",
    "x,y = make_classification(n_samples=300, n_features=2, n_redundant=0, n_informative=2, n_clusters_per_class=1, scale=100)"
   ]
  },
  {
   "cell_type": "code",
   "execution_count": 106,
   "metadata": {},
   "outputs": [
    {
     "data": {
      "text/plain": [
       "array([[-0.4484455 , -0.97430073,  0.09942149],\n",
       "       [ 1.58500167,  0.46262063,  1.08283385],\n",
       "       [-1.13431093, -0.90730482, -1.6203804 ],\n",
       "       [-0.00224524,  1.41898492,  0.43812506]])"
      ]
     },
     "execution_count": 106,
     "metadata": {},
     "output_type": "execute_result"
    }
   ],
   "source": [
    "#preprocessing.scale\n",
    "import numpy as np\n",
    "from sklearn import preprocessing\n",
    "x = (np.random.randn(12)*100).reshape(4,3)\n",
    "x_norm = preprocessing.scale(x)\n",
    "x_norm"
   ]
  },
  {
   "cell_type": "code",
   "execution_count": 107,
   "metadata": {},
   "outputs": [
    {
     "data": {
      "text/plain": [
       "0.9555555555555556"
      ]
     },
     "execution_count": 107,
     "metadata": {},
     "output_type": "execute_result"
    }
   ],
   "source": [
    "# knn\n",
    "from sklearn.datasets import load_iris\n",
    "from sklearn.neighbors import KNeighborsClassifier\n",
    "from sklearn.model_selection import train_test_split\n",
    "iris = load_iris();iris_x = iris.data;iris_y = iris.target\n",
    "x_train,x_test,y_train,y_test = train_test_split(iris_x,iris_y,test_size=0.3)\n",
    "knn = KNeighborsClassifier(n_neighbors=5)\n",
    "knn.fit(x_train,y_train)\n",
    "knn.predict(x_test)\n",
    "knn.score(x_test, y_test)"
   ]
  },
  {
   "cell_type": "code",
   "execution_count": 108,
   "metadata": {},
   "outputs": [
    {
     "name": "stdout",
     "output_type": "stream",
     "text": [
      "[0.96, 0.9533333333333334, 0.9666666666666666, 0.9666666666666666, 0.9666666666666668, 0.9666666666666668, 0.9666666666666668, 0.9666666666666668, 0.9733333333333334, 0.9666666666666668, 0.9666666666666668, 0.9733333333333334, 0.9800000000000001, 0.9733333333333334, 0.9733333333333334, 0.9733333333333334, 0.9733333333333334, 0.9800000000000001, 0.9733333333333334, 0.9800000000000001, 0.9666666666666666, 0.9666666666666666, 0.9733333333333334, 0.96, 0.9666666666666666, 0.96, 0.9666666666666666, 0.9533333333333334, 0.9533333333333334, 0.9533333333333334]\n"
     ]
    }
   ],
   "source": [
    "#model_selection.cross_val_score\n",
    "from sklearn.model_selection import cross_val_score\n",
    "from sklearn.neighbors import KNeighborsClassifier\n",
    "from sklearn.datasets import load_iris\n",
    "iris = load_iris(); iris_x=iris.data; iris_y = iris.target\n",
    "k_range = range(1,31)\n",
    "k_scores = []\n",
    "for k in k_range:\n",
    "    knn = KNeighborsClassifier(n_neighbors=k)\n",
    "    scores = cross_val_score(knn, iris_x, iris_y, cv=10, scoring='accuracy')\n",
    "    k_scores.append(scores.mean())\n",
    "print(k_scores)"
   ]
  },
  {
   "cell_type": "code",
   "execution_count": 109,
   "metadata": {},
   "outputs": [
    {
     "name": "stdout",
     "output_type": "stream",
     "text": [
      "[0.02236025 0.00891089 0.00519802 0.00313531 0.00519481]\n",
      "[0.77852576 0.31707325 0.15642768 0.11298262 0.07626319]\n"
     ]
    }
   ],
   "source": [
    "#model_selection.learning_curve\n",
    "from sklearn.model_selection import learning_curve\n",
    "from sklearn.datasets import load_digits\n",
    "from sklearn.svm import SVC\n",
    "import numpy as np\n",
    "digits = load_digits(); x = digits.data; y = digits.target\n",
    "train_sizes, train_loss, test_loss = learning_curve(SVC(gamma=0.001), x, y, cv=10, scoring='neg_mean_absolute_error', train_sizes=[0.1, 0.25, 0.5, 0.75, 1])\n",
    "train_loss_mean = -np.mean(train_loss, axis=1)\n",
    "test_loss_mean = -np.mean(test_loss, axis=1)\n",
    "print(train_loss_mean)\n",
    "print(test_loss_mean)"
   ]
  },
  {
   "cell_type": "code",
   "execution_count": 110,
   "metadata": {},
   "outputs": [
    {
     "name": "stdout",
     "output_type": "stream",
     "text": [
      "[ 2.62557526  0.3591164   0.09002674  0.00890408 -0.        ]\n",
      "[2.65036934 0.47471757 0.21270329 0.08906269 0.33278709]\n"
     ]
    }
   ],
   "source": [
    "#model_selection.validation_curve\n",
    "from sklearn.model_selection import validation_curve\n",
    "from sklearn.datasets import load_digits\n",
    "from sklearn.svm import SVC\n",
    "import numpy as np\n",
    "digits = load_digits(); x = digits.data; y = digits.target\n",
    "param_range = np.logspace(-6, -2.3, 5)\n",
    "train_loss, test_loss = validation_curve(SVC(), x, y,param_name='gamma',param_range=param_range,cv=10, scoring='neg_mean_absolute_error')\n",
    "train_loss_mean = -np.mean(train_loss, axis=1)\n",
    "test_loss_mean = -np.mean(test_loss, axis=1)\n",
    "print(train_loss_mean)\n",
    "print(test_loss_mean)"
   ]
  },
  {
   "cell_type": "code",
   "execution_count": 111,
   "metadata": {},
   "outputs": [
    {
     "name": "stdout",
     "output_type": "stream",
     "text": [
      "1.0\n",
      "[0 0 0 1 0]\n",
      "[0 0 0 1 0 0 0]\n"
     ]
    }
   ],
   "source": [
    "#svm\n",
    "from sklearn import datasets\n",
    "from sklearn import preprocessing\n",
    "from sklearn import model_selection as modsel\n",
    "from sklearn import svm\n",
    "x,y = datasets.make_classification(n_samples=300, n_features=2, n_redundant=0, n_informative=2, n_clusters_per_class=1, scale=100)\n",
    "x = preprocessing.scale(x)\n",
    "x_train, x_test, y_train, y_test = modsel.train_test_split(x, y, test_size=0.3)\n",
    "clf = svm.SVC()\n",
    "clf.fit(x_train, y_train)\n",
    "print(clf.score(x_test,y_test))\n",
    "import pickle\n",
    "with open('.\\\\mod_restore\\\\pickle_clf.pickle', 'wb') as f:\n",
    "    pickle.dump(clf, f)\n",
    "with open('.\\\\mod_restore\\\\pickle_clf.pickle', 'rb') as f:\n",
    "    clf2 = pickle.load(f)\n",
    "print(clf2.predict(x[0:5]))\n",
    "from sklearn.externals import joblib\n",
    "joblib.dump(clf, '.\\\\mod_restore\\\\joblib_clf.pkl')\n",
    "clf3 = joblib.load('.\\\\mod_restore\\\\joblib_clf.pkl')\n",
    "print(clf3.predict(x[0:7]))"
   ]
  }
 ],
 "metadata": {
  "kernelspec": {
   "display_name": "Python 3",
   "language": "python",
   "name": "python3"
  },
  "language_info": {
   "codemirror_mode": {
    "name": "ipython",
    "version": 3
   },
   "file_extension": ".py",
   "mimetype": "text/x-python",
   "name": "python",
   "nbconvert_exporter": "python",
   "pygments_lexer": "ipython3",
   "version": "3.7.3"
  }
 },
 "nbformat": 4,
 "nbformat_minor": 2
}
