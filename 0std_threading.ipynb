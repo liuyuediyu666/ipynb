{
 "cells": [
  {
   "cell_type": "markdown",
   "metadata": {},
   "source": [
    "Python的标准库提供了两个模块：_thread和threading，_thread是低级模块，threading是高级模块，对_thread进行了封装。  \n",
    "英文文档  \n",
    "https://docs.python.org/3.6/library/threading.html  \n",
    "中文材料   \n",
    "https://blog.csdn.net/l835311324/article/details/86608850  \n",
    "https://www.cnblogs.com/ygbh/p/11990315.html  \n",
    "https://www.cnblogs.com/enet01/p/6027368.html  \n",
    "https://www.cnblogs.com/tkqasn/p/5700281.html  \n",
    "https://www.dazhuanlan.com/2019/11/28/5ddf738b5e5bc/   \n",
    "https://blog.csdn.net/brucewong0516  \n",
    "https://blog.csdn.net/brucewong0516/article/details/84025027  \n",
    "https://blog.csdn.net/brucewong0516/article/details/81028716  \n",
    "https://blog.csdn.net/brucewong0516/article/details/81050939  \n",
    "https://blog.csdn.net/brucewong0516/article/details/84587522  \n",
    "https://blog.csdn.net/brucewong0516/article/details/84588804  \n",
    "https://blog.csdn.net/brucewong0516/article/details/84589616  \n",
    "https://blog.csdn.net/brucewong0516/article/details/84589806  \n",
    "https://www.cnblogs.com/yoyoketang/p/8337118.html  "
   ]
  },
  {
   "cell_type": "code",
   "execution_count": 5,
   "metadata": {},
   "outputs": [],
   "source": [
    "import time, threading"
   ]
  },
  {
   "cell_type": "code",
   "execution_count": 19,
   "metadata": {},
   "outputs": [],
   "source": [
    "con1 = threading.Condition()"
   ]
  },
  {
   "cell_type": "code",
   "execution_count": 20,
   "metadata": {},
   "outputs": [
    {
     "data": {
      "text/plain": [
       "True"
      ]
     },
     "execution_count": 20,
     "metadata": {},
     "output_type": "execute_result"
    }
   ],
   "source": [
    "\"\"\"获取锁\"\"\"\n",
    "con1.acquire()"
   ]
  },
  {
   "cell_type": "code",
   "execution_count": 4,
   "metadata": {},
   "outputs": [],
   "source": [
    "\"\"\"通知所有正在等待的线程，notify和nofify_all不会释放锁，并且需要在release（）之前调用\"\"\"\n",
    "con1.notify_all() "
   ]
  },
  {
   "cell_type": "code",
   "execution_count": 5,
   "metadata": {},
   "outputs": [],
   "source": [
    "\"\"\"通知正在等待的某个线程，默认是第一个等待的线程\"\"\"\n",
    "con1.notify() "
   ]
  },
  {
   "cell_type": "code",
   "execution_count": null,
   "metadata": {},
   "outputs": [],
   "source": [
    "\"\"\"释放锁\"\"\"\n",
    "con1.release()"
   ]
  },
  {
   "cell_type": "code",
   "execution_count": null,
   "metadata": {},
   "outputs": [],
   "source": [
    "\"\"\"将当前线程处于等待状态，并释放锁。\n",
    "可以被其他线程使用notify和notify_all函数唤醒，被唤醒后会继续等待上锁，上锁后继续执行下面代码.\n",
    "\"\"\"\n",
    "con1.wait() "
   ]
  },
  {
   "cell_type": "code",
   "execution_count": 7,
   "metadata": {},
   "outputs": [],
   "source": [
    "\"\"\"注意1：wait()必须在已获得Lock前提下才能调用，也就是con1.acquire()。wait()会主动释放Lock。\n",
    "注意2：最后用了两个con1.release()，这是因为前面锁了两次，第一次是wait被f2的con1.notify()通知时自动取得锁，第二次是又在wait()后多写了一个con1.acquire()，这里就是为了提醒重复锁定问题。\n",
    "注意3：大家都是对con1这同一个变量进行操作，如果各自分开定义con1,con2则互相不能操作。\n",
    "注意4：可以认为，Condition除了Lock带有的锁定池外，还包含一个等待池，池中的线程处于状态图中的等待阻塞状态，直到另一个线程调用notify()/notifyAll()通知；得到通知后线程进入锁定池等待锁定。\n",
    "注意5：notify()不会主动释放Lock。所以最后要用con1.release()释放。\n",
    "\"\"\"\n",
    "def f1():\n",
    "    con1.acquire()\n",
    "    con1.notify()\n",
    "    print('f1b')\n",
    "    con1.wait()\n",
    "    print('f1c')\n",
    "    con1.acquire()\n",
    "    con1.notify()\n",
    "    con1.release()\n",
    "    con1.release()"
   ]
  },
  {
   "cell_type": "code",
   "execution_count": 8,
   "metadata": {},
   "outputs": [],
   "source": [
    "def f2():\n",
    "    con1.acquire()\n",
    "    con1.notify()\n",
    "    print('f2b')\n",
    "    con1.wait()\n",
    "    print('f2c')\n",
    "    con1.acquire()\n",
    "    con1.notify()\n",
    "    con1.release()"
   ]
  },
  {
   "cell_type": "code",
   "execution_count": 9,
   "metadata": {},
   "outputs": [],
   "source": [
    "t1 = threading.Thread(target=f1)\n",
    "t2 = threading.Thread(target=f2)"
   ]
  },
  {
   "cell_type": "code",
   "execution_count": 10,
   "metadata": {},
   "outputs": [
    {
     "name": "stdout",
     "output_type": "stream",
     "text": [
      "f1b\n"
     ]
    }
   ],
   "source": [
    "t1.start()"
   ]
  },
  {
   "cell_type": "code",
   "execution_count": 11,
   "metadata": {},
   "outputs": [
    {
     "name": "stdout",
     "output_type": "stream",
     "text": [
      "f2b\n",
      "f1c\n",
      "f2c\n"
     ]
    }
   ],
   "source": [
    "t2.start()"
   ]
  },
  {
   "cell_type": "markdown",
   "metadata": {},
   "source": [
    "____"
   ]
  },
  {
   "cell_type": "code",
   "execution_count": 12,
   "metadata": {},
   "outputs": [
    {
     "data": {
      "text/plain": [
       "[<_MainThread(MainThread, started 22412)>,\n",
       " <Thread(Thread-4, started daemon 24508)>,\n",
       " <Heartbeat(Thread-5, started daemon 2892)>,\n",
       " <HistorySavingThread(IPythonHistorySavingThread, started 23832)>,\n",
       " <ParentPollerWindows(Thread-3, started daemon 24824)>]"
      ]
     },
     "execution_count": 12,
     "metadata": {},
     "output_type": "execute_result"
    }
   ],
   "source": [
    "threading.enumerate()"
   ]
  },
  {
   "cell_type": "code",
   "execution_count": 5,
   "metadata": {},
   "outputs": [
    {
     "data": {
      "text/plain": [
       "5"
      ]
     },
     "execution_count": 5,
     "metadata": {},
     "output_type": "execute_result"
    }
   ],
   "source": [
    "threading.active_count()"
   ]
  },
  {
   "cell_type": "code",
   "execution_count": 6,
   "metadata": {},
   "outputs": [
    {
     "data": {
      "text/plain": [
       "<_MainThread(MainThread, started 14052)>"
      ]
     },
     "execution_count": 6,
     "metadata": {},
     "output_type": "execute_result"
    }
   ],
   "source": [
    "threading.current_thread()"
   ]
  },
  {
   "cell_type": "code",
   "execution_count": 7,
   "metadata": {},
   "outputs": [
    {
     "data": {
      "text/plain": [
       "14052"
      ]
     },
     "execution_count": 7,
     "metadata": {},
     "output_type": "execute_result"
    }
   ],
   "source": [
    "threading.get_ident()"
   ]
  },
  {
   "cell_type": "code",
   "execution_count": 8,
   "metadata": {},
   "outputs": [
    {
     "data": {
      "text/plain": [
       "<_MainThread(MainThread, started 14052)>"
      ]
     },
     "execution_count": 8,
     "metadata": {},
     "output_type": "execute_result"
    }
   ],
   "source": [
    "threading.main_thread()"
   ]
  },
  {
   "cell_type": "code",
   "execution_count": 9,
   "metadata": {},
   "outputs": [],
   "source": [
    "t = threading.Thread()"
   ]
  },
  {
   "cell_type": "code",
   "execution_count": 10,
   "metadata": {},
   "outputs": [],
   "source": [
    "t.setName('wanghl')"
   ]
  },
  {
   "cell_type": "code",
   "execution_count": 11,
   "metadata": {},
   "outputs": [
    {
     "data": {
      "text/plain": [
       "'wanghl'"
      ]
     },
     "execution_count": 11,
     "metadata": {},
     "output_type": "execute_result"
    }
   ],
   "source": [
    "t.getName()"
   ]
  },
  {
   "cell_type": "code",
   "execution_count": 12,
   "metadata": {},
   "outputs": [
    {
     "data": {
      "text/plain": [
       "'wanghl'"
      ]
     },
     "execution_count": 12,
     "metadata": {},
     "output_type": "execute_result"
    }
   ],
   "source": [
    "t.name"
   ]
  },
  {
   "cell_type": "code",
   "execution_count": 15,
   "metadata": {},
   "outputs": [],
   "source": [
    "t.ident"
   ]
  },
  {
   "cell_type": "code",
   "execution_count": 14,
   "metadata": {},
   "outputs": [
    {
     "data": {
      "text/plain": [
       "False"
      ]
     },
     "execution_count": 14,
     "metadata": {},
     "output_type": "execute_result"
    }
   ],
   "source": [
    "t.daemon"
   ]
  },
  {
   "cell_type": "code",
   "execution_count": 56,
   "metadata": {},
   "outputs": [
    {
     "name": "stdout",
     "output_type": "stream",
     "text": [
      "thread MainThread is running...\n",
      "thread LoopThread is running...\n",
      "thread LoopThread >>> 1\n",
      "thread LoopThread >>> 2\n",
      "thread LoopThread >>> 3\n",
      "thread LoopThread >>> 4\n",
      "thread LoopThread >>> 5\n",
      "thread LoopThread ended.\n",
      "thread MainThread ended.\n"
     ]
    }
   ],
   "source": [
    "\"\"\"新线程执行的代码:\"\"\"\n",
    "def loop():\n",
    "    print('thread %s is running...' % threading.current_thread().name)\n",
    "    n = 0\n",
    "    while n < 5:\n",
    "        n = n + 1\n",
    "        print('thread %s >>> %s' % (threading.current_thread().name, n))\n",
    "        time.sleep(1)\n",
    "    print('thread %s ended.' % threading.current_thread().name)\n",
    "\n",
    "print('thread %s is running...' % threading.current_thread().name)\n",
    "t = threading.Thread(target=loop, name='LoopThread')\n",
    "t.start()\n",
    "t.join()\n",
    "print('thread %s ended.' % threading.current_thread().name)"
   ]
  },
  {
   "cell_type": "code",
   "execution_count": 57,
   "metadata": {},
   "outputs": [
    {
     "name": "stdout",
     "output_type": "stream",
     "text": [
      "26\n"
     ]
    }
   ],
   "source": [
    "\"\"\"假定这是你的银行存款:\"\"\"\n",
    "\n",
    "balance = 0\n",
    "\n",
    "def change_it(n):\n",
    "    # 先存后取，结果应该为0:\n",
    "    global balance\n",
    "    balance = balance + n\n",
    "    balance = balance - n\n",
    "\n",
    "def run_thread(n):\n",
    "    for i in range(2000000):\n",
    "        change_it(n)\n",
    "\n",
    "t1 = threading.Thread(target=run_thread, args=(5,))\n",
    "t2 = threading.Thread(target=run_thread, args=(8,))\n",
    "t1.start()\n",
    "t2.start()\n",
    "t1.join()\n",
    "t2.join()\n",
    "print(balance)"
   ]
  },
  {
   "cell_type": "code",
   "execution_count": 58,
   "metadata": {},
   "outputs": [
    {
     "name": "stdout",
     "output_type": "stream",
     "text": [
      "0\n"
     ]
    }
   ],
   "source": [
    "balance = 0\n",
    "lock = threading.Lock()\n",
    "\n",
    "def change_it(n):\n",
    "    # 先存后取，结果应该为0:\n",
    "    global balance\n",
    "    balance = balance + n\n",
    "    balance = balance - n\n",
    "    \n",
    "def run_thread(n):\n",
    "    for i in range(100000):\n",
    "        # 先要获取锁:\n",
    "        lock.acquire()\n",
    "        try:\n",
    "            # 放心地改吧:\n",
    "            change_it(n)\n",
    "        finally:\n",
    "            # 改完了一定要释放锁:\n",
    "            lock.release()\n",
    "t1 = threading.Thread(target=run_thread, args=(5,))\n",
    "t2 = threading.Thread(target=run_thread, args=(8,))\n",
    "t1.start()\n",
    "t2.start()\n",
    "t1.join()\n",
    "t2.join()\n",
    "print(balance)"
   ]
  },
  {
   "cell_type": "code",
   "execution_count": 60,
   "metadata": {},
   "outputs": [],
   "source": [
    "\"\"\"每个函数一层一层调用都这么传参数那还得了？用全局变量？也不行，因为每个线程处理不同的Student对象，不能共享。\n",
    "\"\"\"\n",
    "def process_student(name):\n",
    "    std = Student(name)\n",
    "    # std是局部变量，但是每个函数都要用它，因此必须传进去：\n",
    "    do_task_1(std)\n",
    "    do_task_2(std)\n",
    "\n",
    "def do_task_1(std):\n",
    "    do_subtask_1(std)\n",
    "    do_subtask_2(std)\n",
    "\n",
    "def do_task_2(std):\n",
    "    do_subtask_2(std)\n",
    "    do_subtask_2(std)"
   ]
  },
  {
   "cell_type": "code",
   "execution_count": 59,
   "metadata": {},
   "outputs": [],
   "source": [
    "global_dict = {}\n",
    "\n",
    "def std_thread(name):\n",
    "    std = Student(name)\n",
    "    # 把std放到全局变量global_dict中：\n",
    "    global_dict[threading.current_thread()] = std\n",
    "    do_task_1()\n",
    "    do_task_2()\n",
    "\n",
    "def do_task_1():\n",
    "    # 不传入std，而是根据当前线程查找：\n",
    "    std = global_dict[threading.current_thread()]\n",
    "    ...\n",
    "\n",
    "def do_task_2():\n",
    "    # 任何函数都可以查找出当前线程的std变量：\n",
    "    std = global_dict[threading.current_thread()]\n",
    "    ..."
   ]
  },
  {
   "cell_type": "code",
   "execution_count": 50,
   "metadata": {},
   "outputs": [
    {
     "name": "stdout",
     "output_type": "stream",
     "text": [
      "Hello, Alice (in Thread-A)\n",
      "Hello, Bob (in Thread-B)\n"
     ]
    }
   ],
   "source": [
    "\"\"\"ThreadLocal最常用的地方就是为每个线程绑定一个数据库连接，HTTP请求，用户身份信息等，这样一个线程的所有调用到的处理函数都可以非常方便地访问这些资源。\n",
    "\"\"\"\n",
    "# 创建全局ThreadLocal对象:\n",
    "local_school = threading.local()\n",
    "\n",
    "def process_student():\n",
    "    # 获取当前线程关联的student:\n",
    "    std = local_school.student\n",
    "    print('Hello, %s (in %s)' % (std, threading.current_thread().name))\n",
    "\n",
    "def process_thread(name):\n",
    "    # 绑定ThreadLocal的student:\n",
    "    local_school.student = name\n",
    "    process_student()\n",
    "\n",
    "t1 = threading.Thread(target= process_thread, args=('Alice',), name='Thread-A')\n",
    "t2 = threading.Thread(target= process_thread, args=('Bob',), name='Thread-B')\n",
    "t1.start()\n",
    "t2.start()\n",
    "t1.join()\n",
    "t2.join()"
   ]
  },
  {
   "cell_type": "code",
   "execution_count": 63,
   "metadata": {},
   "outputs": [
    {
     "name": "stdout",
     "output_type": "stream",
     "text": [
      "男:小姐姐,你好呀!\n",
      "女:哼,想泡老娘不成?\n",
      "男:对呀,想泡你\n",
      "女:滚蛋,门都没有!\n",
      "男:切,长这么丑, 还这么吊...\n",
      "女:关你鸟事!\n"
     ]
    }
   ],
   "source": [
    "\"\"\"条件变量,用于复杂的线程间同步锁\n",
    "\n",
    "需求:\n",
    "    男:小姐姐,你好呀!\n",
    "    女:哼,想泡老娘不成?\n",
    "    男:对呀,想泡你\n",
    "    女:滚蛋,门都没有!\n",
    "    男:切,长这么丑, 还这么吊...\n",
    "    女:关你鸟事!\n",
    "\n",
    "\"\"\"\n",
    "class Boy(threading.Thread):\n",
    "    def __init__(self, name, condition):\n",
    "        super().__init__(name=name)\n",
    "        self.condition = condition\n",
    "\n",
    "    def run(self):\n",
    "        with self.condition:\n",
    "            print(\"{}:小姐姐,你好呀!\".format(self.name))\n",
    "            time.sleep(0.1)\n",
    "            self.condition.wait()\n",
    "            self.condition.notify()\n",
    "\n",
    "            print(\"{}:对呀,想泡你\".format(self.name))\n",
    "            time.sleep(0.1)\n",
    "            self.condition.wait()\n",
    "            self.condition.notify()\n",
    "\n",
    "            print(\"{}:切,长这么丑, 还这么吊...\".format(self.name))\n",
    "            time.sleep(0.1)\n",
    "            self.condition.wait()\n",
    "            self.condition.notify()\n",
    "\n",
    "\n",
    "class Girl(threading.Thread):\n",
    "    def __init__(self, name, condition):\n",
    "        super().__init__(name=name)\n",
    "        self.condition = condition\n",
    "\n",
    "    def run(self):\n",
    "        with self.condition:\n",
    "            print(\"{}:哼,想泡老娘不成?\".format(self.name))\n",
    "            time.sleep(1)\n",
    "            self.condition.notify()\n",
    "            self.condition.wait()\n",
    "\n",
    "            print(\"{}:滚蛋,门都没有!\".format(self.name))\n",
    "            time.sleep(1)\n",
    "            self.condition.notify()\n",
    "            self.condition.wait()\n",
    "\n",
    "            print(\"{}:关你鸟事!\".format(self.name))\n",
    "            time.sleep(1)\n",
    "            self.condition.notify()\n",
    "            self.condition.wait()\n",
    "condition = threading.Condition()\n",
    "\n",
    "boy_thread = Boy('男', condition)\n",
    "girl_thread = Girl('女', condition)\n",
    "\n",
    "boy_thread.start()\n",
    "\n",
    "girl_thread.start()"
   ]
  },
  {
   "cell_type": "code",
   "execution_count": 27,
   "metadata": {},
   "outputs": [
    {
     "name": "stdout",
     "output_type": "stream",
     "text": [
      "在Tue Nov 17 10:35:06 2020,正在读书\n",
      "在Tue Nov 17 10:35:06 2020,正在写字\n",
      "在Tue Nov 17 10:35:07 2020,正在读书\n",
      "在Tue Nov 17 10:35:07 2020,正在写字\n",
      "在Tue Nov 17 10:35:08 2020,正在读书\n",
      "在Tue Nov 17 10:35:08 2020,正在写字\n"
     ]
    }
   ],
   "source": [
    "\"\"\"示例1：创建Thread实例，传递函数\"\"\"\n",
    "def read():\n",
    "    for x in range(3):\n",
    "        print('在%s,正在读书' % time.ctime())\n",
    "        time.sleep(1)\n",
    "\n",
    "def write():\n",
    "    for x in range(3):\n",
    "        print('在%s,正在写字' % time.ctime())\n",
    "        time.sleep(1)\n",
    "\n",
    "def main():\n",
    "\n",
    "    read_threads = []  # 用来存放执行read函数线程的列表\n",
    "    write_threads = []  # 用来存放执行write函数线程的列表\n",
    "\n",
    "    for i in range(1,2):  # 创建1个线程用于read()，并添加到read_threads列表\n",
    "        t = threading.Thread(target=read) # 执行的函数如果需要传递参数，threading.Thread(target=函数名,args=(参数，逗号隔开))\n",
    "        read_threads.append(t)\n",
    "\n",
    "    for i in range(1,2): # 创建1个线程执行write()，并添加到write_threads列表\n",
    "        t = threading.Thread(target=write) # 执行的函数如果需要传递参数，threading.Thread(target=函数名,args=(参数，逗号隔开))\n",
    "        write_threads.append(t)\n",
    "\n",
    "    for i in range(0,1):  # 启动存放在read_threads和write_threads列表中的线程\n",
    "        read_threads[i].start()\n",
    "        write_threads[i].start()\n",
    "\n",
    "if __name__ == '__main__':\n",
    "    main()"
   ]
  },
  {
   "cell_type": "code",
   "execution_count": 26,
   "metadata": {},
   "outputs": [
    {
     "name": "stdout",
     "output_type": "stream",
     "text": [
      "在Tue Nov 17 10:34:23 2020,正在读书(当前线程：<read_thread(Thread-90, started 23288)>)\n",
      "在Tue Nov 17 10:34:23 2020,正在写字(当前线程：<write_thread(Thread-91, started 21080)>)\n",
      "在Tue Nov 17 10:34:24 2020,正在读书(当前线程：<read_thread(Thread-90, started 23288)>)\n",
      "在Tue Nov 17 10:34:24 2020,正在写字(当前线程：<write_thread(Thread-91, started 21080)>)\n",
      "在Tue Nov 17 10:34:25 2020,正在读书(当前线程：<read_thread(Thread-90, started 23288)>)\n",
      "在Tue Nov 17 10:34:25 2020,正在写字(当前线程：<write_thread(Thread-91, started 21080)>)\n"
     ]
    }
   ],
   "source": [
    "\"\"\"示例2：为了让线程更好的封装，可以用threading模块下的Thread类，继承这个类，然后实现run方法，线程就回自动运行run方法中的代码\"\"\"\n",
    "class read_thread(threading.Thread):\n",
    "    def run(self):\n",
    "        for x in range(3):\n",
    "            print('在%s,正在读书(当前线程：%s)' % (time.ctime(),threading.current_thread()))\n",
    "            time.sleep(1)\n",
    "\n",
    "class write_thread(threading.Thread):\n",
    "    def run(self):\n",
    "        for x in range(3):\n",
    "            print('在%s,正在写字(当前线程：%s)' % (time.ctime(),threading.current_thread()))\n",
    "            time.sleep(1)\n",
    "\n",
    "def main():\n",
    "\n",
    "    read_threads = []  # 用来存放执行read函数线程的列表\n",
    "    write_threads = []  # 用来存放执行write函数线程的列表\n",
    "\n",
    "    for i in range(1,2):  # 创建1个线程用于read()，并添加到read_threads列表\n",
    "        t = read_thread()  # 创建实例存放\n",
    "        read_threads.append(t)\n",
    "\n",
    "    for i in range(1,2): # 创建1个线程执行write()，并添加到write_threads列表\n",
    "        t = write_thread()\n",
    "        write_threads.append(t)\n",
    "\n",
    "    for i in range(0,1):  # 启动存放在read_threads和write_threads列表中的线程\n",
    "        read_threads[i].start()\n",
    "        write_threads[i].start()\n",
    "\n",
    "if __name__ == '__main__':\n",
    "    main()"
   ]
  },
  {
   "cell_type": "code",
   "execution_count": 31,
   "metadata": {},
   "outputs": [
    {
     "name": "stdout",
     "output_type": "stream",
     "text": [
      "value: 10235429\n",
      "value: 14422522\n",
      "value: 17547708\n",
      "value: 18186105\n"
     ]
    }
   ],
   "source": [
    "\"\"\"这个main返回结果显然是不对的，这就是因为全局变量是共享的，线程运行又是无序的，而且value+1的命令次数变多，就会2个线程可能同时执行+1这时候数据就很容易发生混乱。\n",
    "\"\"\"\n",
    "value = 0\n",
    "def add_value():\n",
    "    global value\n",
    "    for x in range(10000000):\n",
    "        value += 1\n",
    "    print('value:',value)\n",
    "\n",
    "def main():\n",
    "    threads = []\n",
    "    for i in range(0,4):\n",
    "        t = threading.Thread(target=add_value)\n",
    "        threads.append(t)\n",
    "\n",
    "    for i in range(0,4):\n",
    "        threads[i].start()\n",
    "\n",
    "if __name__ == '__main__':\n",
    "    main()"
   ]
  },
  {
   "cell_type": "code",
   "execution_count": 30,
   "metadata": {},
   "outputs": [
    {
     "name": "stdout",
     "output_type": "stream",
     "text": [
      "value: 10000000\n",
      "value: 20000000\n",
      "value: 30000000\n",
      "value: 40000000\n"
     ]
    }
   ],
   "source": [
    "\"\"\"加锁后就正确了。\n",
    "锁有两种状态：锁定和未锁定。而且也只有两个函数;获取锁和释放锁。\n",
    "当多线程争夺锁的时候，允许第一个获得锁的线程进入临界区，并执行代码，所有之后叨叨的线程都被阻塞，当第一个线程执行结束，退出临界区，释放锁，此时，其他等待的线程可以获得锁进入临界区。\n",
    "不过要记住，被阻塞的线程是无序的。\n",
    "\"\"\"\n",
    "value = 0\n",
    "lock = threading.Lock() # 创建锁示例\n",
    "\n",
    "def add_value():\n",
    "    global value\n",
    "    lock.acquire() # 获得锁\n",
    "    for x in range(10000000):\n",
    "        value += 1\n",
    "    lock.release() # 释放锁\n",
    "    print('value:',value)\n",
    "\n",
    "def main():\n",
    "    threads = []\n",
    "    for i in range(0,4):\n",
    "        t = threading.Thread(target=add_value)\n",
    "        threads.append(t)\n",
    "\n",
    "    for i in range(0,4):\n",
    "        threads[i].start()\n",
    "\n",
    "if __name__ == '__main__':\n",
    "    main()"
   ]
  },
  {
   "cell_type": "code",
   "execution_count": null,
   "metadata": {},
   "outputs": [],
   "source": []
  },
  {
   "cell_type": "code",
   "execution_count": null,
   "metadata": {},
   "outputs": [],
   "source": []
  },
  {
   "cell_type": "code",
   "execution_count": 1,
   "metadata": {},
   "outputs": [],
   "source": [
    "\"\"\"LOCK锁机制存在一个问题，上锁是一个很耗费CPU资源的行为，这时候就可以考虑使用Condition对象,\n",
    "threading.Condition()可以再没有数据的时候处于阻塞等待状态，一旦有合适的数据，还可以使用notify相关的函数来通知其他处于等待状态的线程，\n",
    "这样就可以不用做一些无用的上锁和解锁操作，可以提高程序的性能\n",
    "\"\"\"\n",
    "\n",
    "import  time\n",
    "import  threading\n",
    "import random"
   ]
  },
  {
   "cell_type": "code",
   "execution_count": 19,
   "metadata": {},
   "outputs": [],
   "source": [
    "con1 = threading.Condition()"
   ]
  },
  {
   "cell_type": "code",
   "execution_count": 20,
   "metadata": {},
   "outputs": [
    {
     "data": {
      "text/plain": [
       "True"
      ]
     },
     "execution_count": 20,
     "metadata": {},
     "output_type": "execute_result"
    }
   ],
   "source": [
    "\"\"\"获取锁\"\"\"\n",
    "con1.acquire()"
   ]
  },
  {
   "cell_type": "code",
   "execution_count": 4,
   "metadata": {},
   "outputs": [],
   "source": [
    "\"\"\"通知所有正在等待的线程，notify和nofify_all不会释放锁，并且需要在release（）之前调用\"\"\"\n",
    "con1.notify_all() "
   ]
  },
  {
   "cell_type": "code",
   "execution_count": 5,
   "metadata": {},
   "outputs": [],
   "source": [
    "\"\"\"通知正在等待的某个线程，默认是第一个等待的线程\"\"\"\n",
    "con1.notify() "
   ]
  },
  {
   "cell_type": "code",
   "execution_count": null,
   "metadata": {},
   "outputs": [],
   "source": [
    "\"\"\"释放锁\"\"\"\n",
    "con1.release()"
   ]
  },
  {
   "cell_type": "code",
   "execution_count": null,
   "metadata": {},
   "outputs": [],
   "source": [
    "\"\"\"将当前线程处于等待状态，并释放锁。\n",
    "可以被其他线程使用notify和notify_all函数唤醒，被唤醒后会继续等待上锁，上锁后继续执行下面代码.\n",
    "\"\"\"\n",
    "con1.wait() "
   ]
  },
  {
   "cell_type": "code",
   "execution_count": 33,
   "metadata": {},
   "outputs": [
    {
     "name": "stdout",
     "output_type": "stream",
     "text": [
      "<Consumer(消费者线程0, started 18476)>消费者消费了555元，剩余445\n",
      "<Consumer(消费者线程1, started 24016)>消费者准备消费794,剩余445,不足！\n",
      "<Consumer(消费者线程2, started 13876)>消费者准备消费945,剩余445,不足！\n",
      "<Producer(生产者线程0, started 12892)>生产者生产了120元，总额565元\n",
      "<Consumer(消费者线程2, started 13876)>消费者准备消费945,剩余565,不足！\n",
      "<Consumer(消费者线程1, started 24016)>消费者准备消费794,剩余565,不足！\n",
      "<Producer(生产者线程1, started 20972)>生产者生产了528元，总额1093元\n",
      "<Consumer(消费者线程2, started 13876)>消费者消费了945元，剩余148\n",
      "<Consumer(消费者线程1, started 24016)>消费者准备消费794,剩余148,不足！\n",
      "<Producer(生产者线程2, started 20828)>生产者生产了230元，总额378元\n",
      "<Consumer(消费者线程1, started 24016)>消费者准备消费794,剩余378,不足！\n",
      "<Producer(生产者线程3, started 22644)>生产者生产了992元，总额1370元\n",
      "<Consumer(消费者线程1, started 24016)>消费者消费了794元，剩余576\n",
      "<Producer(生产者线程4, started 15788)>生产者生产了265元，总额841元\n",
      "<Consumer(消费者线程0, started 18476)>消费者消费了733元，剩余108\n",
      "<Producer(生产者线程0, started 12892)>生产者生产了782元，总额890元\n",
      "<Consumer(消费者线程2, started 13876)>消费者消费了604元，剩余286\n",
      "<Producer(生产者线程1, started 20972)>生产者生产了124元，总额410元\n",
      "<Producer(生产者线程2, started 20828)>生产者生产了231元，总额641元\n",
      "<Consumer(消费者线程1, started 24016)>消费者准备消费642,剩余641,不足！\n",
      "<Producer(生产者线程3, started 22644)>生产者生产了372元，总额1013元\n",
      "<Consumer(消费者线程1, started 24016)>消费者消费了642元，剩余371\n",
      "<Producer(生产者线程4, started 15788)>生产者生产了889元，总额1260元\n",
      "<Consumer(消费者线程0, started 18476)>消费者消费了510元，剩余750\n",
      "<Consumer(消费者线程1, started 24016)>消费者消费了546元，剩余204\n"
     ]
    }
   ],
   "source": [
    "\"\"\"创建两个类，Producer用于赚钱，Consumer用于消费。\n",
    "Consumer每次花钱的时候会看一下金库的总额够不够，如果不够就会调用gCondition.wait()将线程处于等待，\n",
    "当Producer赚钱了，就会调用gCondition.notify_all()，提醒等待的线程，当线程被唤醒之后会继续等待上锁，上锁后继续执行下面代码\n",
    "\"\"\"\n",
    "gMoney = 1000\n",
    "gCondition = threading.Condition()\n",
    "gTotalTimes = 10\n",
    "gTimes = 0\n",
    "\n",
    "\n",
    "class Producer(threading.Thread):\n",
    "    def run(self):\n",
    "        global gMoney\n",
    "        global gTimes\n",
    "        while True:\n",
    "            money = random.randint(100,1000)\n",
    "            gCondition.acquire()\n",
    "            if gTimes >= gTotalTimes:\n",
    "                gCondition.release()\n",
    "                break\n",
    "            gMoney += money\n",
    "            print(\"%s生产者生产了%d元，总额%d元\" % (threading.current_thread(), money, gMoney))\n",
    "            gTimes +=1\n",
    "            gCondition.notify_all()\n",
    "            gCondition.release()\n",
    "            time.sleep(0.5)\n",
    "\n",
    "class Consumer(threading.Thread):\n",
    "    def run(self):\n",
    "        global gMoney\n",
    "        while True:\n",
    "            price = random.randint(500,1000)\n",
    "            gCondition.acquire()\n",
    "            while gMoney < price:\n",
    "                if gTimes>= gTotalTimes:\n",
    "                    gCondition.release()\n",
    "                    return\n",
    "                print('%s消费者准备消费%d,剩余%d,不足！' % (threading.current_thread(), price, gMoney))\n",
    "                gCondition.wait()\n",
    "            gMoney -= price\n",
    "            print('%s消费者消费了%d元，剩余%d' % (threading.current_thread(),price,gMoney))\n",
    "            gCondition.release()\n",
    "            time.sleep(0.5)\n",
    "\n",
    "def main():\n",
    "    for x in range(3):\n",
    "        t = Consumer(name='消费者线程%d'%x)\n",
    "        t.start()\n",
    "    for x in range(5):\n",
    "        t = Producer(name = '生产者线程%d'%x )\n",
    "        t.start()\n",
    "\n",
    "if __name__ == '__main__':\n",
    "    main()"
   ]
  },
  {
   "cell_type": "code",
   "execution_count": 12,
   "metadata": {},
   "outputs": [
    {
     "name": "stdout",
     "output_type": "stream",
     "text": [
      "张三：你好 世界\n",
      "张三：hi\n",
      "李四：你好，未来的朋友\n",
      "张三：你好 世界\n",
      "张三：hi\n",
      "李四：你好，未来的朋友\n",
      "张三：你好 世界\n",
      "张三：hi\n",
      "李四：你好，未来的朋友\n"
     ]
    }
   ],
   "source": [
    "\"\"\"单线程执行\"\"\"\n",
    "def hello_for():\n",
    "    print(\"张三：你好 世界\")\n",
    "    time.sleep(1)\n",
    "    print(\"张三：hi\")\n",
    "    time.sleep(1)\n",
    "    print(\"李四：你好，未来的朋友\")\n",
    "    time.sleep(1)\n",
    "\n",
    "if __name__ == \"__main__\":\n",
    "    for i in range(3):\n",
    "        hello_for()"
   ]
  },
  {
   "cell_type": "code",
   "execution_count": 13,
   "metadata": {},
   "outputs": [
    {
     "name": "stdout",
     "output_type": "stream",
     "text": [
      "张三：你好 世界\n",
      "张三：你好 世界\n",
      "张三：你好 世界\n",
      "张三：hi\n",
      "张三：hi\n",
      "张三：hi\n",
      "李四：你好，未来的朋友\n",
      "李四：你好，未来的朋友\n",
      "李四：你好，未来的朋友\n"
     ]
    }
   ],
   "source": [
    "\"\"\"多线程执行\"\"\"\n",
    "def hello_for():\n",
    "    print(\"张三：你好 世界\")\n",
    "    time.sleep(1)\n",
    "    print(\"张三：hi\")\n",
    "    time.sleep(1)\n",
    "    print(\"李四：你好，未来的朋友\")\n",
    "    time.sleep(1)\n",
    "\n",
    "if __name__ == \"__main__\":\n",
    "    for i in range(3):\n",
    "        t = threading.Thread(target=hello_for)\n",
    "        t.start() #启动线程，即让线程开始执行"
   ]
  },
  {
   "cell_type": "code",
   "execution_count": 14,
   "metadata": {},
   "outputs": [
    {
     "name": "stdout",
     "output_type": "stream",
     "text": [
      "---开始---:Tue Nov 17 11:20:04 2020\n",
      "正在唱歌...0\n",
      "正在跳舞...0\n",
      "---结束---:Tue Nov 17 11:20:04 2020\n",
      "正在唱歌...1\n",
      "正在跳舞...1\n",
      "正在唱歌...2\n",
      "正在跳舞...2\n"
     ]
    }
   ],
   "source": [
    "import threading\n",
    "from time import sleep,ctime\n",
    "\n",
    "def sing():\n",
    "    for i in range(3):\n",
    "        print(\"正在唱歌...%d\"%i)\n",
    "        sleep(1)\n",
    "\n",
    "def dance():\n",
    "    for i in range(3):\n",
    "        print(\"正在跳舞...%d\"%i)\n",
    "        sleep(1)\n",
    "\n",
    "if __name__ == '__main__':\n",
    "    print('---开始---:%s'%ctime())\n",
    "\n",
    "    t1 = threading.Thread(target=sing)\n",
    "    t2 = threading.Thread(target=dance)\n",
    "\n",
    "    t1.start()\n",
    "    t2.start()\n",
    "\n",
    "    print('---结束---:%s'%ctime())"
   ]
  },
  {
   "cell_type": "code",
   "execution_count": null,
   "metadata": {},
   "outputs": [],
   "source": []
  },
  {
   "cell_type": "code",
   "execution_count": 15,
   "metadata": {},
   "outputs": [
    {
     "name": "stdout",
     "output_type": "stream",
     "text": [
      "当前的线程 MainThread 在运行\n",
      "当前的线程Thread-21 在运行\n",
      "当前的线程 MainThread 结束\n",
      "当前的线程 Thread-21 结束\n"
     ]
    }
   ],
   "source": [
    "import threading\n",
    "import time\n",
    "#定义线程需要做的内容，写在函数里面\n",
    "def target():\n",
    "    print('当前的线程%s 在运行' % threading.current_thread().name)\n",
    "    time.sleep(1)\n",
    "    print('当前的线程 %s 结束' % threading.current_thread().name)\n",
    "\n",
    "print('当前的线程 %s 在运行' % threading.current_thread().name)\n",
    "t = threading.Thread(target=target,args = [])\n",
    " \n",
    "t.start()  #线程启动\n",
    "print('当前的线程 %s 结束' % threading.current_thread().name)\n"
   ]
  },
  {
   "cell_type": "code",
   "execution_count": null,
   "metadata": {},
   "outputs": [],
   "source": []
  },
  {
   "cell_type": "code",
   "execution_count": null,
   "metadata": {},
   "outputs": [],
   "source": []
  },
  {
   "cell_type": "code",
   "execution_count": 18,
   "metadata": {},
   "outputs": [
    {
     "name": "stdout",
     "output_type": "stream",
     "text": [
      "这是主线程： MainThread\n",
      "主线程结束了！ MainThread\n",
      "一共用时： 0.0019683837890625\n",
      "当前线程的名字是： 当前线程的名字是：  Thread-34\n",
      "当前线程的名字是：  Thread-36\n",
      " 当前线程的名字是：  Thread-33\n",
      "当前线程的名字是：  Thread-35\n",
      "Thread-32\n"
     ]
    }
   ],
   "source": [
    "import time\n",
    "\n",
    "def run():\n",
    "\n",
    "    time.sleep(2)\n",
    "    print('当前线程的名字是： ', threading.current_thread().name)\n",
    "    time.sleep(2)\n",
    "\n",
    "\n",
    "if __name__ == '__main__':\n",
    "\n",
    "    start_time = time.time()\n",
    "\n",
    "    print('这是主线程：', threading.current_thread().name)\n",
    "    thread_list = []\n",
    "    for i in range(5):\n",
    "        t = threading.Thread(target=run)\n",
    "        thread_list.append(t)\n",
    "\n",
    "    for t in thread_list:\n",
    "        t.setDaemon(True)\n",
    "        t.start()\n",
    "\n",
    "    print('主线程结束了！' , threading.current_thread().name)\n",
    "    print('一共用时：', time.time()-start_time)\n"
   ]
  },
  {
   "cell_type": "code",
   "execution_count": 3,
   "metadata": {},
   "outputs": [
    {
     "name": "stdout",
     "output_type": "stream",
     "text": [
      "JOB1：床前明月光\n",
      "JOB2:疑似地上桑\n",
      "JOB1：举头看明月\n",
      "JOB2:低头思故乡\n"
     ]
    }
   ],
   "source": [
    "con = threading.Condition()\n",
    "def job1():\n",
    "    con.acquire()\n",
    "    print(\"JOB1：床前明月光\")\n",
    "    con.notify()   # 唤醒正在等待(wait)的线程\n",
    " \n",
    "    con.wait()   # 等待对方回应消息，使用wait阻塞线程，等待对方通过notify唤醒本线程\n",
    "    print(\"JOB1：举头看明月\")\n",
    "    con.notify()  # 唤醒对方\n",
    " \n",
    "    con.release()\n",
    " \n",
    " \n",
    "def job2():\n",
    "    con.acquire()\n",
    " \n",
    "    con.wait()\n",
    "    print(\"JOB2:疑似地上桑\")\n",
    "    con.notify()\n",
    "    con.wait()\n",
    "    print(\"JOB2:低头思故乡\")\n",
    "    con.notify()\n",
    " \n",
    "    con.release()\n",
    " \n",
    " \n",
    "def main():\n",
    "    t1 = threading.Thread(target=job1)\n",
    "    t2 = threading.Thread(target=job2)\n",
    " \n",
    "    t2.start()   #此处注意顺序，先t2,否则双方都处于wait状态，程序卡死\n",
    "    t1.start()\n",
    " \n",
    "    t1.join()\n",
    "    t2.join()\n",
    " \n",
    " \n",
    "if __name__ == \"__main__\":\n",
    "    main()"
   ]
  },
  {
   "cell_type": "code",
   "execution_count": null,
   "metadata": {},
   "outputs": [],
   "source": []
  },
  {
   "cell_type": "code",
   "execution_count": null,
   "metadata": {},
   "outputs": [],
   "source": []
  },
  {
   "cell_type": "code",
   "execution_count": null,
   "metadata": {},
   "outputs": [],
   "source": []
  }
 ],
 "metadata": {
  "kernelspec": {
   "display_name": "Python 3",
   "language": "python",
   "name": "python3"
  },
  "language_info": {
   "codemirror_mode": {
    "name": "ipython",
    "version": 3
   },
   "file_extension": ".py",
   "mimetype": "text/x-python",
   "name": "python",
   "nbconvert_exporter": "python",
   "pygments_lexer": "ipython3",
   "version": "3.7.3"
  }
 },
 "nbformat": 4,
 "nbformat_minor": 2
}
