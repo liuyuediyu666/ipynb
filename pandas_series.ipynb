{
 "cells": [
  {
   "cell_type": "code",
   "execution_count": 4,
   "metadata": {},
   "outputs": [],
   "source": [
    "import numpy as np\n",
    "import pandas as pd\n",
    "import datetime"
   ]
  },
  {
   "cell_type": "markdown",
   "metadata": {},
   "source": [
    "# series"
   ]
  },
  {
   "cell_type": "markdown",
   "metadata": {},
   "source": [
    "### series创建"
   ]
  },
  {
   "cell_type": "code",
   "execution_count": 51,
   "metadata": {},
   "outputs": [
    {
     "data": {
      "text/plain": [
       "11    111\n",
       "22    222\n",
       "dtype: int64"
      ]
     },
     "execution_count": 51,
     "metadata": {},
     "output_type": "execute_result"
    }
   ],
   "source": [
    "pd.Series({11:111,22:222,})"
   ]
  },
  {
   "cell_type": "code",
   "execution_count": 52,
   "metadata": {},
   "outputs": [
    {
     "data": {
      "text/plain": [
       "11    111.0\n",
       "22      NaN\n",
       "33    333.0\n",
       "dtype: float64"
      ]
     },
     "execution_count": 52,
     "metadata": {},
     "output_type": "execute_result"
    }
   ],
   "source": [
    "pd.Series({11:111,33:333,},index=[11,22,33])"
   ]
  },
  {
   "cell_type": "code",
   "execution_count": 14,
   "metadata": {},
   "outputs": [
    {
     "data": {
      "text/plain": [
       "2    a\n",
       "4    b\n",
       "6    c\n",
       "3    d\n",
       "5    e\n",
       "dtype: object"
      ]
     },
     "execution_count": 14,
     "metadata": {},
     "output_type": "execute_result"
    }
   ],
   "source": [
    "sr1 = pd.Series(list('abcde'),index=[2,4,6,3,5])\n",
    "sr1"
   ]
  },
  {
   "cell_type": "code",
   "execution_count": null,
   "metadata": {},
   "outputs": [],
   "source": [
    "\"\"\"创建时，默认index.name为空\"\"\"\n",
    "sr1.index.name"
   ]
  },
  {
   "cell_type": "code",
   "execution_count": 17,
   "metadata": {},
   "outputs": [],
   "source": [
    "sr1.index.name = 'hi'"
   ]
  },
  {
   "cell_type": "code",
   "execution_count": 19,
   "metadata": {},
   "outputs": [],
   "source": [
    "\"\"\"创建时，默认name为空\"\"\"\n",
    "sr1.name"
   ]
  },
  {
   "cell_type": "code",
   "execution_count": 60,
   "metadata": {},
   "outputs": [],
   "source": [
    "sr1.name = 'ww'"
   ]
  },
  {
   "cell_type": "markdown",
   "metadata": {},
   "source": [
    "### series切片"
   ]
  },
  {
   "cell_type": "code",
   "execution_count": 70,
   "metadata": {},
   "outputs": [
    {
     "data": {
      "text/plain": [
       "2    a\n",
       "3    b\n",
       "4    c\n",
       "5    d\n",
       "dtype: object"
      ]
     },
     "execution_count": 70,
     "metadata": {},
     "output_type": "execute_result"
    }
   ],
   "source": [
    "sr1 = pd.Series(list('abcd'),index=range(2,6))\n",
    "sr1"
   ]
  },
  {
   "cell_type": "code",
   "execution_count": 71,
   "metadata": {},
   "outputs": [
    {
     "data": {
      "text/plain": [
       "x    0\n",
       "y    1\n",
       "m    2\n",
       "n    3\n",
       "dtype: int64"
      ]
     },
     "execution_count": 71,
     "metadata": {},
     "output_type": "execute_result"
    }
   ],
   "source": [
    "sr2 = pd.Series(range(4),index=list('xymn'))\n",
    "sr2"
   ]
  },
  {
   "cell_type": "code",
   "execution_count": 72,
   "metadata": {},
   "outputs": [
    {
     "name": "stdout",
     "output_type": "stream",
     "text": [
      "b\n",
      "2\n"
     ]
    }
   ],
   "source": [
    "\"\"\"切片返回单个元素\"\"\"\n",
    "\"\"\"当series索引本身是int或float，下面这种单个元素切片是按值索引，而不是位置\"\"\"\n",
    "print(sr1[3])\n",
    "print(sr2['m'])"
   ]
  },
  {
   "cell_type": "code",
   "execution_count": 74,
   "metadata": {},
   "outputs": [
    {
     "name": "stdout",
     "output_type": "stream",
     "text": [
      "3      b\n",
      "1    NaN\n",
      "dtype: object\n",
      "3    b\n",
      "dtype: object\n",
      "a    NaN\n",
      "m    2.0\n",
      "dtype: float64\n",
      "m    2\n",
      "dtype: int64\n",
      "3    b\n",
      "dtype: object\n",
      "Series([], dtype: object)\n",
      "y    1\n",
      "m    2\n",
      "n    3\n",
      "dtype: int64\n"
     ]
    }
   ],
   "source": [
    "\"\"\"切片返回series\"\"\"\n",
    "print(sr1[[3,1]])\n",
    "print(sr1[[3]])\n",
    "print(sr2[['a','m']])\n",
    "print(sr2[['m']])\n",
    "print(sr1[1:2])\n",
    "print(sr1[1:1])\n",
    "\"\"\"对于字符串索引的帽号切片，是按字母位置而不是按字母顺序，注意这里包含切片的最后一个元素\"\"\"\n",
    "print(sr2['y':'n'])"
   ]
  },
  {
   "cell_type": "code",
   "execution_count": 101,
   "metadata": {},
   "outputs": [
    {
     "name": "stdout",
     "output_type": "stream",
     "text": [
      "0    a\n",
      "1    b\n",
      "2    c\n",
      "3    d\n",
      "dtype: object\n",
      "2    a\n",
      "3    b\n",
      "4    c\n",
      "5    d\n",
      "dtype: object\n",
      "0    False\n",
      "1     True\n",
      "2    False\n",
      "3    False\n",
      "dtype: bool\n",
      "[False, True, False, False]\n",
      "1    b\n",
      "dtype: object\n",
      "1    b\n",
      "dtype: object\n",
      "3    b\n",
      "dtype: object\n"
     ]
    }
   ],
   "source": [
    "\"\"\"bool切片必返回series，这点类似帽号切片\"\"\"\n",
    "sr3 = pd.Series(list('abcd'),index=range(4))\n",
    "sr4 = pd.Series(list('abcd'),index=range(2,6))\n",
    "bseries = sr3=='b'\n",
    "blist = list(bool1)\n",
    "print(sr3)\n",
    "print(sr4)\n",
    "print(bool1)\n",
    "print(bool2)\n",
    "\"\"\"使用series进行bool切片，要求series的index必须完全匹配。\n",
    "sr4[bseries]会报错，因为sr4和bseries的index不完全匹配\"\"\"\n",
    "print(sr3[bseries])\n",
    "print(sr3[blist])\n",
    "print(sr4[blist])"
   ]
  },
  {
   "cell_type": "code",
   "execution_count": null,
   "metadata": {},
   "outputs": [],
   "source": []
  },
  {
   "cell_type": "code",
   "execution_count": null,
   "metadata": {},
   "outputs": [],
   "source": []
  },
  {
   "cell_type": "markdown",
   "metadata": {},
   "source": [
    "### series一些操作"
   ]
  },
  {
   "cell_type": "code",
   "execution_count": 31,
   "metadata": {},
   "outputs": [
    {
     "data": {
      "text/plain": [
       "array([0, 1, 2, 3], dtype=int64)"
      ]
     },
     "execution_count": 31,
     "metadata": {},
     "output_type": "execute_result"
    }
   ],
   "source": [
    "sr1 = pd.Series(range(4), index=list('abcd'))\n",
    "sr1.values"
   ]
  },
  {
   "cell_type": "code",
   "execution_count": 32,
   "metadata": {},
   "outputs": [
    {
     "data": {
      "text/plain": [
       "Index(['a', 'b', 'c', 'd'], dtype='object')"
      ]
     },
     "execution_count": 32,
     "metadata": {},
     "output_type": "execute_result"
    }
   ],
   "source": [
    "sr1.index"
   ]
  },
  {
   "cell_type": "code",
   "execution_count": 33,
   "metadata": {},
   "outputs": [
    {
     "data": {
      "text/plain": [
       "RangeIndex(start=0, stop=4, step=1)"
      ]
     },
     "execution_count": 33,
     "metadata": {},
     "output_type": "execute_result"
    }
   ],
   "source": [
    "sr1.index = range(4)\n",
    "sr1.index"
   ]
  },
  {
   "cell_type": "markdown",
   "metadata": {},
   "source": [
    "### series复制"
   ]
  },
  {
   "cell_type": "code",
   "execution_count": 92,
   "metadata": {},
   "outputs": [
    {
     "data": {
      "text/plain": [
       "2    a\n",
       "4    b\n",
       "6    c\n",
       "3    d\n",
       "5    e\n",
       "dtype: object"
      ]
     },
     "execution_count": 92,
     "metadata": {},
     "output_type": "execute_result"
    }
   ],
   "source": [
    "sr1 = pd.Series(list('abcde'),index=[2,4,6,3,5])\n",
    "sr1"
   ]
  },
  {
   "cell_type": "code",
   "execution_count": 93,
   "metadata": {},
   "outputs": [
    {
     "data": {
      "text/plain": [
       "21    a\n",
       "22    b\n",
       "23    c\n",
       "24    d\n",
       "25    e\n",
       "dtype: object"
      ]
     },
     "execution_count": 93,
     "metadata": {},
     "output_type": "execute_result"
    }
   ],
   "source": [
    "\"\"\"直接复制，sr1_a和sr1指向同一个物理地址，修改会相互影响\"\"\"\n",
    "sr1_a = sr1\n",
    "sr1_a.index = [21,22,23,24,25]\n",
    "sr1"
   ]
  },
  {
   "cell_type": "code",
   "execution_count": 94,
   "metadata": {},
   "outputs": [
    {
     "data": {
      "text/plain": [
       "21    a\n",
       "22    b\n",
       "23    c\n",
       "24    d\n",
       "25    e\n",
       "dtype: object"
      ]
     },
     "execution_count": 94,
     "metadata": {},
     "output_type": "execute_result"
    }
   ],
   "source": [
    "\"\"\"使用copy复制，修改sr1_b不会影响sr1\"\"\"\n",
    "sr1_b = sr1.copy()\n",
    "sr1_b.index = [111,222,333,444,555]\n",
    "sr1"
   ]
  },
  {
   "cell_type": "code",
   "execution_count": 161,
   "metadata": {},
   "outputs": [
    {
     "name": "stdout",
     "output_type": "stream",
     "text": [
      "1    b\n",
      "2    c\n",
      "3    d\n",
      "dtype: object\n",
      "11    b\n",
      "22    c\n",
      "33    d\n",
      "dtype: object\n",
      "0    a\n",
      "1    b\n",
      "2    c\n",
      "3    d\n",
      "4    e\n",
      "dtype: object\n",
      "11    bb\n",
      "22    cc\n",
      "33     d\n",
      "dtype: object\n",
      "0     a\n",
      "1    bb\n",
      "2    cc\n",
      "3     d\n",
      "4     e\n",
      "dtype: object\n",
      "11    bb\n",
      "22    cc\n",
      "33     d\n",
      "44    xx\n",
      "dtype: object\n",
      "0     a\n",
      "1    bb\n",
      "2    cc\n",
      "3     d\n",
      "4     e\n",
      "dtype: object\n",
      "11    bb\n",
      "22    cc\n",
      "33    dd\n",
      "44    xx\n",
      "dtype: object\n",
      "0     a\n",
      "1    bb\n",
      "2    cc\n",
      "3     d\n",
      "4     e\n",
      "dtype: object\n",
      "byby\n"
     ]
    }
   ],
   "source": [
    "\"\"\"切片后得到的series与原来的指向同一个value，但index是各自的\"\"\"\n",
    "sr1 = pd.Series(list('abcde'),index=range(5))\n",
    "ssr1 = sr1[1:4]\n",
    "print(ssr1)\n",
    "\"\"\"下面这种修改ssr1不会修改sr1的index\"\"\"\n",
    "ssr1.index = [11,22,33]\n",
    "print(ssr1)\n",
    "print(sr1)\n",
    "\"\"\"给ssr1原来的索引赋值，会影响sr1的value。因为二者的index是各自的，但指向同一个内存位置的value\"\"\"\n",
    "ssr1[[11,22]] = ['bb','cc']\n",
    "print(ssr1)\n",
    "print(sr1)\n",
    "\"\"\"当给ssr1新增一个索引时，ssr1不再与sr1指向同一个内存位置的value。此时修改ssr1的index或value，都不会改变sr1\"\"\"\n",
    "ssr1[44] = 'xx'\n",
    "print(ssr1)\n",
    "print(sr1)\n",
    "\"\"\"修改ssr1的value，不再改变sr1的value，二者的value也是各自的\"\"\"\n",
    "ssr1[33] = 'dd'\n",
    "print(ssr1)\n",
    "print(sr1)\n",
    "\"\"\"显然，这样修改ssr1=['x','xx','xxx']是对ssr1重新赋值，也会导致sr1与ssr1不再共享value，各自修改不受影响\"\"\"\n",
    "print('byby')"
   ]
  },
  {
   "cell_type": "code",
   "execution_count": null,
   "metadata": {},
   "outputs": [],
   "source": []
  },
  {
   "cell_type": "markdown",
   "metadata": {},
   "source": [
    "### series增删改"
   ]
  },
  {
   "cell_type": "code",
   "execution_count": 73,
   "metadata": {},
   "outputs": [
    {
     "data": {
      "text/plain": [
       "22    b\n",
       "23    c\n",
       "24    d\n",
       "25    e\n",
       "Name: ww, dtype: object"
      ]
     },
     "execution_count": 73,
     "metadata": {},
     "output_type": "execute_result"
    }
   ],
   "source": [
    "sr1.drop(21)"
   ]
  },
  {
   "cell_type": "code",
   "execution_count": 75,
   "metadata": {},
   "outputs": [
    {
     "data": {
      "text/plain": [
       "22    b\n",
       "24    d\n",
       "Name: ww, dtype: object"
      ]
     },
     "execution_count": 75,
     "metadata": {},
     "output_type": "execute_result"
    }
   ],
   "source": [
    "sr1.drop([21,23,25])"
   ]
  },
  {
   "cell_type": "markdown",
   "metadata": {},
   "source": [
    "### series运算"
   ]
  },
  {
   "cell_type": "code",
   "execution_count": 7,
   "metadata": {},
   "outputs": [
    {
     "name": "stdout",
     "output_type": "stream",
     "text": [
      "0    0\n",
      "1    1\n",
      "2    2\n",
      "dtype: int64 \n",
      " 1    0\n",
      "2    1\n",
      "3    2\n",
      "dtype: int64\n"
     ]
    }
   ],
   "source": [
    "sr1 = pd.Series(range(3),index=range(3))\n",
    "sr2 = pd.Series(range(3),index=range(1,4))\n",
    "print(sr1,'\\n',sr2)"
   ]
  },
  {
   "cell_type": "code",
   "execution_count": 9,
   "metadata": {},
   "outputs": [
    {
     "data": {
      "text/plain": [
       "0    NaN\n",
       "1    1.0\n",
       "2    3.0\n",
       "3    NaN\n",
       "dtype: float64"
      ]
     },
     "execution_count": 9,
     "metadata": {},
     "output_type": "execute_result"
    }
   ],
   "source": [
    "\"\"\"series相加是按index对齐的\"\"\"\n",
    "sr1+sr2"
   ]
  },
  {
   "cell_type": "code",
   "execution_count": 10,
   "metadata": {},
   "outputs": [
    {
     "data": {
      "text/plain": [
       "0    0\n",
       "1    2\n",
       "2    4\n",
       "dtype: int64"
      ]
     },
     "execution_count": 10,
     "metadata": {},
     "output_type": "execute_result"
    }
   ],
   "source": [
    "sr1*2"
   ]
  },
  {
   "cell_type": "code",
   "execution_count": 11,
   "metadata": {},
   "outputs": [
    {
     "data": {
      "text/plain": [
       "0    1.000000\n",
       "1    2.718282\n",
       "2    7.389056\n",
       "dtype: float64"
      ]
     },
     "execution_count": 11,
     "metadata": {},
     "output_type": "execute_result"
    }
   ],
   "source": [
    "import numpy as np\n",
    "np.exp(sr1)"
   ]
  },
  {
   "cell_type": "code",
   "execution_count": 13,
   "metadata": {},
   "outputs": [
    {
     "name": "stdout",
     "output_type": "stream",
     "text": [
      "True\n",
      "True\n"
     ]
    }
   ],
   "source": [
    "\"\"\"查看某索引是否在obj中，返回bool\"\"\"\n",
    "print(2 in sr1)\n",
    "print(2 & 8 | 2 in sr1)"
   ]
  },
  {
   "cell_type": "code",
   "execution_count": 14,
   "metadata": {},
   "outputs": [
    {
     "data": {
      "text/plain": [
       "1       a\n",
       "2    None\n",
       "3        \n",
       "4       0\n",
       "dtype: object"
      ]
     },
     "execution_count": 14,
     "metadata": {},
     "output_type": "execute_result"
    }
   ],
   "source": [
    "\"\"\"缺失值判断\"\"\"\n",
    "sr3 = pd.Series(['a',None,'',0],index=[1,2,3,4])\n",
    "sr3"
   ]
  },
  {
   "cell_type": "code",
   "execution_count": 15,
   "metadata": {},
   "outputs": [
    {
     "data": {
      "text/plain": [
       "1    False\n",
       "2     True\n",
       "3    False\n",
       "4    False\n",
       "dtype: bool"
      ]
     },
     "execution_count": 15,
     "metadata": {},
     "output_type": "execute_result"
    }
   ],
   "source": [
    "pd.isnull(sr3)"
   ]
  },
  {
   "cell_type": "code",
   "execution_count": 16,
   "metadata": {},
   "outputs": [
    {
     "data": {
      "text/plain": [
       "1     True\n",
       "2    False\n",
       "3     True\n",
       "4     True\n",
       "dtype: bool"
      ]
     },
     "execution_count": 16,
     "metadata": {},
     "output_type": "execute_result"
    }
   ],
   "source": [
    "pd.notnull(sr3)"
   ]
  },
  {
   "cell_type": "code",
   "execution_count": 17,
   "metadata": {},
   "outputs": [
    {
     "data": {
      "text/plain": [
       "1    False\n",
       "2     True\n",
       "3    False\n",
       "4    False\n",
       "dtype: bool"
      ]
     },
     "execution_count": 17,
     "metadata": {},
     "output_type": "execute_result"
    }
   ],
   "source": [
    "sr3.isnull()"
   ]
  }
 ],
 "metadata": {
  "kernelspec": {
   "display_name": "Python 3",
   "language": "python",
   "name": "python3"
  },
  "language_info": {
   "codemirror_mode": {
    "name": "ipython",
    "version": 3
   },
   "file_extension": ".py",
   "mimetype": "text/x-python",
   "name": "python",
   "nbconvert_exporter": "python",
   "pygments_lexer": "ipython3",
   "version": "3.7.3"
  }
 },
 "nbformat": 4,
 "nbformat_minor": 2
}
