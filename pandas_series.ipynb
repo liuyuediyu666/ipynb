{
 "cells": [
  {
   "cell_type": "code",
   "execution_count": 6,
   "metadata": {},
   "outputs": [],
   "source": [
    "import numpy as np\n",
    "import pandas as pd\n",
    "import datetime"
   ]
  },
  {
   "cell_type": "markdown",
   "metadata": {},
   "source": [
    "### series创建"
   ]
  },
  {
   "cell_type": "code",
   "execution_count": null,
   "metadata": {},
   "outputs": [],
   "source": [
    "pd.Series(list('ab'))\n",
    "pd.Series(list('ab'),index=[3,1])\n",
    "pd.Series({11:1,22:2,})\n",
    "pd.Series({11:1,22:2,},index=[11,22,33])"
   ]
  },
  {
   "cell_type": "markdown",
   "metadata": {},
   "source": [
    "### series切片"
   ]
  },
  {
   "cell_type": "code",
   "execution_count": null,
   "metadata": {},
   "outputs": [],
   "source": [
    "sr1 = pd.Series(list('abcd'),index=[11,12,13,14])\n",
    "sr2 = pd.Series(range(4),index=list('xymn'))\n",
    "\"\"\"当series索引为int或float时，无帽号切片中的数字是按值索引，而非位置。帽号切片则是位置\"\"\"\n",
    "\"\"\"切片返回单个元素\"\"\"\n",
    "sr1[13]\n",
    "sr2['m']\n",
    "\"\"\"切片返回series\"\"\"\n",
    "sr1[[13,]]\n",
    "sr2[['m',]]\n",
    "sr1[1:1]\n",
    "\"\"\"字符串帽号切片，按字母位置而非字母表顺序，且包含最后一个字母。\"\"\"\n",
    "sr2['y':'n']"
   ]
  },
  {
   "cell_type": "code",
   "execution_count": null,
   "metadata": {},
   "outputs": [],
   "source": [
    "\"\"\"bool切片必返回series，这点类似帽号切片\"\"\"\n",
    "sr3 = pd.Series(list('abcd'))\n",
    "sr4 = pd.Series(list('abcd'),index=[11,12,13,14])\n",
    "bool_series = sr3=='b'\n",
    "bool_list = bool_series.tolist()\n",
    "\"\"\"bool用bool_series切片，则要求bool_series和原series的index必须一模一样\"\"\"\n",
    "sr3[bool_list]\n",
    "sr3[bool_series]\n",
    "sr4[bool_list]\n",
    "# sr4[bseries] 会报错，因为sr4和bseries的index不完全匹配"
   ]
  },
  {
   "cell_type": "markdown",
   "metadata": {},
   "source": [
    "### 索引和值的操作"
   ]
  },
  {
   "cell_type": "code",
   "execution_count": 26,
   "metadata": {},
   "outputs": [],
   "source": [
    "\"\"\"init defult None, can assignment a string\"\"\"\n",
    "sr1.index.name\n",
    "sr1.index.name = 'hi'\n",
    "\"\"\"init defult None, can assignment a string\"\"\"\n",
    "sr1.name\n",
    "sr1.name = 'ww'\n",
    "\"\"\"提取索引和值\"\"\"\n",
    "pd.Series(list('abcd')).values\n",
    "pd.Series(list('abcd')).values.tolist()\n",
    "pd.Series(list('abcd')).index\n",
    "pd.Series(list('abcd')).index.tolist()\n",
    "pd.Series(list('abcd')).index = list('hijk')"
   ]
  },
  {
   "cell_type": "markdown",
   "metadata": {},
   "source": [
    "### series复制"
   ]
  },
  {
   "cell_type": "code",
   "execution_count": 27,
   "metadata": {},
   "outputs": [],
   "source": [
    "sr1 = pd.Series(list('abc'),index=[1,3,5])\n",
    "\"\"\"直接复制，sr1_a和sr1指向同一个物理地址，index和value均共享\"\"\"\n",
    "sr1_a = sr1\n",
    "sr1_a.index = [11,13,15]\n",
    "\"\"\"使用copy()复制后，index和value完全独立\"\"\"\n",
    "sr1_b = sr1.copy()"
   ]
  },
  {
   "cell_type": "code",
   "execution_count": 28,
   "metadata": {},
   "outputs": [],
   "source": [
    "\"\"\"切片得到的series，index不共享，value共享\"\"\"\n",
    "sr1 = pd.Series(list('abc'),index=[1,3,5])\n",
    "ssr1 = sr1[0:2]\n",
    "\"\"\"修改ssr1的index，sr1的index不变\"\"\"\n",
    "ssr1.index = [11,13]\n",
    "\"\"\"修改ssr1的value（即使按ssr1的新index修改），sr1的value也被同步修改\"\"\"\n",
    "ssr1[11] = 'aa'\n",
    "\"\"\"当给ssr1新增索引，则会导致二者的index和value完全独立，不会再导致sr1被同步修改\"\"\"\n",
    "ssr1[66] = 'xxx'\n",
    "ssr1[11] = 'aaa'\n",
    "\"\"\"显然下面的修改是给ssr1重新赋值，不存在相互影响\"\"\"\n",
    "ssr1=['x','xx','xxx']"
   ]
  },
  {
   "cell_type": "markdown",
   "metadata": {},
   "source": [
    "### series增删改"
   ]
  },
  {
   "cell_type": "code",
   "execution_count": null,
   "metadata": {},
   "outputs": [],
   "source": [
    "sr1 = pd.Series(list('abcd'),index=[11,12,13,14])\n",
    "\"\"\"与切片同理，当索引为int或float时，按值来索引删除\"\"\"\n",
    "\"\"\"create new\"\"\"\n",
    "sr1.drop(11)\n",
    "sr1.drop([13,14])"
   ]
  },
  {
   "cell_type": "markdown",
   "metadata": {},
   "source": [
    "### series运算"
   ]
  },
  {
   "cell_type": "code",
   "execution_count": 40,
   "metadata": {},
   "outputs": [
    {
     "data": {
      "text/plain": [
       "0    1.000000\n",
       "1    2.718282\n",
       "2    7.389056\n",
       "dtype: float64"
      ]
     },
     "execution_count": 40,
     "metadata": {},
     "output_type": "execute_result"
    }
   ],
   "source": [
    "sr1 = pd.Series(range(3))\n",
    "sr2 = pd.Series(range(3),index=range(1,4))\n",
    "\"\"\"series相加是按index对齐的\"\"\"\n",
    "sr1+sr2\n",
    "\"\"\"每个元素*2\"\"\"\n",
    "sr1*2\n",
    "\"\"\"每个元素进行e的幂运算\"\"\"\n",
    "np.exp(sr1)"
   ]
  },
  {
   "cell_type": "markdown",
   "metadata": {},
   "source": [
    "### 其他"
   ]
  },
  {
   "cell_type": "code",
   "execution_count": null,
   "metadata": {},
   "outputs": [],
   "source": [
    "\"\"\"查看某索引值是否在obj中，返回bool\"\"\"\n",
    "2 in sr1\n",
    "2 & 8 | 2 in sr1"
   ]
  },
  {
   "cell_type": "code",
   "execution_count": 47,
   "metadata": {},
   "outputs": [
    {
     "data": {
      "text/plain": [
       "0     True\n",
       "1    False\n",
       "2     True\n",
       "3     True\n",
       "4    False\n",
       "dtype: bool"
      ]
     },
     "execution_count": 47,
     "metadata": {},
     "output_type": "execute_result"
    }
   ],
   "source": [
    "\"\"\"缺失值判断，顶级方法和实例方法\"\"\"\n",
    "sr3 = pd.Series(['a',None,'',0,np.nan])\n",
    "pd.isnull(sr3)\n",
    "pd.notnull(sr3)\n",
    "sr3.isnull()\n",
    "sr3.notnull()"
   ]
  }
 ],
 "metadata": {
  "kernelspec": {
   "display_name": "Python 3",
   "language": "python",
   "name": "python3"
  },
  "language_info": {
   "codemirror_mode": {
    "name": "ipython",
    "version": 3
   },
   "file_extension": ".py",
   "mimetype": "text/x-python",
   "name": "python",
   "nbconvert_exporter": "python",
   "pygments_lexer": "ipython3",
   "version": "3.7.3"
  }
 },
 "nbformat": 4,
 "nbformat_minor": 2
}
