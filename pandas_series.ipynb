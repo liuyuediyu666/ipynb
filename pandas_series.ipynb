{
 "cells": [
  {
   "cell_type": "code",
   "execution_count": 2,
   "metadata": {},
   "outputs": [],
   "source": [
    "import numpy as np\n",
    "import pandas as pd\n",
    "import datetime"
   ]
  },
  {
   "cell_type": "markdown",
   "metadata": {},
   "source": [
    "# series"
   ]
  },
  {
   "cell_type": "markdown",
   "metadata": {},
   "source": [
    "### series创建"
   ]
  },
  {
   "cell_type": "code",
   "execution_count": 12,
   "metadata": {},
   "outputs": [
    {
     "name": "stdout",
     "output_type": "stream",
     "text": [
      "0    a\n",
      "1    b\n",
      "dtype: object\n",
      "3    a\n",
      "1    b\n",
      "dtype: object\n",
      "11    1\n",
      "22    2\n",
      "dtype: int64\n",
      "11    1.0\n",
      "22    2.0\n",
      "33    NaN\n",
      "dtype: float64\n"
     ]
    }
   ],
   "source": [
    "print(pd.Series(list('ab')))\n",
    "print(pd.Series(list('ab'),index=[3,1]))\n",
    "print(pd.Series({11:1,22:2,}))\n",
    "print(pd.Series({11:1,22:2,},index=[11,22,33]))"
   ]
  },
  {
   "cell_type": "code",
   "execution_count": 13,
   "metadata": {},
   "outputs": [],
   "source": [
    "\"\"\"init defult None, can assignment a string\"\"\"\n",
    "sr1.index.name\n",
    "sr1.index.name = 'hi'\n",
    "\"\"\"init defult None, can assignment a string\"\"\"\n",
    "sr1.name\n",
    "sr1.name = 'ww'"
   ]
  },
  {
   "cell_type": "markdown",
   "metadata": {},
   "source": [
    "### series切片"
   ]
  },
  {
   "cell_type": "code",
   "execution_count": 35,
   "metadata": {},
   "outputs": [
    {
     "name": "stdout",
     "output_type": "stream",
     "text": [
      "c\n",
      "2\n",
      "13    c\n",
      "dtype: object\n",
      "m    2\n",
      "dtype: int64\n",
      "Series([], dtype: object)\n",
      "y    1\n",
      "m    2\n",
      "n    3\n",
      "dtype: int64\n"
     ]
    }
   ],
   "source": [
    "sr1 = pd.Series(list('abcd'),index=[11,12,13,14])\n",
    "sr2 = pd.Series(range(4),index=list('xymn'))\n",
    "\"\"\"当series索引为int或float时，无帽号切片中的数字是按值索引，而非位置。帽号切片则是位置\"\"\"\n",
    "\"\"\"切片返回单个元素\"\"\"\n",
    "print(sr1[13])\n",
    "print(sr2['m'])\n",
    "\"\"\"切片返回series\"\"\"\n",
    "print(sr1[[13,]])\n",
    "print(sr2[['m',]])\n",
    "print(sr1[1:1])\n",
    "\"\"\"字符串帽号切片，按字母位置而非字母表顺序，且包含最后一个字母。\"\"\"\n",
    "print(sr2['y':'n'])"
   ]
  },
  {
   "cell_type": "code",
   "execution_count": 28,
   "metadata": {},
   "outputs": [
    {
     "name": "stdout",
     "output_type": "stream",
     "text": [
      "0    False\n",
      "1     True\n",
      "2    False\n",
      "3    False\n",
      "dtype: bool\n",
      "[False, True, False, False]\n",
      "1    b\n",
      "dtype: object\n",
      "1    b\n",
      "dtype: object\n",
      "12    b\n",
      "dtype: object\n"
     ]
    }
   ],
   "source": [
    "\"\"\"bool切片必返回series，这点类似帽号切片\"\"\"\n",
    "sr3 = pd.Series(list('abcd'))\n",
    "sr4 = pd.Series(list('abcd'),index=[11,12,13,14])\n",
    "bseries = sr3=='b'\n",
    "blist = list(bseries)\n",
    "print(bseries)\n",
    "print(blist)\n",
    "\"\"\"bool切片用的是series切片，则要求切片series和原series的index必须一模一样\"\"\"\n",
    "print(sr3[blist])\n",
    "print(sr3[bseries])\n",
    "print(sr4[blist])\n",
    "# sr4[bseries] 会报错，因为sr4和bseries的index不完全匹配"
   ]
  },
  {
   "cell_type": "markdown",
   "metadata": {},
   "source": [
    "### series一些操作"
   ]
  },
  {
   "cell_type": "code",
   "execution_count": 33,
   "metadata": {},
   "outputs": [
    {
     "name": "stdout",
     "output_type": "stream",
     "text": [
      "['a' 'b' 'c' 'd']\n",
      "RangeIndex(start=0, stop=4, step=1)\n",
      "Index(['h', 'i', 'j', 'k'], dtype='object')\n"
     ]
    }
   ],
   "source": [
    "sr1 = pd.Series(list('abcd'))\n",
    "print(sr1.values)\n",
    "print(sr1.index)\n",
    "sr1.index = list('hijk')\n",
    "print(sr1.index)"
   ]
  },
  {
   "cell_type": "markdown",
   "metadata": {},
   "source": [
    "### series复制"
   ]
  },
  {
   "cell_type": "code",
   "execution_count": 37,
   "metadata": {},
   "outputs": [
    {
     "name": "stdout",
     "output_type": "stream",
     "text": [
      "1    a\n",
      "3    b\n",
      "5    c\n",
      "dtype: object\n",
      "11    a\n",
      "13    b\n",
      "15    c\n",
      "dtype: object\n"
     ]
    }
   ],
   "source": [
    "sr1 = pd.Series(list('abc'),index=[1,3,5])\n",
    "print(sr1)\n",
    "\"\"\"直接复制，sr1_a和sr1指向同一个物理地址，index和value均共享\"\"\"\n",
    "sr1_a = sr1\n",
    "sr1_a.index = [11,13,15]\n",
    "print(sr1)\n",
    "\"\"\"使用copy()复制后，index和value完全独立\"\"\"\n",
    "sr1_b = sr1.copy()"
   ]
  },
  {
   "cell_type": "code",
   "execution_count": 49,
   "metadata": {},
   "outputs": [
    {
     "name": "stdout",
     "output_type": "stream",
     "text": [
      "1    a\n",
      "3    b\n",
      "dtype: object\n",
      "11    a\n",
      "13    b\n",
      "dtype: object\n",
      "1    a\n",
      "3    b\n",
      "5    c\n",
      "dtype: object\n",
      "11    aa\n",
      "13     b\n",
      "dtype: object\n",
      "1    aa\n",
      "3     b\n",
      "5     c\n",
      "dtype: object\n",
      "11    aaa\n",
      "13      b\n",
      "66    xxx\n",
      "dtype: object\n",
      "1    aa\n",
      "3     b\n",
      "5     c\n",
      "dtype: object\n"
     ]
    }
   ],
   "source": [
    "\"\"\"切片得到的series，index不共享，value共享\"\"\"\n",
    "sr1 = pd.Series(list('abc'),index=[1,3,5])\n",
    "ssr1 = sr1[0:2]\n",
    "print(ssr1)\n",
    "\"\"\"修改ss1的index，sr1的index不变\"\"\"\n",
    "ssr1.index = [11,13]\n",
    "print(ssr1)\n",
    "print(sr1)\n",
    "\"\"\"修改ss1的value（即使按ssr1的新index修改），sr1的value同步\"\"\"\n",
    "ssr1[11] = 'aa'\n",
    "print(ssr1)\n",
    "print(sr1)\n",
    "\"\"\"当给ssr1新增索引，则会导致二者的index和value完全独立\"\"\"\n",
    "ssr1[66] = 'xxx'\n",
    "ssr1[11] = 'aaa'\n",
    "print(ssr1)\n",
    "print(sr1)\n",
    "\"\"\"显然下面的修改是给ssr1重新赋值，不存在相互影响\"\"\"\n",
    "ssr1=['x','xx','xxx']"
   ]
  },
  {
   "cell_type": "markdown",
   "metadata": {},
   "source": [
    "### series增删改"
   ]
  },
  {
   "cell_type": "code",
   "execution_count": 73,
   "metadata": {},
   "outputs": [
    {
     "data": {
      "text/plain": [
       "22    b\n",
       "23    c\n",
       "24    d\n",
       "25    e\n",
       "Name: ww, dtype: object"
      ]
     },
     "execution_count": 73,
     "metadata": {},
     "output_type": "execute_result"
    }
   ],
   "source": [
    "sr1.drop(21)"
   ]
  },
  {
   "cell_type": "code",
   "execution_count": 75,
   "metadata": {},
   "outputs": [
    {
     "data": {
      "text/plain": [
       "22    b\n",
       "24    d\n",
       "Name: ww, dtype: object"
      ]
     },
     "execution_count": 75,
     "metadata": {},
     "output_type": "execute_result"
    }
   ],
   "source": [
    "sr1.drop([21,23,25])"
   ]
  },
  {
   "cell_type": "markdown",
   "metadata": {},
   "source": [
    "### series运算"
   ]
  },
  {
   "cell_type": "code",
   "execution_count": 7,
   "metadata": {},
   "outputs": [
    {
     "name": "stdout",
     "output_type": "stream",
     "text": [
      "0    0\n",
      "1    1\n",
      "2    2\n",
      "dtype: int64 \n",
      " 1    0\n",
      "2    1\n",
      "3    2\n",
      "dtype: int64\n"
     ]
    }
   ],
   "source": [
    "sr1 = pd.Series(range(3),index=range(3))\n",
    "sr2 = pd.Series(range(3),index=range(1,4))\n",
    "print(sr1,'\\n',sr2)"
   ]
  },
  {
   "cell_type": "code",
   "execution_count": 9,
   "metadata": {},
   "outputs": [
    {
     "data": {
      "text/plain": [
       "0    NaN\n",
       "1    1.0\n",
       "2    3.0\n",
       "3    NaN\n",
       "dtype: float64"
      ]
     },
     "execution_count": 9,
     "metadata": {},
     "output_type": "execute_result"
    }
   ],
   "source": [
    "\"\"\"series相加是按index对齐的\"\"\"\n",
    "sr1+sr2"
   ]
  },
  {
   "cell_type": "code",
   "execution_count": 10,
   "metadata": {},
   "outputs": [
    {
     "data": {
      "text/plain": [
       "0    0\n",
       "1    2\n",
       "2    4\n",
       "dtype: int64"
      ]
     },
     "execution_count": 10,
     "metadata": {},
     "output_type": "execute_result"
    }
   ],
   "source": [
    "sr1*2"
   ]
  },
  {
   "cell_type": "code",
   "execution_count": 11,
   "metadata": {},
   "outputs": [
    {
     "data": {
      "text/plain": [
       "0    1.000000\n",
       "1    2.718282\n",
       "2    7.389056\n",
       "dtype: float64"
      ]
     },
     "execution_count": 11,
     "metadata": {},
     "output_type": "execute_result"
    }
   ],
   "source": [
    "import numpy as np\n",
    "np.exp(sr1)"
   ]
  },
  {
   "cell_type": "code",
   "execution_count": 13,
   "metadata": {},
   "outputs": [
    {
     "name": "stdout",
     "output_type": "stream",
     "text": [
      "True\n",
      "True\n"
     ]
    }
   ],
   "source": [
    "\"\"\"查看某索引是否在obj中，返回bool\"\"\"\n",
    "print(2 in sr1)\n",
    "print(2 & 8 | 2 in sr1)"
   ]
  },
  {
   "cell_type": "code",
   "execution_count": 14,
   "metadata": {},
   "outputs": [
    {
     "data": {
      "text/plain": [
       "1       a\n",
       "2    None\n",
       "3        \n",
       "4       0\n",
       "dtype: object"
      ]
     },
     "execution_count": 14,
     "metadata": {},
     "output_type": "execute_result"
    }
   ],
   "source": [
    "\"\"\"缺失值判断\"\"\"\n",
    "sr3 = pd.Series(['a',None,'',0],index=[1,2,3,4])\n",
    "sr3"
   ]
  },
  {
   "cell_type": "code",
   "execution_count": 15,
   "metadata": {},
   "outputs": [
    {
     "data": {
      "text/plain": [
       "1    False\n",
       "2     True\n",
       "3    False\n",
       "4    False\n",
       "dtype: bool"
      ]
     },
     "execution_count": 15,
     "metadata": {},
     "output_type": "execute_result"
    }
   ],
   "source": [
    "pd.isnull(sr3)"
   ]
  },
  {
   "cell_type": "code",
   "execution_count": 16,
   "metadata": {},
   "outputs": [
    {
     "data": {
      "text/plain": [
       "1     True\n",
       "2    False\n",
       "3     True\n",
       "4     True\n",
       "dtype: bool"
      ]
     },
     "execution_count": 16,
     "metadata": {},
     "output_type": "execute_result"
    }
   ],
   "source": [
    "pd.notnull(sr3)"
   ]
  },
  {
   "cell_type": "code",
   "execution_count": 17,
   "metadata": {},
   "outputs": [
    {
     "data": {
      "text/plain": [
       "1    False\n",
       "2     True\n",
       "3    False\n",
       "4    False\n",
       "dtype: bool"
      ]
     },
     "execution_count": 17,
     "metadata": {},
     "output_type": "execute_result"
    }
   ],
   "source": [
    "sr3.isnull()"
   ]
  }
 ],
 "metadata": {
  "kernelspec": {
   "display_name": "Python 3",
   "language": "python",
   "name": "python3"
  },
  "language_info": {
   "codemirror_mode": {
    "name": "ipython",
    "version": 3
   },
   "file_extension": ".py",
   "mimetype": "text/x-python",
   "name": "python",
   "nbconvert_exporter": "python",
   "pygments_lexer": "ipython3",
   "version": "3.7.3"
  }
 },
 "nbformat": 4,
 "nbformat_minor": 2
}
