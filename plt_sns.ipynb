{
 "cells": [
  {
   "cell_type": "code",
   "execution_count": 46,
   "metadata": {},
   "outputs": [],
   "source": [
    "import numpy as np\n",
    "import pandas as pd\n",
    "import matplotlib.pyplot as plt\n",
    "import seaborn as sns\n",
    "import pylab as mpl  # 用于在图中显示中文\n",
    "mpl.rcParams['font.sans-serif'] = ['SimHei']  # 指定默认|字体\n",
    "mpl.rcParams['axes.unicode_minus'] = False  # 解决保存图像是负号'-'显示为方块的问题\n",
    "\"\"\"\n",
    "如保sns绘图修改tickit字体大小？\n",
    "关于seaborn在条形图上标注数值的方法\n",
    "\"\"\"\n",
    "\"\"\"\n",
    "seaborn绘图文章\n",
    "https://blog.csdn.net/herr_kun/article/details/87697639\n",
    "https://blog.csdn.net/Artoria_QZH/article/details/102768817\n",
    "https://blog.csdn.net/Artoria_QZH/article/details/102790740\n",
    "https://blog.csdn.net/Artoria_QZH/article/details/102868460\n",
    "https://blog.csdn.net/Artoria_QZH/article/details/103217136\n",
    "https://blog.csdn.net/Artoria_QZH/article/details/103218063/\n",
    "http://seaborn.pydata.org/\n",
    "\"\"\"\n",
    "import pandas as pd\n",
    "def skload(name):\n",
    "    if name=='boston':\n",
    "        from sklearn.datasets import load_boston as loading\n",
    "    elif name=='cancer':\n",
    "        from sklearn.datasets import load_breast_cancer as loading\n",
    "    elif name=='iris':\n",
    "        from sklearn.datasets import load_iris as loading\n",
    "    elif name=='wine':\n",
    "        from sklearn.datasets import load_wine as loading\n",
    "    else:\n",
    "        print('choice: boston, cancer, iris, wine')\n",
    "    data = loading(return_X_y=False)\n",
    "    df = pd.DataFrame(data['data'], columns=data['feature_names'])\n",
    "    df['label'] = data['target']\n",
    "    return df\n",
    "boston = skload('boston')"
   ]
  },
  {
   "cell_type": "markdown",
   "metadata": {},
   "source": [
    "# seaborn部分"
   ]
  },
  {
   "cell_type": "markdown",
   "metadata": {},
   "source": [
    "### base"
   ]
  },
  {
   "cell_type": "code",
   "execution_count": null,
   "metadata": {},
   "outputs": [],
   "source": [
    "\"\"\"数据\"\"\"\n",
    "boston = skdata('boston')\n",
    "n=range(3)"
   ]
  },
  {
   "cell_type": "code",
   "execution_count": null,
   "metadata": {},
   "outputs": [],
   "source": [
    "\"\"\"\n",
    "注意版本，老版本的很多API不能使用了\n",
    "np.nan和None对绘图的影响\n",
    "图形组合也就是两条绘图语句一起运行就可以了，相当于图形覆盖了\n",
    "https://blog.csdn.net/Artoria_QZH/article/details/102768817\n",
    "https://blog.csdn.net/Artoria_QZH/article/details/103218063\n",
    "\"\"\"\n",
    "sns.displot(data=df, x='c1',y='c2',kind='kde').set(title='t',xlim=(0,10),ylim=(0,10),xticks=[0,1,10],yticks=[0,10]).set_axis_labels('x','y').set_xticklabels(list('abc')).set_yticklabels(list('ab'))  # 可以只有x\n",
    "\"\"\"同一画布上叠加图，在一个单元格中执行就可，下面两种绘图可在画布上叠加\"\"\"\n",
    "sns.pointplot(df['a'])\n",
    "sns.kdeplot(df['b'])"
   ]
  },
  {
   "cell_type": "code",
   "execution_count": null,
   "metadata": {},
   "outputs": [],
   "source": [
    "\"\"\"\n",
    "num:图像编号或名称，数字为编号 ，字符串为名称\n",
    "figsize:宽和高(英寸)。\n",
    "dpi:每英寸像素(分辨率)，defalt=80。\n",
    "frameon:是否显示边框\"\"\"\n",
    "plt.figure(num=None, figsize=None, dpi=None, facecolor=None, edgecolor=None, frameon=True)\n",
    "plt.close()  # 将完全关闭数字窗口\n",
    "plt.clf()  # 只会清除数字 - 您仍然可以在其上绘制另一个绘图。\n",
    "_ = sns.set_style(\"ticks\")  # dict, None, or one of {darkgrid, whitegrid, dark, white, ticks}"
   ]
  },
  {
   "cell_type": "code",
   "execution_count": null,
   "metadata": {},
   "outputs": [],
   "source": [
    "\"\"\"\n",
    "指定颜色\n",
    "palette: 'Blues_d', 'Reds_d', Greens_d，'Greys_d'，'Oranges_d'\n",
    "\"\"\"\n",
    "sns.color_palette()  # show the palette\n",
    "sns.color_palette(\"pastel\")\n",
    "sns.color_palette(\"husl\", 9)\n",
    "sns.color_palette(\"Set1\")\n",
    "sns.color_palette(\"Set2\")\n",
    "sns.color_palette(\"Set3\")\n",
    "sns.color_palette(\"flare\", as_cmap=True)  # 当as_cmap=True是渐近连续颜色，当as_cmap=False是离散的格子。\n",
    "sns.color_palette(\"ch:s=.25,rot=-.25\", as_cmap=False)\n",
    "pal = sns.color_palette(\"Greens_d\",5)  # 可以指定渐变个数，并赋值给变量\n",
    "pal  # 是个三原色的列表\n",
    "\"\"\"给每一个柱指定颜色，数量不对应的话，先用前面的颜色\"\"\"\n",
    "sns.countplot(data=boston,y='CHAS',palette= sns.color_palette(\"Greens_d\",5))"
   ]
  },
  {
   "cell_type": "code",
   "execution_count": null,
   "metadata": {},
   "outputs": [],
   "source": [
    "\"\"\"图中图绘制\"\"\"\n",
    "fig = plt.figure(figsize=(8,3),)\n",
    "ax1 = fig.add_subplot(1,1,1)  # origin\n",
    "ax2 = fig.add_subplot(4,4,16)  # 在4*4网络中的第16格绘图\n",
    "ax3 = fig.add_axes([0.2, 0.5, 0.1, 0.4]) # parameter: left, bottom, width, height\n",
    "sns.scatterplot(x=n, y=n,ax=ax1)\n",
    "sns.scatterplot(x=n, y=n,ax=ax2)\n",
    "sns.scatterplot(x=n, y=n,ax=ax3)"
   ]
  },
  {
   "cell_type": "code",
   "execution_count": null,
   "metadata": {},
   "outputs": [],
   "source": [
    "\"\"\"网格绘图\"\"\"\n",
    "fig,axes = plt.subplots(2,2,sharex=False,sharey=False,figsize=(6,3))\n",
    "sns.scatterplot(x=n, y=n, ax=axes[0,0])\n",
    "ax11 = axes[1,1]  # 也可以先给坐标赋个值，后面使用\n",
    "sns.scatterplot(x=n, y=n, ax=ax11)\n",
    "\n",
    "\"\"\"当网格为一列时，axes索引仅1维\"\"\"\n",
    "def draw(df,columns):\n",
    "    n = len(columns)\n",
    "    fig,axes = plt.subplots(n,1,sharex=False,sharey=False,figsize=(16,n*4))\n",
    "    for i in range(n):\n",
    "        sns.histplot(data=df,x=columns[i],ax=axes[i])"
   ]
  },
  {
   "cell_type": "code",
   "execution_count": null,
   "metadata": {},
   "outputs": [],
   "source": [
    "\"\"\"图参数设置 \"\"\"\n",
    "g = sns.displot(x=range(3),y=range(3),)\n",
    "g.set(title='TT',xlim=(-1,4),ylim=(-1,4),xticks=[-0.5,0,2.5],yticks=[-0.5,0,2.5])\n",
    "g.set_axis_labels('xxx','yyy')"
   ]
  },
  {
   "cell_type": "code",
   "execution_count": null,
   "metadata": {},
   "outputs": [],
   "source": [
    "\"\"\"也可以直接连起来写，注意scatterplot没有set_axis_labels方法\"\"\"\n",
    "sns.scatterplot(x=[1,3],y=[1,3]).set(title='TT',xlim=(-1,4),ylim=(-1,4),xticks=[-0.5,2],yticks=[-0.5,3])"
   ]
  },
  {
   "cell_type": "code",
   "execution_count": null,
   "metadata": {},
   "outputs": [],
   "source": [
    "\"\"\"在图上添加文本，每次只能添加一个文本\"\"\"\n",
    "sns.scatterplot(x=range(3),y=range(3)).text(x=1,y=1,s='here',fontsize=22,color='red',ha='center',va='top')\n",
    "\"\"\"添加多个文本可这样玩\"\"\"\n",
    "[g.text(x=i,y=j,s='here')  for i,j in enumerate(range(3))]"
   ]
  },
  {
   "cell_type": "code",
   "execution_count": null,
   "metadata": {},
   "outputs": [],
   "source": [
    "\"\"\"多个维度分开绘图\"\"\"\n",
    "temp = pd.DataFrame({'country':['A1','A1','A1','A1','A2','A2','A2','A2'],\n",
    "                     'seg':    ['S1','S2','S1','S2','S1','S2','S1','S2'],\n",
    "                     'agegroup':    ['1', '2', '2', '1','1', '2', '2', '1'],\n",
    "                      'N' : [21,22,23,24,31,32,33,34]})\n",
    "plot = sns.catplot(data=temp, x='seg', y='N', row='country', kind='bar',hue='agegroup',legend=True,)"
   ]
  },
  {
   "cell_type": "markdown",
   "metadata": {},
   "source": [
    "### Relational plots"
   ]
  },
  {
   "cell_type": "code",
   "execution_count": null,
   "metadata": {},
   "outputs": [],
   "source": [
    "sns.scatterplot(data=boston,x='RM',y='LSTAT')\n",
    "sns.lineplot(data=boston,x='RM',y='LSTAT')"
   ]
  },
  {
   "cell_type": "markdown",
   "metadata": {},
   "source": [
    "### Distribution plots"
   ]
  },
  {
   "cell_type": "code",
   "execution_count": null,
   "metadata": {},
   "outputs": [],
   "source": [
    "\"\"\"\n",
    "np.nan和None剔除，False和True分别按0和1计算\n",
    "hist中，如果分箱太细，直方条的颜色会变成灰白色看不清，需控制分箱的粒度\n",
    "\"\"\"\n",
    "sns.displot(data=boston, x='AGE', kind = 'kde')  # kind:kde,hist,ecdf\n",
    "sns.histplot(data=boston, x='AGE')\n",
    "sns.kdeplot(data=boston, x='AGE')\n",
    "sns.ecdfplot(data=boston, x='AGE')\n",
    "sns.distplot(x=boston['AGE'], rug=True, hist=False)\n",
    "sns.rugplot(data=boston, x='AGE',y='label',hue='CHAS',alpha=0.2)"
   ]
  },
  {
   "cell_type": "markdown",
   "metadata": {},
   "source": [
    "### Categorical plots"
   ]
  },
  {
   "cell_type": "code",
   "execution_count": null,
   "metadata": {},
   "outputs": [],
   "source": [
    "\"\"\"kind:strip, swarm, box, violin, boxen, point, bar, count\"\"\"\n",
    "sns.catplot(data=boston, x=\"RAD\", y=\"label\", hue=\"CHAS\", )\n",
    "sns.catplot(data=boston, x=\"RAD\", y=\"label\", hue=\"CHAS\", kind='violin')\n",
    "\"\"\"不带分布的散点图,jitter=0.3, 抖动项控制大小，也可直接为True或False\"\"\"\n",
    "sns.stripplot(x=np.random.randn(111),jitter=0.1)\n",
    "\"\"\"带分布的散点图\"\"\"\n",
    "sns.swarmplot( data=boston, x='RAD', y='AGE', color='.25', size=1)  # vertical\n",
    "sns.boxplot(x=\"RAD\", y=\"AGE\", data=boston,hue='CHAS')\n",
    "sns.violinplot(data=boston, x=\"RAD\", y=\"label\", hue=\"CHAS\",)\n",
    "sns.boxenplot(x=\"CHAS\", y=\"AGE\", data=boston)\n",
    "sns.pointplot(x=\"RAD\", y=\"AGE\", data=boston)\n",
    "\"\"\"estimator跟函数，sum,min,max,len,np.mean,np.median,lambda x:max(x)-min(x),自定义函数\"\"\"\n",
    "sns.barplot(data=boston, x='RAD', y='AGE',hue='CHAS', estimator=len)\n",
    "\"\"\"np.nan和None剔除，False和True分别按0和1计算\"\"\"\n",
    "sns.countplot(data=boston,y='RAD')"
   ]
  },
  {
   "cell_type": "markdown",
   "metadata": {},
   "source": [
    "### Regression plots"
   ]
  },
  {
   "cell_type": "code",
   "execution_count": null,
   "metadata": {},
   "outputs": [],
   "source": [
    "sns.lmplot(x=\"AGE\", y=\"RM\", hue=\"CHAS\", data=boston, aspect=2)"
   ]
  },
  {
   "cell_type": "markdown",
   "metadata": {},
   "source": [
    "### Matrix plots"
   ]
  },
  {
   "cell_type": "code",
   "execution_count": null,
   "metadata": {},
   "outputs": [],
   "source": [
    "sns.heatmap(data=[range(3),range(2,5)])\n",
    "sns.clustermap(data=boston[['CRIM','RM','AGE',]])"
   ]
  },
  {
   "cell_type": "markdown",
   "metadata": {},
   "source": [
    "### Multi-plot grids"
   ]
  },
  {
   "cell_type": "code",
   "execution_count": null,
   "metadata": {},
   "outputs": [],
   "source": [
    "sns.pairplot(boston[['CRIM','RM','AGE']])  # 两两绘制散点图\n",
    "sns.PairGrid(boston[['CRIM','RM','AGE']]).map(sns.scatterplot)\n",
    "sns.FacetGrid(boston, col='RAD',  row='CHAS').map(sns.scatterplot, 'AGE', 'DIS')"
   ]
  },
  {
   "cell_type": "markdown",
   "metadata": {},
   "source": [
    "### 其他"
   ]
  },
  {
   "cell_type": "code",
   "execution_count": null,
   "metadata": {},
   "outputs": [],
   "source": [
    "\"\"\"3D绘图\"\"\"\n",
    "import matplotlib.pyplot as plt \n",
    "import mpl_toolkits.mplot3d as p3d\n",
    "import numpy as np\n",
    "%matplotlib notebook\n",
    "fig = plt.figure()\n",
    "ax = p3d.Axes3D(fig)\n",
    "ax.scatter(df['brake'],df['tratio'],df['ratio'])\n",
    "ax.set_xlabel('制动次数/时间')\n",
    "ax.set_ylabel('制动高状态持续时间比例')\n",
    "ax.set_zlabel('空压机工作率')\n",
    "x = np.linspace(0, 0.03, 2)\n",
    "y = np.linspace(0, 1, 2)\n",
    "X, Y = np.meshgrid(x, y)\n",
    "# ax.plot_surface(X,Y,Z=13.2314*X+0.01858*Y+0.05499,color='white')\n",
    "plt.show()"
   ]
  },
  {
   "cell_type": "markdown",
   "metadata": {},
   "source": [
    "# matplotlib部分"
   ]
  },
  {
   "cell_type": "code",
   "execution_count": 3,
   "metadata": {},
   "outputs": [],
   "source": [
    "ir = pd.read_csv('.\\\\iris.csv', header=0, encoding='utf-8')\n",
    "fig = plt.figure(figsize=(15,15))\n",
    "ax1 = fig.add_subplot(4,2,1)\n",
    "ax2 = fig.add_subplot(4,2,2)\n",
    "ax3 = fig.add_subplot(4,2,3)\n",
    "ax4 = fig.add_subplot(4,2,4)\n",
    "ax5 = fig.add_subplot(4,2,5)\n",
    "ax6 = fig.add_subplot(4,2,6)\n",
    "ax7 = fig.add_subplot(4,2,7)\n",
    "ax8 = fig.add_subplot(4,2,8)\n",
    "ax1.plot([1,4,2,3])\n",
    "ax1.plot([2,2,4,1])\n",
    "ax2.plot([1,4,2,3],[1,2,3,4])\n",
    "ax3.hist(np.random.randn(100),bins=20)\n",
    "ax4.bar([1,2,3,4],[1,4,2,3])\n",
    "ax5.scatter([1,2,3,4],[3,2,1,5], s=[111,44,22,11])\n",
    "ax6.pcolormesh(np.array([[0,0,0,0],[0,1,1,1],[1,1,1,1]]),cmap=matplotlib.cm.Greens)\n",
    "ax7.boxplot([np.random.randn(100),np.random.randn(100)])"
   ]
  },
  {
   "cell_type": "code",
   "execution_count": null,
   "metadata": {},
   "outputs": [],
   "source": [
    "\"\"\"图的尺寸太大打印不出来，但是可以保存成图片\"\"\"\n",
    "plt.figure(figsize=(16,8))\n",
    "plt.savefig(fname=\"e.png\")"
   ]
  },
  {
   "cell_type": "code",
   "execution_count": null,
   "metadata": {},
   "outputs": [],
   "source": [
    "\"\"\"且所有的操作均在plt.gca( )中完成，gca就是get current axes的意思\"\"\"\n",
    "ax = plt.gca()"
   ]
  },
  {
   "cell_type": "code",
   "execution_count": 9,
   "metadata": {},
   "outputs": [
    {
     "data": {
      "text/plain": [
       "<matplotlib.image.AxesImage at 0x18b03ce79b0>"
      ]
     },
     "execution_count": 9,
     "metadata": {},
     "output_type": "execute_result"
    },
    {
     "data": {
      "image/png": "[encoded data removed]",
      "text/plain": [
       "<Figure size 576x72 with 1 Axes>"
      ]
     },
     "metadata": {
      "needs_background": "light"
     },
     "output_type": "display_data"
    }
   ],
   "source": [
    "plt.figure(figsize=(8,1))\n",
    "plt.imshow(np.random.randn(16).reshape(2,8), cmap=\"gray\")"
   ]
  }
 ],
 "metadata": {
  "kernelspec": {
   "display_name": "Python 3",
   "language": "python",
   "name": "python3"
  },
  "language_info": {
   "codemirror_mode": {
    "name": "ipython",
    "version": 3
   },
   "file_extension": ".py",
   "mimetype": "text/x-python",
   "name": "python",
   "nbconvert_exporter": "python",
   "pygments_lexer": "ipython3",
   "version": "3.7.3"
  }
 },
 "nbformat": 4,
 "nbformat_minor": 4
}
