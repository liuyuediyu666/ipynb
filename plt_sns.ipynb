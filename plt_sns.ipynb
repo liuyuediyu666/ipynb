{
 "cells": [
  {
   "cell_type": "code",
   "execution_count": 3,
   "metadata": {},
   "outputs": [
    {
     "data": {
      "text/plain": [
       "'seaborn中的parigrid和facegrid和pairsplot，优先学习一下'"
      ]
     },
     "execution_count": 3,
     "metadata": {},
     "output_type": "execute_result"
    }
   ],
   "source": [
    "import numpy as np\n",
    "import pandas as pd\n",
    "import matplotlib.pyplot as plt\n",
    "import matplotlib\n",
    "import seaborn as sns\n",
    "\"\"\"seaborn中的parigrid和facegrid和pairsplot，优先学习一下\"\"\""
   ]
  },
  {
   "cell_type": "markdown",
   "metadata": {},
   "source": [
    "# seaborn"
   ]
  },
  {
   "cell_type": "code",
   "execution_count": null,
   "metadata": {},
   "outputs": [],
   "source": [
    "\"\"\"\n",
    "https://blog.csdn.net/Artoria_QZH/article/details/102768817\n",
    "https://blog.csdn.net/Artoria_QZH/article/details/103218063\n",
    "注意版本，老版本的很多API不能使用了\n",
    "\"\"\"\n",
    "sns.set_style(\"whitegrid\")  # styledict, None, or one of {darkgrid, whitegrid, dark, white, ticks}\n",
    "sns.displot(data=df, x='c1',y='c2',kind='kde').set(title='t',xlim=(0,10),ylim=(0,10),xticks=[0,1,10],yticks=[0,10]).set_axis_labels('x','y').set_xticklabels(list('abc')).set_yticklabels(list('ab'))  # 可以只有x\n",
    "sns.lmplot(x='col', y='col', data=df, aspect=2)\n",
    "sns.pointplot()\n",
    "sns.heatmap()\n",
    "sns.clustermap()\n",
    "sns.kdeplot()\n",
    "\n",
    "\"\"\"同一画布上叠加图，在一个单元格中执行就可，下面两种绘图可在画布上叠加\"\"\"\n",
    "sns.pointplot(df['a'])\n",
    "sns.kdeplot(df['b'])"
   ]
  },
  {
   "cell_type": "code",
   "execution_count": null,
   "metadata": {},
   "outputs": [],
   "source": []
  },
  {
   "cell_type": "markdown",
   "metadata": {},
   "source": [
    "# matplotlib"
   ]
  },
  {
   "cell_type": "code",
   "execution_count": 3,
   "metadata": {},
   "outputs": [],
   "source": [
    "ir = pd.read_csv('.\\\\iris.csv', header=0, encoding='utf-8')\n",
    "fig = plt.figure(figsize=(15,15))\n",
    "ax1 = fig.add_subplot(4,2,1)\n",
    "ax2 = fig.add_subplot(4,2,2)\n",
    "ax3 = fig.add_subplot(4,2,3)\n",
    "ax4 = fig.add_subplot(4,2,4)\n",
    "ax5 = fig.add_subplot(4,2,5)\n",
    "ax6 = fig.add_subplot(4,2,6)\n",
    "ax7 = fig.add_subplot(4,2,7)\n",
    "ax8 = fig.add_subplot(4,2,8)\n",
    "ax1.plot([1,4,2,3])\n",
    "ax1.plot([2,2,4,1])\n",
    "ax2.plot([1,4,2,3],[1,2,3,4])\n",
    "ax3.hist(np.random.randn(100),bins=20)\n",
    "ax4.bar([1,2,3,4],[1,4,2,3])\n",
    "ax5.scatter([1,2,3,4],[3,2,1,5], s=[111,44,22,11])\n",
    "ax6.pcolormesh(np.array([[0,0,0,0],[0,1,1,1],[1,1,1,1]]),cmap=matplotlib.cm.Greens)\n",
    "ax7.boxplot([np.random.randn(100),np.random.randn(100)])"
   ]
  }
 ],
 "metadata": {
  "kernelspec": {
   "display_name": "Python 3",
   "language": "python",
   "name": "python3"
  },
  "language_info": {
   "codemirror_mode": {
    "name": "ipython",
    "version": 3
   },
   "file_extension": ".py",
   "mimetype": "text/x-python",
   "name": "python",
   "nbconvert_exporter": "python",
   "pygments_lexer": "ipython3",
   "version": "3.7.3"
  }
 },
 "nbformat": 4,
 "nbformat_minor": 4
}
