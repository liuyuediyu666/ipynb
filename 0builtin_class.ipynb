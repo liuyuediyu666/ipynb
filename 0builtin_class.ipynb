{
 "cells": [
  {
   "cell_type": "code",
   "execution_count": null,
   "metadata": {},
   "outputs": [],
   "source": [
    "class, class()和class(object)三者等价。"
   ]
  },
  {
   "cell_type": "markdown",
   "metadata": {},
   "source": [
    "# dict"
   ]
  },
  {
   "cell_type": "code",
   "execution_count": null,
   "metadata": {},
   "outputs": [],
   "source": [
    "\"\"\"查看所有属性名以及对应值\n",
    "https://www.jianshu.com/p/41cbef84d689\n",
    "https://blog.csdn.net/qq_41020281/article/details/81843740\"\"\""
   ]
  },
  {
   "cell_type": "markdown",
   "metadata": {},
   "source": [
    "# 返回函数"
   ]
  },
  {
   "cell_type": "code",
   "execution_count": null,
   "metadata": {},
   "outputs": [],
   "source": [
    "\"\"\"嵌套函数返回的函数已包含了局部变量信息\"\"\"\n",
    "\"\"\"在定义函数的时候并不会执行内层函数中的代码\"\"\"\n",
    "def outer(a,b):\n",
    "    def inner(c):\n",
    "        res = a*b\n",
    "        res += c\n",
    "        return res\n",
    "    return inner\n",
    "outer(2,3)  # <function __main__.outer.<locals>.inner(c)>\n",
    "outer(2,3)(111)  # 117"
   ]
  },
  {
   "cell_type": "code",
   "execution_count": 28,
   "metadata": {},
   "outputs": [],
   "source": [
    "\"\"\"闭包：\n",
    "当outer函数返回inner函数时，outer内部局部变量还被新函数inner引用。\n",
    "返回的函数并没有立刻执行，而是直到调用了inner()才执行\n",
    "\"\"\"\n",
    "def count():\n",
    "    fs = []\n",
    "    for i in range(1, 4):\n",
    "        def f():\n",
    "             return i*i\n",
    "        fs.append(f)\n",
    "    return fs\n",
    "f1, f2, f3 = count()\n",
    "f1()  # 9\n",
    "f2()  # 9\n",
    "f3()  # 9\n",
    "\"\"\"用f(i)的方式绑定循环变量当前值\"\"\"\n",
    "def count():\n",
    "    def f(j):\n",
    "        def g():\n",
    "            return j*j\n",
    "        return g\n",
    "    fs = []\n",
    "    for i in range(1, 4):\n",
    "        fs.append(f(i)) # f(i)立刻被执行，因此i的当前值被传入f()\n",
    "    return fs\n",
    "f1, f2, f3 = count()\n",
    "f1()  # 1\n",
    "f2()  # 4\n",
    "f3()  # 9"
   ]
  },
  {
   "cell_type": "code",
   "execution_count": 24,
   "metadata": {},
   "outputs": [],
   "source": [
    "\"\"\"调用outer函数时，每次调用都返回一个新的函数，即使传入相同的参数\"\"\"\n",
    "def outer(*args):\n",
    "    def inner():\n",
    "        return list(*args)\n",
    "    return inner\n",
    "outer1 = outer(range(3))\n",
    "outer2 = outer(range(3))\n",
    "outer1==outer2  # False\n",
    "outer1()==outer2()  # True\n",
    "def inner(*args):\n",
    "    return list(*args)\n",
    "inner1 = inner(range(3))\n",
    "inner2 = inner(range(3))\n",
    "inner1==inner2  # True"
   ]
  },
  {
   "cell_type": "markdown",
   "metadata": {},
   "source": [
    "# super"
   ]
  },
  {
   "cell_type": "code",
   "execution_count": 2,
   "metadata": {},
   "outputs": [],
   "source": [
    "\"\"\"super([type[, object-or-type]])\n",
    "返回一个代理对象，它会将方法调用委托给 type 的父类或兄弟类。 \n",
    "这对于访问已在类中被重载的继承方法很有用。\n",
    "super 有两个典型用例。 第一个用例是\n",
    "在具有单继承的类层级结构中，super 可用来引用父类而不必显式地指定它们的名称，从而令代码更易维护。 \n",
    "这种用法与其他编程语言中 super 的用法非常相似。\n",
    "第二个用例是在动态执行环境中支持协作多重继承。 \n",
    "此用例为 Python 所独有，在静态编译语言或仅支持单继承的语言中是不存在的。 \n",
    "这使得实现“菱形图”成为可能，在这时会有多个基类实现相同的方法。 \n",
    "好的设计强制要求这种方法在每个情况下具有相同的调用签名（因为调用顺序是在运行时确定的，\n",
    "也因为该顺序要适应类层级结构的更改，还因为该顺序可能包含在运行时之前未知的兄弟类）。\n",
    "\"\"\"\n",
    "class FooParent(object):\n",
    "    def __init__(self):\n",
    "        self.parent = 'I\\'m the parent.'\n",
    "        print ('Parent')\n",
    "    \n",
    "    def bar(self,message):\n",
    "        print (\"%s from Parent\" % message)\n",
    "\n",
    "\n",
    "class FooChild(FooParent):\n",
    "    def __init__(self):\n",
    "        # super(FooChild,self) 首先找到 FooChild 的父类（就是类 FooParent），然后把类 FooChild 的对象转换为类 FooParent 的对象\n",
    "        super(FooChild,self).__init__()    \n",
    "        print ('Child')\n",
    "        \n",
    "    def bar(self,message):\n",
    "        super(FooChild, self).bar(message)\n",
    "        print ('Child bar fuction')\n",
    "        print (self.parent)"
   ]
  },
  {
   "cell_type": "code",
   "execution_count": 3,
   "metadata": {},
   "outputs": [
    {
     "name": "stdout",
     "output_type": "stream",
     "text": [
      "Parent\n",
      "Child\n"
     ]
    }
   ],
   "source": [
    "fooChild = FooChild()"
   ]
  },
  {
   "cell_type": "code",
   "execution_count": 6,
   "metadata": {},
   "outputs": [
    {
     "name": "stdout",
     "output_type": "stream",
     "text": [
      "HelloWorld from Parent\n",
      "Child bar fuction\n",
      "I'm the parent.\n"
     ]
    }
   ],
   "source": [
    "fooChild.bar('HelloWorld')"
   ]
  },
  {
   "cell_type": "code",
   "execution_count": 12,
   "metadata": {},
   "outputs": [
    {
     "name": "stdout",
     "output_type": "stream",
     "text": [
      "11\n",
      "2\n",
      "33\n",
      "44\n"
     ]
    }
   ],
   "source": [
    "\"\"\"子类中super的用法，优先级关系\"\"\"\n",
    "class A():\n",
    "    def __init__(self,b=2,c=3,d=4):\n",
    "        self.b = b\n",
    "        self.c = c\n",
    "        self.d = d\n",
    "\n",
    "class AA(A):\n",
    "    def __init__(self,a=11,c=33,d=44):\n",
    "        super(AA,self).__init__(d=d)\n",
    "        self.a = a\n",
    "        self.c = c\n",
    "\n",
    "a=AA()\n",
    "print(a.a)  # 只有子类init的情况。\n",
    "print(a.b)  # 子类没有init的，可通过super调用超类会init。\n",
    "print(a.c)  # 子类有init，super超类也有init，以最后一次赋值为准，这与super位置有关。\n",
    "print(a.d)  # 子类没有init，在通过super调用超类init时，可以使用子类的d=44进行赋值。"
   ]
  },
  {
   "cell_type": "code",
   "execution_count": 3,
   "metadata": {},
   "outputs": [
    {
     "name": "stdout",
     "output_type": "stream",
     "text": [
      "ALICE\n",
      "FEMALE\n",
      "Middle school\n",
      "87\n"
     ]
    }
   ],
   "source": [
    "\"\"\"子类中super的用法（没有super时的效果）\"\"\"\n",
    "class Person(object):\n",
    "    def __init__(self,name,gender,age):\n",
    "        self.name = name\n",
    "        self.gender = gender\n",
    "        self.age = age\n",
    "class Student(Person):\n",
    "    def __init__(self,name,gender,age,school,score):\n",
    "        #super(Student,self).__init__(name,gender,age)\n",
    "        self.name = name.upper()  \n",
    "        self.gender = gender.upper()\n",
    "        self.school = school\n",
    "        self.score = score\n",
    "s = Student('Alice','female',18,'Middle school',87)\n",
    "print(s.name)\n",
    "print(s.gender)\n",
    "# print(s.age) 子类没有使用父类的初始化\n",
    "print(s.school)\n",
    "print(s.score)"
   ]
  },
  {
   "cell_type": "code",
   "execution_count": 4,
   "metadata": {},
   "outputs": [
    {
     "name": "stdout",
     "output_type": "stream",
     "text": [
      "name111\n",
      "FEMALE\n",
      "18\n",
      "Middle school\n",
      "87\n"
     ]
    }
   ],
   "source": [
    "\"\"\"子类中super的用法（添加super时的效果）\"\"\"\n",
    "class Person(object):\n",
    "    def __init__(self,name,gender,age):\n",
    "        self.name = name\n",
    "        self.gender = gender\n",
    "        self.age = age\n",
    "class Student(Person):\n",
    "    def __init__(self,name,gender,age,school,score,name1):\n",
    "        super(Student,self).__init__(name1,gender,age)\n",
    "        self.gender = gender.upper()\n",
    "        self.school = school\n",
    "        self.score = score\n",
    "s = Student('Alice','female',18,'Middle school',87,'name111')\n",
    "print(s.name)\n",
    "print(s.gender)\n",
    "print(s.age)\n",
    "print(s.school)\n",
    "print(s.score)"
   ]
  },
  {
   "cell_type": "markdown",
   "metadata": {},
   "source": [
    "# repr"
   ]
  },
  {
   "cell_type": "code",
   "execution_count": 1,
   "metadata": {},
   "outputs": [
    {
     "name": "stdout",
     "output_type": "stream",
     "text": [
      "<__main__.CLanguage object at 0x000001BC1F266AC8>\n"
     ]
    }
   ],
   "source": [
    "\"\"\"直接输出某个实例化对象，我们得到的信息只会是“类名+object at+内存地址”\n",
    "\"\"\"\n",
    "class CLanguage:\n",
    "    pass\n",
    "clangs = CLanguage()\n",
    "print(clangs)"
   ]
  },
  {
   "cell_type": "code",
   "execution_count": 6,
   "metadata": {},
   "outputs": [
    {
     "name": "stdout",
     "output_type": "stream",
     "text": [
      "CLanguage[name=C语言中文网,add=http://c.biancheng.net]\n"
     ]
    }
   ],
   "source": [
    "\"\"\"和 __init__(self) 的性质一样，Python 中的每个类都包含 __repr__() 方法，因为 object 类包含 __reper__() 方法。\n",
    "如果对该方法进行重写，可以为其制作自定义的自我描述信息。\n",
    "\"\"\"\n",
    "class CLanguage:\n",
    "    def __init__(self):\n",
    "        self.name = \"C语言中文网\"\n",
    "        self.add = \"http://c.biancheng.net\"\n",
    "    def __repr__(self):\n",
    "        return \"CLanguage[name=\"+ self.name +\",add=\" + self.add +\"]\"\n",
    "clangs = CLanguage()\n",
    "print(clangs)"
   ]
  },
  {
   "cell_type": "markdown",
   "metadata": {},
   "source": [
    "# call"
   ]
  },
  {
   "cell_type": "code",
   "execution_count": 31,
   "metadata": {},
   "outputs": [
    {
     "name": "stdout",
     "output_type": "stream",
     "text": [
      "this is __call__ method abcdefg gt 17\n",
      "this is __call__ method aabbccddeeffgg gt 17\n"
     ]
    },
    {
     "data": {
      "text/plain": [
       "2"
      ]
     },
     "execution_count": 31,
     "metadata": {},
     "output_type": "execute_result"
    }
   ],
   "source": [
    "\"\"\"__call__()是一种magic method，在类中实现这一方法可以使该类的实例（对象）像函数一样被调用。\n",
    "默认情况下该方法在类中是没有被实现的。使用callable()方法可以判断某对象是否可以被调用。\n",
    "如当类里没有实现__call__()时，此时的对象p 只是个类的实例，不是一个可调用的对象，当调用它时会报错：‘Person’ object is not callable.\n",
    "\"\"\"\n",
    "\n",
    "class A(object):\n",
    "    def __init__(self,name,age):\n",
    "        self.name=name\n",
    "        self.age=age\n",
    "    def __call__(self,text):\n",
    "        print(\"this is __call__ method\",text,self.name,self.age)\n",
    "a=A('gt',17)\n",
    "a('abcdefg')\n",
    "\"\"\"单看a(‘abcdefg’),你无法确定这是一个函数还是一个类实例，所以在Python中，函数也是对象，对象和函数的区别并不显著。\n",
    "其实a(‘abcdefg’)相当于a.__call__('abcdefg')\n",
    "\"\"\"\n",
    "a.__call__('aabbccddeeffgg')\n",
    "\"\"\"再看一个内建函数\"\"\"\n",
    "abs.__call__(-2)  # 和直接调用abs(-2)一样"
   ]
  },
  {
   "cell_type": "markdown",
   "metadata": {},
   "source": [
    "# decorator"
   ]
  },
  {
   "cell_type": "code",
   "execution_count": 207,
   "metadata": {},
   "outputs": [
    {
     "name": "stdout",
     "output_type": "stream",
     "text": [
      "building now\n"
     ]
    }
   ],
   "source": [
    "\"\"\"在使用装饰器创建函数时，装饰器本身这个函数会执行一次\"\"\"\n",
    "def deco(func):\n",
    "    print('building now')\n",
    "@deco\n",
    "def func():\n",
    "    print(\"won't excute\")"
   ]
  },
  {
   "cell_type": "code",
   "execution_count": 207,
   "metadata": {},
   "outputs": [
    {
     "name": "stdout",
     "output_type": "stream",
     "text": [
      "building now\n"
     ]
    }
   ],
   "source": [
    "\"\"\"2层嵌套的decorator\"\"\"\n",
    "def log(func):\n",
    "    def wrapper(*args, **kw):\n",
    "        print('call %s():' % func.__name__)\n",
    "        return func(*args, **kw)\n",
    "    return wrapper\n",
    "@log\n",
    "def now():\n",
    "    print('2015-3-25')\n",
    "now()  # same to log(now)"
   ]
  },
  {
   "cell_type": "code",
   "execution_count": 209,
   "metadata": {},
   "outputs": [],
   "source": [
    "\"\"\"3层嵌套的decorator，可以给装饰器本身传参\"\"\"\n",
    "def log(text):\n",
    "    def decorator(func):\n",
    "        def wrapper(*args, **kw):\n",
    "            print('%s %s():' % (text, func.__name__))\n",
    "            return func(*args, **kw)\n",
    "        return wrapper\n",
    "    return decorator\n",
    "@log('execute')\n",
    "def now():\n",
    "    print('2015-3-25')\n",
    "now()  # same to log('execute')(now)"
   ]
  },
  {
   "cell_type": "code",
   "execution_count": 134,
   "metadata": {},
   "outputs": [
    {
     "name": "stdout",
     "output_type": "stream",
     "text": [
      "func b\n",
      "func c\n",
      "func a\n"
     ]
    }
   ],
   "source": [
    "\"\"\"两层装饰器，先执行b装饰，再一起执行a装饰\"\"\"\n",
    "def a(b):\n",
    "    print(\"func a\")\n",
    "    b\n",
    "def b(c):\n",
    "    print(\"func b\")\n",
    "    c()\n",
    "@a\n",
    "@b\n",
    "def c():\n",
    "    print(\"func c\")"
   ]
  },
  {
   "cell_type": "code",
   "execution_count": null,
   "metadata": {},
   "outputs": [],
   "source": [
    "常见的类方法的内置装饰器函数有3种（必须掌握）：\n",
    "@property：简化方法的访问，像访问属性一样访问函数\n",
    "\n",
    "@classmethod：定义类方法，可以通过类.方法直接访问方法，而不用实例的对象去访问。简化实例化过程。\n",
    "\n",
    "@staticmethod：静态方法，可以理解为单纯的在类中定义一个与该类完全无关的方法。"
   ]
  },
  {
   "cell_type": "code",
   "execution_count": 6,
   "metadata": {},
   "outputs": [],
   "source": [
    "class C:\n",
    "    def __init__(self):\n",
    "        self._x = None\n",
    "\n",
    "    @property\n",
    "    def x(self):\n",
    "        \"\"\"I'm the 'x' property.\"\"\"\n",
    "        return self._x\n",
    "\n",
    "    @x.setter\n",
    "    def x(self, value):\n",
    "        self._x = value\n",
    "\n",
    "    @x.deleter\n",
    "    def x(self):\n",
    "        del self._x"
   ]
  },
  {
   "cell_type": "code",
   "execution_count": 7,
   "metadata": {},
   "outputs": [
    {
     "name": "stdout",
     "output_type": "stream",
     "text": [
      "hi\n"
     ]
    }
   ],
   "source": [
    "\"\"\"带修饰类方法：cls做为方法的第一个参数，隐式的将类做为对象，传递给方法，调用时无须实例化。\n",
    "普通函数方法：self做为第一个参数，隐式的将类实例传递给方法，调用方法时，类必须实例化。\n",
    "当我们需要和类直接进行交互，而不需要和实例进行交互时，类方法是最好的选择。\n",
    "类方法与实例方法类似，但是传递的不是类的实例，而是类本身，第一个参数是cls。\n",
    "我们可以用类的实例调用类方法，也可以直接用类名来调用。\n",
    "\"\"\"\n",
    "class C:\n",
    "    @classmethod\n",
    "    def f(cls):\n",
    "        print('hi')\n",
    "C.f()"
   ]
  },
  {
   "cell_type": "code",
   "execution_count": 8,
   "metadata": {},
   "outputs": [
    {
     "name": "stdout",
     "output_type": "stream",
     "text": [
      "通过实例引用方法\n",
      "5\n",
      "6\n",
      "类名直接引用静态方法\n",
      "7\n"
     ]
    }
   ],
   "source": [
    "\"\"\"静态方法类似普通方法，参数里面不用self。这些方法和类相关，但是又不需要类和实例中的任何信息、属性等等。\n",
    "如果把这些方法写到类外面，这样就把和类相关的代码分散到类外，使得之后对于代码的理解和维护都是巨大的障碍。\n",
    "而静态方法就是用来解决这一类问题的。\n",
    "\"\"\"\n",
    "class Algo:\n",
    "    name = \"test\"\n",
    "    def __init__(self, name):\n",
    "        self.name = name\n",
    "\n",
    "    @staticmethod\n",
    "    def add(x, y): #此处不需要传出self，函数不需要访问类\n",
    "        return x + y\n",
    "\n",
    "    # 该函数只能由实例调用\n",
    "    def multy(self, x, y):\n",
    "        return x * y\n",
    "\n",
    "cls = Algo(\"felix\")\n",
    "print(\"通过实例引用方法\")\n",
    "print(cls.add(2, 3))\n",
    "print(cls.multy(2, 3))\n",
    "\n",
    "print(\"类名直接引用静态方法\")\n",
    "print(Algo.add(4, 3))"
   ]
  },
  {
   "cell_type": "code",
   "execution_count": 12,
   "metadata": {},
   "outputs": [
    {
     "name": "stdout",
     "output_type": "stream",
     "text": [
      "12\n",
      "34\n"
     ]
    }
   ],
   "source": [
    "\"\"\"类内的静态函数调用类本身也是可以的。\"\"\"\n",
    "class S:\n",
    "    def __init__(self,x=1,y=2):\n",
    "        self.x = x\n",
    "        self.y = y\n",
    "    @staticmethod\n",
    "    def built_in(xx=12,yy=34):\n",
    "        return S(xx,yy)\n",
    "s = S.built_in()\n",
    "print(s.x)\n",
    "print(s.y)"
   ]
  },
  {
   "cell_type": "code",
   "execution_count": 65,
   "metadata": {},
   "outputs": [],
   "source": [
    "\"\"\"T2类中的built_in函数没有self,也没有加@staticmethod包装，它只能通过T2.built_in()类本身调用，无法通过类的实例调用的t.built_in()\n",
    "如果built_in函数没有self，且进行@staticmethod包装，则可以用类的实例调用。\n",
    "\"\"\"\n",
    "class T1:\n",
    "    def __init__(self,x,y):\n",
    "        self.x = x\n",
    "        self.y = y\n",
    "    @staticmethod\n",
    "    def built_in():\n",
    "        print('a')\n",
    "        print('b')\n",
    "        # print(self.x) 注意静态函数不能调用实例的属性，也就是静态函数要做到与类完全无关，不需要类的任何信息、属性等。\n",
    "    def b(self):\n",
    "        print(self.x)\n",
    "        \n",
    "        \n",
    "class T2:\n",
    "    def __init__(self,x,y):\n",
    "        self.x = x\n",
    "        self.y = y\n",
    "    def built_in():  # 没有静态函数装饰器，则只能被类调用，不能被实例调用。\n",
    "        print('a')\n",
    "        print('b')\n"
   ]
  },
  {
   "cell_type": "code",
   "execution_count": 20,
   "metadata": {},
   "outputs": [],
   "source": [
    "\"\"\"T2类中的built_in函数没有self,也没有加@staticmethod包装，它只能通过T2.built_in()类本身调用，无法通过类的实例调用的t.built_in()\n",
    "如果built_in函数没有self，且进行@staticmethod包装，则可以用类的实例调用。\n",
    "\"\"\"\n",
    "class T1:\n",
    "    h = 1\n",
    "    def __init__(self,x,y):\n",
    "        self.x = x\n",
    "        self.y = y\n",
    "    @staticmethod\n",
    "    def built_in():\n",
    "        print('a')\n",
    "        print('b')\n",
    "        # print(self.x) 注意静态函数不能调用实例的属性，也就是静态函数要做到与类完全无关，不需要类的任何信息、属性等。\n",
    "        print(T1.h)  # 如果调用类的属性或方法，只能用类名.属性名或类名.方法名。\n",
    "    def b(self):\n",
    "        print(self.x)\n",
    "        \n",
    "        \n",
    "class T2:\n",
    "    def __init__(self,x,y):\n",
    "        self.x = x\n",
    "        self.y = y\n",
    "    def built_in():  # 没有静态函数装饰器，则只能被类调用，不能被实例调用。\n",
    "        print('a')\n",
    "        print('b')\n"
   ]
  },
  {
   "cell_type": "code",
   "execution_count": 23,
   "metadata": {},
   "outputs": [
    {
     "name": "stdout",
     "output_type": "stream",
     "text": [
      "static_foo\n",
      "1\n",
      "class_foo\n",
      "1\n",
      "foo\n"
     ]
    }
   ],
   "source": [
    "\"\"\"@staticmethod与@classmethod的区别：\n",
    "@staticmethod不需要表示自身对象的self和自身类的cls参数，就跟使用函数一样。\n",
    "@classmethod也不需要self参数，但第一个参数需要是表示自身类的cls参数。\n",
    "如果在@staticmethod中要调用到这个类的一些属性方法，只能直接类名.属性名或类名.方法名。\n",
    "而@classmethod因为持有cls参数，可以来调用类的属性，类的方法，实例化对象等，避免硬编码。\n",
    "\"\"\"\n",
    "class A(object):  \n",
    "    bar = 1  \n",
    "    def foo(self):  \n",
    "        print('foo')\n",
    "\n",
    "    @staticmethod  \n",
    "    def static_foo():  \n",
    "        print('static_foo')\n",
    "        print(A.bar)\n",
    "\n",
    "    @classmethod  \n",
    "    def class_foo(cls):  \n",
    "        print('class_foo')\n",
    "        print(cls.bar)\n",
    "        cls().foo()  \n",
    "A.static_foo()  \n",
    "A.class_foo()  "
   ]
  },
  {
   "cell_type": "code",
   "execution_count": 34,
   "metadata": {},
   "outputs": [
    {
     "name": "stdout",
     "output_type": "stream",
     "text": [
      "3\n",
      "2\n",
      "2\n"
     ]
    }
   ],
   "source": [
    "\"\"\"如果现在我们想写一些仅仅与类交互而不是和实例交互的方法会怎么样呢? \n",
    "我们可以在类外面写一个简单的方法来做这些，但是这样做就扩散了类代码的关系到类定义的外面。\n",
    "如果像下面这样写就会导致以后代码维护的困难:\n",
    "\"\"\"\n",
    "def get_no_of_instances(cls_obj):\n",
    "    return cls_obj.no_inst\n",
    "class Kls(object):\n",
    "    no_inst = 0\n",
    "    def __init__(self):\n",
    "        Kls.no_inst = Kls.no_inst + 1\n",
    "ik1 = Kls()\n",
    "ik1 = Kls()\n",
    "ik1 = Kls()\n",
    "print(get_no_of_instances(Kls))\n",
    "\"\"\"我们要写一个只在类中运行而不在实例中运行的方法. 如果我们想让方法不在实例中运行，可以这么做:\n",
    "这样的好处是: 不管这个方式是从实例调用还是从类调用，它都用第一个参数把类传递过来.\n",
    "\"\"\"\n",
    "class Kls(object):\n",
    "    no_inst = 0\n",
    "    def __init__(self):\n",
    "        Kls.no_inst = Kls.no_inst + 1\n",
    "    @classmethod\n",
    "    def get_no_of_instance(cls_obj):\n",
    "        return cls_obj.no_inst\n",
    "ik2 = Kls()\n",
    "ik2 = Kls()\n",
    "print(ik2.get_no_of_instance())\n",
    "print(Kls.get_no_of_instance())"
   ]
  },
  {
   "cell_type": "code",
   "execution_count": 39,
   "metadata": {},
   "outputs": [
    {
     "name": "stdout",
     "output_type": "stream",
     "text": [
      "Reset done for: 12\n",
      "DB connection made for: 12\n",
      "Reset done for: 12\n",
      "DB connection made for:  12\n"
     ]
    }
   ],
   "source": [
    "\"\"\"@staticmethod\n",
    "经常有一些跟类有关系的功能但在运行时又不需要实例和类参与的情况下需要用到静态方法。\n",
    "比如更改环境变量或者修改其他类的属性等能用到静态方法. 这种情况可以直接用函数解决, 但这样同样会扩散类内部的代码，造成维护困难。\n",
    "比如这样:\n",
    "\"\"\"\n",
    "IND = 'ON'\n",
    "def checkind():\n",
    "    return (IND == 'ON')\n",
    "class Kls(object):\n",
    "    def __init__(self,data):\n",
    "        self.data = data\n",
    "    def do_reset(self):\n",
    "        if checkind():\n",
    "            print('Reset done for:', self.data)\n",
    "    def set_db(self):\n",
    "        if checkind():\n",
    "            self.db = 'new db connection'\n",
    "            print('DB connection made for:',self.data)\n",
    "ik1 = Kls(12)\n",
    "ik1.do_reset()\n",
    "ik1.set_db()\n",
    "\"\"\"如果使用@staticmethod就能把相关的代码放到对应的位置了。\n",
    "\"\"\"\n",
    "IND = 'ON'\n",
    "class Kls(object):\n",
    "    def __init__(self, data):\n",
    "        self.data = data\n",
    "    @staticmethod\n",
    "    def checkind():\n",
    "        return (IND == 'ON')\n",
    "    def do_reset(self):\n",
    "        if self.checkind():\n",
    "            print('Reset done for:', self.data)\n",
    "    def set_db(self):\n",
    "        if self.checkind():\n",
    "            self.db = 'New db connection'\n",
    "        print('DB connection made for: ', self.data)\n",
    "ik1 = Kls(12)\n",
    "ik1.do_reset()\n",
    "ik1.set_db()"
   ]
  },
  {
   "cell_type": "code",
   "execution_count": 44,
   "metadata": {},
   "outputs": [
    {
     "name": "stdout",
     "output_type": "stream",
     "text": [
      "23\n",
      "Static: ()\n",
      "Class: (<class '__main__.Kls'>,)\n",
      "Static: ()\n",
      "Class: (<class '__main__.Kls'>,)\n"
     ]
    }
   ],
   "source": [
    "\"\"\"下面这个更全面的代码和图示来展示这两种方法的不同@staticmethod 和 @classmethod的不同\n",
    "\"\"\"\n",
    "class Kls(object):\n",
    "    def __init__(self, data):\n",
    "        self.data = data\n",
    "    def printd(self):\n",
    "        print(self.data)\n",
    "    @staticmethod\n",
    "    def smethod(*arg):\n",
    "        print('Static:', arg)\n",
    "    @classmethod\n",
    "    def cmethod(*arg):\n",
    "        print('Class:', arg)\n",
    "ik = Kls(23)\n",
    "ik.printd()\n",
    "ik.smethod()\n",
    "ik.cmethod()\n",
    "# Kls.printd() # TypeError: unbound method printd() must be called with Kls instance as first argument (got nothing instead)\n",
    "Kls.smethod()\n",
    "Kls.cmethod()"
   ]
  },
  {
   "cell_type": "code",
   "execution_count": 5,
   "metadata": {},
   "outputs": [],
   "source": [
    "\"\"\"@wraps装饰器，与__name__、__doc__输出的内容有关，待研究。\n",
    "\"\"\"\n",
    "from functools import wraps\n",
    "def func_execute_time(func):\n",
    "    @wraps(func)\n",
    "    def wrapper(*args, **kwargs):\n",
    "        pass"
   ]
  }
 ],
 "metadata": {
  "kernelspec": {
   "display_name": "Python 3",
   "language": "python",
   "name": "python3"
  },
  "language_info": {
   "codemirror_mode": {
    "name": "ipython",
    "version": 3
   },
   "file_extension": ".py",
   "mimetype": "text/x-python",
   "name": "python",
   "nbconvert_exporter": "python",
   "pygments_lexer": "ipython3",
   "version": "3.7.3"
  }
 },
 "nbformat": 4,
 "nbformat_minor": 2
}
