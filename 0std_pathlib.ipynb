{
 "cells": [
  {
   "cell_type": "code",
   "execution_count": null,
   "metadata": {},
   "outputs": [],
   "source": [
    "pathlib库。看下知乎的介绍，下面的人的评论比较个性，实际情况需要使用一下来判断好不好用。\n",
    "https://zhuanlan.zhihu.com/p/87940289\n",
    "API不好用啊，跟os.path完全没区别，只是抽象了一层，尤其是os.path.join对应的写法，看着我蛋疼。抽象是很有必要，但是它基本是os.path api的对应拷贝，甚至很多设计还不如之前直观，所以我觉得不先进，不好用。requests替换urllib我觉得就是先进好用的。"
   ]
  }
 ],
 "metadata": {
  "kernelspec": {
   "display_name": "Python 3",
   "language": "python",
   "name": "python3"
  },
  "language_info": {
   "codemirror_mode": {
    "name": "ipython",
    "version": 3
   },
   "file_extension": ".py",
   "mimetype": "text/x-python",
   "name": "python",
   "nbconvert_exporter": "python",
   "pygments_lexer": "ipython3",
   "version": "3.7.3"
  }
 },
 "nbformat": 4,
 "nbformat_minor": 2
}
