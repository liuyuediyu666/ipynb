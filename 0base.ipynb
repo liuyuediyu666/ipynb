{
 "cells": [
  {
   "cell_type": "code",
   "execution_count": null,
   "metadata": {},
   "outputs": [],
   "source": [
    "\"\"\"待研究模块\"\"\"\n",
    "ConfigSpace # 用于算法的参数空间配置"
   ]
  },
  {
   "cell_type": "code",
   "execution_count": null,
   "metadata": {},
   "outputs": [],
   "source": [
    "\"\"\"Python官方文档\n",
    "https://docs.python.org/zh-cn/3/reference/index.html\n",
    "\"\"\""
   ]
  },
  {
   "cell_type": "code",
   "execution_count": null,
   "metadata": {},
   "outputs": [],
   "source": [
    "1. 概述\n",
    "1.1. 其他实现\n",
    "1.2. 标注\n",
    "2. 词法分析\n",
    "2.1. 行结构\n",
    "2.2. 其他形符\n",
    "2.3. 标识符和关键字\n",
    "2.4. 字面值\n",
    "2.5. 运算符\n",
    "2.6. 分隔符\n",
    "3. 数据模型\n",
    "3.1. 对象、值与类型\n",
    "3.2. 标准类型层级结构\n",
    "3.3. 特殊方法名称\n",
    "3.4. 协程\n",
    "4. 执行模型\n",
    "4.1. 程序的结构\n",
    "4.2. 命名与绑定\n",
    "4.3. 异常\n",
    "5. 导入系统\n",
    "5.1. importlib\n",
    "5.2. 包\n",
    "5.3. 搜索\n",
    "5.4. 加载\n",
    "5.5. 基于路径的查找器\n",
    "5.6. 替换标准导入系统\n",
    "5.7. 包相对导入\n",
    "5.8. 有关 __main__ 的特殊事项\n",
    "5.9. 开放问题项\n",
    "5.10. 参考文献\n",
    "6. 表达式\n",
    "6.1. 算术转换\n",
    "6.2. 原子\n",
    "6.3. 原型\n",
    "6.4. await 表达式\n",
    "6.5. 幂运算符\n",
    "6.6. 一元算术和位运算\n",
    "6.7. 二元算术运算符\n",
    "6.8. 移位运算\n",
    "6.9. 二元位运算\n",
    "6.10. 比较运算\n",
    "6.11. 布尔运算\n",
    "6.12. 赋值表达式\n",
    "6.13. 条件表达式\n",
    "6.14. lambda 表达式\n",
    "6.15. 表达式列表\n",
    "6.16. 求值顺序\n",
    "6.17. 运算符优先级\n",
    "7. 简单语句\n",
    "7.1. 表达式语句\n",
    "7.2. 赋值语句\n",
    "7.3. assert 语句\n",
    "7.4. pass 语句\n",
    "7.5. del 语句\n",
    "7.6. return 语句\n",
    "7.7. yield 语句\n",
    "7.8. raise 语句\n",
    "7.9. break 语句\n",
    "7.10. continue 语句\n",
    "7.11. import 语句\n",
    "7.12. global 语句\n",
    "7.13. nonlocal 语句\n",
    "8. 复合语句\n",
    "8.1. if 语句\n",
    "8.2. while 语句\n",
    "8.3. for 语句\n",
    "8.4. try 语句\n",
    "8.5. with 语句\n",
    "8.6. 函数定义\n",
    "8.7. 类定义\n",
    "8.8. 协程\n",
    "9. 最高层级组件\n",
    "9.1. 完整的 Python 程序\n",
    "9.2. 文件输入\n",
    "9.3. 交互式输入\n",
    "9.4. 表达式输入\n",
    "10. 完整的语法规范"
   ]
  },
  {
   "cell_type": "code",
   "execution_count": 2,
   "metadata": {},
   "outputs": [
    {
     "ename": "SyntaxError",
     "evalue": "invalid syntax (<ipython-input-2-89ab081e9e69>, line 3)",
     "output_type": "error",
     "traceback": [
      "\u001b[1;36m  File \u001b[1;32m\"<ipython-input-2-89ab081e9e69>\"\u001b[1;36m, line \u001b[1;32m3\u001b[0m\n\u001b[1;33m    python -m 模块名  # 意思是将库中的python模块用作脚本去运行。\u001b[0m\n\u001b[1;37m                ^\u001b[0m\n\u001b[1;31mSyntaxError\u001b[0m\u001b[1;31m:\u001b[0m invalid syntax\n"
     ]
    }
   ],
   "source": [
    "python --help  # 可以看到 -m -v等参数的说明\n",
    "help(np.allclose)  # 可看到模块和函数的帮助信息。函数显示的是定义下面的文本说明。\n",
    "python -m 模块名  # 意思是将库中的python模块用作脚本去运行。\n",
    "参考https://www.cnblogs.com/xueweihan/p/5118222.html"
   ]
  },
  {
   "cell_type": "code",
   "execution_count": 13,
   "metadata": {},
   "outputs": [
    {
     "name": "stdout",
     "output_type": "stream",
     "text": [
      "Help on function ab in module __main__:\n",
      "\n",
      "ab()\n",
      "    sdfasdfsafaf\n",
      "\n"
     ]
    }
   ],
   "source": [
    "def ab():\n",
    "    \"\"\"\n",
    "    sdfasdfsafaf\n",
    "    \"\"\"\n",
    "    pass\n",
    "help(ab)"
   ]
  },
  {
   "cell_type": "code",
   "execution_count": null,
   "metadata": {},
   "outputs": [],
   "source": [
    "python的setup功能如何实现"
   ]
  },
  {
   "cell_type": "code",
   "execution_count": null,
   "metadata": {},
   "outputs": [],
   "source": []
  },
  {
   "cell_type": "code",
   "execution_count": 2,
   "metadata": {},
   "outputs": [
    {
     "data": {
      "text/plain": [
       "2"
      ]
     },
     "execution_count": 2,
     "metadata": {},
     "output_type": "execute_result"
    }
   ],
   "source": [
    "\"\"\"三元表达式\"\"\"\n",
    "3 if 1==2 else 2"
   ]
  },
  {
   "cell_type": "code",
   "execution_count": 3,
   "metadata": {},
   "outputs": [
    {
     "data": {
      "text/plain": [
       "'lambda函数'"
      ]
     },
     "execution_count": 3,
     "metadata": {},
     "output_type": "execute_result"
    }
   ],
   "source": [
    "\"\"\"lambda函数\"\"\""
   ]
  },
  {
   "cell_type": "code",
   "execution_count": 17,
   "metadata": {},
   "outputs": [],
   "source": [
    "\"\"\"这种迭代空列表字段不会执行下面的语句，就没有循环，判断为空后直接退出循环。\n",
    "\"\"\"\n",
    "for i in []:\n",
    "    print(3)\n",
    "for i,j in dict().items():\n",
    "    print(1)"
   ]
  },
  {
   "cell_type": "code",
   "execution_count": 23,
   "metadata": {},
   "outputs": [
    {
     "name": "stdout",
     "output_type": "stream",
     "text": [
      "Age: 25. Gender: True\n",
      "Hello, 小明, 成绩提升了 17.1,列表[1, 2]，字典{'a': 666}\n",
      "The area of a circle with radius [1, 'a', [2, 22]] is 3.12\n"
     ]
    }
   ],
   "source": [
    "\"\"\"三种格式化字符串的方法\"\"\"\n",
    "print('Age: %s. Gender: %s' % (25, True))  # 这种方法不能传入list,dict等复杂数据格式\n",
    "print('Hello, {0}, 成绩提升了 {1:.1f},列表{2}，字典{3}'.format('小明', 17.125,[1,2],{'a':666}))\n",
    "r = [1,'a',[2,22]]\n",
    "s = 3.12345\n",
    "print(f'The area of a circle with radius {r} is {s:.2f}')"
   ]
  },
  {
   "cell_type": "code",
   "execution_count": null,
   "metadata": {},
   "outputs": [],
   "source": []
  },
  {
   "cell_type": "code",
   "execution_count": 27,
   "metadata": {},
   "outputs": [
    {
     "name": "stdout",
     "output_type": "stream",
     "text": [
      "[[4. 4. 4. 4. 4.]\n",
      " [4. 4. 4. 4. 4.]]\n",
      "[[30. 30.]\n",
      " [30. 30.]]\n"
     ]
    }
   ],
   "source": [
    "\"\"\"@带表点积\"\"\"\n",
    "import numpy as np\n",
    "arr1 = np.ones((2,5))*2\n",
    "arr2 = np.ones((5,2))*3\n",
    "print(arr1*arr1)\n",
    "print(arr1@arr2)"
   ]
  },
  {
   "cell_type": "code",
   "execution_count": null,
   "metadata": {},
   "outputs": [],
   "source": []
  },
  {
   "cell_type": "code",
   "execution_count": null,
   "metadata": {},
   "outputs": [],
   "source": []
  },
  {
   "cell_type": "code",
   "execution_count": null,
   "metadata": {},
   "outputs": [],
   "source": []
  },
  {
   "cell_type": "code",
   "execution_count": null,
   "metadata": {},
   "outputs": [],
   "source": []
  },
  {
   "cell_type": "markdown",
   "metadata": {},
   "source": [
    "# 异常，错误"
   ]
  },
  {
   "cell_type": "code",
   "execution_count": 15,
   "metadata": {},
   "outputs": [
    {
     "ename": "SyntaxError",
     "evalue": "'return' outside function (<ipython-input-15-d64055a7154b>, line 17)",
     "output_type": "error",
     "traceback": [
      "\u001b[1;36m  File \u001b[1;32m\"<ipython-input-15-d64055a7154b>\"\u001b[1;36m, line \u001b[1;32m17\u001b[0m\n\u001b[1;33m    return df.drop(['label'], axis=1).values, df['label'].values\u001b[0m\n\u001b[1;37m    ^\u001b[0m\n\u001b[1;31mSyntaxError\u001b[0m\u001b[1;31m:\u001b[0m 'return' outside function\n"
     ]
    }
   ],
   "source": [
    "\"\"\"try...except\n",
    "如果使用else这个子句，那么必须放在所有的 except 子句之后。else 子句将在 try 子句没有发生任何异常的时候执行。\n",
    "finally 语句无论是否发生异常都将执行最后的代码。\n",
    "\"\"\"\n",
    "try:  # 多个except子句情况下，只有一个excep会被执行。\n",
    "    df = pd.read_csv(path, encoding='utf8', header=0, sep=',')\n",
    "except BaseException as e:\n",
    "    print(e, '文件类型错误，pandas无法打开{}\\n'.format(path))\n",
    "except OSError as err:  # 上面的excep包含下面的except，所以这个永远取不到。\n",
    "    print(err)\n",
    "except (RuntimeError,TypeError,NameError) as k:  # except可以处理多个异常，放在括号里成为元组。\n",
    "    print(k)\n",
    "except:    # 最后的except子句可忽略异常名称，它将被当作通配符。打印一个错误信息，然后再次把异常抛出。\n",
    "    print(\"Unexpected error:\", sys.exc_info()[0])\n",
    "else:  # 必须放在所有的 except 子句之后。else 子句将在 try 子句没有发生任何异常的时候执行。\n",
    "    if 'label' in df.columns:\n",
    "        return df.drop(['label'], axis=1).values, df['label'].values\n",
    "    else:\n",
    "        raise Exception('读入的数据没有label列')\n",
    "finally:\n",
    "    pass"
   ]
  },
  {
   "cell_type": "code",
   "execution_count": 14,
   "metadata": {},
   "outputs": [
    {
     "name": "stdout",
     "output_type": "stream",
     "text": [
      "An exception flew by!\n"
     ]
    },
    {
     "ename": "NameError",
     "evalue": "HiThere",
     "output_type": "error",
     "traceback": [
      "\u001b[1;31m---------------------------------------------------------------------------\u001b[0m",
      "\u001b[1;31mNameError\u001b[0m                                 Traceback (most recent call last)",
      "\u001b[1;32m<ipython-input-14-0bfe533379e2>\u001b[0m in \u001b[0;36m<module>\u001b[1;34m\u001b[0m\n\u001b[0;32m      4\u001b[0m \"\"\"\n\u001b[0;32m      5\u001b[0m \u001b[1;32mtry\u001b[0m\u001b[1;33m:\u001b[0m\u001b[1;33m\u001b[0m\u001b[1;33m\u001b[0m\u001b[0m\n\u001b[1;32m----> 6\u001b[1;33m     \u001b[1;32mraise\u001b[0m \u001b[0mNameError\u001b[0m\u001b[1;33m(\u001b[0m\u001b[1;34m'HiThere'\u001b[0m\u001b[1;33m)\u001b[0m\u001b[1;33m\u001b[0m\u001b[1;33m\u001b[0m\u001b[0m\n\u001b[0m\u001b[0;32m      7\u001b[0m \u001b[1;32mexcept\u001b[0m \u001b[0mNameError\u001b[0m\u001b[1;33m:\u001b[0m\u001b[1;33m\u001b[0m\u001b[1;33m\u001b[0m\u001b[0m\n\u001b[0;32m      8\u001b[0m     \u001b[0mprint\u001b[0m\u001b[1;33m(\u001b[0m\u001b[1;34m'An exception flew by!'\u001b[0m\u001b[1;33m)\u001b[0m\u001b[1;33m\u001b[0m\u001b[1;33m\u001b[0m\u001b[0m\n",
      "\u001b[1;31mNameError\u001b[0m: HiThere"
     ]
    }
   ],
   "source": [
    "\"\"\"raise抛出异常\n",
    "raise唯一的一个参数指定了要被抛出的异常。它必须是一个异常的实例或者是异常的类（也就是 Exception 的子类）。\n",
    "如果你只想知道这是否抛出了一个异常，并不想去处理它，那么一个简单的 raise 语句就可以再次把它抛出。\n",
    "\"\"\"\n",
    "try:\n",
    "    raise NameError('HiThere')\n",
    "except NameError:\n",
    "    print('An exception flew by!')\n",
    "    raise\n",
    "\n"
   ]
  },
  {
   "cell_type": "code",
   "execution_count": 16,
   "metadata": {},
   "outputs": [
    {
     "ename": "AssertionError",
     "evalue": "asdfdf",
     "output_type": "error",
     "traceback": [
      "\u001b[1;31m---------------------------------------------------------------------------\u001b[0m",
      "\u001b[1;31mAssertionError\u001b[0m                            Traceback (most recent call last)",
      "\u001b[1;32m<ipython-input-16-a8411b8821b2>\u001b[0m in \u001b[0;36m<module>\u001b[1;34m\u001b[0m\n\u001b[1;32m----> 1\u001b[1;33m \u001b[1;32massert\u001b[0m \u001b[1;36m1\u001b[0m\u001b[1;33m==\u001b[0m\u001b[1;36m2\u001b[0m\u001b[1;33m,\u001b[0m \u001b[1;34m'asdfdf'\u001b[0m\u001b[1;33m\u001b[0m\u001b[1;33m\u001b[0m\u001b[0m\n\u001b[0m",
      "\u001b[1;31mAssertionError\u001b[0m: asdfdf"
     ]
    }
   ],
   "source": [
    "\"\"\"断言可指定后面的内容\"\"\"\n",
    "assert 1==2, 'asdfdf'"
   ]
  },
  {
   "cell_type": "code",
   "execution_count": null,
   "metadata": {},
   "outputs": [],
   "source": []
  },
  {
   "cell_type": "code",
   "execution_count": null,
   "metadata": {},
   "outputs": [],
   "source": []
  },
  {
   "cell_type": "code",
   "execution_count": null,
   "metadata": {},
   "outputs": [],
   "source": []
  },
  {
   "cell_type": "code",
   "execution_count": null,
   "metadata": {},
   "outputs": [],
   "source": []
  },
  {
   "cell_type": "code",
   "execution_count": null,
   "metadata": {},
   "outputs": [],
   "source": []
  },
  {
   "cell_type": "code",
   "execution_count": null,
   "metadata": {},
   "outputs": [],
   "source": []
  }
 ],
 "metadata": {
  "kernelspec": {
   "display_name": "Python 3",
   "language": "python",
   "name": "python3"
  },
  "language_info": {
   "codemirror_mode": {
    "name": "ipython",
    "version": 3
   },
   "file_extension": ".py",
   "mimetype": "text/x-python",
   "name": "python",
   "nbconvert_exporter": "python",
   "pygments_lexer": "ipython3",
   "version": "3.7.3"
  }
 },
 "nbformat": 4,
 "nbformat_minor": 4
}
