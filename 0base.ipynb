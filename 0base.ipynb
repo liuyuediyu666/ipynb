{
 "cells": [
  {
   "cell_type": "code",
   "execution_count": 1,
   "metadata": {},
   "outputs": [],
   "source": [
    "import argparse\n",
    "from collections import Counter\n",
    "from datetime import datetime\n",
    "from dateutil.parser import parse\n",
    "import fnmatch\n",
    "import functools\n",
    "import gc\n",
    "import importlib\n",
    "import itertools\n",
    "import json\n",
    "import math\n",
    "import matplotlib.pyplot as plt\n",
    "import missingno as msno\n",
    "import numpy as np\n",
    "import os\n",
    "import pandas as pd\n",
    "import pickle\n",
    "import pprint\n",
    "import random\n",
    "import re\n",
    "from scipy.stats.stats import pearsonr\n",
    "import seaborn as sns\n",
    "from sklearn.utils.class_weight import compute_sample_weight\n",
    "from sklearn.utils.class_weight import compute_class_weight\n",
    "from sklearn.ensemble import GradientBoostingClassifier as gbdt\n",
    "from sklearn import metrics\n",
    "import sys\n",
    "import time\n",
    "from tqdm import tqdm, trange\n",
    "import warnings\n",
    "import xlrd\n",
    "import xlwt\n",
    "warnings.filterwarnings(\"ignore\")  # 设置警告等级，可过滤不显示"
   ]
  },
  {
   "cell_type": "code",
   "execution_count": null,
   "metadata": {},
   "outputs": [],
   "source": [
    "'Python官方文档'\n",
    "https://docs.python.org/zh-cn/3/reference/index.html\n",
    "'pandas官方'\n",
    "https://pandas.pydata.org/docs/index.html\n",
    "'sklearn官方'\n",
    "https://scikit-learn.org/stable/\n",
    "'pytorch官方'\n",
    "https://pytorch.org/"
   ]
  },
  {
   "cell_type": "code",
   "execution_count": null,
   "metadata": {},
   "outputs": [],
   "source": [
    "python --help  # 可以看到 -m -v等参数的说明\n",
    "help(np.allclose)  # 可看到模块和函数的帮助信息。函数显示的是定义下面的文本说明。\n",
    "python -m 模块名  # 意思是将库中的python模块用作脚本去运行。\n",
    "参考\n",
    "https://www.cnblogs.com/xueweihan/p/5118222.html"
   ]
  },
  {
   "cell_type": "code",
   "execution_count": 11,
   "metadata": {},
   "outputs": [
    {
     "name": "stdout",
     "output_type": "stream",
     "text": [
      "Help on function ab in module __main__:\n",
      "\n",
      "ab()\n",
      "    帮助信息\n",
      "\n",
      "Help on class Cls in module __main__:\n",
      "\n",
      "class Cls(builtins.object)\n",
      " |  帮助信息\n",
      " |  \n",
      " |  Data descriptors defined here:\n",
      " |  \n",
      " |  __dict__\n",
      " |      dictionary for instance variables (if defined)\n",
      " |  \n",
      " |  __weakref__\n",
      " |      list of weak references to the object (if defined)\n",
      "\n",
      "帮助信息\n"
     ]
    },
    {
     "data": {
      "text/plain": [
       "'argparse的帮助信息'"
      ]
     },
     "execution_count": 11,
     "metadata": {},
     "output_type": "execute_result"
    }
   ],
   "source": [
    "\"\"\"函数的帮助信息如何使用,help()可按q键退出\"\"\"\n",
    "def ab():\n",
    "    \"\"\"\n",
    "    帮助信息\n",
    "    \"\"\"\n",
    "    pass\n",
    "help(ab)\n",
    "\n",
    "\"\"\"类的帮助信息\"\"\"\n",
    "class Cls:\n",
    "    \"\"\"帮助信息\"\"\"\n",
    "    pass\n",
    "help(Cls)\n",
    "print(Cls.__doc__)\n",
    "\n",
    "\"\"\"argparse的帮助信息\"\"\"\n",
    "# python file.py -h"
   ]
  },
  {
   "cell_type": "code",
   "execution_count": null,
   "metadata": {},
   "outputs": [],
   "source": [
    "查看函数的三种方式\n",
    "help(pd.qcut)\n",
    "dir(pd.qcut)\n",
    "print(pd.qcut.__doc__)\n",
    "查看包版本\n",
    "scipy.__version__"
   ]
  },
  {
   "cell_type": "code",
   "execution_count": null,
   "metadata": {},
   "outputs": [],
   "source": [
    "#查看python版本  \n",
    "python --V\n",
    "python --version\n",
    "#查看某个包的版本\n",
    "scipy.__version__ "
   ]
  },
  {
   "cell_type": "code",
   "execution_count": null,
   "metadata": {},
   "outputs": [],
   "source": [
    "# python进阶\n",
    "python，setuptools安装机制原理。  \n",
    "python高级调试  \n",
    "https://blog.csdn.net/qq_27825451/article/details/102457012  \n",
    "关于python的egg-info  \n",
    "https://stackoverflow.com/questions/2051192/what-is-a-python-egg  \n",
    "python -c用法  \n",
    "查看python安装路径  \n",
    "python -c \"import sys; print(sys.executable)\"  \n",
    "python -c \"import os; print(os.sys.executable)\"  \n",
    "python -c \"import os; path = os.sys.executable; folder=path[0 : path.rfind(os.sep)]; print(folder)\"  \n",
    "查看numpy版本  \n",
    "python -c \"import numpy; print(numpy.version.version)\"  \n",
    "python -c \"import numpy; print(numpy.__version__)\"  \n",
    "查看numpy安装路径  \n",
    "python -c \"import numpy; print(numpy.__file__)\"  \n",
    "python -m的用法  \n",
    "https://www.cnblogs.com/xueweihan/p/5118222.html  "
   ]
  },
  {
   "cell_type": "code",
   "execution_count": null,
   "metadata": {},
   "outputs": [],
   "source": [
    "\"\"\"\n",
    "python中迭代器和生成器的区别\n",
    "一、共同点\n",
    "生成器是一种特殊的迭代器\n",
    "二、不同点\n",
    "1、语法上\n",
    "生成器是通过函数的形式中调用 yield 或（）的形式创建的\n",
    "迭代器可以通过 iter（） 内置函数创建\n",
    "2、用法上\n",
    "生成器在调用next（）函数或for循环中，所有过程被执行，且返回值\n",
    "迭代器在调用next（）函数或for循环中，所有值被返回，没有其他过程或说动作。\n",
    "\"\"\""
   ]
  },
  {
   "cell_type": "code",
   "execution_count": null,
   "metadata": {},
   "outputs": [],
   "source": []
  },
  {
   "cell_type": "code",
   "execution_count": null,
   "metadata": {},
   "outputs": [],
   "source": []
  },
  {
   "cell_type": "code",
   "execution_count": null,
   "metadata": {},
   "outputs": [],
   "source": []
  },
  {
   "cell_type": "code",
   "execution_count": null,
   "metadata": {},
   "outputs": [],
   "source": []
  },
  {
   "cell_type": "code",
   "execution_count": null,
   "metadata": {},
   "outputs": [],
   "source": []
  },
  {
   "cell_type": "code",
   "execution_count": null,
   "metadata": {},
   "outputs": [],
   "source": []
  },
  {
   "cell_type": "code",
   "execution_count": null,
   "metadata": {},
   "outputs": [],
   "source": []
  }
 ],
 "metadata": {
  "kernelspec": {
   "display_name": "Python 3",
   "language": "python",
   "name": "python3"
  },
  "language_info": {
   "codemirror_mode": {
    "name": "ipython",
    "version": 3
   },
   "file_extension": ".py",
   "mimetype": "text/x-python",
   "name": "python",
   "nbconvert_exporter": "python",
   "pygments_lexer": "ipython3",
   "version": "3.7.3"
  }
 },
 "nbformat": 4,
 "nbformat_minor": 4
}
