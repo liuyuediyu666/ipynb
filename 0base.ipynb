{
 "cells": [
  {
   "cell_type": "code",
   "execution_count": null,
   "metadata": {},
   "outputs": [],
   "source": [
    "Python 语言参考\n",
    "https://docs.python.org/zh-cn/3/reference/index.html"
   ]
  },
  {
   "cell_type": "code",
   "execution_count": null,
   "metadata": {},
   "outputs": [],
   "source": [
    "1. 概述\n",
    "1.1. 其他实现\n",
    "1.2. 标注\n",
    "2. 词法分析\n",
    "2.1. 行结构\n",
    "2.2. 其他形符\n",
    "2.3. 标识符和关键字\n",
    "2.4. 字面值\n",
    "2.5. 运算符\n",
    "2.6. 分隔符\n",
    "3. 数据模型\n",
    "3.1. 对象、值与类型\n",
    "3.2. 标准类型层级结构\n",
    "3.3. 特殊方法名称\n",
    "3.4. 协程\n",
    "4. 执行模型\n",
    "4.1. 程序的结构\n",
    "4.2. 命名与绑定\n",
    "4.3. 异常\n",
    "5. 导入系统\n",
    "5.1. importlib\n",
    "5.2. 包\n",
    "5.3. 搜索\n",
    "5.4. 加载\n",
    "5.5. 基于路径的查找器\n",
    "5.6. 替换标准导入系统\n",
    "5.7. 包相对导入\n",
    "5.8. 有关 __main__ 的特殊事项\n",
    "5.9. 开放问题项\n",
    "5.10. 参考文献\n",
    "6. 表达式\n",
    "6.1. 算术转换\n",
    "6.2. 原子\n",
    "6.3. 原型\n",
    "6.4. await 表达式\n",
    "6.5. 幂运算符\n",
    "6.6. 一元算术和位运算\n",
    "6.7. 二元算术运算符\n",
    "6.8. 移位运算\n",
    "6.9. 二元位运算\n",
    "6.10. 比较运算\n",
    "6.11. 布尔运算\n",
    "6.12. 赋值表达式\n",
    "6.13. 条件表达式\n",
    "6.14. lambda 表达式\n",
    "6.15. 表达式列表\n",
    "6.16. 求值顺序\n",
    "6.17. 运算符优先级\n",
    "7. 简单语句\n",
    "7.1. 表达式语句\n",
    "7.2. 赋值语句\n",
    "7.3. assert 语句\n",
    "7.4. pass 语句\n",
    "7.5. del 语句\n",
    "7.6. return 语句\n",
    "7.7. yield 语句\n",
    "7.8. raise 语句\n",
    "7.9. break 语句\n",
    "7.10. continue 语句\n",
    "7.11. import 语句\n",
    "7.12. global 语句\n",
    "7.13. nonlocal 语句\n",
    "8. 复合语句\n",
    "8.1. if 语句\n",
    "8.2. while 语句\n",
    "8.3. for 语句\n",
    "8.4. try 语句\n",
    "8.5. with 语句\n",
    "8.6. 函数定义\n",
    "8.7. 类定义\n",
    "8.8. 协程\n",
    "9. 最高层级组件\n",
    "9.1. 完整的 Python 程序\n",
    "9.2. 文件输入\n",
    "9.3. 交互式输入\n",
    "9.4. 表达式输入\n",
    "10. 完整的语法规范"
   ]
  },
  {
   "cell_type": "code",
   "execution_count": null,
   "metadata": {},
   "outputs": [],
   "source": [
    "python --help  # 很有用\n",
    "python -m 模块名  # 意思是将库中的python模块用作脚本去运行。\n",
    "参考https://www.cnblogs.com/xueweihan/p/5118222.html\n",
    "python的setup功能如何实现"
   ]
  },
  {
   "cell_type": "markdown",
   "metadata": {},
   "source": [
    "# decorator"
   ]
  },
  {
   "cell_type": "code",
   "execution_count": 2,
   "metadata": {},
   "outputs": [
    {
     "name": "stdout",
     "output_type": "stream",
     "text": [
      "func b\n",
      "func c\n",
      "func a\n"
     ]
    }
   ],
   "source": [
    "def a(sa):\n",
    "    print(\"func a\")\n",
    "    sa\n",
    "def b(sb):\n",
    "    print(\"func b\")\n",
    "    sb()\n",
    "@a\n",
    "@b\n",
    "def c():\n",
    "    print(\"func c\")"
   ]
  },
  {
   "cell_type": "code",
   "execution_count": null,
   "metadata": {},
   "outputs": [],
   "source": [
    "常见的类方法的内置装饰器函数有3种（必须掌握）：\n",
    "@property：简化方法的访问，像访问属性一样访问函数\n",
    "\n",
    "@classmethod：定义类方法，可以通过类.方法直接访问方法，而不用实例的对象去访问。简化实例化过程。\n",
    "\n",
    "@staticmethod：静态方法，可以理解为单纯的在类中定义一个与该类完全无关的方法。"
   ]
  },
  {
   "cell_type": "code",
   "execution_count": 2,
   "metadata": {},
   "outputs": [],
   "source": [
    "from functools import wraps\n",
    "def func_execute_time(func):\n",
    "    @wraps(func)\n",
    "    def wrapper(*args, **kwargs):\n",
    "        pass"
   ]
  },
  {
   "cell_type": "code",
   "execution_count": null,
   "metadata": {},
   "outputs": [],
   "source": []
  },
  {
   "cell_type": "code",
   "execution_count": null,
   "metadata": {},
   "outputs": [],
   "source": []
  },
  {
   "cell_type": "code",
   "execution_count": null,
   "metadata": {},
   "outputs": [],
   "source": []
  },
  {
   "cell_type": "code",
   "execution_count": null,
   "metadata": {},
   "outputs": [],
   "source": []
  }
 ],
 "metadata": {
  "kernelspec": {
   "display_name": "Python 3",
   "language": "python",
   "name": "python3"
  },
  "language_info": {
   "codemirror_mode": {
    "name": "ipython",
    "version": 3
   },
   "file_extension": ".py",
   "mimetype": "text/x-python",
   "name": "python",
   "nbconvert_exporter": "python",
   "pygments_lexer": "ipython3",
   "version": "3.7.3"
  }
 },
 "nbformat": 4,
 "nbformat_minor": 4
}
