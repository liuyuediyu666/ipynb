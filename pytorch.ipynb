{
 "cells": [
  {
   "cell_type": "markdown",
   "metadata": {},
   "source": [
    "# pytorch\n",
    "- window下的pytorch安装，最高只能安装以下版本  \n",
    "pip install torch==1.5.0+cu101 torchvision==0.7.0+cu101 -f https://download.pytorch.org/whl/torch_stable.html  \n",
    "安装包地址：https://download.pytorch.org/whl/torch_stable.html"
   ]
  },
  {
   "cell_type": "markdown",
   "metadata": {},
   "source": [
    "pytorch官网  \n",
    "https://pytorch.org/tutorials/  \n",
    "pytorch高级封装，适合入门（Making neural nets uncool again）  \n",
    "https://www.fast.ai/  \n",
    "torchvision官方文档中的加载和文件目录的一些坑。  \n",
    "https://blog.csdn.net/IT_BOY__/article/details/106376437  "
   ]
  },
  {
   "cell_type": "code",
   "execution_count": null,
   "metadata": {},
   "outputs": [],
   "source": []
  }
 ],
 "metadata": {
  "kernelspec": {
   "display_name": "torch0905notebook",
   "language": "python",
   "name": "torch200905"
  },
  "language_info": {
   "codemirror_mode": {
    "name": "ipython",
    "version": 3
   },
   "file_extension": ".py",
   "mimetype": "text/x-python",
   "name": "python",
   "nbconvert_exporter": "python",
   "pygments_lexer": "ipython3",
   "version": "3.5.4"
  }
 },
 "nbformat": 4,
 "nbformat_minor": 2
}
