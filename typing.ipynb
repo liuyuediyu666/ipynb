{
 "cells": [
  {
   "cell_type": "code",
   "execution_count": null,
   "metadata": {},
   "outputs": [],
   "source": [
    "typing模块的作用：\n",
    "类型检查，防止运行时出现参数和返回值类型不符合。\n",
    "作为开发文档附加说明，方便使用者调用时传入和返回参数类型。\n",
    "该模块加入后并不会影响程序的运行，不会报正式的错误，只有提醒。\n",
    "\n",
    "注意：typing模块只有在python3.5以上的版本中才可以使用,pycharm目前支持typing检查"
   ]
  }
 ],
 "metadata": {
  "kernelspec": {
   "display_name": "Python 3",
   "language": "python",
   "name": "python3"
  },
  "language_info": {
   "codemirror_mode": {
    "name": "ipython",
    "version": 3
   },
   "file_extension": ".py",
   "mimetype": "text/x-python",
   "name": "python",
   "nbconvert_exporter": "python",
   "pygments_lexer": "ipython3",
   "version": "3.7.3"
  }
 },
 "nbformat": 4,
 "nbformat_minor": 2
}
