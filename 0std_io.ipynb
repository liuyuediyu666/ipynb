{
 "cells": [
  {
   "cell_type": "code",
   "execution_count": null,
   "metadata": {},
   "outputs": [],
   "source": [
    "处理流的核心工具\n",
    "流是一种抽象概念，它代表了数据的无结构化传递。\n",
    "按照流的方式进行输入输出，数据被当成无结构的字节序或字符序列。\n",
    "从流中取得数据的操作称为提取操作，而向流中添加数据的操作称为插入操作。\n",
    "用来进行输入输出操作的流就称为IO流。换句话说，IO流就是以流的方式进行输入输出。"
   ]
  }
 ],
 "metadata": {
  "kernelspec": {
   "display_name": "Python 3",
   "language": "python",
   "name": "python3"
  },
  "language_info": {
   "codemirror_mode": {
    "name": "ipython",
    "version": 3
   },
   "file_extension": ".py",
   "mimetype": "text/x-python",
   "name": "python",
   "nbconvert_exporter": "python",
   "pygments_lexer": "ipython3",
   "version": "3.6.0"
  }
 },
 "nbformat": 4,
 "nbformat_minor": 4
}
