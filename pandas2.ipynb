{
 "cells": [
  {
   "cell_type": "code",
   "execution_count": 4,
   "metadata": {},
   "outputs": [],
   "source": [
    "import numpy as np\n",
    "import pandas as pd\n",
    "# help(sr1.fillna)\n",
    "# help(df1.fillna)\n",
    "# help(pd.DataFrame.fillna)\n",
    "# help(pd.Series.fillna)"
   ]
  },
  {
   "cell_type": "markdown",
   "metadata": {},
   "source": [
    "### 缺失值"
   ]
  },
  {
   "cell_type": "code",
   "execution_count": null,
   "metadata": {},
   "outputs": [],
   "source": [
    "\"\"\"notnull(), isnull(),dropna(),fillna()的判断结果一致\n",
    "注意与bool判断的区别\n",
    "\"\"\"\n",
    "sr1 = pd.Series(['',0,None,np.nan,True,False])\n",
    "sr1.notnull()  # T, T, F, F, T, T. same to dropna and fillna\n",
    "sr1.map(bool)  # F, F, F, T, T, F. \n",
    "\"\"\"fillna可指定字典进行对应\"\"\"\n",
    "df1.fillna({0:'a',1:'b',})\n",
    "\"\"\"通用方法\"\"\"\n",
    "pd.isnull(sr1)\n",
    "pd.notnull(df1)"
   ]
  },
  {
   "cell_type": "code",
   "execution_count": null,
   "metadata": {},
   "outputs": [],
   "source": [
    "\"\"\"保留缺失值的行(np.nan或None)\"\"\"\n",
    "df1[[any(i[1]) for i in df1.isnull().iterrows()]]\n",
    "\"\"\"剔除缺失值的行(np.nan或None)\"\"\"\n",
    "df1.dropna(axis=1,how='all',thresh=1) # how可取all或any,thresh只能用int\n",
    "sr1.dropna()"
   ]
  },
  {
   "cell_type": "markdown",
   "metadata": {},
   "source": [
    "### merge"
   ]
  },
  {
   "cell_type": "code",
   "execution_count": null,
   "metadata": {},
   "outputs": [],
   "source": [
    "\"\"\"merge后，原index丢失，从0开始生成新的index\"\"\"\n",
    "\"\"\"merge字段有重复时，会进行笛卡尔积\"\"\"\n",
    "d1 = pd.DataFrame([['a','p'],['a','q']])\n",
    "d2 = pd.DataFrame([['a','s'],['a','t']])\n",
    "pd.merge(d1,d2,on=[0], how='outer') # how可选inner, outer, left, right\n",
    "pd.merge(df1,df2,left_on=[,,],right_on=[,,],suffixes=['l','r'])\n",
    "\"\"\"left_index的层次数要与right_on个数相等，不要求标签名匹配。匹配后的索引列成为value的一部分，匹配后的列名以right_on为准\"\"\"\n",
    "pd.merge(frame1,frame2,left_index=True,right_on=[,,],sort=False,copy=True)\n",
    "\"\"\"两边层次索引要一模一样，包括索引列的标签也要一样。匹配后，索引列仍然为索引列\"\"\"\n",
    "pd.merge(frame1,frame2,left_index=True,right_index=True)"
   ]
  },
  {
   "cell_type": "markdown",
   "metadata": {},
   "source": [
    "### concat"
   ]
  },
  {
   "cell_type": "code",
   "execution_count": 5,
   "metadata": {},
   "outputs": [],
   "source": [
    "\"\"\"df的\"\"\"\n",
    "d1 = pd.DataFrame([['a','p'],['a','q']])\n",
    "d2 = pd.DataFrame([['a','s'],['a','t']])\n",
    "\"\"\"keys与frame个数一一对应，并成为层次化索引\"\"\"\n",
    "pd.concat([d1,d2,],axis=0,keys=['x','y',])\n",
    "\"\"\"传入字典，键会被当做keys选项的值，同上\"\"\"\n",
    "pd.concat({'key1':d1,'key2':d2},axis=1)\n",
    "\"\"\"不保留连接轴索引，产生一组新索引range(total_length)\"\"\"\n",
    "pd.concat([d1,d2,],ignore_index=True)\n",
    "\"\"\"sr的\"\"\"\n",
    "s1 = pd.Series(list('abc'))\n",
    "s2 = pd.Series(list('hij'), index=range(1,4))\n",
    "\"\"\"纵向拼接返回series，keys用于层次索引\"\"\"\n",
    "pd.concat([s1,s1,],axis=0,keys=['x','y',])\n",
    "\"\"\"横向拼接返回dataframe, 按索引对齐，每个key对应一个列名，join可选inner,outer\"\"\"\n",
    "pd.concat([s1,s2,], axis=1, keys=['x','y',], join='outer')\n",
    "\"\"\"横向拼接返回dataframe, 指定索引\"\"\"\n",
    "pd.concat([s1,s2,],axis=1,join_axes=[[1,3,5]])"
   ]
  },
  {
   "cell_type": "markdown",
   "metadata": {},
   "source": [
    "### append"
   ]
  },
  {
   "cell_type": "code",
   "execution_count": null,
   "metadata": {},
   "outputs": [],
   "source": [
    "\"\"\"create new，索引不与源数据共享，这与slice切片不同\"\"\"\n",
    "s3 = s1.append(s2)  \n",
    "df3 = df1.append(df2)  # 只能纵向合并"
   ]
  },
  {
   "cell_type": "markdown",
   "metadata": {},
   "source": [
    "### combine_first"
   ]
  },
  {
   "cell_type": "code",
   "execution_count": null,
   "metadata": {},
   "outputs": [],
   "source": [
    "\"\"\"规则同下\"\"\"\n",
    "d1.combine_first(d2)\n",
    "\"\"\"sr的按索引合并，sr1索引有的以sr1为准, sr1索引没有的sr2加入，sr1中的None和np.nan会被sr覆盖\"\"\"\n",
    "s1 = pd.Series([0,'',True,False,None,np.nan,np.nan])\n",
    "s2 = pd.Series(list('hijklm'))\n",
    "s1.combine_first(s2)"
   ]
  },
  {
   "cell_type": "markdown",
   "metadata": {},
   "source": [
    "### replace方法"
   ]
  },
  {
   "cell_type": "code",
   "execution_count": 77,
   "metadata": {},
   "outputs": [
    {
     "data": {
      "text/html": [
       "<div>\n",
       "<style scoped>\n",
       "    .dataframe tbody tr th:only-of-type {\n",
       "        vertical-align: middle;\n",
       "    }\n",
       "\n",
       "    .dataframe tbody tr th {\n",
       "        vertical-align: top;\n",
       "    }\n",
       "\n",
       "    .dataframe thead th {\n",
       "        text-align: right;\n",
       "    }\n",
       "</style>\n",
       "<table border=\"1\" class=\"dataframe\">\n",
       "  <thead>\n",
       "    <tr style=\"text-align: right;\">\n",
       "      <th></th>\n",
       "      <th>0</th>\n",
       "      <th>1</th>\n",
       "    </tr>\n",
       "  </thead>\n",
       "  <tbody>\n",
       "    <tr>\n",
       "      <th>0</th>\n",
       "      <td>True</td>\n",
       "      <td>False</td>\n",
       "    </tr>\n",
       "    <tr>\n",
       "      <th>1</th>\n",
       "      <td>True</td>\n",
       "      <td>False</td>\n",
       "    </tr>\n",
       "    <tr>\n",
       "      <th>2</th>\n",
       "      <td>None</td>\n",
       "      <td>NaN</td>\n",
       "    </tr>\n",
       "    <tr>\n",
       "      <th>3</th>\n",
       "      <td></td>\n",
       "      <td>2</td>\n",
       "    </tr>\n",
       "  </tbody>\n",
       "</table>\n",
       "</div>"
      ],
      "text/plain": [
       "      0      1\n",
       "0  True  False\n",
       "1  True  False\n",
       "2  None    NaN\n",
       "3            2"
      ]
     },
     "execution_count": 77,
     "metadata": {},
     "output_type": "execute_result"
    }
   ],
   "source": [
    "\"\"\"replace时候的Falset和0等价，True和1等价\"\"\"\n",
    "df1 = pd.DataFrame([[1,0],[True,False,],[None, np.nan,],['',2]])\n",
    "df1.replace('','space')\n",
    "df1.replace([False,True],'TrueOrFalse')\n",
    "df1.replace([0,1],['0','1'])\n",
    "df1.replace([False,True],{False:'False',True:'True'})"
   ]
  },
  {
   "cell_type": "markdown",
   "metadata": {},
   "source": [
    "### sample随机抽样"
   ]
  },
  {
   "cell_type": "code",
   "execution_count": 25,
   "metadata": {},
   "outputs": [
    {
     "data": {
      "text/html": [
       "<div>\n",
       "<style scoped>\n",
       "    .dataframe tbody tr th:only-of-type {\n",
       "        vertical-align: middle;\n",
       "    }\n",
       "\n",
       "    .dataframe tbody tr th {\n",
       "        vertical-align: top;\n",
       "    }\n",
       "\n",
       "    .dataframe thead th {\n",
       "        text-align: right;\n",
       "    }\n",
       "</style>\n",
       "<table border=\"1\" class=\"dataframe\">\n",
       "  <thead>\n",
       "    <tr style=\"text-align: right;\">\n",
       "      <th></th>\n",
       "      <th>0</th>\n",
       "      <th>1</th>\n",
       "    </tr>\n",
       "  </thead>\n",
       "  <tbody>\n",
       "    <tr>\n",
       "      <th>a</th>\n",
       "      <td>0</td>\n",
       "      <td>1</td>\n",
       "    </tr>\n",
       "    <tr>\n",
       "      <th>e</th>\n",
       "      <td>8</td>\n",
       "      <td>9</td>\n",
       "    </tr>\n",
       "  </tbody>\n",
       "</table>\n",
       "</div>"
      ],
      "text/plain": [
       "   0  1\n",
       "a  0  1\n",
       "e  8  9"
      ]
     },
     "execution_count": 25,
     "metadata": {},
     "output_type": "execute_result"
    }
   ],
   "source": [
    "\"\"\"\n",
    "n： 要抽取的行数,需为整数值\n",
    "frac：抽取的比列,需为小数值，比方说我们想随机抽取30%的数据，则设置frac=0.3即可。\n",
    "replace：是否放回抽样，默认为False\n",
    "weights：默认为等概率加权\n",
    "random_state：随机种子，本质是一个控制器，设置此值为任意实数，则每次随机的结果是一样的\n",
    "axis：抽取数据的行还是列，axis=0的时是抽取行，axis=1时是抽取列\n",
    "\"\"\"\n",
    "df = pd.DataFrame(np.arange(10).reshape(5,2), index=list('abcde'))\n",
    "df.sample(n=3)\n",
    "df.loc[df.index.difference(df.sample(n=3).index)]"
   ]
  },
  {
   "cell_type": "markdown",
   "metadata": {},
   "source": [
    "### 排序排名"
   ]
  },
  {
   "cell_type": "code",
   "execution_count": 42,
   "metadata": {},
   "outputs": [
    {
     "data": {
      "text/plain": [
       "0    5.0\n",
       "1    5.0\n",
       "2    1.0\n",
       "3    4.0\n",
       "4    4.0\n",
       "5    3.0\n",
       "6    2.0\n",
       "dtype: float64"
      ]
     },
     "execution_count": 42,
     "metadata": {},
     "output_type": "execute_result"
    }
   ],
   "source": [
    "\"\"\"是对value进行排名,method参数如下：\n",
    "average:默认，在相等分组中，为各个值分配平均排名。\n",
    "min:使用整个分组的最小排名\n",
    "max:使用整个分组的最大排名\n",
    "first:按值在原始数据中的出现顺序分配排名\n",
    "dense:类似于min，但是排名间总是增加1，不会跳过并列排名\n",
    "\"\"\"\n",
    "s2 = pd.Series([5,5,-1,4,4,2,1])\n",
    "s2.rank(method='average', ascending=True)"
   ]
  },
  {
   "cell_type": "code",
   "execution_count": 76,
   "metadata": {},
   "outputs": [
    {
     "data": {
      "text/html": [
       "<div>\n",
       "<style scoped>\n",
       "    .dataframe tbody tr th:only-of-type {\n",
       "        vertical-align: middle;\n",
       "    }\n",
       "\n",
       "    .dataframe tbody tr th {\n",
       "        vertical-align: top;\n",
       "    }\n",
       "\n",
       "    .dataframe thead th {\n",
       "        text-align: right;\n",
       "    }\n",
       "</style>\n",
       "<table border=\"1\" class=\"dataframe\">\n",
       "  <thead>\n",
       "    <tr style=\"text-align: right;\">\n",
       "      <th></th>\n",
       "      <th>3</th>\n",
       "      <th>1</th>\n",
       "      <th>2</th>\n",
       "    </tr>\n",
       "  </thead>\n",
       "  <tbody>\n",
       "    <tr>\n",
       "      <th>a</th>\n",
       "      <td>1.0</td>\n",
       "      <td>2.5</td>\n",
       "      <td>3.0</td>\n",
       "    </tr>\n",
       "    <tr>\n",
       "      <th>e</th>\n",
       "      <td>2.5</td>\n",
       "      <td>2.5</td>\n",
       "      <td>1.0</td>\n",
       "    </tr>\n",
       "    <tr>\n",
       "      <th>b</th>\n",
       "      <td>2.5</td>\n",
       "      <td>1.0</td>\n",
       "      <td>2.0</td>\n",
       "    </tr>\n",
       "  </tbody>\n",
       "</table>\n",
       "</div>"
      ],
      "text/plain": [
       "     3    1    2\n",
       "a  1.0  2.5  3.0\n",
       "e  2.5  2.5  1.0\n",
       "b  2.5  1.0  2.0"
      ]
     },
     "execution_count": 76,
     "metadata": {},
     "output_type": "execute_result"
    }
   ],
   "source": [
    "s1 = pd.Series([3,1,2,5], index=list('dbca'))\n",
    "s1.sort_index(ascending=True)\n",
    "s1.sort_values(ascending=False)\n",
    "\"\"\"argsort排序后，返回值对应的位置index，而不是值索引。这时原来的值索引已错位，应该丢弃\"\"\"\n",
    "s1 = pd.Series([11,18,13,14], index=list('maxb'))\n",
    "s1.argsort()\n",
    "\"\"\"\"\"\"\n",
    "df = pd.DataFrame(zip([1,2,2],[8,8,3],[46,12,24]), columns=[3,1,2], index=list('aeb'))\n",
    "df.sort_index(axis=0, ascending=True)\n",
    "df.sort_values(axis=0,by=[2,1],ascending=True)  # 按by的顺序优先\n",
    "df.rank(axis=0, method='average', ascending=True)  # 单独对每一列进行排名"
   ]
  },
  {
   "cell_type": "markdown",
   "metadata": {},
   "source": [
    "### iterrows, iteritems, itertuples"
   ]
  },
  {
   "cell_type": "code",
   "execution_count": 48,
   "metadata": {},
   "outputs": [],
   "source": [
    "df1 = pd.DataFrame(np.arange(6).reshape(2,3), columns=list('xyz'), index=list('ab'), dtype='int')  # 好像所有列只能指定一种类型\n",
    "\"\"\"return iterator by rows, (index, Series)\"\"\"\n",
    "list(df1.iterrows())  \n",
    "\"\"\"return iterator by columns, (column, Series)\"\"\"\n",
    "list(df1.iteritems())\n",
    "\"\"\"return iterator by rows, tuple\"\"\"\n",
    "list(df1.itertuples())"
   ]
  },
  {
   "cell_type": "markdown",
   "metadata": {},
   "source": [
    "# 其他"
   ]
  },
  {
   "cell_type": "code",
   "execution_count": null,
   "metadata": {},
   "outputs": [],
   "source": [
    "\"\"\"设置dataframe在jupyter中显示数据的大小\"\"\"\n",
    "pd.set_option('display.width', 5)        #设置整体宽度\n",
    "pd.set_option('display.max_rows',5)      #设置最大行数\n",
    "pd.set_option('display.max_columns', 100)  #设置最大列数"
   ]
  }
 ],
 "metadata": {
  "kernelspec": {
   "display_name": "Python 3",
   "language": "python",
   "name": "python3"
  },
  "language_info": {
   "codemirror_mode": {
    "name": "ipython",
    "version": 3
   },
   "file_extension": ".py",
   "mimetype": "text/x-python",
   "name": "python",
   "nbconvert_exporter": "python",
   "pygments_lexer": "ipython3",
   "version": "3.7.3"
  }
 },
 "nbformat": 4,
 "nbformat_minor": 2
}
