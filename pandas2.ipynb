{
 "cells": [
  {
   "cell_type": "code",
   "execution_count": 2,
   "metadata": {},
   "outputs": [],
   "source": [
    "import numpy as np\n",
    "import pandas as pd\n",
    "# help(sr1.fillna)\n",
    "# help(df1.fillna)\n",
    "# help(pd.DataFrame.fillna)\n",
    "# help(pd.Series.fillna)"
   ]
  },
  {
   "cell_type": "markdown",
   "metadata": {},
   "source": [
    "### 缺失值"
   ]
  },
  {
   "cell_type": "code",
   "execution_count": null,
   "metadata": {},
   "outputs": [],
   "source": [
    "\"\"\"注意dataframe中isnull,dropna,fillna的判断结果与bool判断的区别\"\"\"\n",
    "df1 = pd.DataFrame([['',0],[True,False,],[None, np.nan,]])\n",
    "sr1 = pd.Series(['',0,None,np.nan])\n",
    "df1.isnull()\n",
    "df1.notnull()\n",
    "sr1.isnull()\n",
    "sr1.notnull()\n",
    "pd.isnull(sr1)\n",
    "pd.notnull(sr1)\n",
    "print(df1.applymap(bool))\n",
    "print(pd.isnull(df1))\n",
    "pd.notnull(df1)\n",
    "df1.fillna('asdf')\n",
    "df1.fillna({0:'a',1:'b',})\n",
    "sr1.fillna('a')"
   ]
  },
  {
   "cell_type": "code",
   "execution_count": null,
   "metadata": {},
   "outputs": [],
   "source": [
    "\"\"\"保留缺失值的行(np.nan或None)\"\"\"\n",
    "df1[[any(i[1]) for i in df1.isnull().iterrows()]]\n",
    "\"\"\"剔除缺失值的行(np.nan或None)\"\"\"\n",
    "df1.dropna(axis=1,how='all',thresh=1) # how可取all或any,thresh只能用int\n",
    "sr1.dropna()"
   ]
  },
  {
   "cell_type": "markdown",
   "metadata": {},
   "source": [
    "### merge"
   ]
  },
  {
   "cell_type": "code",
   "execution_count": null,
   "metadata": {},
   "outputs": [],
   "source": [
    "\"\"\"merge字段有重复时，会进行笛卡尔积\"\"\"\n",
    "d1 = pd.DataFrame([['a','p'],['a','q']])\n",
    "d2 = pd.DataFrame([['a','s'],['a','t']])\n",
    "pd.merge(d1,d2,on=[0], how='outer') # how可选inner, outer, left, right\n",
    "pd.merge(df1,df2,left_on=[,,],right_on=[,,],suffixes=['l','r'])\n",
    "\"\"\"left_index的层次数要与right_on个数相等，不要求标签名匹配。匹配后的索引列成为value的一部分，匹配后的列名以right_on为准\"\"\"\n",
    "pd.merge(frame1,frame2,left_index=True,right_on=[,,],sort=False,copy=True)\n",
    "\"\"\"两边层次索引要一模一样，包括索引列的标签也要一样。匹配后，索引列仍然为索引列\"\"\"\n",
    "pd.merge(frame1,frame2,left_index=True,right_index=True)"
   ]
  },
  {
   "cell_type": "markdown",
   "metadata": {},
   "source": [
    "### concat"
   ]
  },
  {
   "cell_type": "code",
   "execution_count": null,
   "metadata": {},
   "outputs": [],
   "source": [
    "\"\"\"df的\"\"\"\n",
    "d1 = pd.DataFrame([['a','p'],['a','q']])\n",
    "d2 = pd.DataFrame([['a','s'],['a','t']])\n",
    "\"\"\"keys与frame个数一一对应，并成为层次化索引\"\"\"\n",
    "pd.concat([d1,d2,],axis=0,keys=['x','y',])\n",
    "\"\"\"传入字典，键会被当做keys选项的值，同上\"\"\"\n",
    "pd.concat({'key1':d1,'key2':d2},axis=1)\n",
    "\"\"\"不保留连接轴索引，产生一组新索引range(total_length)\"\"\"\n",
    "pd.concat([d1,d2,],ignore_index=True)\n",
    "\"\"\"sr的\"\"\"\n",
    "s1 = pd.Series(list('abc'))\n",
    "s2 = pd.Series(list('hij'), index=range(1,4))\n",
    "\"\"\"纵向拼接返回series，keys用于层次索引\"\"\"\n",
    "pd.concat([s1,s1,],axis=0,keys=['x','y',])\n",
    "\"\"\"横向拼接返回dataframe, 按索引对齐，每个key对应一个列名，join可选inner,outer\"\"\"\n",
    "pd.concat([s1,s2,], axis=1, keys=['x','y',], join='outer')\n",
    "\"\"\"横向拼接返回dataframe, 指定索引\"\"\"\n",
    "pd.concat([s1,s2,],axis=1,join_axes=[[1,3,5]])"
   ]
  },
  {
   "cell_type": "markdown",
   "metadata": {},
   "source": [
    "### combine_first"
   ]
  },
  {
   "cell_type": "code",
   "execution_count": null,
   "metadata": {},
   "outputs": [],
   "source": [
    "\"\"\"规则同下\"\"\"\n",
    "d1.combine_first(d2)\n",
    "\"\"\"sr的按索引合并，sr1索引有的以sr1为准, sr1索引没有的sr2加入，sr1中的None和np.nan会被sr覆盖\"\"\"\n",
    "s1 = pd.Series([0,'',True,False,None,np.nan,np.nan])\n",
    "s2 = pd.Series(list('hijklm'))\n",
    "s1.combine_first(s2)"
   ]
  },
  {
   "cell_type": "markdown",
   "metadata": {},
   "source": [
    "### replace方法"
   ]
  },
  {
   "cell_type": "code",
   "execution_count": 77,
   "metadata": {},
   "outputs": [
    {
     "data": {
      "text/html": [
       "<div>\n",
       "<style scoped>\n",
       "    .dataframe tbody tr th:only-of-type {\n",
       "        vertical-align: middle;\n",
       "    }\n",
       "\n",
       "    .dataframe tbody tr th {\n",
       "        vertical-align: top;\n",
       "    }\n",
       "\n",
       "    .dataframe thead th {\n",
       "        text-align: right;\n",
       "    }\n",
       "</style>\n",
       "<table border=\"1\" class=\"dataframe\">\n",
       "  <thead>\n",
       "    <tr style=\"text-align: right;\">\n",
       "      <th></th>\n",
       "      <th>0</th>\n",
       "      <th>1</th>\n",
       "    </tr>\n",
       "  </thead>\n",
       "  <tbody>\n",
       "    <tr>\n",
       "      <th>0</th>\n",
       "      <td>True</td>\n",
       "      <td>False</td>\n",
       "    </tr>\n",
       "    <tr>\n",
       "      <th>1</th>\n",
       "      <td>True</td>\n",
       "      <td>False</td>\n",
       "    </tr>\n",
       "    <tr>\n",
       "      <th>2</th>\n",
       "      <td>None</td>\n",
       "      <td>NaN</td>\n",
       "    </tr>\n",
       "    <tr>\n",
       "      <th>3</th>\n",
       "      <td></td>\n",
       "      <td>2</td>\n",
       "    </tr>\n",
       "  </tbody>\n",
       "</table>\n",
       "</div>"
      ],
      "text/plain": [
       "      0      1\n",
       "0  True  False\n",
       "1  True  False\n",
       "2  None    NaN\n",
       "3            2"
      ]
     },
     "execution_count": 77,
     "metadata": {},
     "output_type": "execute_result"
    }
   ],
   "source": [
    "\"\"\"replace时候的Falset和0等价，True和1等价\"\"\"\n",
    "df1 = pd.DataFrame([[1,0],[True,False,],[None, np.nan,],['',2]])\n",
    "df1.replace('','space')\n",
    "df1.replace([False,True],'TrueOrFalse')\n",
    "df1.replace([0,1],['0','1'])\n",
    "df1.replace([False,True],{False:'False',True:'True'})"
   ]
  },
  {
   "cell_type": "markdown",
   "metadata": {},
   "source": [
    "### iterrows, iteritems, itertuples"
   ]
  },
  {
   "cell_type": "code",
   "execution_count": 48,
   "metadata": {},
   "outputs": [],
   "source": [
    "df1 = pd.DataFrame(np.arange(6).reshape(2,3), columns=list('xyz'), index=list('ab'), dtype='int')  # 好像所有列只能指定一种类型\n",
    "\"\"\"return iterator by rows, (index, Series)\"\"\"\n",
    "list(df1.iterrows())  \n",
    "\"\"\"return iterator by columns, (column, Series)\"\"\"\n",
    "list(df1.iteritems())\n",
    "\"\"\"return iterator by rows, tuple\"\"\"\n",
    "list(df1.itertuples())"
   ]
  }
 ],
 "metadata": {
  "kernelspec": {
   "display_name": "Python 3",
   "language": "python",
   "name": "python3"
  },
  "language_info": {
   "codemirror_mode": {
    "name": "ipython",
    "version": 3
   },
   "file_extension": ".py",
   "mimetype": "text/x-python",
   "name": "python",
   "nbconvert_exporter": "python",
   "pygments_lexer": "ipython3",
   "version": "3.7.3"
  }
 },
 "nbformat": 4,
 "nbformat_minor": 2
}
