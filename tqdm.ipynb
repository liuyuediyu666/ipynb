{
 "cells": [
  {
   "cell_type": "code",
   "execution_count": 19,
   "metadata": {},
   "outputs": [],
   "source": [
    "import time\n",
    "from tqdm import tqdm, trange\n",
    "from random import random, randint"
   ]
  },
  {
   "cell_type": "code",
   "execution_count": 7,
   "metadata": {},
   "outputs": [
    {
     "name": "stderr",
     "output_type": "stream",
     "text": [
      "100%|███████████████████████████| 1000000/1000000 [00:00<00:00, 1503673.23it/s]\n"
     ]
    }
   ],
   "source": [
    "for i in tqdm(range(1000000)):\n",
    "    i += i"
   ]
  },
  {
   "cell_type": "code",
   "execution_count": 17,
   "metadata": {},
   "outputs": [
    {
     "name": "stderr",
     "output_type": "stream",
     "text": [
      "\n",
      "  0%|                                                 | 0/1000 [00:00<?, ?it/s]\u001b[A\n",
      "  0%|                                         | 3/1000 [00:00<00:33, 30.00it/s]\u001b[A\n",
      "  1%|▏                                        | 6/1000 [00:00<00:33, 29.38it/s]\u001b[A\n",
      "  1%|▎                                        | 9/1000 [00:00<00:34, 28.88it/s]\u001b[A\n",
      "  1%|▍                                       | 12/1000 [00:00<00:34, 28.70it/s]\u001b[A\n",
      "  2%|▌                                       | 15/1000 [00:00<00:34, 28.58it/s]\u001b[A\n",
      "  2%|▋                                       | 18/1000 [00:00<00:34, 28.42it/s]\u001b[A\n",
      "  2%|▊                                       | 21/1000 [00:00<00:34, 28.30it/s]\u001b[A\n",
      "  2%|▉                                       | 24/1000 [00:00<00:34, 28.22it/s]\u001b[A\n",
      "  3%|█                                       | 27/1000 [00:00<00:34, 28.16it/s]\u001b[A\n",
      "  3%|█▏                                      | 30/1000 [00:01<00:34, 28.09it/s]\u001b[A\n"
     ]
    }
   ],
   "source": [
    "with tqdm(total=1000) as pbar:\n",
    "    for i in range(10):\n",
    "        time.sleep(0.1)\n",
    "        pbar.update(3)"
   ]
  },
  {
   "cell_type": "code",
   "execution_count": 20,
   "metadata": {},
   "outputs": [
    {
     "name": "stderr",
     "output_type": "stream",
     "text": [
      "\n",
      "  0%|                                                   | 0/10 [00:00<?, ?it/s]\u001b[A\n",
      "GEN 0:   0%|                                            | 0/10 [00:00<?, ?it/s]\u001b[A\n",
      "GEN 0:   0%|   | 0/10 [00:00<?, ?it/s, gen=667, loss=0.0134, lst=[1, 2], str=h]\u001b[A\n",
      "GEN 0:  10%| | 1/10 [00:00<00:00,  9.35it/s, gen=667, loss=0.0134, lst=[1, 2], \u001b[A\n",
      "GEN 1:  10%| | 1/10 [00:00<00:00,  9.35it/s, gen=667, loss=0.0134, lst=[1, 2], \u001b[A\n",
      "GEN 1:  10%| | 1/10 [00:00<00:00,  9.35it/s, gen=70, loss=0.777, lst=[1, 2], st\u001b[A\n",
      "GEN 1:  20%|▏| 2/10 [00:00<00:00,  9.27it/s, gen=70, loss=0.777, lst=[1, 2], st\u001b[A\n",
      "GEN 2:  20%|▏| 2/10 [00:00<00:00,  9.27it/s, gen=70, loss=0.777, lst=[1, 2], st\u001b[A\n",
      "GEN 2:  20%|▏| 2/10 [00:00<00:00,  9.27it/s, gen=74, loss=0.0645, lst=[1, 2], s\u001b[A\n",
      "GEN 2:  30%|▎| 3/10 [00:00<00:00,  8.92it/s, gen=74, loss=0.0645, lst=[1, 2], s\u001b[A\n",
      "GEN 3:  30%|▎| 3/10 [00:00<00:00,  8.92it/s, gen=74, loss=0.0645, lst=[1, 2], s\u001b[A\n",
      "GEN 3:  30%|▎| 3/10 [00:00<00:00,  8.92it/s, gen=632, loss=0.106, lst=[1, 2], s\u001b[A\n",
      "GEN 3:  40%|▍| 4/10 [00:00<00:00,  8.71it/s, gen=632, loss=0.106, lst=[1, 2], s\u001b[A\n",
      "GEN 4:  40%|▍| 4/10 [00:00<00:00,  8.71it/s, gen=632, loss=0.106, lst=[1, 2], s\u001b[A\n",
      "GEN 4:  40%|▍| 4/10 [00:00<00:00,  8.71it/s, gen=18, loss=0.117, lst=[1, 2], st\u001b[A\n",
      "GEN 4:  50%|▌| 5/10 [00:00<00:00,  8.53it/s, gen=18, loss=0.117, lst=[1, 2], st\u001b[A\n",
      "GEN 5:  50%|▌| 5/10 [00:00<00:00,  8.53it/s, gen=18, loss=0.117, lst=[1, 2], st\u001b[A\n",
      "GEN 5:  50%|▌| 5/10 [00:00<00:00,  8.53it/s, gen=771, loss=0.0852, lst=[1, 2], \u001b[A\n",
      "GEN 5:  60%|▌| 6/10 [00:00<00:00,  8.47it/s, gen=771, loss=0.0852, lst=[1, 2], \u001b[A\n",
      "GEN 6:  60%|▌| 6/10 [00:00<00:00,  8.47it/s, gen=771, loss=0.0852, lst=[1, 2], \u001b[A\n",
      "GEN 6:  60%|▌| 6/10 [00:00<00:00,  8.47it/s, gen=522, loss=0.792, lst=[1, 2], s\u001b[A\n",
      "GEN 6:  70%|▋| 7/10 [00:00<00:00,  8.43it/s, gen=522, loss=0.792, lst=[1, 2], s\u001b[A\n",
      "GEN 7:  70%|▋| 7/10 [00:00<00:00,  8.43it/s, gen=522, loss=0.792, lst=[1, 2], s\u001b[A\n",
      "GEN 7:  70%|▋| 7/10 [00:00<00:00,  8.43it/s, gen=38, loss=0.0695, lst=[1, 2], s\u001b[A\n",
      "GEN 7:  80%|▊| 8/10 [00:00<00:00,  8.38it/s, gen=38, loss=0.0695, lst=[1, 2], s\u001b[A\n",
      "GEN 8:  80%|▊| 8/10 [00:00<00:00,  8.38it/s, gen=38, loss=0.0695, lst=[1, 2], s\u001b[A\n",
      "GEN 8:  80%|▊| 8/10 [00:00<00:00,  8.38it/s, gen=515, loss=0.429, lst=[1, 2], s\u001b[A\n",
      "GEN 8:  90%|▉| 9/10 [00:01<00:00,  8.36it/s, gen=515, loss=0.429, lst=[1, 2], s\u001b[A\n",
      "GEN 9:  90%|▉| 9/10 [00:01<00:00,  8.36it/s, gen=515, loss=0.429, lst=[1, 2], s\u001b[A\n",
      "GEN 9:  90%|▉| 9/10 [00:01<00:00,  8.36it/s, gen=599, loss=0.314, lst=[1, 2], s\u001b[A\n",
      "GEN 9: 100%|█| 10/10 [00:01<00:00,  8.39it/s, gen=599, loss=0.314, lst=[1, 2], \u001b[A\n"
     ]
    }
   ],
   "source": [
    "with trange(10) as t:\n",
    "    for i in t:\n",
    "        # 描述信息将显示在左侧\n",
    "        t.set_description('GEN %i' % i)\n",
    "        # 后缀将显示在右侧\n",
    "        # 根据参数的数据类型自动格式化\n",
    "        t.set_postfix(loss=random(), gen=randint(1,999), str='h',\n",
    "                      lst=[1, 2])\n",
    "        sleep(0.1)"
   ]
  },
  {
   "cell_type": "code",
   "execution_count": null,
   "metadata": {},
   "outputs": [],
   "source": []
  },
  {
   "cell_type": "code",
   "execution_count": null,
   "metadata": {},
   "outputs": [],
   "source": []
  },
  {
   "cell_type": "code",
   "execution_count": null,
   "metadata": {},
   "outputs": [],
   "source": []
  },
  {
   "cell_type": "code",
   "execution_count": null,
   "metadata": {},
   "outputs": [],
   "source": []
  },
  {
   "cell_type": "code",
   "execution_count": null,
   "metadata": {},
   "outputs": [],
   "source": [
    "参考文档：\n",
    "https://tqdm.github.io/"
   ]
  },
  {
   "cell_type": "code",
   "execution_count": null,
   "metadata": {},
   "outputs": [],
   "source": []
  }
 ],
 "metadata": {
  "kernelspec": {
   "display_name": "Python 3",
   "language": "python",
   "name": "python3"
  },
  "language_info": {
   "codemirror_mode": {
    "name": "ipython",
    "version": 3
   },
   "file_extension": ".py",
   "mimetype": "text/x-python",
   "name": "python",
   "nbconvert_exporter": "python",
   "pygments_lexer": "ipython3",
   "version": "3.7.3"
  }
 },
 "nbformat": 4,
 "nbformat_minor": 4
}
