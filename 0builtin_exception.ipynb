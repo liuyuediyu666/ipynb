{
 "cells": [
  {
   "cell_type": "code",
   "execution_count": null,
   "metadata": {},
   "outputs": [],
   "source": [
    "\"\"\"try...except\n",
    "如果使用else这个子句，那么必须放在所有的 except 子句之后。else 子句将在 try 子句没有发生任何异常的时候执行。\n",
    "finally 语句无论是否发生异常都将执行最后的代码。\n",
    "\"\"\"\n",
    "try:  # 多个except子句情况下，只有一个excep会被执行。\n",
    "    df = pd.read_csv(path, encoding='utf8', header=0, sep=',')\n",
    "except BaseException as e:\n",
    "    print(e, '文件类型错误，pandas无法打开{}\\n'.format(path))\n",
    "except OSError as err:  # 上面的excep包含下面的except，所以这个永远取不到。\n",
    "    print(err)\n",
    "except (RuntimeError,TypeError,NameError) as k:  # except可以处理多个异常，放在括号里成为元组。\n",
    "    print(k)\n",
    "except:    # 最后的except子句可忽略异常名称，它将被当作通配符。打印一个错误信息，然后再次把异常抛出。\n",
    "    print(\"Unexpected error:\", sys.exc_info()[0])\n",
    "else:  # 必须放在所有的 except 子句之后。else 子句将在 try 子句没有发生任何异常的时候执行。\n",
    "    if 'label' in df.columns:\n",
    "        return df.drop(['label'], axis=1).values, df['label'].values\n",
    "    else:\n",
    "        raise Exception('读入的数据没有label列')\n",
    "finally:\n",
    "    pass"
   ]
  },
  {
   "cell_type": "code",
   "execution_count": null,
   "metadata": {},
   "outputs": [],
   "source": [
    "\"\"\"raise抛出异常\n",
    "raise唯一的一个参数指定了要被抛出的异常。它必须是一个异常的实例或者是异常的类（也就是 Exception 的子类）。\n",
    "如果你只想知道这是否抛出了一个异常，并不想去处理它，那么一个简单的 raise 语句就可以再次把它抛出。\n",
    "\"\"\"\n",
    "try:\n",
    "    raise NameError('HiThere')\n",
    "except NameError:\n",
    "    print('An exception flew by!')\n",
    "    raise"
   ]
  },
  {
   "cell_type": "code",
   "execution_count": null,
   "metadata": {},
   "outputs": [],
   "source": [
    "\"\"\"断言可指定后面的内容\"\"\"\n",
    "assert 1==2, 'asdfdf'"
   ]
  }
 ],
 "metadata": {
  "kernelspec": {
   "display_name": "Python 3",
   "language": "python",
   "name": "python3"
  },
  "language_info": {
   "codemirror_mode": {
    "name": "ipython",
    "version": 3
   },
   "file_extension": ".py",
   "mimetype": "text/x-python",
   "name": "python",
   "nbconvert_exporter": "python",
   "pygments_lexer": "ipython3",
   "version": "3.7.3"
  }
 },
 "nbformat": 4,
 "nbformat_minor": 4
}
