{
 "cells": [
  {
   "cell_type": "code",
   "execution_count": 2,
   "metadata": {},
   "outputs": [
    {
     "name": "stdout",
     "output_type": "stream",
     "text": [
      "[[4. 4. 4. 4. 4.]\n",
      " [4. 4. 4. 4. 4.]]\n",
      "[[30. 30.]\n",
      " [30. 30.]]\n"
     ]
    }
   ],
   "source": [
    "\"\"\"@带表点积，与*的区别\"\"\"\n",
    "import numpy as np\n",
    "arr1 = np.ones((2,5))*2\n",
    "arr2 = np.ones((5,2))*3\n",
    "print(arr1*arr1)\n",
    "print(arr1@arr2)"
   ]
  },
  {
   "cell_type": "code",
   "execution_count": 31,
   "metadata": {},
   "outputs": [
    {
     "data": {
      "text/plain": [
       "[1, 3, 5, 7, 9]"
      ]
     },
     "execution_count": 31,
     "metadata": {},
     "output_type": "execute_result"
    }
   ],
   "source": []
  },
  {
   "cell_type": "code",
   "execution_count": 86,
   "metadata": {},
   "outputs": [
    {
     "data": {
      "text/plain": [
       "[1, 4, 9, 16, 25]"
      ]
     },
     "execution_count": 86,
     "metadata": {},
     "output_type": "execute_result"
    }
   ],
   "source": [
    "\"\"\"map函数的使用,搭配lambda\"\"\"\n",
    "list(map(lambda x: x**2, [1, 2, 3, 4, 5]))"
   ]
  },
  {
   "cell_type": "code",
   "execution_count": 15,
   "metadata": {},
   "outputs": [
    {
     "data": {
      "text/plain": [
       "[1, True]"
      ]
     },
     "execution_count": 15,
     "metadata": {},
     "output_type": "execute_result"
    }
   ],
   "source": [
    "\"\"\"iter用法,配合next\"\"\"\n",
    "x = iter([1,2,3,5,8])\n",
    "next(x)\n",
    "any(x)\n",
    "\"\"\"zip的用法\"\"\"\n",
    "list(zip(range(5), range(10,15), range(20,25)))\n",
    "\"\"\"slice用于固定切片,slice(start, stop[, step])\"\"\"\n",
    "s = slice(0,5,2)\n",
    "[11,12,13,14,15][s]\n",
    "\"\"\"filter函数，效率还可以\"\"\"\n",
    "list(filter(lambda x: x%2==1, [1, 2, 3,]))\n",
    "list(filter(lambda x:isinstance(x, str), [1, 'a',None,'']))\n",
    "list(filter(bool, [1,0,True,False]))"
   ]
  },
  {
   "cell_type": "code",
   "execution_count": 82,
   "metadata": {},
   "outputs": [
    {
     "name": "stdout",
     "output_type": "stream",
     "text": [
      "{'a': 1, 'subf': <function f1.<locals>.subf at 0x000001E9D86B51E0>, 'd': {'a': 'a'}}\n"
     ]
    }
   ],
   "source": [
    "\"\"\"locals在函数中的应用\"\"\"\n",
    "def f1():\n",
    "    a=1\n",
    "    def subf():\n",
    "        print('im children')\n",
    "    d=dict(a='a')\n",
    "    print(locals())\n",
    "f1()"
   ]
  },
  {
   "cell_type": "code",
   "execution_count": 95,
   "metadata": {},
   "outputs": [
    {
     "name": "stdout",
     "output_type": "stream",
     "text": [
      "0x\n",
      "1x\n",
      "2x\n"
     ]
    }
   ],
   "source": [
    "\"\"\"print的end参数\"\"\"\n",
    "for i in range(3): print(i, end='x\\n')  # end默认'\\n'"
   ]
  },
  {
   "cell_type": "code",
   "execution_count": 107,
   "metadata": {},
   "outputs": [
    {
     "data": {
      "text/plain": [
       "[(100, 'a'), (101, 's'), (102, 'd'), (103, 'f')]"
      ]
     },
     "execution_count": 107,
     "metadata": {},
     "output_type": "execute_result"
    }
   ],
   "source": [
    "\"\"\"enumerate用法\"\"\"\n",
    "[(i,j) for i,j in enumerate(list('asdf'),100)]"
   ]
  },
  {
   "cell_type": "code",
   "execution_count": 80,
   "metadata": {},
   "outputs": [
    {
     "name": "stdout",
     "output_type": "stream",
     "text": [
      "{'__module__': '__main__', 'a': 1, '__dict__': <attribute '__dict__' of 'Runoob' objects>, '__weakref__': <attribute '__weakref__' of 'Runoob' objects>, '__doc__': None}\n"
     ]
    },
    {
     "data": {
      "text/plain": [
       "{'__doc__': None, '__module__': '__main__', 'a': 1}"
      ]
     },
     "execution_count": 80,
     "metadata": {},
     "output_type": "execute_result"
    }
   ],
   "source": [
    "\"\"\"vars() 函数返回对象object的属性和属性值的字典对象。\n",
    "不带参数时，vars() 的行为类似 locals()。\"\"\"\n",
    "class Runoob:\n",
    "    a = 1\n",
    "print(vars(Runoob))\n",
    "{'a': 1, '__module__': '__main__', '__doc__': None}"
   ]
  },
  {
   "cell_type": "code",
   "execution_count": null,
   "metadata": {},
   "outputs": [],
   "source": []
  },
  {
   "cell_type": "code",
   "execution_count": null,
   "metadata": {},
   "outputs": [],
   "source": []
  },
  {
   "cell_type": "code",
   "execution_count": null,
   "metadata": {},
   "outputs": [],
   "source": []
  },
  {
   "cell_type": "code",
   "execution_count": null,
   "metadata": {},
   "outputs": [],
   "source": []
  },
  {
   "cell_type": "code",
   "execution_count": null,
   "metadata": {},
   "outputs": [],
   "source": []
  },
  {
   "cell_type": "code",
   "execution_count": null,
   "metadata": {},
   "outputs": [],
   "source": []
  },
  {
   "cell_type": "code",
   "execution_count": 141,
   "metadata": {},
   "outputs": [
    {
     "data": {
      "text/plain": [
       "<list_reverseiterator at 0x1e9d8d51eb8>"
      ]
     },
     "execution_count": 141,
     "metadata": {},
     "output_type": "execute_result"
    }
   ],
   "source": [
    "\"\"\"计算函数\"\"\"\n",
    "abs(-3)  # 3\n",
    "all([True,True,False])  # False\n",
    "any([True,True,False])  # True\n",
    "bool(3)  # True\n",
    "complex(3,8)  # (3+8j)\n",
    "divmod(5,3)  # (1, 2)\n",
    "5//3  # 1\n",
    "5%3  # 2\n",
    "5/3  # 1.6666\n",
    "frozenset(['a','b','c'])  # frozenset({'a', 'b', 'c'})\n",
    "len('abc')  # 3\n",
    "min([1,5,2])  # 1\n",
    "max([1,5,2])  # 5\n",
    "pow(2,3)  # 8\n",
    "sum([1,2],100)  # 103\n",
    "list(range(2,6,2))  # [2, 4] range(start, stop[, step])\n",
    "round(1.123, 2)  # 1.12 round(number[, ndigits])\n",
    "reversed(['a','b','c'])  # 对一个序列取反，并且返回的是迭代器，可被next()调用"
   ]
  },
  {
   "cell_type": "code",
   "execution_count": 84,
   "metadata": {},
   "outputs": [
    {
     "name": "stdin",
     "output_type": "stream",
     "text": [
      " sdfa\n"
     ]
    },
    {
     "data": {
      "text/plain": [
       "'sdfa'"
      ]
     },
     "execution_count": 84,
     "metadata": {},
     "output_type": "execute_result"
    }
   ],
   "source": [
    "\"\"\"管理函数\"\"\"\n",
    "dir()  # dir(函数或变量等对像)可以返回这个对像的所有方法和属性\n",
    "globals()  # 返回所有全局变量\n",
    "type(object)  # type\n",
    "id(x)  # 返回变量的内存地址\n",
    "input()  # 输入内容转化为字符串"
   ]
  },
  {
   "cell_type": "code",
   "execution_count": 41,
   "metadata": {},
   "outputs": [
    {
     "data": {
      "text/plain": [
       "-5683383048676464012"
      ]
     },
     "execution_count": 41,
     "metadata": {},
     "output_type": "execute_result"
    }
   ],
   "source": [
    "\"\"\"格式转换\"\"\"\n",
    "ascii(123)  # '123'\n",
    "bin(-3)  # '-0b11'\n",
    "bytearray([1,2,3])  # bytearray(b'\\x01\\x02\\x03')\n",
    "bytes([1,2,3])  # b'\\x01\\x02\\x03'\n",
    "int('12')  # 12\n",
    "float('1e-03')  # 0.001\n",
    "hex(15)  # '0xf' 十六进制\n",
    "oct(16)  # '0o20' 八进制\n",
    "ord('中')  # 20013\n",
    "hash('abc')  # 返回哈希值"
   ]
  },
  {
   "cell_type": "code",
   "execution_count": null,
   "metadata": {},
   "outputs": [],
   "source": []
  },
  {
   "cell_type": "code",
   "execution_count": null,
   "metadata": {},
   "outputs": [],
   "source": []
  },
  {
   "cell_type": "code",
   "execution_count": null,
   "metadata": {},
   "outputs": [],
   "source": []
  },
  {
   "cell_type": "code",
   "execution_count": null,
   "metadata": {},
   "outputs": [],
   "source": []
  },
  {
   "cell_type": "code",
   "execution_count": null,
   "metadata": {},
   "outputs": [],
   "source": []
  },
  {
   "cell_type": "code",
   "execution_count": null,
   "metadata": {},
   "outputs": [],
   "source": []
  },
  {
   "cell_type": "code",
   "execution_count": null,
   "metadata": {},
   "outputs": [],
   "source": []
  },
  {
   "cell_type": "code",
   "execution_count": null,
   "metadata": {},
   "outputs": [],
   "source": []
  },
  {
   "cell_type": "code",
   "execution_count": null,
   "metadata": {},
   "outputs": [],
   "source": []
  },
  {
   "cell_type": "code",
   "execution_count": null,
   "metadata": {},
   "outputs": [],
   "source": []
  },
  {
   "cell_type": "code",
   "execution_count": null,
   "metadata": {},
   "outputs": [],
   "source": []
  },
  {
   "cell_type": "code",
   "execution_count": null,
   "metadata": {},
   "outputs": [],
   "source": []
  },
  {
   "cell_type": "code",
   "execution_count": null,
   "metadata": {},
   "outputs": [],
   "source": []
  },
  {
   "cell_type": "code",
   "execution_count": null,
   "metadata": {},
   "outputs": [],
   "source": []
  },
  {
   "cell_type": "code",
   "execution_count": null,
   "metadata": {},
   "outputs": [],
   "source": []
  },
  {
   "cell_type": "code",
   "execution_count": null,
   "metadata": {},
   "outputs": [],
   "source": []
  },
  {
   "cell_type": "code",
   "execution_count": null,
   "metadata": {},
   "outputs": [],
   "source": []
  },
  {
   "cell_type": "markdown",
   "metadata": {},
   "source": [
    "#  待处理"
   ]
  },
  {
   "cell_type": "code",
   "execution_count": null,
   "metadata": {},
   "outputs": [],
   "source": [
    "\"\"\"lambda函数\"\"\"\n",
    "\"\"\"3.7新功能\"\"\"\n",
    "breakpoint()"
   ]
  },
  {
   "cell_type": "code",
   "execution_count": 100,
   "metadata": {},
   "outputs": [],
   "source": [
    "class Coordinate:\n",
    "    x = 10\n",
    "    y = -5\n",
    "    z = 0\n",
    "delattr(Coordinate, 'z') "
   ]
  },
  {
   "cell_type": "code",
   "execution_count": null,
   "metadata": {},
   "outputs": [],
   "source": [
    "class A(object):\n",
    "    attr1 = 'a'\n",
    "a = A()\n",
    "getattr(a, 'attr1')\n",
    "getattr(a, 'non_existent', 3)"
   ]
  },
  {
   "cell_type": "code",
   "execution_count": 146,
   "metadata": {},
   "outputs": [
    {
     "data": {
      "text/plain": [
       "False"
      ]
     },
     "execution_count": 146,
     "metadata": {},
     "output_type": "execute_result"
    }
   ],
   "source": [
    "hasattr('object','attr')"
   ]
  },
  {
   "cell_type": "code",
   "execution_count": null,
   "metadata": {},
   "outputs": [],
   "source": [
    "setattr(object, name, value)"
   ]
  },
  {
   "cell_type": "code",
   "execution_count": null,
   "metadata": {},
   "outputs": [],
   "source": [
    "isinstance(object, classinfo)"
   ]
  },
  {
   "cell_type": "code",
   "execution_count": null,
   "metadata": {},
   "outputs": [],
   "source": [
    "issubclass(class, classinfo)"
   ]
  },
  {
   "cell_type": "code",
   "execution_count": 113,
   "metadata": {},
   "outputs": [],
   "source": [
    "v = memoryview(bytearray(\"abdg\", 'utf-8'))"
   ]
  },
  {
   "cell_type": "code",
   "execution_count": 119,
   "metadata": {},
   "outputs": [
    {
     "data": {
      "text/plain": [
       "97"
      ]
     },
     "execution_count": 119,
     "metadata": {},
     "output_type": "execute_result"
    }
   ],
   "source": [
    "v[0]"
   ]
  },
  {
   "cell_type": "code",
   "execution_count": 130,
   "metadata": {},
   "outputs": [
    {
     "data": {
      "text/plain": [
       "<memory at 0x000001E9D81A1F48>"
      ]
     },
     "execution_count": 130,
     "metadata": {},
     "output_type": "execute_result"
    }
   ],
   "source": [
    "v[1:3]"
   ]
  },
  {
   "cell_type": "code",
   "execution_count": 131,
   "metadata": {},
   "outputs": [
    {
     "data": {
      "text/plain": [
       "b'bd'"
      ]
     },
     "execution_count": 131,
     "metadata": {},
     "output_type": "execute_result"
    }
   ],
   "source": [
    "v[1:3].tobytes()"
   ]
  },
  {
   "cell_type": "code",
   "execution_count": null,
   "metadata": {},
   "outputs": [],
   "source": [
    "sorted(iterable, *, key=None, reverse=False)"
   ]
  },
  {
   "cell_type": "code",
   "execution_count": null,
   "metadata": {},
   "outputs": [],
   "source": []
  }
 ],
 "metadata": {
  "kernelspec": {
   "display_name": "Python 3",
   "language": "python",
   "name": "python3"
  },
  "language_info": {
   "codemirror_mode": {
    "name": "ipython",
    "version": 3
   },
   "file_extension": ".py",
   "mimetype": "text/x-python",
   "name": "python",
   "nbconvert_exporter": "python",
   "pygments_lexer": "ipython3",
   "version": "3.7.3"
  }
 },
 "nbformat": 4,
 "nbformat_minor": 4
}
