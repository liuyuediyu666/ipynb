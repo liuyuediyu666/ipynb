{
 "cells": [
  {
   "cell_type": "code",
   "execution_count": null,
   "metadata": {},
   "outputs": [],
   "source": [
    "statsmodels包含更多的“经典”频率学派统计方法，而贝叶斯方法和机器学习模型可在其他库中找到。\n",
    "包含在statsmodels中的一些模型：\n",
    "\n",
    "· 线性模型，广义线性模型和鲁棒线性模型\n",
    "\n",
    "· 线性混合效应模型\n",
    "\n",
    "· 方差分析（ANOVA）方法\n",
    "\n",
    "· 时间序列过程和状态空间模型\n",
    "\n",
    "· 广义的矩量法"
   ]
  }
 ],
 "metadata": {
  "kernelspec": {
   "display_name": "Python 3",
   "language": "python",
   "name": "python3"
  },
  "language_info": {
   "codemirror_mode": {
    "name": "ipython",
    "version": 3
   },
   "file_extension": ".py",
   "mimetype": "text/x-python",
   "name": "python",
   "nbconvert_exporter": "python",
   "pygments_lexer": "ipython3",
   "version": "3.6.0"
  }
 },
 "nbformat": 4,
 "nbformat_minor": 4
}
