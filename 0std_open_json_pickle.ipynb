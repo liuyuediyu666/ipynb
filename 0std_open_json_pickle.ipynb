{
 "cells": [
  {
   "cell_type": "markdown",
   "metadata": {},
   "source": [
    "# open,seek,json,pickle"
   ]
  },
  {
   "cell_type": "code",
   "execution_count": 2,
   "metadata": {},
   "outputs": [],
   "source": [
    "# 在python中，有专门处理json格式的模块—— json 和 pickle模块\n",
    "# json模块和pickle模块都有  dumps、dump、loads、load四种方法，而且用法一样。\n",
    "# dumps和loads：无文件操作。dump和load：序列化+写入文件\n",
    "# json模块序列化的数据更通用，其他程序也认识。pickle模块序列化的数据仅python可用，其他程序是乱码，但功能强大，可以序列化函数。\n",
    "# json模块可以序列化和反序列化的数据类型见python对象（obj）与json对象的对应关系表\n",
    "    +-------------------+---------------+\n",
    "    | Python            | JSON          |\n",
    "    +===================+===============+\n",
    "    | dict              | object        |\n",
    "    +-------------------+---------------+\n",
    "    | list, tuple       | array         |\n",
    "    +-------------------+---------------+\n",
    "    | str               | string        |\n",
    "    +-------------------+---------------+\n",
    "    | int, float        | number        |\n",
    "    +-------------------+---------------+\n",
    "    | True              | true          |\n",
    "    +-------------------+---------------+\n",
    "    | False             | false         |\n",
    "    +-------------------+---------------+\n",
    "    | None              | null          |\n",
    "    +-------------------+---------------+"
   ]
  },
  {
   "cell_type": "code",
   "execution_count": null,
   "metadata": {},
   "outputs": [],
   "source": [
    "# json模块的两个函数源码\n",
    "def dumps(obj, \n",
    "          skipkeys=False, \n",
    "          ensure_ascii=True, \n",
    "          check_circular=True, \n",
    "          allow_nan=True, \n",
    "          cls=None, \n",
    "          indent=None, \n",
    "          separators=None, \n",
    "          default=None, \n",
    "          sort_keys=False, \n",
    "          **kw):\n",
    "    pass\n",
    "\n",
    "\n",
    "def dump(obj, \n",
    "         fp, \n",
    "         skipkeys=False, \n",
    "         ensure_ascii=True, \n",
    "         check_circular=True,\n",
    "         allow_nan=True, \n",
    "         cls=None, \n",
    "         indent=None, \n",
    "         separators=None,\n",
    "         default=None, \n",
    "         sort_keys=False, \n",
    "         **kw):"
   ]
  },
  {
   "cell_type": "code",
   "execution_count": 10,
   "metadata": {},
   "outputs": [],
   "source": [
    "import json\n",
    "import pickle"
   ]
  },
  {
   "cell_type": "code",
   "execution_count": 11,
   "metadata": {},
   "outputs": [
    {
     "data": {
      "text/plain": [
       "'[]'"
      ]
     },
     "execution_count": 11,
     "metadata": {},
     "output_type": "execute_result"
    }
   ],
   "source": [
    "json.dumps([])"
   ]
  },
  {
   "cell_type": "code",
   "execution_count": 12,
   "metadata": {},
   "outputs": [
    {
     "data": {
      "text/plain": [
       "'1'"
      ]
     },
     "execution_count": 12,
     "metadata": {},
     "output_type": "execute_result"
    }
   ],
   "source": [
    "json.dumps(1)"
   ]
  },
  {
   "cell_type": "code",
   "execution_count": 13,
   "metadata": {},
   "outputs": [
    {
     "data": {
      "text/plain": [
       "'\"1\"'"
      ]
     },
     "execution_count": 13,
     "metadata": {},
     "output_type": "execute_result"
    }
   ],
   "source": [
    "json.dumps('1')"
   ]
  },
  {
   "cell_type": "code",
   "execution_count": 14,
   "metadata": {},
   "outputs": [
    {
     "data": {
      "text/plain": [
       "'{\"name\": \"Tom\", \"age\": 23}'"
      ]
     },
     "execution_count": 14,
     "metadata": {},
     "output_type": "execute_result"
    }
   ],
   "source": [
    "json.dumps({\"name\":\"Tom\", \"age\":23}  )"
   ]
  },
  {
   "cell_type": "code",
   "execution_count": 15,
   "metadata": {},
   "outputs": [
    {
     "data": {
      "text/plain": [
       "{'name': 'Tom', 'age': 23}"
      ]
     },
     "execution_count": 15,
     "metadata": {},
     "output_type": "execute_result"
    }
   ],
   "source": [
    "json.loads('{\"name\":\"Tom\", \"age\":23}')"
   ]
  },
  {
   "cell_type": "code",
   "execution_count": null,
   "metadata": {},
   "outputs": [],
   "source": [
    "a = {\"name\":\"Tom\", \"age\":23}\n",
    "with open(\"test.json\", \"w\", encoding='utf-8') as f:\n",
    "    # indent 超级好用，格式化保存字典，默认为None，小于0为零个空格\n",
    "    f.write(json.dumps(a, indent=4))\n",
    "    # json.dump(a,f,indent=4)   # 和上面的效果一样\n",
    "    \n",
    "with open(\"test.json\", \"r\", encoding='utf-8') as f:\n",
    "    aa = json.loads(f.read())\n",
    "    f.seek(0)\n",
    "    bb = json.load(f)    # 与 json.loads(f.read())一样"
   ]
  },
  {
   "cell_type": "code",
   "execution_count": null,
   "metadata": {},
   "outputs": [],
   "source": [
    "with open('whl.txt','r',encoding='utf8',errors='ignore') as f:\n",
    "    x1 = f.read()  # 读取整个文件\n",
    "    x2 = f.readline()  # 每次读取一行\n",
    "    x3 = f.readlines()  # 读取整个文件，以行为元素返回List.\n",
    "    x4 = json.load(f)\n",
    "with open('whl.txt','w/a',encoding='utf8') as f:\n",
    "    f.write('adfaf')  # 只能写单个str\n",
    "    f.writelines(['asdf\\n','asdfaf'])  # 可以将以str为元素的列表，按顺序写入文件。如果没有\\n，同样是一坨。\n",
    "    json.dump('asdf',f)"
   ]
  },
  {
   "cell_type": "code",
   "execution_count": null,
   "metadata": {},
   "outputs": [],
   "source": [
    "\"\"\"seek用法\"\"\"\n",
    "with open(\"data_batch_1\", \"rb\") as f:\n",
    "    f.seek(0)\n",
    "    xa = pickle.load(f, encoding='latin1')"
   ]
  },
  {
   "cell_type": "code",
   "execution_count": null,
   "metadata": {},
   "outputs": [],
   "source": []
  },
  {
   "cell_type": "code",
   "execution_count": null,
   "metadata": {},
   "outputs": [],
   "source": []
  },
  {
   "cell_type": "code",
   "execution_count": null,
   "metadata": {},
   "outputs": [],
   "source": []
  }
 ],
 "metadata": {
  "kernelspec": {
   "display_name": "Python 3",
   "language": "python",
   "name": "python3"
  },
  "language_info": {
   "codemirror_mode": {
    "name": "ipython",
    "version": 3
   },
   "file_extension": ".py",
   "mimetype": "text/x-python",
   "name": "python",
   "nbconvert_exporter": "python",
   "pygments_lexer": "ipython3",
   "version": "3.7.3"
  }
 },
 "nbformat": 4,
 "nbformat_minor": 4
}
