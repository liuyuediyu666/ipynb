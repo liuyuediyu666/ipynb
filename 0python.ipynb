{
 "cells": [
  {
   "cell_type": "markdown",
   "metadata": {},
   "source": [
    "# python\n",
    "\n",
    "- fnmatch函数\n",
    "- seaborn\n",
    "- falsk前端学习\n",
    "- python的缺失值可视化：missingno\n",
    "- seaborn中的parigrid和facegrid和pairsplot\n",
    "- neo4j用于知识图谱的包\n",
    "- imblearn  \n",
    "https://blog.csdn.net/ODIMAYA/article/details/103126193\n",
    "https://imbalanced-learn.org/stable/under_sampling.html\n",
    "https://www.cnblogs.com/massquantity/p/8550875.html\n",
    "https://www.cnblogs.com/massquantity/p/8592091.html\n",
    "https://www.cnblogs.com/massquantity/p/9382710.html\n",
    "https://www.jianshu.com/p/dfa37335ea8a\n",
    "- yacs的使用（参数配置工具）  \n",
    "- tqdm介绍及常用方法  "
   ]
  },
  {
   "cell_type": "code",
   "execution_count": null,
   "metadata": {},
   "outputs": [],
   "source": [
    "查看函数的三种方式\n",
    "help(pd.qcut)\n",
    "dir(pd.qcut)\n",
    "print(pd.qcut.__doc__)\n",
    "查看包版本\n",
    "scipy.__version__\n",
    "统计一列元素的gourpby，很方便\n",
    "df[\"qcut\"].value_counts()\n",
    "如果DataFrame的列类型是dtype=\"category\"。那么groupby的结果会包含该列的所有类型，即使对dataframe筛选后，某种类型被全部删除了，groupby的count结果仍会保留该类型的位置，只是count值为0。这个很好用，pd.qcut产生的就是category类型"
   ]
  },
  {
   "cell_type": "markdown",
   "metadata": {},
   "source": [
    "- pandas载入csv文件无法处理中文路径，令参数enging=‘python’，而不是默认的C引擎  \n",
    "pd.read_csv('path', enging='python', encoding='utf-8')"
   ]
  },
  {
   "cell_type": "markdown",
   "metadata": {},
   "source": [
    "- 环境相关  \n",
    "安装包位置：C:\\ProgramData\\Anaconda3\\Lib\\site-packages  "
   ]
  },
  {
   "cell_type": "code",
   "execution_count": null,
   "metadata": {},
   "outputs": [],
   "source": [
    "#查看python版本  \n",
    "python --V\n",
    "python --version\n",
    "#查看某个包的版本\n",
    "scipy.__version__ "
   ]
  },
  {
   "cell_type": "code",
   "execution_count": null,
   "metadata": {},
   "outputs": [],
   "source": [
    "# python进阶\n",
    "python，setuptools安装机制原理。  \n",
    "python高级调试  \n",
    "https://blog.csdn.net/qq_27825451/article/details/102457012  \n",
    "关于python的egg-info  \n",
    "https://stackoverflow.com/questions/2051192/what-is-a-python-egg  \n",
    "python -c用法  \n",
    "查看python安装路径  \n",
    "python -c \"import sys; print(sys.executable)\"  \n",
    "python -c \"import os; print(os.sys.executable)\"  \n",
    "python -c \"import os; path = os.sys.executable; folder=path[0 : path.rfind(os.sep)]; print(folder)\"  \n",
    "查看numpy版本  \n",
    "python -c \"import numpy; print(numpy.version.version)\"  \n",
    "python -c \"import numpy; print(numpy.__version__)\"  \n",
    "查看numpy安装路径  \n",
    "python -c \"import numpy; print(numpy.__file__)\"  \n",
    "python -m的用法  \n",
    "https://www.cnblogs.com/xueweihan/p/5118222.html  "
   ]
  }
 ],
 "metadata": {
  "kernelspec": {
   "display_name": "Python 3",
   "language": "python",
   "name": "python3"
  },
  "language_info": {
   "codemirror_mode": {
    "name": "ipython",
    "version": 3
   },
   "file_extension": ".py",
   "mimetype": "text/x-python",
   "name": "python",
   "nbconvert_exporter": "python",
   "pygments_lexer": "ipython3",
   "version": "3.7.3"
  }
 },
 "nbformat": 4,
 "nbformat_minor": 4
}
