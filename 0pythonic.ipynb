{
 "cells": [
  {
   "cell_type": "code",
   "execution_count": 9,
   "metadata": {},
   "outputs": [
    {
     "name": "stdout",
     "output_type": "stream",
     "text": [
      "11 102\n",
      "{'p1': 1, 'p2': 2}\n"
     ]
    }
   ],
   "source": [
    "\"\"\"参数调式技巧，将参数写入字典，然后用**{}传入，最后可用print打印参数字典，方便观察\"\"\"\n",
    "def func(p1,p2):\n",
    "    print(p1+10,p2+100)\n",
    "param = dict(p1=1,p2=2)\n",
    "func(**param)\n",
    "print(param)"
   ]
  },
  {
   "cell_type": "code",
   "execution_count": 7,
   "metadata": {},
   "outputs": [],
   "source": []
  },
  {
   "cell_type": "code",
   "execution_count": 16,
   "metadata": {},
   "outputs": [
    {
     "name": "stdout",
     "output_type": "stream",
     "text": [
      "<class 'list'>\n",
      "<class 'str'>\n",
      "<class 'list'>\n"
     ]
    }
   ],
   "source": [
    "# eval， 预列化与反序列化\n",
    "num_list = list(range(8))\n",
    "print(type(num_list))\n",
    "string = str(num_list)\n",
    "print(type(string))\n",
    "trans_back = eval(string)\n",
    "print(type(trans_back))"
   ]
  },
  {
   "cell_type": "code",
   "execution_count": 1,
   "metadata": {},
   "outputs": [
    {
     "ename": "SyntaxError",
     "evalue": "invalid character in identifier (<ipython-input-1-7e07616018ca>, line 2)",
     "output_type": "error",
     "traceback": [
      "\u001b[1;36m  File \u001b[1;32m\"<ipython-input-1-7e07616018ca>\"\u001b[1;36m, line \u001b[1;32m2\u001b[0m\n\u001b[1;33m    - a = b or c，优先将b赋值给a，但是当b为None时，c就赋值给a\u001b[0m\n\u001b[1;37m                                          ^\u001b[0m\n\u001b[1;31mSyntaxError\u001b[0m\u001b[1;31m:\u001b[0m invalid character in identifier\n"
     ]
    }
   ],
   "source": [
    "# pythonic\n",
    "- a = b or c，优先将b赋值给a，但是当b为None时，c就赋值给a\n",
    "- 装饰器\n",
    "- 有尾递归，但是没有优化，会溢出\n",
    "- 猜猜a等于几  \n",
    "a = (2 if 1<3<3 else 1) if 5> (3 if 7<8<9 else 8) >1 else (8 if 11<2<33 else 3)\n",
    "- 关于super()类继承的好文  \n",
    "https://www.cnblogs.com/arkenstone/p/5992216.html  \n",
    "https://www.cnblogs.com/lovemo1314/archive/2011/05/03/2035005.html  \n",
    "\n",
    "- 判断语句写法\n",
    "普通写法：c = a if a>b else b  \n",
    "列表写法：c= [b, a][a > b]  \n",
    "黑客写法：c = (a>b and [a] or [b])[0]# 改编版c = (a>b and a or b)  \n",
    "#利用and 的特点，若and前位置为假则直接判断为假。  \n",
    "#利用 or的特点，若or前位置为真则判断为真。  \n",
    "#从前往后找，and找假，or找真  \n",
    "#前真返后，print(111 and 222)  # 222  \n",
    "#前假返前，print(0 and 333)  #0  \n",
    "#前真返前，print(111 or 222) #111  \n",
    "#前假返后，print(0 or 222) #222  \n",
    "#前假后假返后，print('' or 0) # 0  \n",
    "\n",
    "- Lambda表达式\n",
    "\n",
    "- [1,2].append(2)另一种写法[1,2] += [2]，但有略微不同，[1,2] += [2,2,2]这种相当于extend，而不是append一个List\n",
    "\n",
    "- 倒序L[::-1]，L[-2:2:-2]\n",
    "\n",
    "- a = 0 or 2  # 如果第1个相当于False就等于第2个\n",
    "\n",
    "- array花式替换  \n",
    "zero_array = np.zeros((n_row, n_col))  \n",
    "zero_array[np.arnage(n_row), [1,2,1,3,2]] = 999  \n",
    "\n",
    "- a,b=1,2等价于a,b=[1,2]\n",
    "\n",
    "- 导入多个包的简写  \n",
    "from pandas import abc as a, def as d, xyz as x\n",
    "\n",
    "\n",
    "- a, b = b,a\n",
    "\n",
    "- a += 1\n",
    "\n",
    "- 0 < a < 10\n",
    "\n",
    "- [ i*i for i in range(30, 41) if i% 2 == 0 ]\n",
    "\n",
    "- 创建字典简写a = {}，等价a = dict{}\n",
    "\n",
    "\n"
   ]
  },
  {
   "cell_type": "code",
   "execution_count": null,
   "metadata": {},
   "outputs": [],
   "source": [
    "# 做一个循环，用i取循环的最后一个值。\n",
    "for i in range(5):\n",
    "    pass"
   ]
  },
  {
   "cell_type": "code",
   "execution_count": null,
   "metadata": {},
   "outputs": [],
   "source": [
    "#李一繁分享。读取文件，最后一列有个空内容一直报错，也不知道类型无法读取，可用break退出\n",
    "trainList = []\n",
    "with open('/data/NLP/iflytek_public/train.json', encoding='utf-8') as f:\n",
    "    while True:\n",
    "        line = f.readline()\n",
    "        if line.strip() != '':\n",
    "            trainList.append(json.loads(line))\n",
    "        else:\n",
    "            break"
   ]
  },
  {
   "cell_type": "code",
   "execution_count": null,
   "metadata": {},
   "outputs": [],
   "source": [
    "# 类假于a+=1的用法，可以求两个集合并集，并将结果赋值给前一个集合\n",
    "set(a) |= set(b)"
   ]
  },
  {
   "cell_type": "code",
   "execution_count": null,
   "metadata": {},
   "outputs": [],
   "source": [
    "# 三种列表过滤方式，测一下效率\n",
    "[i  for i in xa if i['image_id']==391895]\n",
    "%timeit (i  for i in xa if i['image_id']==391895)\n",
    "%timeit filter(lambda i:i['image_id']==391895, xa)"
   ]
  },
  {
   "cell_type": "code",
   "execution_count": null,
   "metadata": {},
   "outputs": [],
   "source": []
  }
 ],
 "metadata": {
  "kernelspec": {
   "display_name": "Python 3",
   "language": "python",
   "name": "python3"
  },
  "language_info": {
   "codemirror_mode": {
    "name": "ipython",
    "version": 3
   },
   "file_extension": ".py",
   "mimetype": "text/x-python",
   "name": "python",
   "nbconvert_exporter": "python",
   "pygments_lexer": "ipython3",
   "version": "3.7.3"
  }
 },
 "nbformat": 4,
 "nbformat_minor": 4
}
