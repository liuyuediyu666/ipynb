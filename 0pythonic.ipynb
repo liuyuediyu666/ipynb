{
 "cells": [
  {
   "cell_type": "code",
   "execution_count": 9,
   "metadata": {},
   "outputs": [
    {
     "name": "stdout",
     "output_type": "stream",
     "text": [
      "11 102\n",
      "{'p1': 1, 'p2': 2}\n"
     ]
    }
   ],
   "source": [
    "\"\"\"参数调式技巧，将参数写入字典，然后用**{}传入，最后可用print打印参数字典，方便观察\"\"\"\n",
    "def func(p1,p2):\n",
    "    print(p1+10,p2+100)\n",
    "param = dict(p1=1,p2=2)\n",
    "func(**param)\n",
    "print(param)"
   ]
  },
  {
   "cell_type": "code",
   "execution_count": 16,
   "metadata": {},
   "outputs": [
    {
     "name": "stdout",
     "output_type": "stream",
     "text": [
      "<class 'list'>\n",
      "<class 'str'>\n",
      "<class 'list'>\n"
     ]
    }
   ],
   "source": [
    "# eval， 预列化与反序列化\n",
    "num_list = list(range(8))\n",
    "print(type(num_list))\n",
    "string = str(num_list)\n",
    "print(type(string))\n",
    "trans_back = eval(string)\n",
    "print(type(trans_back))"
   ]
  },
  {
   "cell_type": "code",
   "execution_count": null,
   "metadata": {},
   "outputs": [],
   "source": [
    "# pythonic\n",
    "- a = b or c，优先将b赋值给a，但是当b为None时，c就赋值给a\n",
    "- 装饰器\n",
    "- 有尾递归，但是没有优化，会溢出\n",
    "- 猜猜a等于几  \n",
    "a = (2 if 1<3<3 else 1) if 5> (3 if 7<8<9 else 8) >1 else (8 if 11<2<33 else 3)\n",
    "- 关于super()类继承的好文  \n",
    "https://www.cnblogs.com/arkenstone/p/5992216.html  \n",
    "https://www.cnblogs.com/lovemo1314/archive/2011/05/03/2035005.html  \n",
    "\n",
    "- 判断语句写法\n",
    "普通写法：c = a if a>b else b  \n",
    "列表写法：c= [b, a][a > b]  \n",
    "黑客写法：c = (a>b and [a] or [b])[0]# 改编版c = (a>b and a or b)  \n",
    "#利用and 的特点，若and前位置为假则直接判断为假。  \n",
    "#利用 or的特点，若or前位置为真则判断为真。  \n",
    "#从前往后找，and找假，or找真  \n",
    "#前真返后，print(111 and 222)  # 222  \n",
    "#前假返前，print(0 and 333)  #0  \n",
    "#前真返前，print(111 or 222) #111  \n",
    "#前假返后，print(0 or 222) #222  \n",
    "#前假后假返后，print('' or 0) # 0  \n",
    "\n",
    "- Lambda表达式\n",
    "\n",
    "- [1,2].append(2)另一种写法[1,2] += [2]，但有略微不同，[1,2] += [2,2,2]这种相当于extend，而不是append一个List\n",
    "\n",
    "- 倒序L[::-1]，L[-2:2:-2]\n",
    "\n",
    "- a = 0 or 2  # 如果第1个相当于False就等于第2个\n",
    "\n",
    "- array花式替换  \n",
    "zero_array = np.zeros((n_row, n_col))  \n",
    "zero_array[np.arnage(n_row), [1,2,1,3,2]] = 999  \n",
    "\n",
    "- a,b=1,2等价于a,b=[1,2]\n",
    "\n",
    "- 导入多个包的简写  \n",
    "from pandas import abc as a, def as d, xyz as x\n",
    "\n",
    "\n",
    "- a, b = b,a\n",
    "\n",
    "- a += 1\n",
    "\n",
    "- 0 < a < 10\n",
    "\n",
    "- [ i*i for i in range(30, 41) if i% 2 == 0 ]\n",
    "\n",
    "- 创建字典简写a = {}，等价a = dict{}\n",
    "\n",
    "\n"
   ]
  },
  {
   "cell_type": "code",
   "execution_count": null,
   "metadata": {},
   "outputs": [],
   "source": [
    "#李一繁分享。读取文件，最后一列有个空内容一直报错，也不知道类型无法读取，可用break退出\n",
    "trainList = []\n",
    "with open('/data/NLP/iflytek_public/train.json', encoding='utf-8') as f:\n",
    "    while True:\n",
    "        line = f.readline()\n",
    "        if line.strip() != '':\n",
    "            trainList.append(json.loads(line))\n",
    "        else:\n",
    "            break"
   ]
  },
  {
   "cell_type": "code",
   "execution_count": null,
   "metadata": {},
   "outputs": [],
   "source": [
    "# 类假于a+=1的用法，可以求两个集合并集，并将结果赋值给前一个集合\n",
    "set(a) |= set(b)"
   ]
  },
  {
   "cell_type": "code",
   "execution_count": null,
   "metadata": {},
   "outputs": [],
   "source": [
    "# 三种列表过滤方式，测一下效率\n",
    "[i  for i in xa if i['image_id']==391895]\n",
    "%timeit (i  for i in xa if i['image_id']==391895)\n",
    "%timeit filter(lambda i:i['image_id']==391895, xa)"
   ]
  },
  {
   "cell_type": "markdown",
   "metadata": {},
   "source": [
    "### 序列化"
   ]
  },
  {
   "cell_type": "code",
   "execution_count": 108,
   "metadata": {},
   "outputs": [],
   "source": [
    "a=1234; b='asdf'; c=dict(b=b)"
   ]
  },
  {
   "cell_type": "code",
   "execution_count": 113,
   "metadata": {},
   "outputs": [
    {
     "name": "stdout",
     "output_type": "stream",
     "text": [
      "True\n",
      "True\n",
      "False\n",
      "False\n"
     ]
    },
    {
     "data": {
      "text/plain": [
       "'asdf'"
      ]
     },
     "execution_count": 113,
     "metadata": {},
     "output_type": "execute_result"
    }
   ],
   "source": [
    "\"\"\"这种连继判断相等，只要有一个False，结果就为False\"\"\"\n",
    "\"\"\"str和repr是实例的方法，可以在类中重写\"\"\"\n",
    "\"\"\"True\"\"\"\n",
    "print(str(a)==a.__str__()==str(1234)==repr(a)==a.__repr__()==repr(1234))\n",
    "print(str(c)==repr(c))\n",
    "dict(a=a,).keys().__repr__()==dict(a=a,).keys().__str__()\n",
    "eval(str(c))['b']==eval(repr(c))['b']\n",
    "\"\"\"False，当对像为字符串时，返回的结果不同\"\"\"\n",
    "print(str(b)==repr(b))\n",
    "print(str('asdf')==repr('asdf'))\n",
    "\"\"\"注意当对像为字符串时，后者会报错\"\"\"\n",
    "eval(repr(b))\n",
    "# eval(str(b))  报错：NameError: name 'asdf' is not defined"
   ]
  },
  {
   "cell_type": "code",
   "execution_count": 107,
   "metadata": {},
   "outputs": [],
   "source": [
    "x1 = compile(\"for i in range(10): print(i, end=' ')\", '', 'exec')\n",
    "exec(x1)\n",
    "eval(x1)\n",
    "x2 = compile(\"sum([1,5,3,6,8])\",'','eval')\n",
    "eval(x2)\n",
    "exec(x2)\n",
    "eval('1+2')\n",
    "exec('print(\"asdfasd\")')"
   ]
  },
  {
   "cell_type": "code",
   "execution_count": 70,
   "metadata": {},
   "outputs": [
    {
     "name": "stdout",
     "output_type": "stream",
     "text": [
      "2021-03-20 18:52:48.081818\n",
      "datetime.datetime(2021, 3, 20, 18, 52, 48, 81818)\n"
     ]
    }
   ],
   "source": [
    "\"\"\"\n",
    "datetime中重写了repr方法。\n",
    "str() 的输出追求可读性，输出格式要便于理解，适合用于输出内容到用户终端。\n",
    "repr() 的输出追求明确性，除了对象内容，还需要展示出对象的数据类型信息，适合开发和调试阶段使用。\n",
    "\"\"\"\n",
    "from datetime import datetime\n",
    "print(str(datetime.now()))\n",
    "print(repr(datetime.now()))"
   ]
  },
  {
   "cell_type": "code",
   "execution_count": 64,
   "metadata": {},
   "outputs": [
    {
     "data": {
      "text/plain": [
       "'asdf'"
      ]
     },
     "execution_count": 64,
     "metadata": {},
     "output_type": "execute_result"
    }
   ],
   "source": [
    "\"\"\"暂未学习\"\"\"\n",
    "str(object=b'asdf', encoding='utf-8', errors='strict')"
   ]
  }
 ],
 "metadata": {
  "kernelspec": {
   "display_name": "Python 3",
   "language": "python",
   "name": "python3"
  },
  "language_info": {
   "codemirror_mode": {
    "name": "ipython",
    "version": 3
   },
   "file_extension": ".py",
   "mimetype": "text/x-python",
   "name": "python",
   "nbconvert_exporter": "python",
   "pygments_lexer": "ipython3",
   "version": "3.7.3"
  }
 },
 "nbformat": 4,
 "nbformat_minor": 4
}
